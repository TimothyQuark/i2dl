{
 "cells": [
  {
   "attachments": {},
   "cell_type": "markdown",
   "metadata": {
    "id": "g6vUCiE_N5eU"
   },
   "source": [
    "# Cifar10 Classification"
   ]
  },
  {
   "attachments": {},
   "cell_type": "markdown",
   "metadata": {
    "id": "X9ridWdTN5eY"
   },
   "source": [
    "Until now, we have implemented several pieces of a deep learning pipeline and trained a two-layer neural network, but all hyperparameters were pre-set to values yielding resonable results. However, in real problems a large part of the work will be geared towards finding the best hyperparameter settings for a certain problem. In this notebook we will explore some good practices for network debugging and hyperparameters search, as well as extending our binary classification neural network to a multi-class one.\n",
    "\n",
    "Let's go!\n",
    "\n",
    "**Note 1**: This exercise is quite heavy with computations. We recommend using Google-Colab.\n",
    "\n",
    "**Note 2**: This exercise take time, so start early!!"
   ]
  },
  {
   "attachments": {},
   "cell_type": "markdown",
   "metadata": {
    "id": "4sTNILP7OCzb"
   },
   "source": [
    "## (Optional) Mount folder in Colab\n",
    "\n",
    "Uncomment the following cell to mount your gdrive if you are using the notebook in google colab:"
   ]
  },
  {
   "cell_type": "code",
   "execution_count": 26,
   "metadata": {
    "colab": {
     "base_uri": "https://localhost:8080/"
    },
    "executionInfo": {
     "elapsed": 35664,
     "status": "ok",
     "timestamp": 1650011700447,
     "user": {
      "displayName": "Weber Anna",
      "userId": "18154618360144454414"
     },
     "user_tz": -120
    },
    "id": "PoG-5okpOPht",
    "outputId": "a670ffa3-ee59-4ef5-e323-3f3fec373486"
   },
   "outputs": [
    {
     "data": {
      "text/plain": [
       "\"\\nfrom google.colab import drive\\nimport os\\n\\ngdrive_path='/content/gdrive/MyDrive/i2dl/exercise_06'\\n\\n# This will mount your google drive under 'MyDrive'\\ndrive.mount('/content/gdrive', force_remount=True)\\n# In order to access the files in this notebook we have to navigate to the correct folder\\nos.chdir(gdrive_path)\\n# Check manually if all files are present\\nprint(sorted(os.listdir()))\\n\""
      ]
     },
     "execution_count": 26,
     "metadata": {},
     "output_type": "execute_result"
    }
   ],
   "source": [
    "\"\"\"\n",
    "from google.colab import drive\n",
    "import os\n",
    "\n",
    "gdrive_path='/content/gdrive/MyDrive/i2dl/exercise_06'\n",
    "\n",
    "# This will mount your google drive under 'MyDrive'\n",
    "drive.mount('/content/gdrive', force_remount=True)\n",
    "# In order to access the files in this notebook we have to navigate to the correct folder\n",
    "os.chdir(gdrive_path)\n",
    "# Check manually if all files are present\n",
    "print(sorted(os.listdir()))\n",
    "\"\"\""
   ]
  },
  {
   "cell_type": "code",
   "execution_count": 27,
   "metadata": {
    "id": "JZmN1ATIN5eY"
   },
   "outputs": [
    {
     "name": "stdout",
     "output_type": "stream",
     "text": [
      "The autoreload extension is already loaded. To reload it, use:\n",
      "  %reload_ext autoreload\n"
     ]
    }
   ],
   "source": [
    "# Some lengthy setup.\n",
    "import matplotlib.pyplot as plt\n",
    "import numpy as np\n",
    "import os\n",
    "import urllib.request\n",
    "\n",
    "from exercise_code.networks.layer import (\n",
    "    Sigmoid, \n",
    "    Relu, \n",
    "    LeakyRelu, \n",
    "    Tanh,\n",
    ")\n",
    "from exercise_code.data import (\n",
    "    DataLoader,\n",
    "    ImageFolderDataset,\n",
    "    MemoryImageFolderDataset,\n",
    "    RescaleTransform,\n",
    "    NormalizeTransform,\n",
    "    FlattenTransform,\n",
    "    ComposeTransform,\n",
    ")\n",
    "from exercise_code.data.image_folder_dataset import RandomHorizontalFlip\n",
    "from exercise_code.networks import (\n",
    "    ClassificationNet,\n",
    "    BCE,\n",
    "    CrossEntropyFromLogits\n",
    ")\n",
    "\n",
    "%load_ext autoreload\n",
    "%autoreload 2\n",
    "%matplotlib inline\n",
    "\n",
    "plt.rcParams['figure.figsize'] = (10.0, 8.0) # set default size of plots\n",
    "plt.rcParams['image.interpolation'] = 'nearest'\n",
    "plt.rcParams['image.cmap'] = 'gray'\n",
    "os.environ['KMP_DUPLICATE_LIB_OK']='True' # To prevent the kernel from dying."
   ]
  },
  {
   "attachments": {},
   "cell_type": "markdown",
   "metadata": {
    "id": "tRdaBwnMN5ea"
   },
   "source": [
    "# 1. Quick recap (and some new things)"
   ]
  },
  {
   "attachments": {},
   "cell_type": "markdown",
   "metadata": {
    "id": "zsNrBTkyN5eb"
   },
   "source": [
    "Until now, in the previous exercises, we focused on building and understanding all the necessary modules for training a simple model. We followed the Pytorch implementations closely, as this is the framework we will use later and we wanted you to have a smoother transition to its APIs. \n",
    "\n",
    "In the figure below you can see the main components in Pytorch. Let's start with a quick recap of **our implementation** of these components. \n",
    "\n",
    "<div class=\"alert alert-success\">\n",
    "    <h3>Task: Check Code</h3>\n",
    "    <p>Everything is already implemented for this part, but we <b>strongly</b> encourage you to check  the respective source files in order to have a better understanding. </p>\n",
    "</div>"
   ]
  },
  {
   "attachments": {},
   "cell_type": "markdown",
   "metadata": {
    "id": "reTr9-VRN5ec"
   },
   "source": [
    "<img src=\"https://cdn-images-1.medium.com/max/800/1*uZrS4KjAuSJQIJPgOiaJUg.png\" style=\"width: 500px;\">"
   ]
  },
  {
   "attachments": {},
   "cell_type": "markdown",
   "metadata": {
    "id": "4fZoL6hvN5ec"
   },
   "source": [
    "## 1.1 Dataset and Dataloader"
   ]
  },
  {
   "attachments": {},
   "cell_type": "markdown",
   "metadata": {
    "id": "jvv1QqmJN5ed"
   },
   "source": [
    "Data preparation is an important part of deep learning projects. Because the data can come in different formats and from different sources, it must be prepared in a certain way, which depends on the application. One part, however, is uniform: since an entire dataset is usually too large to handle at once, we train our models on smaller batches of data. \n",
    "\n",
    "The goal of the ```Dataset``` class is to encapsulate all the 'dirty' data processing: loading and cleaning the data, storing features (or names of files where features can be found) and labels, as well as providing the means for accessing individual (transformed) items of the data using the ```__getitem__()``` function and an index. You already implemented an ```ImageFolderDataset``` (in ```exercise_code/data/image_folder_dataset.py```) class in Exercise 3. We we will reuse this class here.\n",
    "\n",
    "For processing the data, you implemented several transforms in Exercise 3 (```RescaleTransform```, ```NormalizeTransform```, ```ComposeTransform```). In this exercise we are working with images, which are multidimensional arrays, but we are using a simple feedforward neural network which takes an one dimensional array as an input, so it is necessary to reshape the images before feeding them into the model. \n",
    "\n",
    "<div class=\"alert alert-success\">\n",
    "    <h3>Task: Check Code</h3>\n",
    "    <p>Please check the implementation of the reshape operation in the <code>FlattenTransform</code> class, which can be found in <code>../exercise_06/exercise_code/data/image_folder_dataset.py</code>. </p>\n",
    "</div>"
   ]
  },
  {
   "cell_type": "code",
   "execution_count": 28,
   "metadata": {},
   "outputs": [],
   "source": [
    "download_url = \"https://i2dl.vc.in.tum.de/static/data/cifar10.zip\"\n",
    "i2dl_exercises_path = os.path.dirname(os.path.abspath(os.getcwd()))\n",
    "cifar_root = os.path.join(i2dl_exercises_path, \"datasets\", \"cifar10\")"
   ]
  },
  {
   "attachments": {},
   "cell_type": "markdown",
   "metadata": {},
   "source": [
    "## The usual memory vs local data warning\n",
    "If you are using google colab or store your files on a local HDD, iterating over dataset takes quite some time and blablabla. You know the drill by now ;).\n",
    "\n",
    "<div class=\"alert alert-danger\">\n",
    "    <h3>Warning</h3>\n",
    "    <p>Loading the whole dataset into memory will not work if you are using a machine with 4GB of RAM or less (depending on your other programs such as memory hungry web browsers). Consider closing some open programs or simply use the local on-demand ImageFolderDataset.</p>\n",
    "    <p>In addition we want to warn you that everytime you execute a cell like \"dataset2 = MemoryImageFolderDataset...\" you are loading a 1.2GB matrix into your memory. If you do this often enough this notebook will crash on every machine. Therefore, we make sure to always use a single variable \"dataset\" which will be overwritten by future cells to avoid straining your memory too much.</p>\n",
    "</div>"
   ]
  },
  {
   "cell_type": "code",
   "execution_count": 29,
   "metadata": {},
   "outputs": [],
   "source": [
    "# Choose your preferred dataset here\n",
    "\n",
    "# DATASET = ImageFolderDataset\n",
    "DATASET = MemoryImageFolderDataset"
   ]
  },
  {
   "attachments": {},
   "cell_type": "markdown",
   "metadata": {},
   "source": [
    "Now that that is taken care of, back to the actual loading."
   ]
  },
  {
   "cell_type": "code",
   "execution_count": 30,
   "metadata": {
    "id": "2fHY8xTPN5ee"
   },
   "outputs": [],
   "source": [
    "# Use the Cifar10 mean and standard deviation computed in Exercise 3.\n",
    "cifar_mean = np.array([0.49191375, 0.48235852, 0.44673872])\n",
    "cifar_std  = np.array([0.24706447, 0.24346213, 0.26147554])\n",
    "\n",
    "# Define all the transforms we will apply on the images when \n",
    "# retrieving them.\n",
    "rescale_transform = RescaleTransform()\n",
    "normalize_transform = NormalizeTransform(\n",
    "    mean=cifar_mean,\n",
    "    std=cifar_std\n",
    ")\n",
    "flatten_transform = FlattenTransform()\n",
    "compose_transform = ComposeTransform([rescale_transform, \n",
    "                                      normalize_transform,\n",
    "                                      flatten_transform])\n",
    "\n",
    "# Create a train, validation and test dataset.\n",
    "datasets = {}\n",
    "for mode in ['train', 'val', 'test']:\n",
    "    crt_dataset = DATASET(\n",
    "        mode=mode,\n",
    "        root=cifar_root, \n",
    "        transform=compose_transform,\n",
    "        split={'train': 0.6, 'val': 0.2, 'test': 0.2}\n",
    "    )\n",
    "    datasets[mode] = crt_dataset"
   ]
  },
  {
   "attachments": {},
   "cell_type": "markdown",
   "metadata": {
    "id": "FsR4dM2kN5ee"
   },
   "source": [
    "Then, based on this ```Dataset``` object, we can construct a ```Dataloader``` object which samples a random mini-batch of data at once. "
   ]
  },
  {
   "cell_type": "code",
   "execution_count": 31,
   "metadata": {
    "id": "3t4Xj_n3N5ef"
   },
   "outputs": [],
   "source": [
    "# Create a dataloader for each split.\n",
    "dataloaders = {}\n",
    "for mode in ['train', 'val', 'test']:\n",
    "    crt_dataloader = DataLoader(\n",
    "        dataset=datasets[mode],\n",
    "        batch_size=256,\n",
    "        shuffle=True,\n",
    "        drop_last=True,\n",
    "    )\n",
    "    dataloaders[mode] = crt_dataloader\n",
    "    "
   ]
  },
  {
   "attachments": {},
   "cell_type": "markdown",
   "metadata": {
    "id": "CpruSFLkN5ef"
   },
   "source": [
    "Because the ```Dataloader``` has the ```__iter__()``` method, we can simply iterate through the batches it produces, like this:\n",
    "\n",
    "```python\n",
    "for batch in dataloader['train']:\n",
    "    do_something(batch)\n",
    "```"
   ]
  },
  {
   "attachments": {},
   "cell_type": "markdown",
   "metadata": {
    "id": "L81EGyslN5eg"
   },
   "source": [
    "## 1.2 Data Augmentation\n",
    "\n",
    "After the preprocessing steps, our data is in a good shape and ready to be fed into our network. As explained in the chapter above, we used the transformation functions `RescaleTransform`, `NormalizeTransform` and `FlattenTransform` to achieve this shape. These are the general steps that you need to perform on the data before you can start training. Of course, all these steps have to be applied to our three dataset splits (train, val and test split). In other words, preprocessing involves preparing the data before is can be used for training and inference. \n",
    "\n",
    "Besides these basic transformations, there are many other transformation methods that you can apply to the images. For example, you can <b>flip the images horizontally</b> or <b>blur the images</b> and use these new images to enlarge the dataset. This idea is called Data Augmentation and it involves methods that alter the training images to generate a synthetic dataset that is larger than your original dataset. This will hopefully improve the performance of your model. There is one important difference between data augmentation and data preprocessing: The transformation methods used to enlarge your dataset should only be applied to the training data. The validation and test data should not be affected by these methods.\n",
    "\n",
    "<div class=\"alert alert-success\">\n",
    "    <h3>Task: Check Code</h3>\n",
    "    <p>The choice of transformation methods for data augmentation can be seen as a hyperparameter of your model. You can try to include these to enlarge your training data and obtain better results for your model. In <code>exercise_code/data/image_folder_dataset.py</code> we implemented the function <code>RandomHorizontalFlip</code> for you, which is randomly flipping an image horizontally. Check out the implementation.</p>\n",
    "    <p> Later, we will perform hyperparameter tuning. In order to improve your model's performance, you can include some other data augmentation methods. Feel free to play around and to implement other methods as for example Gaussian Blur or Rotation. </p>       \n",
    "</div>\n",
    "\n",
    "Let us quickly check the `RandomHorizontalFlip` method with an image of the Cifar10 dataset in the following cell."
   ]
  },
  {
   "cell_type": "code",
   "execution_count": 32,
   "metadata": {
    "colab": {
     "base_uri": "https://localhost:8080/",
     "height": 98
    },
    "executionInfo": {
     "elapsed": 962,
     "status": "ok",
     "timestamp": 1650011739465,
     "user": {
      "displayName": "Weber Anna",
      "userId": "18154618360144454414"
     },
     "user_tz": -120
    },
    "id": "3BEjmTGHN5eg",
    "outputId": "a6adee5b-1dd4-436c-e811-952f4ae12e5f"
   },
   "outputs": [
    {
     "data": {
      "image/png": "[encoded data removed]",
      "text/plain": [
       "<Figure size 200x200 with 2 Axes>"
      ]
     },
     "metadata": {},
     "output_type": "display_data"
    }
   ],
   "source": [
    "#Load the data in a dataset without any transformation \n",
    "dataset = DATASET(\n",
    "        mode=mode,\n",
    "        root=cifar_root, \n",
    "        download_url=download_url,\n",
    "        split={'train': 0.6, 'val': 0.2, 'test': 0.2},\n",
    "    )\n",
    "\n",
    "#Retrieve an image from the dataset and flip it\n",
    "image = dataset[1]['image']\n",
    "transform = RandomHorizontalFlip(1)\n",
    "image_flipped = transform(image)\n",
    "\n",
    "#Show the two images\n",
    "plt.figure(figsize = (2,2))\n",
    "plt.subplot(1, 2, 1)\n",
    "plt.imshow(image.astype('uint8'))\n",
    "plt.axis('off')\n",
    "plt.subplot(1, 2, 2)\n",
    "plt.imshow(image_flipped.astype('uint8'))\n",
    "plt.axis('off')\n",
    "plt.title(\"Left: Original Image, Right: Flipped image\")\n",
    "plt.show()"
   ]
  },
  {
   "attachments": {},
   "cell_type": "markdown",
   "metadata": {
    "id": "WKNRU4BWN5eg"
   },
   "source": [
    "## 1.3 Layers\n",
    "\n",
    "Now, that the data is prepared, we can take a look at the model we are using. In our case it will be a neural network. \n",
    "\n",
    "In Exercise 5, you implemented a simple 2-layer neural network that had a hidden size as a parameter:\n",
    "\n",
    "$$ \n",
    "{\\hat{y}} = \\sigma(\\sigma({x W_1} + {b_1}) {W_2} + {b_2}) \n",
    "$$\n",
    "\n",
    "where $ \\sigma({x}) $ was the sigmoid function, $ {x} $ was the input, $ {W_1}, {W_2} $ the weight matrices and $ {b_1}, {b_2}$ the biases for the two layers.\n",
    "\n",
    "This is how we used this network:"
   ]
  },
  {
   "cell_type": "code",
   "execution_count": 33,
   "metadata": {
    "id": "6zta7tzkN5eg"
   },
   "outputs": [],
   "source": [
    "input_size = datasets['train'][0]['image'].shape[0]\n",
    "model = ClassificationNet(input_size=input_size, \n",
    "                          hidden_size=512)"
   ]
  },
  {
   "attachments": {},
   "cell_type": "markdown",
   "metadata": {
    "id": "UpAoXE7nN5eh"
   },
   "source": [
    "Note that we updated the ```ClassificationNet``` from the previous exercise. Now you can customize the number of outputs, the choice of activation function, the hidden size etc. We encourage you to check the implementation in ```exercise_code/networks/classification_net.py``` "
   ]
  },
  {
   "cell_type": "code",
   "execution_count": 34,
   "metadata": {
    "id": "7wzEaw66N5eh"
   },
   "outputs": [],
   "source": [
    "num_layer = 2\n",
    "reg = 1e-6\n",
    "\n",
    "model = ClassificationNet(activation=Relu, \n",
    "                          num_layer=num_layer, \n",
    "                          reg=reg,\n",
    "                          num_classes=10)"
   ]
  },
  {
   "attachments": {},
   "cell_type": "markdown",
   "metadata": {
    "id": "x70gjgkDN5eh"
   },
   "source": [
    "Performing the forward and backward passes through the model was quite simple:\n",
    "\n",
    "```python\n",
    "\n",
    "# X is a batch of training features \n",
    "# X.shape = (batch_size, features_size)\n",
    "y_out = model.forward(X)\n",
    "\n",
    "# dout is the gradient of the loss function w.r.t the output of the network.\n",
    "# dout.shape = (batch_size, )\n",
    "model.backward(dout)\n",
    "```"
   ]
  },
  {
   "attachments": {},
   "cell_type": "markdown",
   "metadata": {
    "id": "dlwNcT2RN5eh"
   },
   "source": [
    "Just as the learning rate or the number of epochs we want to train for, the number of hidden layers and the number of units in each hidden layer are also hyperparameters that we can tune. In this notebook you can play with networks of different sizes to see the impact that the network capacity has.\n",
    "\n",
    "Before we move on to the loss functions, let's have a look at the activation functions. The choice of an activation function can have a huge impact on the performance of the network you are designing. So far, you have implemented the `Sigmoid` and the `Relu` activation functions in Exercise 5. \n",
    "\n",
    "<div class=\"alert alert-success\">\n",
    "    <h3>Task: Check Code</h3>\n",
    "    <p>Take a look at the <code>Sigmoid</code> and the <code>Relu</code> class in <code>exercise_code/networks/layer.py</code> and the implementation of the respective forward and backward passes. Make sure to understand why we used <b>element-wise product</b> instead of dot product in the backward pass of the <code>Sigmoid</code> class to compute the gradient <code>dx</code>. That will be helpful for your later implementation of other activation functions.</p>\n",
    "    <p> <b>Note:</b> The <code>cache</code> variable is used to store information from the forward pass and then pass this information in the backward pass to make use of it there. The implementation of both classes shows that this variable can be used differently - depending on which information is needed in the backward pass. </p>\n",
    "</div>\n",
    "\n",
    "Now, we want to have a look at two other, very common activation functions that you have already seen in the lecture: Leaky ReLU activation function and Tanh activation function. \n",
    "\n",
    "**Leaky Relus** are one attempt to fix the “dying ReLU” problem. Instead of the function being zero when $ x < 0 $, a leaky ReLU has a small negative slope (for example, 0.01).  The function computes $f(x) = \\mathbb{1}(x < 0) (\\alpha x) + \\mathbb{1}(x>=0) (x)$ where $\\alpha$ is a small constant. Some people report success with this form of activation function, but the results are not always consistent.\n",
    "\n",
    "The **tanh non-linearity** squashes a real-valued number into the range [-1, 1]. Like the sigmoid neuron, its activations saturate, but unlike the sigmoid neuron its output is zero-centered. Therefore, in practice the tanh non-linearity is always preferred to the sigmoid non-linearity. Also note that the tanh neuron is simply a scaled sigmoid neuron, in particular the following holds: $\\tanh(x) = 2 \\cdot \\sigma(2x) -1$.\n",
    "\n",
    "<img class=left src=https://pytorch.org/docs/stable/_images/LeakyReLU.png alt=\"Figure3\" width=\"350\" align='left'/> \n",
    "<img class=right src=https://pytorch.org/docs/stable/_images/Tanh.png alt=\"Figure4\" width=\"350\"/>\n",
    "\n",
    "<div class=\"alert alert-info\">\n",
    "    <h3>Task: Implement Activation Layers</h3>\n",
    "    <p> Now, it is your turn to implement the <code>LeakyRelu</code> and the <code>Tanh</code> class in <code>exercise_code/networks/layer.py</code> by completing the <code>forward</code> and the <code>backward</code> functions. You can test your implementation in the following two cells. </p>\n",
    "    <p> <b>Note:</b> Always remember to return a cache in <code>forward</code> for later backpropagation in <code>backward</code>. As we have seen above, the <code>cache</code> variable can be used differently for two activation functions.</p>\n",
    "</div>\n",
    "\n",
    "Use this cell to test your implementation of the `LeakyRelu` class:"
   ]
  },
  {
   "cell_type": "code",
   "execution_count": 35,
   "metadata": {
    "colab": {
     "base_uri": "https://localhost:8080/"
    },
    "executionInfo": {
     "elapsed": 854,
     "status": "ok",
     "timestamp": 1650011740634,
     "user": {
      "displayName": "Weber Anna",
      "userId": "18154618360144454414"
     },
     "user_tz": -120
    },
    "id": "v0LYvwHmN5ei",
    "outputId": "e124210f-f387-45b4-cd23-b0444c894b10"
   },
   "outputs": [
    {
     "name": "stdout",
     "output_type": "stream",
     "text": [
      "\n",
      "####### Testing \u001b[96mLeakyReluTest\u001b[0m Started #######\n",
      "\n",
      "Test LeakyReluForwardTest: \u001b[92mpassed!\u001b[0m\n",
      "Test LeakyReluBackwardTest: \u001b[92mpassed!\u001b[0m\n",
      "\n",
      "####### Testing \u001b[96mLeakyReluTest\u001b[0m Finished #######\n",
      "Test LeakyReluTest: \u001b[92mpassed!\u001b[0m -->  Tests passed: \u001b[92m2\u001b[0m/\u001b[92m2\u001b[0m\n",
      "Score: \u001b[92m100\u001b[0m/\u001b[92m100\u001b[0m\n"
     ]
    }
   ],
   "source": [
    "from exercise_code.tests.layer_tests import *\n",
    "LeakyReluTestWrapper()()"
   ]
  },
  {
   "attachments": {},
   "cell_type": "markdown",
   "metadata": {
    "id": "kOkiYhe_N5ei"
   },
   "source": [
    "And this cell to test your implementation of the `Tanh` class:"
   ]
  },
  {
   "cell_type": "code",
   "execution_count": 36,
   "metadata": {
    "colab": {
     "base_uri": "https://localhost:8080/"
    },
    "executionInfo": {
     "elapsed": 11,
     "status": "ok",
     "timestamp": 1650011740635,
     "user": {
      "displayName": "Weber Anna",
      "userId": "18154618360144454414"
     },
     "user_tz": -120
    },
    "id": "Do-AHImrN5ei",
    "outputId": "b4c5a743-2ae6-4700-e052-4c9c4a220d08"
   },
   "outputs": [
    {
     "name": "stdout",
     "output_type": "stream",
     "text": [
      "\n",
      "####### Testing \u001b[96mTanhTest\u001b[0m Started #######\n",
      "\n",
      "Test TanhForwardTest: \u001b[92mpassed!\u001b[0m\n",
      "Test TanhBackwardTest: \u001b[92mpassed!\u001b[0m\n",
      "\n",
      "####### Testing \u001b[96mTanhTest\u001b[0m Finished #######\n",
      "Test TanhTest: \u001b[92mpassed!\u001b[0m -->  Tests passed: \u001b[92m2\u001b[0m/\u001b[92m2\u001b[0m\n",
      "Score: \u001b[92m100\u001b[0m/\u001b[92m100\u001b[0m\n"
     ]
    }
   ],
   "source": [
    "TanhTestWrapper()()"
   ]
  },
  {
   "attachments": {},
   "cell_type": "markdown",
   "metadata": {
    "id": "Mw_iJW4dN5ej"
   },
   "source": [
    "Congratulations, you implemented four different activation functions! These activation layers are now ready to be used when you start building your own network."
   ]
  },
  {
   "attachments": {},
   "cell_type": "markdown",
   "metadata": {
    "id": "3MhxqP2LN5ej"
   },
   "source": [
    "## 1.4 Loss\n",
    "\n",
    "In order to measure how well a network is performing, we implemented several ```Loss``` classes (```L1```, ```MSE```, ```BCE```, each preferred for a certain type of problems) in ```exercise_code/networks/loss.py```.\n",
    "\n",
    "Each contains a ```forward()``` method, which outputs a number we can use as a measure for our network's performance. \n",
    "\n",
    "Since our goal is to change the weights of the network in a way that this loss measure decreases, we are also interested in the gradients of the loss w.r.t the outputs of the network, $ \\nabla_{\\hat{y}} L({\\hat{y}}, {y}) $. This was implemented in ```backward()```. \n",
    "\n",
    "In previous exercises, we worked on binary classification problems and therefore used binary cross entropy (```BCE```) as a loss function.\n",
    "\n",
    "$$ BCE(\\hat{y}, y) = - \\frac{1}{N} \\sum_{i=1}^N \\Big(y_i \\log(\\hat{y_i}) + (1-y_i) \\log(1 - \\hat{y_i}) \\Big) $$ \n",
    "\n",
    "where\n",
    "- $ N $ was the number of samples we were considering\n",
    "- $\\hat{y}_i$ was the network's prediction for sample $i$. Note that this was a valid probability $\\in [0, 1]$, because we applied a [sigmoid](https://en.wikipedia.org/wiki/Sigmoid_function) activation on the last layer. \n",
    "- $ y_i $ was the ground truth label (0 or 1, depending on the class)\n",
    "\n",
    "Since we have 10 classes in the CIFAR10 dataset, we need a generalization of the binary cross entropy loss to multiple classes. This generalization is called the cross entropy loss and is defined as:\n",
    "$$ CE(\\hat{y}, y) = - \\frac{1}{N} \\sum_{i=1}^N \\sum_{k=1}^{C} \\Big(y_{ik} \\log(\\hat{y}_{ik}) \\Big) $$\n",
    "\n",
    "where:\n",
    "- $ N $ is the number of samples\n",
    "- $ C $ is the number of classes\n",
    "- $ \\hat{y}_{ik} $ is the probability that the model assigns for the $k$th class when the $i$th sample is the input. **Because we don't apply any activation function on the last layer of our network, its outputs for each sample will not be a valid probability distribution over the classes. We call these the raw outputs of the network '[logits](https://datascience.stackexchange.com/questions/31041/what-does-logits-in-machine-learning-mean/31045)' and we will apply a [softmax](https://en.wikipedia.org/wiki/Softmax_function) activation in order to obtain a valid probability distribution.** \n",
    "- $y_{ik} = 1 $ iff the true label of the $i$th sample is $k$ and 0 otherwise. This is called a [one-hot encoding](https://machinelearningmastery.com/why-one-hot-encode-data-in-machine-learning/).\n",
    "\n",
    "You can check for yourself that if the number of classes $ C $ is 2, the binary cross entropy is actually equivalent to the cross entropy.\n",
    "\n",
    "<div class=\"alert alert-success\">\n",
    "    <h3>Task: Check Code</h3>\n",
    "    <p>Please check the implementation of the <code>CrossEntropyFromLogits</code> class, which can be found in <code>../exercise_06/exercise_code/networks/loss.py</code>. </p>\n",
    "</div>"
   ]
  },
  {
   "cell_type": "code",
   "execution_count": 37,
   "metadata": {
    "id": "EBPuFF0BN5ej"
   },
   "outputs": [],
   "source": [
    "loss = CrossEntropyFromLogits"
   ]
  },
  {
   "attachments": {},
   "cell_type": "markdown",
   "metadata": {
    "id": "y1HcQs25N5ek"
   },
   "source": [
    "We can simply get the results of the forward and backward passes as follows:"
   ]
  },
  {
   "attachments": {},
   "cell_type": "markdown",
   "metadata": {
    "id": "Jv2aujOvN5ek"
   },
   "source": [
    "```python\n",
    "# y_out is the output of the neural network\n",
    "# y_truth is the actual label from the dataset\n",
    "loss.forward(y_out, y_truth)\n",
    "loss.backward(y_out, y_truth)\n",
    "```"
   ]
  },
  {
   "attachments": {},
   "cell_type": "markdown",
   "metadata": {
    "id": "dbFSP4z9N5ek"
   },
   "source": [
    "## 1.5 Optimizer\n",
    "\n",
    "Now that we know the gradient of the loss w.r.t the ouputs of the network, as well as the local gradient for each layer of the network, we can use the chain rule to compute all gradients. \n",
    "\n",
    "<div class=\"alert alert-success\">\n",
    "    <h3>Task: Check Code</h3>\n",
    "    <p>We implemented several optimizer classes <code>SGD</code>, <code>Adam</code>, <code>sgd_momentum</code> that use different first-order parameter update rules. Those can be found in <code>../exercise_06/exercise_code/networks/optimizer.py</code>. </p>\n",
    "    <p>The <code>step()</code> method used, iterates through all the parameters of the model and updates them using the gradient information.</p>\n",
    "</div>\n",
    "\n",
    "What the optimizer is doing, in pseudocode, is the following:\n",
    "\n",
    "```python\n",
    "for param in model:\n",
    "    # Use the gradient to update the weights.\n",
    "    update(param)\n",
    "    \n",
    "    # Reset the gradient after each update.\n",
    "    param.gradient = 0\n",
    "```\n",
    "\n",
    "```SGD``` had the simplest update rule:\n",
    "```python\n",
    "def update(param):\n",
    "    param = param - learning_rate * param.gradient\n",
    "```\n",
    "\n",
    "For the more complicated update rules, see ```exercise_code/networks/optimizer.py```"
   ]
  },
  {
   "attachments": {},
   "cell_type": "markdown",
   "metadata": {
    "id": "0TE2PxMBN5ek"
   },
   "source": [
    "## 1.6 Solver\n",
    "\n",
    "The ```Solver``` is where all the above elements come together: Given a train and a validation dataloader, a model, a loss and an optimizer, it uses the training data to optimize a model in order to get better predictions. We simply call ```train()``` and it does its 'magic' for us!\n",
    "```python\n",
    "solver = Solver(model, \n",
    "                dataloaders['train'], \n",
    "                dataloaders['val'], \n",
    "                learning_rate=0.001, \n",
    "                loss_func=MSE(), \n",
    "                optimizer=SGD)\n",
    "\n",
    "solver.train(epochs=epochs)\n",
    "```\n",
    "\n",
    "<div class=\"alert alert-success\">\n",
    "    <h3>Task: Check Code</h3>\n",
    "    <p>Please check out the implementation of <code>train()</code> in <code>../exercise_06/exercise_code/solver.py</code>. </p>\n",
    "</div>"
   ]
  },
  {
   "attachments": {},
   "cell_type": "markdown",
   "metadata": {
    "id": "QUFotyERN5ek"
   },
   "source": [
    "## 1.7 Weight Regularization\n",
    "\n",
    "Before finishing the recap, we want to take a look at some regularization methods that have been introduced in the lecture. Those can be helpful to improve the robustness of our model. In this chapter, we're talking about weight regularization methods.\n",
    "\n",
    "Weight regularization (a.k.a \"Weight Decay\") has been introduced to you as a method preventing the model from overfitting to the training data. \n",
    "\n",
    "The regularization term over the weights of the network is added to the loss:\n",
    "\n",
    "$$ L^* = \\underbrace{L}_{\\text{Overall loss}} + \\underbrace{\\lambda R(\\theta)}_{\\text{Regularization loss}} $$\n",
    "\n",
    "where $\\theta$ represents **ALL** the weights of the network, $\\theta = \\{W_1, \\dots, W_n\\}$ and $R(\\theta) \\in \\mathbb{R}.$\n",
    "\n",
    "Therefore, the backward step for each weight matrix $W_k \\in  \\theta$ is: \n",
    "\n",
    "$$\\frac{\\partial L}{\\partial W_k}^* = \\underbrace{\\frac{\\partial L}{\\partial W_k}}_{\\text{Gradient}}  + \\underbrace{\\lambda \\frac{\\partial R(\\theta)}{\\partial W_k}}_{\\text{Reg. loss gradient}}$$\n",
    "\n",
    "The usage of the regularization term encodes some preferences in manipulating the weights. In the lecture, we compared two weight regularization methods and their respective preference for weight vectors. We made the following observations: \n",
    "\n",
    "1. L1 regularization: Enforces sparsity \n",
    "2. L2 regularization: Enforces that weights have similar values\n",
    "\n",
    "The most common weight regularization method is the L2 regularization. The L2 regularization prefers smaller and more diffuse weight vectors. Therefore, the model is encouraged to take all input dimensions into account rather than focusing strongly on a small number of input dimensions.\n",
    "\n",
    "When using weight regularization, the loss function is a composition of two parts:\n",
    "\n",
    "The first being the data loss, which is calculated using Cross Entropy loss in our model. The second part is called the regularization loss $R(\\theta)$ and is computed in the L2 case as follows:\n",
    "$$R(\\theta) = \\sum_{k} \\sum_{i} \\sum_{j} w_{k,i,j}^2$$\n",
    "\n",
    "Where $k$ runs over all weight matrices in the network, and $i, j$ correspond to the spatial height and width of each weight matrix $W_k$."
   ]
  },
  {
   "attachments": {},
   "cell_type": "markdown",
   "metadata": {
    "id": "DxExi4hQN5el"
   },
   "source": [
    "# 2. An overview of hyperparameters"
   ]
  },
  {
   "attachments": {},
   "cell_type": "markdown",
   "metadata": {
    "collapsed": true,
    "id": "OdQde3JEN5el"
   },
   "source": [
    "\n",
    "<img src=https://images.deepai.org/glossary-terms/05c646fe1676490aa0b8cab0732a02b2/hyperparams.png alt=hyperparameter width=700>\n",
    "\n",
    "A **hyperparameter** is a parameter that is set before the learning process begins. Recall that the parameters of the weight matrix and the bias vector are learned during the learning process.\n",
    "\n",
    "The hyperparameter settings are essential, since they control and affect the whole training and therefore have a great impact on the model's performance. \n",
    "\n",
    "Some hyperparameters we have covered in lectures are:\n",
    "* Network architecture\n",
    "    * Choice of activation function\n",
    "    * Number of layers\n",
    "    * ...\n",
    "* Learning rate\n",
    "* Number of epochs\n",
    "* Batch size\n",
    "* Regularization strength\n",
    "* Momentum\n",
    "* ..."
   ]
  },
  {
   "attachments": {},
   "cell_type": "markdown",
   "metadata": {
    "id": "Rn6g8Zw1N5el"
   },
   "source": [
    "## 2.1 Start debugging your own network!"
   ]
  },
  {
   "attachments": {},
   "cell_type": "markdown",
   "metadata": {
    "id": "hUoj3OgzN5el"
   },
   "source": [
    "As already suggested in the lectures, you should always start from small and simple architectures, to make sure you are going the right way. \n",
    "\n",
    "As a first step you should try to overfit to a single training sample, then to a few batches of training samples and finally go deeper with larger neural networks and the whole training data.\n",
    "\n",
    "We provide a default neural network (i.e. ClassificationNet) with arbitrary number of layers, which is a generalization from a fixed 2-layer neural network in exercise 5. You are welcome to implement your own network, in that case just implement **MyOwnNetwork** in ```exercise_code/networks/classification_net.py```. You can also copy things from ClassficationNet and make little adjustments to your own network. Either way, just pick one network and comment out the other one, then run the cells below for debugging.\n",
    "\n",
    "<div class=\"alert alert-warning\">\n",
    "    <h3>Note:</h3>\n",
    "    <p>Please, make sure you don't modify the ClassificationNet itself. In this way you can always have a working network to fall back on.</p>\n",
    "    <p>In order to pass this submissions, you can <b>first stick to the default ClassificationNet implementation without changing any code at all</b>. The goal of this submission is to find reasonable hyperparameters and the parameter options of the ClassificationNet are broad enough to pass.</p>\n",
    "    <p>Once you have surpassed the submission goal, you can try to implement additional activation functions in the accompanying notebook, try different weight initializations or make other adjustments by writing your own network architecture in the MyOwnNetwork class.</p>\n",
    "</div>"
   ]
  },
  {
   "attachments": {},
   "cell_type": "markdown",
   "metadata": {
    "id": "gij9DxvmN5el"
   },
   "source": [
    "First, let's start with a 2-layer neural network, and overfit to one single training sample.\n",
    "\n",
    "After training, let's evaluate the training process by plotting the loss curves."
   ]
  },
  {
   "cell_type": "code",
   "execution_count": 38,
   "metadata": {
    "colab": {
     "base_uri": "https://localhost:8080/"
    },
    "executionInfo": {
     "elapsed": 20902,
     "status": "ok",
     "timestamp": 1650011761531,
     "user": {
      "displayName": "Weber Anna",
      "userId": "18154618360144454414"
     },
     "user_tz": -120
    },
    "id": "S1k3JrlsN5el",
    "outputId": "1193ba97-9871-489f-d6a5-f21a3869f09c"
   },
   "outputs": [
    {
     "name": "stdout",
     "output_type": "stream",
     "text": [
      "(Epoch 1 / 20) train loss: 2.302144; val loss: 2.303151\n",
      "(Epoch 2 / 20) train loss: 2.185076; val loss: 2.305058\n",
      "(Epoch 3 / 20) train loss: 1.915762; val loss: 2.309268\n",
      "(Epoch 4 / 20) train loss: 1.465375; val loss: 2.317478\n",
      "(Epoch 5 / 20) train loss: 0.892141; val loss: 2.333131\n",
      "(Epoch 6 / 20) train loss: 0.373368; val loss: 2.361714\n",
      "(Epoch 7 / 20) train loss: 0.099012; val loss: 2.407035\n",
      "(Epoch 8 / 20) train loss: 0.019656; val loss: 2.468499\n",
      "(Epoch 9 / 20) train loss: 0.003561; val loss: 2.542739\n",
      "(Epoch 10 / 20) train loss: 0.000649; val loss: 2.625637\n",
      "(Epoch 11 / 20) train loss: 0.000128; val loss: 2.713478\n",
      "(Epoch 12 / 20) train loss: 0.000033; val loss: 2.803327\n",
      "(Epoch 13 / 20) train loss: 0.000015; val loss: 2.892999\n",
      "(Epoch 14 / 20) train loss: 0.000011; val loss: 2.980924\n",
      "(Epoch 15 / 20) train loss: 0.000011; val loss: 3.066015\n",
      "(Epoch 16 / 20) train loss: 0.000012; val loss: 3.147551\n",
      "(Epoch 17 / 20) train loss: 0.000013; val loss: 3.225079\n",
      "(Epoch 18 / 20) train loss: 0.000013; val loss: 3.298348\n",
      "(Epoch 19 / 20) train loss: 0.000014; val loss: 3.367252\n",
      "(Epoch 20 / 20) train loss: 0.000015; val loss: 3.431790\n"
     ]
    }
   ],
   "source": [
    "from exercise_code.solver import Solver\n",
    "from exercise_code.networks.optimizer import SGD, Adam\n",
    "from exercise_code.networks import MyOwnNetwork\n",
    "\n",
    "num_layer = 2\n",
    "epochs = 20\n",
    "reg = 1e-6\n",
    "batch_size = 4\n",
    "\n",
    "# model = ClassificationNet(num_layer=num_layer, reg=reg)\n",
    "model = MyOwnNetwork(num_layer=num_layer, reg=reg)\n",
    "\n",
    "loss = CrossEntropyFromLogits\n",
    "\n",
    "# Make a new data loader with a single training image\n",
    "overfit_dataset = DATASET(\n",
    "    mode='train',\n",
    "    root=cifar_root, \n",
    "    download_url=download_url,\n",
    "    transform=compose_transform,\n",
    "    limit_files=1\n",
    ")\n",
    "dataloaders['train_overfit_single_image'] = DataLoader(\n",
    "    dataset=overfit_dataset,\n",
    "    batch_size=batch_size,\n",
    "    shuffle=True,\n",
    "    drop_last=False,\n",
    ")\n",
    "\n",
    "\n",
    "# Decrease validation data for only debugging\n",
    "debugging_validation_dataset = DATASET(\n",
    "    mode='val',\n",
    "    root=cifar_root, \n",
    "    download_url=download_url,\n",
    "    transform=compose_transform,\n",
    "    limit_files=100\n",
    ")\n",
    "dataloaders['val_500files'] = DataLoader(\n",
    "    dataset=debugging_validation_dataset,\n",
    "    batch_size=batch_size,\n",
    "    shuffle=True,\n",
    "    drop_last=True,\n",
    ")\n",
    "\n",
    "solver = Solver(model, dataloaders['train_overfit_single_image'], dataloaders['val_500files'], \n",
    "                learning_rate=1e-3, loss_func=loss, optimizer=Adam)\n",
    "\n",
    "solver.train(epochs=epochs)"
   ]
  },
  {
   "cell_type": "code",
   "execution_count": 39,
   "metadata": {
    "colab": {
     "base_uri": "https://localhost:8080/"
    },
    "executionInfo": {
     "elapsed": 434,
     "status": "ok",
     "timestamp": 1650011761941,
     "user": {
      "displayName": "Weber Anna",
      "userId": "18154618360144454414"
     },
     "user_tz": -120
    },
    "id": "aMc51VqHN5em",
    "outputId": "730d9eb6-6b24-4411-e6b9-c165a73a7e6e"
   },
   "outputs": [
    {
     "data": {
      "image/png": "[encoded data removed]",
      "text/plain": [
       "<Figure size 1000x800 with 1 Axes>"
      ]
     },
     "metadata": {},
     "output_type": "display_data"
    }
   ],
   "source": [
    "plt.title('Loss curves')\n",
    "plt.plot(solver.train_loss_history, '-', label='train')\n",
    "plt.plot(solver.val_loss_history, '-', label='val')\n",
    "plt.legend(loc='lower right')\n",
    "plt.xlabel('Iteration')\n",
    "plt.show()"
   ]
  },
  {
   "cell_type": "code",
   "execution_count": 40,
   "metadata": {
    "colab": {
     "base_uri": "https://localhost:8080/"
    },
    "executionInfo": {
     "elapsed": 244,
     "status": "ok",
     "timestamp": 1650011762177,
     "user": {
      "displayName": "Weber Anna",
      "userId": "18154618360144454414"
     },
     "user_tz": -120
    },
    "id": "cchvV2Q_N5em",
    "outputId": "6ba579ba-58ed-43e8-f3e7-97a51018ee4b"
   },
   "outputs": [
    {
     "name": "stdout",
     "output_type": "stream",
     "text": [
      "Training accuray: 1.00000\n",
      "Validation accuray: 0.03000\n"
     ]
    }
   ],
   "source": [
    "print(\"Training accuray: %.5f\" % (solver.get_dataset_accuracy(dataloaders['train_overfit_single_image'])))\n",
    "print(\"Validation accuray: %.5f\" % (solver.get_dataset_accuracy(dataloaders['val_500files'])))"
   ]
  },
  {
   "attachments": {},
   "cell_type": "markdown",
   "metadata": {
    "id": "HeTCu8wwN5em"
   },
   "source": [
    "This time we want to overfit to a small set of training batch samples. Please observe the difference from above. "
   ]
  },
  {
   "cell_type": "code",
   "execution_count": 41,
   "metadata": {
    "colab": {
     "base_uri": "https://localhost:8080/"
    },
    "executionInfo": {
     "elapsed": 32205,
     "status": "ok",
     "timestamp": 1650011794379,
     "user": {
      "displayName": "Weber Anna",
      "userId": "18154618360144454414"
     },
     "user_tz": -120
    },
    "id": "SsIu_JaUN5em",
    "outputId": "81810746-ea3e-4a60-f3b7-dad4230c7231"
   },
   "outputs": [
    {
     "name": "stdout",
     "output_type": "stream",
     "text": [
      "(Epoch 1 / 100) train loss: 2.290671; val loss: 2.319242\n",
      "(Epoch 2 / 100) train loss: 2.060458; val loss: 2.405890\n",
      "(Epoch 3 / 100) train loss: 1.588876; val loss: 2.685508\n",
      "(Epoch 4 / 100) train loss: 0.964174; val loss: 3.012940\n",
      "(Epoch 5 / 100) train loss: 0.755872; val loss: 3.401376\n",
      "(Epoch 6 / 100) train loss: 0.392964; val loss: 3.727492\n",
      "(Epoch 7 / 100) train loss: 0.227053; val loss: 4.037234\n",
      "(Epoch 8 / 100) train loss: 0.121244; val loss: 4.315418\n",
      "(Epoch 9 / 100) train loss: 0.080001; val loss: 4.559567\n",
      "(Epoch 10 / 100) train loss: 0.052403; val loss: 4.753807\n",
      "(Epoch 11 / 100) train loss: 0.039593; val loss: 4.907486\n",
      "(Epoch 12 / 100) train loss: 0.037131; val loss: 5.023839\n",
      "(Epoch 13 / 100) train loss: 0.035891; val loss: 5.110500\n",
      "(Epoch 14 / 100) train loss: 0.035593; val loss: 5.171767\n",
      "(Epoch 15 / 100) train loss: 0.035973; val loss: 5.211166\n",
      "(Epoch 16 / 100) train loss: 0.035989; val loss: 5.234899\n",
      "(Epoch 17 / 100) train loss: 0.035786; val loss: 5.244565\n",
      "(Epoch 18 / 100) train loss: 0.035979; val loss: 5.243645\n",
      "(Epoch 19 / 100) train loss: 0.035417; val loss: 5.234714\n",
      "(Epoch 20 / 100) train loss: 0.035169; val loss: 5.219173\n",
      "(Epoch 21 / 100) train loss: 0.035096; val loss: 5.199097\n",
      "(Epoch 22 / 100) train loss: 0.034414; val loss: 5.175163\n",
      "(Epoch 23 / 100) train loss: 0.033952; val loss: 5.148716\n",
      "(Epoch 24 / 100) train loss: 0.033521; val loss: 5.120094\n",
      "(Epoch 25 / 100) train loss: 0.033185; val loss: 5.090449\n",
      "(Epoch 26 / 100) train loss: 0.032542; val loss: 5.059539\n",
      "(Epoch 27 / 100) train loss: 0.032376; val loss: 5.027610\n",
      "(Epoch 28 / 100) train loss: 0.031749; val loss: 4.995048\n",
      "(Epoch 29 / 100) train loss: 0.031126; val loss: 4.962353\n",
      "(Epoch 30 / 100) train loss: 0.030881; val loss: 4.929142\n",
      "(Epoch 31 / 100) train loss: 0.030338; val loss: 4.896370\n",
      "(Epoch 32 / 100) train loss: 0.029780; val loss: 4.863936\n",
      "(Epoch 33 / 100) train loss: 0.029439; val loss: 4.831277\n",
      "(Epoch 34 / 100) train loss: 0.028938; val loss: 4.799127\n",
      "(Epoch 35 / 100) train loss: 0.028445; val loss: 4.767632\n",
      "(Epoch 36 / 100) train loss: 0.027941; val loss: 4.736894\n",
      "(Epoch 37 / 100) train loss: 0.027509; val loss: 4.706509\n",
      "(Epoch 38 / 100) train loss: 0.027038; val loss: 4.676795\n",
      "(Epoch 39 / 100) train loss: 0.026702; val loss: 4.647238\n",
      "(Epoch 40 / 100) train loss: 0.026505; val loss: 4.618208\n",
      "(Epoch 41 / 100) train loss: 0.025981; val loss: 4.589785\n",
      "(Epoch 42 / 100) train loss: 0.025720; val loss: 4.561308\n",
      "(Epoch 43 / 100) train loss: 0.025304; val loss: 4.533982\n",
      "(Epoch 44 / 100) train loss: 0.024821; val loss: 4.507168\n",
      "(Epoch 45 / 100) train loss: 0.024508; val loss: 4.480578\n",
      "(Epoch 46 / 100) train loss: 0.024121; val loss: 4.454240\n",
      "(Epoch 47 / 100) train loss: 0.023851; val loss: 4.428682\n",
      "(Epoch 48 / 100) train loss: 0.023394; val loss: 4.403132\n",
      "(Epoch 49 / 100) train loss: 0.023186; val loss: 4.377888\n",
      "(Epoch 50 / 100) train loss: 0.023050; val loss: 4.354015\n",
      "(Epoch 51 / 100) train loss: 0.022663; val loss: 4.329903\n",
      "(Epoch 52 / 100) train loss: 0.022301; val loss: 4.306220\n",
      "(Epoch 53 / 100) train loss: 0.022006; val loss: 4.281921\n",
      "(Epoch 54 / 100) train loss: 0.021731; val loss: 4.258054\n",
      "(Epoch 55 / 100) train loss: 0.021557; val loss: 4.235632\n",
      "(Epoch 56 / 100) train loss: 0.021297; val loss: 4.214236\n",
      "(Epoch 57 / 100) train loss: 0.021075; val loss: 4.192405\n",
      "(Epoch 58 / 100) train loss: 0.020713; val loss: 4.171570\n",
      "(Epoch 59 / 100) train loss: 0.020356; val loss: 4.151110\n",
      "(Epoch 60 / 100) train loss: 0.020220; val loss: 4.131248\n",
      "(Epoch 61 / 100) train loss: 0.019984; val loss: 4.111465\n",
      "(Epoch 62 / 100) train loss: 0.019633; val loss: 4.092384\n",
      "(Epoch 63 / 100) train loss: 0.019483; val loss: 4.073832\n",
      "(Epoch 64 / 100) train loss: 0.019371; val loss: 4.056812\n",
      "(Epoch 65 / 100) train loss: 0.019041; val loss: 4.040229\n",
      "(Epoch 66 / 100) train loss: 0.018862; val loss: 4.023711\n",
      "(Epoch 67 / 100) train loss: 0.018645; val loss: 4.007368\n",
      "(Epoch 68 / 100) train loss: 0.018593; val loss: 3.990207\n",
      "(Epoch 69 / 100) train loss: 0.018516; val loss: 3.973391\n",
      "(Epoch 70 / 100) train loss: 0.018280; val loss: 3.957511\n",
      "(Epoch 71 / 100) train loss: 0.018139; val loss: 3.941583\n",
      "(Epoch 72 / 100) train loss: 0.017795; val loss: 3.926475\n",
      "(Epoch 73 / 100) train loss: 0.017673; val loss: 3.911282\n",
      "(Epoch 74 / 100) train loss: 0.017386; val loss: 3.897852\n",
      "(Epoch 75 / 100) train loss: 0.017346; val loss: 3.886320\n",
      "(Epoch 76 / 100) train loss: 0.017163; val loss: 3.874615\n",
      "(Epoch 77 / 100) train loss: 0.017114; val loss: 3.862193\n",
      "(Epoch 78 / 100) train loss: 0.016820; val loss: 3.849105\n",
      "(Epoch 79 / 100) train loss: 0.016739; val loss: 3.838016\n",
      "(Epoch 80 / 100) train loss: 0.016372; val loss: 3.826888\n",
      "(Epoch 81 / 100) train loss: 0.016370; val loss: 3.816515\n",
      "(Epoch 82 / 100) train loss: 0.016441; val loss: 3.804437\n",
      "(Epoch 83 / 100) train loss: 0.016195; val loss: 3.791951\n",
      "(Epoch 84 / 100) train loss: 0.016010; val loss: 3.778295\n",
      "(Epoch 85 / 100) train loss: 0.015881; val loss: 3.765442\n",
      "(Epoch 86 / 100) train loss: 0.015759; val loss: 3.753342\n",
      "(Epoch 87 / 100) train loss: 0.015630; val loss: 3.741750\n",
      "(Epoch 88 / 100) train loss: 0.015490; val loss: 3.731627\n",
      "(Epoch 89 / 100) train loss: 0.015383; val loss: 3.720236\n",
      "(Epoch 90 / 100) train loss: 0.015388; val loss: 3.709034\n",
      "(Epoch 91 / 100) train loss: 0.015160; val loss: 3.699266\n",
      "(Epoch 92 / 100) train loss: 0.015009; val loss: 3.690268\n",
      "(Epoch 93 / 100) train loss: 0.014911; val loss: 3.682468\n",
      "(Epoch 94 / 100) train loss: 0.014779; val loss: 3.674052\n",
      "(Epoch 95 / 100) train loss: 0.014853; val loss: 3.666465\n",
      "(Epoch 96 / 100) train loss: 0.014630; val loss: 3.657844\n",
      "(Epoch 97 / 100) train loss: 0.014456; val loss: 3.648004\n",
      "(Epoch 98 / 100) train loss: 0.014457; val loss: 3.638340\n",
      "(Epoch 99 / 100) train loss: 0.014177; val loss: 3.629611\n",
      "(Epoch 100 / 100) train loss: 0.014154; val loss: 3.619840\n"
     ]
    }
   ],
   "source": [
    "from exercise_code.networks import MyOwnNetwork\n",
    "\n",
    "num_layer = 2\n",
    "epochs = 100\n",
    "reg = 0.1\n",
    "num_samples = 10\n",
    "\n",
    "# model = ClassificationNet(num_layer=num_layer, reg=reg)\n",
    "model = MyOwnNetwork(num_layer=num_layer, reg=1e-3) # I use a custom reg for my own model here\n",
    "\n",
    "loss = CrossEntropyFromLogits\n",
    "\n",
    "# Make a new data loader with a our num_samples training image\n",
    "overfit_dataset = DATASET(\n",
    "    mode='train',\n",
    "    root=cifar_root, \n",
    "    download_url=download_url,\n",
    "    transform=compose_transform,\n",
    "    limit_files=num_samples\n",
    ")\n",
    "dataloaders['train_overfit_10samples'] = DataLoader(\n",
    "    dataset=overfit_dataset,\n",
    "    batch_size=batch_size,\n",
    "    shuffle=True,\n",
    "    drop_last=False,\n",
    ")\n",
    "\n",
    "solver = Solver(model, dataloaders['train_overfit_10samples'], dataloaders['val_500files'], \n",
    "                learning_rate=1e-3, loss_func=loss, optimizer=Adam)\n",
    "\n",
    "solver.train(epochs=epochs)"
   ]
  },
  {
   "cell_type": "code",
   "execution_count": 42,
   "metadata": {
    "colab": {
     "base_uri": "https://localhost:8080/"
    },
    "executionInfo": {
     "elapsed": 15,
     "status": "ok",
     "timestamp": 1650011794380,
     "user": {
      "displayName": "Weber Anna",
      "userId": "18154618360144454414"
     },
     "user_tz": -120
    },
    "id": "DmzTCYw_N5en",
    "outputId": "8076912f-608c-497c-e092-3da5e9e8ddcd"
   },
   "outputs": [
    {
     "data": {
      "image/png": "[encoded data removed]",
      "text/plain": [
       "<Figure size 1000x800 with 1 Axes>"
      ]
     },
     "metadata": {},
     "output_type": "display_data"
    }
   ],
   "source": [
    "plt.title('Loss curves')\n",
    "plt.plot(solver.train_loss_history, '-', label='train')\n",
    "plt.plot(solver.val_loss_history, '-', label='val')\n",
    "plt.legend(loc='lower right')\n",
    "plt.xlabel('Iteration')\n",
    "plt.show()"
   ]
  },
  {
   "cell_type": "code",
   "execution_count": 43,
   "metadata": {
    "colab": {
     "base_uri": "https://localhost:8080/"
    },
    "executionInfo": {
     "elapsed": 822,
     "status": "ok",
     "timestamp": 1650011795194,
     "user": {
      "displayName": "Weber Anna",
      "userId": "18154618360144454414"
     },
     "user_tz": -120
    },
    "id": "8H8xyMcaN5en",
    "outputId": "55c1d949-949d-414f-8a34-fa85faa9ed9b"
   },
   "outputs": [
    {
     "name": "stdout",
     "output_type": "stream",
     "text": [
      "Training accuray: 1.00000\n",
      "Validation accuray: 0.09000\n"
     ]
    }
   ],
   "source": [
    "print(\"Training accuray: %.5f\" % (solver.get_dataset_accuracy(dataloaders['train_overfit_10samples'])))\n",
    "print(\"Validation accuray: %.5f\" % (solver.get_dataset_accuracy(dataloaders['val_500files'])))"
   ]
  },
  {
   "attachments": {},
   "cell_type": "markdown",
   "metadata": {
    "id": "7PoTJskAN5en"
   },
   "source": [
    "If you're overfitting to the training data, that means the network's implementation is correct. However, as you have more samples to overfit, your accuracy will be way lower. You can increase the number of epochs above to achieve better results.\n",
    "\n",
    "Now let's try to feed all the training and validation data into the network, but this time let's set compare a 2-layer and a 5-layer network, using the same hyperparameters.\n",
    "\n",
    "<div class=\"alert alert-warning\">\n",
    "    <h3>Note:</h3>\n",
    "    <p>This may take about 1 min per epoch as the training set is quite large. For convenience, we are now only using 1000 images for training but use the full validation set.</p>\n",
    "</div>"
   ]
  },
  {
   "cell_type": "code",
   "execution_count": 44,
   "metadata": {
    "colab": {
     "background_save": true
    },
    "id": "ayhMGBUBN5en",
    "outputId": "0f77d4ee-a8c9-4ddc-e538-c1818c306acf"
   },
   "outputs": [
    {
     "name": "stdout",
     "output_type": "stream",
     "text": [
      "(Epoch 1 / 5) train loss: 1.810413; val loss: 1.660120\n",
      "(Epoch 2 / 5) train loss: 1.573468; val loss: 1.588258\n",
      "(Epoch 3 / 5) train loss: 1.480939; val loss: 1.569037\n",
      "(Epoch 4 / 5) train loss: 1.409154; val loss: 1.538910\n",
      "(Epoch 5 / 5) train loss: 1.355824; val loss: 1.512466\n"
     ]
    }
   ],
   "source": [
    "from exercise_code.networks import MyOwnNetwork\n",
    "\n",
    "num_layer = 2\n",
    "epochs = 5\n",
    "reg = 1e-4\n",
    "\n",
    "# Make a new data loader with 500 training samples\n",
    "num_samples = 500\n",
    "overfit_dataset = DATASET(\n",
    "    mode='train',\n",
    "    root=cifar_root, \n",
    "    download_url=download_url,\n",
    "    transform=compose_transform,\n",
    "    limit_files=num_samples\n",
    ")\n",
    "dataloaders['train_small'] = DataLoader(\n",
    "    dataset=overfit_dataset,\n",
    "    batch_size=batch_size,\n",
    "    shuffle=True,\n",
    "    drop_last=False,\n",
    ")\n",
    "\n",
    "# Change here if you want to use the full training set\n",
    "use_full_training_set = True\n",
    "if use_full_training_set:\n",
    "    train_loader =  dataloaders['train']\n",
    "else:\n",
    "    train_loader = dataloaders['train_small']\n",
    "    \n",
    "\n",
    "# model = ClassificationNet(num_layer=num_layer, reg=reg)\n",
    "model = MyOwnNetwork(num_layer=num_layer, reg=reg) # I use a custom reg term here again\n",
    "\n",
    "loss = CrossEntropyFromLogits\n",
    "\n",
    "solver = Solver(model, train_loader, dataloaders['val'],\n",
    "                learning_rate=1e-3, loss_func=loss, optimizer=Adam)\n",
    "# Timm: change learning rate from 1e-3 to 1e-4 (1e-3 results in validation diverging) for small training set\n",
    "# learning rate of 1e-3 can be used if you use the full training datatset, there is some divergence\n",
    "\n",
    "solver.train(epochs=epochs)"
   ]
  },
  {
   "cell_type": "code",
   "execution_count": 45,
   "metadata": {
    "colab": {
     "background_save": true
    },
    "id": "3htGtgttN5en",
    "outputId": "6336d86c-13c1-40e5-9080-7aa5ed774959"
   },
   "outputs": [
    {
     "data": {
      "image/png": "[encoded data removed]",
      "text/plain": [
       "<Figure size 1000x800 with 1 Axes>"
      ]
     },
     "metadata": {},
     "output_type": "display_data"
    }
   ],
   "source": [
    "plt.title('Loss curves')\n",
    "plt.plot(solver.train_loss_history, '-', label='train')\n",
    "plt.plot(solver.val_loss_history, '-', label='val')\n",
    "plt.legend(loc='lower right')\n",
    "plt.xlabel('Iteration')\n",
    "plt.show()"
   ]
  },
  {
   "cell_type": "code",
   "execution_count": 46,
   "metadata": {
    "colab": {
     "background_save": true
    },
    "id": "oOVafQ7yN5eo",
    "outputId": "7207ecce-50aa-4e80-83ee-1d05529ab23a"
   },
   "outputs": [
    {
     "name": "stdout",
     "output_type": "stream",
     "text": [
      "Training accuray: 0.56480\n",
      "Validation accuray: 0.48137\n"
     ]
    }
   ],
   "source": [
    "print(\"Training accuray: %.5f\" % (solver.get_dataset_accuracy(train_loader)))\n",
    "print(\"Validation accuray: %.5f\" % (solver.get_dataset_accuracy(dataloaders['val'])))"
   ]
  },
  {
   "cell_type": "code",
   "execution_count": 48,
   "metadata": {
    "colab": {
     "background_save": true
    },
    "id": "vG9U5OmwN5eo",
    "outputId": "4aa8426b-eea9-4be8-bc08-6add66c4cf82"
   },
   "outputs": [
    {
     "name": "stdout",
     "output_type": "stream",
     "text": [
      "(Epoch 1 / 5) train loss: 2.302681; val loss: 2.302605\n",
      "(Epoch 2 / 5) train loss: 2.302648; val loss: 2.302612\n",
      "(Epoch 3 / 5) train loss: 2.302655; val loss: 2.302599\n",
      "(Epoch 4 / 5) train loss: 2.302607; val loss: 2.302602\n",
      "(Epoch 5 / 5) train loss: 2.302626; val loss: 2.302620\n"
     ]
    }
   ],
   "source": [
    "from exercise_code.networks import MyOwnNetwork\n",
    "\n",
    "num_layer = 5\n",
    "epochs = 5\n",
    "reg = 1e-4\n",
    "\n",
    "# model = ClassificationNet(num_layer=num_layer, reg=reg)\n",
    "model = MyOwnNetwork(num_layer=num_layer, reg=reg) # used a custom reg term\n",
    "\n",
    "# Change here if you want to use the full training set\n",
    "use_full_training_set = True\n",
    "if not use_full_training_set:\n",
    "    train_loader = dataloaders['train_small']\n",
    "else:\n",
    "    train_loader = dataloaders['train']\n",
    "\n",
    "loss = CrossEntropyFromLogits\n",
    "\n",
    "solver = Solver(model, train_loader, dataloaders['val'], \n",
    "                learning_rate=1e-3, loss_func=loss, optimizer=Adam)\n",
    "# Learning rate changed from 1e-3 to 1e-4 else validation set diverges\n",
    "# If using full dataset then you can use 1e-3\n",
    "\n",
    "solver.train(epochs=epochs)"
   ]
  },
  {
   "cell_type": "code",
   "execution_count": 49,
   "metadata": {
    "colab": {
     "background_save": true
    },
    "id": "08XZk2GYN5eo",
    "outputId": "3d04c7c9-a0ce-4522-c858-e9491fca8102"
   },
   "outputs": [
    {
     "data": {
      "image/png": "[encoded data removed]",
      "text/plain": [
       "<Figure size 1000x800 with 1 Axes>"
      ]
     },
     "metadata": {},
     "output_type": "display_data"
    }
   ],
   "source": [
    "plt.title('Loss curves')\n",
    "plt.plot(solver.train_loss_history, '-', label='train')\n",
    "plt.plot(solver.val_loss_history, '-', label='val')\n",
    "plt.legend(loc='lower right')\n",
    "plt.xlabel('Iteration')\n",
    "plt.show()"
   ]
  },
  {
   "cell_type": "code",
   "execution_count": 50,
   "metadata": {
    "colab": {
     "background_save": true
    },
    "id": "7-sI0yyWN5eo",
    "outputId": "29f489a2-6899-410e-9e82-8026cb77d505"
   },
   "outputs": [
    {
     "name": "stdout",
     "output_type": "stream",
     "text": [
      "Training accuray: 0.10093\n",
      "Validation accuray: 0.09826\n"
     ]
    }
   ],
   "source": [
    "print(\"Training accuray: %.5f\" % (solver.get_dataset_accuracy(train_loader)))\n",
    "print(\"Validation accuray: %.5f\" % (solver.get_dataset_accuracy(dataloaders['val'])))"
   ]
  },
  {
   "attachments": {},
   "cell_type": "markdown",
   "metadata": {
    "id": "_nNdnSi4N5eo"
   },
   "source": [
    "As you can see from above, the same hyperparameter set can decrease the loss for a 2-layer network, but for 5-layer network, it hardly works.\n",
    "\n",
    "The steps above are already mentioned in the lectures as debugging steps before training a neural network. \n",
    "\n",
    "If you implement your own network, make sure you do the steps above before tuning the hyperparameters as below. "
   ]
  },
  {
   "attachments": {},
   "cell_type": "markdown",
   "metadata": {
    "id": "l0pZa4weN5eo"
   },
   "source": [
    "## 2.2 Difficulty in tuning hyperparameters\n",
    "Small decisions on hyperparameters count. Usually, but not always, hyperparameters cannot be learned using well known gradient based methods (such as gradient descent), which are commonly employed to learn parameters. \n",
    "\n",
    "As mentioned before, hyperparameters need to be set before training. Tuning hyperparameters is hard, because you always have to try different combinations of the hyperparameters, train the network, do the validation and pick the best one. Besides, it is not guaranteed that you'll find the best combination.\n",
    "\n",
    "Let's do some hands on learning using the hyperparameter tuning methods covered in the lectures."
   ]
  },
  {
   "attachments": {},
   "cell_type": "markdown",
   "metadata": {
    "id": "pDQl6fY6N5ep"
   },
   "source": [
    "# 3. Hyperparameter Tuning\n",
    "\n",
    "![alt text](https://blog.floydhub.com/content/images/2018/08/Screen-Shot-2018-08-22-at-17.59.25.png \"\")\n",
    "\n",
    "One of the main challenges in deep learning is finding the set of hyperparameters that performs best.\n",
    "\n",
    "So far, we have followed a manual approach by guessing hyperparameters, running the model, observing the result and maybe tweaking the hyperparameters based on this result. As you have probably noticed, this manual hyperparameter tuning is unstructured, inefficient and can become very tedious.\n",
    "\n",
    "\n",
    "A more systematic (and actually very simple) approach for hyperparameter tuning that you've already learned in the lecture  is implementing a **Grid Search**. \n",
    "\n",
    "\n",
    "\n",
    "## 3.1 Grid Search\n",
    "Grid search is a simple and naive, yet effective method to automate the hyperparameter tuning:\n",
    "\n",
    "* First, you define the set of parameters you want to tune, e.g. $\\{learning\\_rate, regularization\\_strength\\}$.\n",
    "\n",
    "* For each hyperparameter, you then define a set of possible values, e.g. $learning\\_rate = \\{0.0001, 0.001, 0.01, 0.1\\}$.\n",
    "\n",
    "* Then, you train a model for every possible combination of these hyperparameter values and afterwards select the combination that works best (e.g. in terms of accuracy on your validation set).\n",
    "\n",
    "<div class=\"alert alert-success\">\n",
    "    <h3>Task: Check Code</h3>\n",
    "    <p>Check out our <code>grid_search</code> implementation in <code>../exercise_6/exercise_code/hyperparameter_tuning.py</code>. We show a simple for loop implementation and a more sophisticated one for multiple inputs. </p>\n",
    "</div>\n",
    " \n",
    " <div class=\"alert alert-warning\">\n",
    "    <h3>Note:</h3>\n",
    "    <p>To keep things simple in the beginning, it'll be enough to just focus on the hyperparameters <code>learning_rate</code> and <code>regularization_strength</code> here, as in the example above.</p>\n",
    "</div>"
   ]
  },
  {
   "cell_type": "code",
   "execution_count": 67,
   "metadata": {
    "colab": {
     "background_save": true
    },
    "id": "BBW9Vl4rN5ep",
    "outputId": "39d57fd3-e250-4826-d0b6-89952b9ae73b"
   },
   "outputs": [
    {
     "name": "stdout",
     "output_type": "stream",
     "text": [
      "\n",
      "Evaluating Config #1 [of 12]:\n",
      " {'learning_rate': 0.0003, 'reg': 0.0001}\n",
      "(Epoch 1 / 20) train loss: 1.966077; val loss: 1.789525\n",
      "(Epoch 2 / 20) train loss: 1.709751; val loss: 1.678853\n",
      "(Epoch 3 / 20) train loss: 1.611622; val loss: 1.618406\n",
      "(Epoch 4 / 20) train loss: 1.548058; val loss: 1.574669\n",
      "(Epoch 5 / 20) train loss: 1.496889; val loss: 1.550358\n",
      "(Epoch 6 / 20) train loss: 1.455443; val loss: 1.529806\n",
      "(Epoch 7 / 20) train loss: 1.417902; val loss: 1.512237\n",
      "(Epoch 8 / 20) train loss: 1.385501; val loss: 1.503659\n",
      "(Epoch 9 / 20) train loss: 1.354982; val loss: 1.491906\n",
      "(Epoch 10 / 20) train loss: 1.329327; val loss: 1.500181\n",
      "(Epoch 11 / 20) train loss: 1.303033; val loss: 1.475640\n",
      "(Epoch 12 / 20) train loss: 1.276650; val loss: 1.473848\n",
      "(Epoch 13 / 20) train loss: 1.255643; val loss: 1.464263\n",
      "(Epoch 14 / 20) train loss: 1.233462; val loss: 1.469755\n",
      "(Epoch 15 / 20) train loss: 1.210978; val loss: 1.466299\n",
      "(Epoch 16 / 20) train loss: 1.193051; val loss: 1.463605\n",
      "(Epoch 17 / 20) train loss: 1.173691; val loss: 1.474641\n",
      "(Epoch 18 / 20) train loss: 1.153358; val loss: 1.479879\n",
      "(Epoch 19 / 20) train loss: 1.134875; val loss: 1.471554\n",
      "(Epoch 20 / 20) train loss: 1.119531; val loss: 1.471656\n",
      "\n",
      "Evaluating Config #2 [of 12]:\n",
      " {'learning_rate': 0.0003, 'reg': 1e-05}\n",
      "(Epoch 1 / 20) train loss: 1.969569; val loss: 1.792709\n",
      "(Epoch 2 / 20) train loss: 1.708359; val loss: 1.676193\n",
      "(Epoch 3 / 20) train loss: 1.607015; val loss: 1.608487\n",
      "(Epoch 4 / 20) train loss: 1.538271; val loss: 1.568272\n",
      "(Epoch 5 / 20) train loss: 1.486852; val loss: 1.544885\n",
      "(Epoch 6 / 20) train loss: 1.448602; val loss: 1.531227\n",
      "(Epoch 7 / 20) train loss: 1.412922; val loss: 1.511259\n",
      "(Epoch 8 / 20) train loss: 1.379636; val loss: 1.510229\n",
      "(Epoch 9 / 20) train loss: 1.346766; val loss: 1.491801\n",
      "(Epoch 10 / 20) train loss: 1.319561; val loss: 1.481313\n",
      "(Epoch 11 / 20) train loss: 1.292860; val loss: 1.473917\n",
      "(Epoch 12 / 20) train loss: 1.267660; val loss: 1.467015\n",
      "(Epoch 13 / 20) train loss: 1.241467; val loss: 1.471929\n",
      "(Epoch 14 / 20) train loss: 1.220102; val loss: 1.464279\n",
      "(Epoch 15 / 20) train loss: 1.200205; val loss: 1.467901\n",
      "(Epoch 16 / 20) train loss: 1.178541; val loss: 1.462823\n",
      "(Epoch 17 / 20) train loss: 1.158637; val loss: 1.464234\n",
      "(Epoch 18 / 20) train loss: 1.141861; val loss: 1.457503\n",
      "(Epoch 19 / 20) train loss: 1.121608; val loss: 1.464106\n",
      "(Epoch 20 / 20) train loss: 1.102999; val loss: 1.468695\n",
      "\n",
      "Evaluating Config #3 [of 12]:\n",
      " {'learning_rate': 0.0003, 'reg': 1e-06}\n",
      "(Epoch 1 / 20) train loss: 1.964940; val loss: 1.795993\n",
      "(Epoch 2 / 20) train loss: 1.710070; val loss: 1.672592\n",
      "(Epoch 3 / 20) train loss: 1.606245; val loss: 1.607831\n",
      "(Epoch 4 / 20) train loss: 1.538799; val loss: 1.570524\n",
      "(Epoch 5 / 20) train loss: 1.487682; val loss: 1.548632\n",
      "(Epoch 6 / 20) train loss: 1.446567; val loss: 1.531404\n",
      "(Epoch 7 / 20) train loss: 1.408670; val loss: 1.508330\n",
      "(Epoch 8 / 20) train loss: 1.376790; val loss: 1.490534\n",
      "(Epoch 9 / 20) train loss: 1.343084; val loss: 1.485282\n",
      "(Epoch 10 / 20) train loss: 1.318149; val loss: 1.479497\n",
      "(Epoch 11 / 20) train loss: 1.291352; val loss: 1.477071\n",
      "(Epoch 12 / 20) train loss: 1.266799; val loss: 1.467299\n",
      "(Epoch 13 / 20) train loss: 1.240762; val loss: 1.460980\n",
      "(Epoch 14 / 20) train loss: 1.217481; val loss: 1.458528\n",
      "(Epoch 15 / 20) train loss: 1.196953; val loss: 1.462243\n",
      "(Epoch 16 / 20) train loss: 1.178700; val loss: 1.453725\n",
      "(Epoch 17 / 20) train loss: 1.156063; val loss: 1.454931\n",
      "(Epoch 18 / 20) train loss: 1.138283; val loss: 1.455560\n",
      "(Epoch 19 / 20) train loss: 1.119006; val loss: 1.466723\n",
      "(Epoch 20 / 20) train loss: 1.099170; val loss: 1.463640\n",
      "\n",
      "Evaluating Config #4 [of 12]:\n",
      " {'learning_rate': 0.0005, 'reg': 0.0001}\n",
      "(Epoch 1 / 20) train loss: 1.893070; val loss: 1.726873\n",
      "(Epoch 2 / 20) train loss: 1.641061; val loss: 1.610057\n",
      "(Epoch 3 / 20) train loss: 1.539470; val loss: 1.571902\n",
      "(Epoch 4 / 20) train loss: 1.470682; val loss: 1.527584\n",
      "(Epoch 5 / 20) train loss: 1.418770; val loss: 1.526041\n",
      "(Epoch 6 / 20) train loss: 1.376819; val loss: 1.495419\n",
      "(Epoch 7 / 20) train loss: 1.335325; val loss: 1.492251\n",
      "(Epoch 8 / 20) train loss: 1.302881; val loss: 1.491934\n",
      "(Epoch 9 / 20) train loss: 1.269663; val loss: 1.483836\n",
      "(Epoch 10 / 20) train loss: 1.236886; val loss: 1.476501\n",
      "(Epoch 11 / 20) train loss: 1.209899; val loss: 1.474376\n",
      "(Epoch 12 / 20) train loss: 1.181085; val loss: 1.489967\n",
      "(Epoch 13 / 20) train loss: 1.157452; val loss: 1.480816\n",
      "(Epoch 14 / 20) train loss: 1.133553; val loss: 1.490942\n",
      "(Epoch 15 / 20) train loss: 1.106394; val loss: 1.498361\n",
      "(Epoch 16 / 20) train loss: 1.091039; val loss: 1.509953\n",
      "Stopping early at epoch 15!\n",
      "\n",
      "Evaluating Config #5 [of 12]:\n",
      " {'learning_rate': 0.0005, 'reg': 1e-05}\n",
      "(Epoch 1 / 20) train loss: 1.892528; val loss: 1.723938\n",
      "(Epoch 2 / 20) train loss: 1.634076; val loss: 1.614731\n",
      "(Epoch 3 / 20) train loss: 1.535355; val loss: 1.561390\n",
      "(Epoch 4 / 20) train loss: 1.468024; val loss: 1.532885\n",
      "(Epoch 5 / 20) train loss: 1.414094; val loss: 1.501817\n",
      "(Epoch 6 / 20) train loss: 1.367548; val loss: 1.488106\n",
      "(Epoch 7 / 20) train loss: 1.330121; val loss: 1.496790\n",
      "(Epoch 8 / 20) train loss: 1.293008; val loss: 1.470461\n",
      "(Epoch 9 / 20) train loss: 1.259365; val loss: 1.468632\n",
      "(Epoch 10 / 20) train loss: 1.229329; val loss: 1.461095\n",
      "(Epoch 11 / 20) train loss: 1.199324; val loss: 1.462882\n",
      "(Epoch 12 / 20) train loss: 1.173309; val loss: 1.483384\n",
      "(Epoch 13 / 20) train loss: 1.146277; val loss: 1.474505\n",
      "(Epoch 14 / 20) train loss: 1.121374; val loss: 1.466551\n",
      "(Epoch 15 / 20) train loss: 1.092652; val loss: 1.471602\n",
      "Stopping early at epoch 14!\n",
      "\n",
      "Evaluating Config #6 [of 12]:\n",
      " {'learning_rate': 0.0005, 'reg': 1e-06}\n",
      "(Epoch 1 / 20) train loss: 1.890365; val loss: 1.725223\n",
      "(Epoch 2 / 20) train loss: 1.640619; val loss: 1.618147\n",
      "(Epoch 3 / 20) train loss: 1.538893; val loss: 1.565064\n",
      "(Epoch 4 / 20) train loss: 1.468468; val loss: 1.527020\n",
      "(Epoch 5 / 20) train loss: 1.416417; val loss: 1.511356\n",
      "(Epoch 6 / 20) train loss: 1.367962; val loss: 1.485417\n",
      "(Epoch 7 / 20) train loss: 1.326207; val loss: 1.487349\n",
      "(Epoch 8 / 20) train loss: 1.287560; val loss: 1.491417\n",
      "(Epoch 9 / 20) train loss: 1.256577; val loss: 1.475207\n",
      "(Epoch 10 / 20) train loss: 1.219993; val loss: 1.469937\n",
      "(Epoch 11 / 20) train loss: 1.194311; val loss: 1.463753\n",
      "(Epoch 12 / 20) train loss: 1.165829; val loss: 1.474401\n",
      "(Epoch 13 / 20) train loss: 1.139103; val loss: 1.465690\n",
      "(Epoch 14 / 20) train loss: 1.108918; val loss: 1.470757\n",
      "(Epoch 15 / 20) train loss: 1.085364; val loss: 1.480523\n",
      "(Epoch 16 / 20) train loss: 1.058829; val loss: 1.487195\n",
      "Stopping early at epoch 15!\n",
      "\n",
      "Evaluating Config #7 [of 12]:\n",
      " {'learning_rate': 0.0007, 'reg': 0.0001}\n",
      "(Epoch 1 / 20) train loss: 1.859659; val loss: 1.696027\n",
      "(Epoch 2 / 20) train loss: 1.605074; val loss: 1.593957\n",
      "(Epoch 3 / 20) train loss: 1.510406; val loss: 1.559985\n",
      "(Epoch 4 / 20) train loss: 1.442181; val loss: 1.530233\n",
      "(Epoch 5 / 20) train loss: 1.387249; val loss: 1.503972\n",
      "(Epoch 6 / 20) train loss: 1.337997; val loss: 1.493039\n",
      "(Epoch 7 / 20) train loss: 1.299122; val loss: 1.506052\n",
      "(Epoch 8 / 20) train loss: 1.262662; val loss: 1.495624\n",
      "(Epoch 9 / 20) train loss: 1.227220; val loss: 1.494233\n",
      "(Epoch 10 / 20) train loss: 1.191102; val loss: 1.487982\n",
      "(Epoch 11 / 20) train loss: 1.166044; val loss: 1.512022\n",
      "(Epoch 12 / 20) train loss: 1.137893; val loss: 1.503544\n",
      "(Epoch 13 / 20) train loss: 1.113162; val loss: 1.536172\n",
      "(Epoch 14 / 20) train loss: 1.091641; val loss: 1.519878\n",
      "(Epoch 15 / 20) train loss: 1.063818; val loss: 1.542427\n",
      "Stopping early at epoch 14!\n",
      "\n",
      "Evaluating Config #8 [of 12]:\n",
      " {'learning_rate': 0.0007, 'reg': 1e-05}\n",
      "(Epoch 1 / 20) train loss: 1.845049; val loss: 1.682605\n",
      "(Epoch 2 / 20) train loss: 1.598405; val loss: 1.585300\n",
      "(Epoch 3 / 20) train loss: 1.498344; val loss: 1.555312\n",
      "(Epoch 4 / 20) train loss: 1.426299; val loss: 1.515293\n",
      "(Epoch 5 / 20) train loss: 1.368227; val loss: 1.479359\n",
      "(Epoch 6 / 20) train loss: 1.319408; val loss: 1.476883\n",
      "(Epoch 7 / 20) train loss: 1.276303; val loss: 1.476695\n",
      "(Epoch 8 / 20) train loss: 1.236434; val loss: 1.482882\n",
      "(Epoch 9 / 20) train loss: 1.205040; val loss: 1.475976\n",
      "(Epoch 10 / 20) train loss: 1.167639; val loss: 1.475033\n",
      "(Epoch 11 / 20) train loss: 1.138176; val loss: 1.475960\n",
      "(Epoch 12 / 20) train loss: 1.104661; val loss: 1.491411\n",
      "(Epoch 13 / 20) train loss: 1.080131; val loss: 1.505902\n",
      "(Epoch 14 / 20) train loss: 1.055345; val loss: 1.506662\n",
      "(Epoch 15 / 20) train loss: 1.031166; val loss: 1.522491\n",
      "Stopping early at epoch 14!\n",
      "\n",
      "Evaluating Config #9 [of 12]:\n",
      " {'learning_rate': 0.0007, 'reg': 1e-06}\n",
      "(Epoch 1 / 20) train loss: 1.855443; val loss: 1.691723\n",
      "(Epoch 2 / 20) train loss: 1.599842; val loss: 1.595799\n",
      "(Epoch 3 / 20) train loss: 1.498413; val loss: 1.544951\n",
      "(Epoch 4 / 20) train loss: 1.425495; val loss: 1.525252\n",
      "(Epoch 5 / 20) train loss: 1.374194; val loss: 1.492824\n",
      "(Epoch 6 / 20) train loss: 1.317593; val loss: 1.492852\n",
      "(Epoch 7 / 20) train loss: 1.274697; val loss: 1.486735\n",
      "(Epoch 8 / 20) train loss: 1.235372; val loss: 1.487037\n",
      "(Epoch 9 / 20) train loss: 1.202294; val loss: 1.481490\n",
      "(Epoch 10 / 20) train loss: 1.165180; val loss: 1.487573\n",
      "(Epoch 11 / 20) train loss: 1.133353; val loss: 1.532289\n",
      "(Epoch 12 / 20) train loss: 1.105040; val loss: 1.503810\n",
      "(Epoch 13 / 20) train loss: 1.072323; val loss: 1.520218\n",
      "(Epoch 14 / 20) train loss: 1.050246; val loss: 1.508751\n",
      "Stopping early at epoch 13!\n",
      "\n",
      "Evaluating Config #10 [of 12]:\n",
      " {'learning_rate': 0.001, 'reg': 0.0001}\n",
      "(Epoch 1 / 20) train loss: 1.811953; val loss: 1.661345\n",
      "(Epoch 2 / 20) train loss: 1.574030; val loss: 1.583396\n",
      "(Epoch 3 / 20) train loss: 1.477909; val loss: 1.544831\n",
      "(Epoch 4 / 20) train loss: 1.411215; val loss: 1.518300\n",
      "(Epoch 5 / 20) train loss: 1.355055; val loss: 1.514604\n",
      "(Epoch 6 / 20) train loss: 1.309385; val loss: 1.539506\n",
      "(Epoch 7 / 20) train loss: 1.269831; val loss: 1.513201\n",
      "(Epoch 8 / 20) train loss: 1.227743; val loss: 1.504018\n",
      "(Epoch 9 / 20) train loss: 1.196841; val loss: 1.528893\n",
      "(Epoch 10 / 20) train loss: 1.168441; val loss: 1.564508\n",
      "(Epoch 11 / 20) train loss: 1.132683; val loss: 1.559213\n",
      "(Epoch 12 / 20) train loss: 1.107326; val loss: 1.571549\n",
      "(Epoch 13 / 20) train loss: 1.082256; val loss: 1.574413\n",
      "Stopping early at epoch 12!\n",
      "\n",
      "Evaluating Config #11 [of 12]:\n",
      " {'learning_rate': 0.001, 'reg': 1e-05}\n",
      "(Epoch 1 / 20) train loss: 1.810082; val loss: 1.659461\n",
      "(Epoch 2 / 20) train loss: 1.566975; val loss: 1.574750\n",
      "(Epoch 3 / 20) train loss: 1.462143; val loss: 1.528365\n",
      "(Epoch 4 / 20) train loss: 1.392826; val loss: 1.518220\n",
      "(Epoch 5 / 20) train loss: 1.332141; val loss: 1.514288\n",
      "(Epoch 6 / 20) train loss: 1.289349; val loss: 1.507924\n",
      "(Epoch 7 / 20) train loss: 1.244959; val loss: 1.502350\n",
      "(Epoch 8 / 20) train loss: 1.200471; val loss: 1.494538\n",
      "(Epoch 9 / 20) train loss: 1.171052; val loss: 1.496839\n",
      "(Epoch 10 / 20) train loss: 1.129643; val loss: 1.524682\n",
      "(Epoch 11 / 20) train loss: 1.092691; val loss: 1.510806\n",
      "(Epoch 12 / 20) train loss: 1.066714; val loss: 1.554540\n",
      "(Epoch 13 / 20) train loss: 1.041019; val loss: 1.541092\n",
      "Stopping early at epoch 12!\n",
      "\n",
      "Evaluating Config #12 [of 12]:\n",
      " {'learning_rate': 0.001, 'reg': 1e-06}\n",
      "(Epoch 1 / 20) train loss: 1.805925; val loss: 1.659647\n",
      "(Epoch 2 / 20) train loss: 1.559612; val loss: 1.569535\n",
      "(Epoch 3 / 20) train loss: 1.461645; val loss: 1.533765\n",
      "(Epoch 4 / 20) train loss: 1.390509; val loss: 1.501649\n",
      "(Epoch 5 / 20) train loss: 1.331760; val loss: 1.483887\n",
      "(Epoch 6 / 20) train loss: 1.281016; val loss: 1.504095\n",
      "(Epoch 7 / 20) train loss: 1.234244; val loss: 1.490707\n",
      "(Epoch 8 / 20) train loss: 1.192241; val loss: 1.503481\n",
      "(Epoch 9 / 20) train loss: 1.156461; val loss: 1.512747\n",
      "(Epoch 10 / 20) train loss: 1.122061; val loss: 1.539638\n",
      "Stopping early at epoch 9!\n",
      "\n",
      "Search done. Best Val Loss = 1.4537246895738032\n",
      "Best Config: {'learning_rate': 0.0003, 'reg': 1e-06}\n"
     ]
    }
   ],
   "source": [
    "from exercise_code.networks import MyOwnNetwork\n",
    "\n",
    "# Specify the used network\n",
    "# model_class = ClassificationNet\n",
    "model_class = MyOwnNetwork\n",
    "\n",
    "from exercise_code import hyperparameter_tuning\n",
    "\n",
    "# Grid search with small training set\n",
    "\n",
    "# best_model, best_config, results  = hyperparameter_tuning.grid_search(\n",
    "#     dataloaders['train_small'], dataloaders['val_500files'],\n",
    "#     grid_search_spaces = {\n",
    "#         \"learning_rate\": [0.8e-4, 0.9e-4, 1.0e-4, 1.1e-4, 1.2e-4],\n",
    "#         \"reg\": [1.0e-4, 1.0e-5, 1.0e-6],\n",
    "#     },\n",
    "#     model_class=model_class,\n",
    "#     epochs=20, patience=5)\n",
    "\n",
    "# Grid search with full training set\n",
    "\n",
    "best_model, best_config, results  = hyperparameter_tuning.grid_search(\n",
    "    dataloaders['train'], dataloaders['val'],\n",
    "    grid_search_spaces = {\n",
    "        \"learning_rate\": [0.3e-3, 0.5e-3, 0.7e-3, 1.0e-3],\n",
    "        \"reg\": [1.0e-4, 1.0e-5, 1.0e-6],\n",
    "    },\n",
    "    model_class=model_class,\n",
    "    epochs=20, patience=5)"
   ]
  },
  {
   "attachments": {},
   "cell_type": "markdown",
   "metadata": {
    "id": "5v0g7q9xN5ep"
   },
   "source": [
    "From the results of your grid search, you might already have found some hyperparameter combinations that work better than others. A common practice is to now repeat the grid search on a more narrow domain centered around the parameters that worked best. \n",
    "\n",
    "**Conclusion Grid Search**\n",
    "\n",
    "With grid search we have automated the hyperparameter tuning to a certain degree. Another advantage is, that since the trainings of the models are independent of each other, you can parallelize the grid search, by e.g. trying out different hyperparameter configurations in parallel on different machines.\n",
    "\n",
    "However, as you have probably noticed, there is one big problem with this approach: the number of possible combinations grows exponentially with the number of hyperparameters (\"curse of dimensionality\"). As we add more hyperparameters to the grid search, the search space will explode in time complexity, making this strategy unfeasible."
   ]
  },
  {
   "attachments": {},
   "cell_type": "markdown",
   "metadata": {
    "id": "m_NvhoFcN5ep"
   },
   "source": [
    "Especially when your search space contains more than 3 or 4 dimensions, it is often better to use another, similar hyperparameter tuning method that you've already learned about: random search."
   ]
  },
  {
   "attachments": {},
   "cell_type": "markdown",
   "metadata": {
    "id": "rDyeiAN1N5ep"
   },
   "source": [
    "## 3.2 Random Search\n",
    "Random search is very similar to grid search, with the only difference, that instead of providing specific values for every hyperparameter, you only define a range for each hyperparameter - then, the values are sampled randomly from the provided ranges.\n",
    "\n",
    "![alt text](https://i.stack.imgur.com/cIDuR.png \"\")\n",
    "\n",
    "The figure above illustrates the difference in the hyperparameter space exploration between grid search and random search: assume you have 2 hyperparameters with each 3 values. Running a grid search results in training $3^2=9$ different models - but in the end, you've just tired out 3 values for each parameter. For random search on the other hand, after training 9 models you'll have tried out 9 different values for each hyperparameter, which often leads much faster to good results.\n",
    "\n",
    "To get a deeper understanding of random search and why it is more efficient than grid search, you should definitely check out this paper: http://www.jmlr.org/papers/volume13/bergstra12a/bergstra12a.pdf\n",
    "\n",
    "<div class=\"alert alert-success\">\n",
    "    <h3>Task: Check Code</h3>\n",
    "    <p>Check out our <code>random_search</code> implementation in <code>../exercise_6/exercise_code/hyperparameter_tuning.py</code></p>\n",
    "</div>\n",
    "\n",
    "\n",
    "*Hint: regarding the sample space of each parameter, think about the scale for which it makes most sense to sample in. For example the learning rate is usually sampled on a logarithmic scale!*\n",
    "\n",
    "*For simplicity and speed, just use the `train_small`-dataloader!*"
   ]
  },
  {
   "cell_type": "code",
   "execution_count": 101,
   "metadata": {
    "colab": {
     "background_save": true
    },
    "id": "d64soT68N5ep",
    "outputId": "eafe47b6-33db-401e-8d4e-96573caa8048"
   },
   "outputs": [
    {
     "name": "stdout",
     "output_type": "stream",
     "text": [
      "\n",
      "Evaluating Config #1 [of 10]:\n",
      " {'learning_rate': 0.0002630836223627283, 'reg': 2.663267552026159e-06, 'loss_func': <class 'exercise_code.networks.loss.CrossEntropyFromLogits'>, 'activation': <class 'exercise_code.networks.layer.LeakyRelu'>, 'hidden_size': 741, 'num_layer': 3}\n",
      "(Epoch 1 / 30) train loss: 2.057886; val loss: 1.827418\n",
      "(Epoch 2 / 30) train loss: 1.708090; val loss: 1.632274\n",
      "(Epoch 3 / 30) train loss: 1.550092; val loss: 1.545535\n",
      "(Epoch 4 / 30) train loss: 1.437253; val loss: 1.495013\n",
      "(Epoch 5 / 30) train loss: 1.353357; val loss: 1.464440\n",
      "(Epoch 6 / 30) train loss: 1.275159; val loss: 1.448798\n",
      "(Epoch 7 / 30) train loss: 1.207913; val loss: 1.450851\n",
      "(Epoch 8 / 30) train loss: 1.137904; val loss: 1.430377\n",
      "(Epoch 9 / 30) train loss: 1.076704; val loss: 1.421167\n",
      "(Epoch 10 / 30) train loss: 1.010412; val loss: 1.412262\n",
      "(Epoch 11 / 30) train loss: 0.951591; val loss: 1.472728\n",
      "(Epoch 12 / 30) train loss: 0.878956; val loss: 1.501138\n",
      "(Epoch 13 / 30) train loss: 0.812802; val loss: 1.567628\n",
      "(Epoch 14 / 30) train loss: 0.750438; val loss: 1.547400\n",
      "(Epoch 15 / 30) train loss: 0.696120; val loss: 1.571571\n",
      "Stopping early at epoch 14!\n",
      "Best val loss: 1.4122618609405304\n",
      "\n",
      "Evaluating Config #2 [of 10]:\n",
      " {'learning_rate': 0.00014956002399351152, 'reg': 3.1149312191444554e-06, 'loss_func': <class 'exercise_code.networks.loss.CrossEntropyFromLogits'>, 'activation': <class 'exercise_code.networks.layer.Relu'>, 'hidden_size': 430, 'num_layer': 2}\n",
      "(Epoch 1 / 30) train loss: 1.957167; val loss: 1.781513\n",
      "(Epoch 2 / 30) train loss: 1.696137; val loss: 1.664418\n",
      "(Epoch 3 / 30) train loss: 1.594848; val loss: 1.596816\n",
      "(Epoch 4 / 30) train loss: 1.525844; val loss: 1.560998\n",
      "(Epoch 5 / 30) train loss: 1.471352; val loss: 1.532054\n",
      "(Epoch 6 / 30) train loss: 1.424569; val loss: 1.510546\n",
      "(Epoch 7 / 30) train loss: 1.384053; val loss: 1.495612\n",
      "(Epoch 8 / 30) train loss: 1.346687; val loss: 1.474906\n",
      "(Epoch 9 / 30) train loss: 1.311095; val loss: 1.459366\n",
      "(Epoch 10 / 30) train loss: 1.277014; val loss: 1.450356\n",
      "(Epoch 11 / 30) train loss: 1.244265; val loss: 1.449621\n",
      "(Epoch 12 / 30) train loss: 1.214079; val loss: 1.437317\n",
      "(Epoch 13 / 30) train loss: 1.181996; val loss: 1.427697\n",
      "(Epoch 14 / 30) train loss: 1.153442; val loss: 1.427276\n",
      "(Epoch 15 / 30) train loss: 1.127423; val loss: 1.422782\n",
      "(Epoch 16 / 30) train loss: 1.098294; val loss: 1.422941\n",
      "(Epoch 17 / 30) train loss: 1.071203; val loss: 1.425365\n",
      "(Epoch 18 / 30) train loss: 1.045596; val loss: 1.420161\n",
      "(Epoch 19 / 30) train loss: 1.016928; val loss: 1.419390\n",
      "(Epoch 20 / 30) train loss: 0.991359; val loss: 1.417541\n",
      "(Epoch 21 / 30) train loss: 0.968455; val loss: 1.428890\n",
      "(Epoch 22 / 30) train loss: 0.942135; val loss: 1.425198\n",
      "(Epoch 23 / 30) train loss: 0.919768; val loss: 1.428722\n",
      "(Epoch 24 / 30) train loss: 0.894837; val loss: 1.438169\n",
      "(Epoch 25 / 30) train loss: 0.867300; val loss: 1.432515\n",
      "Stopping early at epoch 24!\n",
      "Best val loss: 1.417541426053526\n",
      "\n",
      "Evaluating Config #3 [of 10]:\n",
      " {'learning_rate': 0.0002570679994332593, 'reg': 8.205337617613403e-06, 'loss_func': <class 'exercise_code.networks.loss.CrossEntropyFromLogits'>, 'activation': <class 'exercise_code.networks.layer.Relu'>, 'hidden_size': 834, 'num_layer': 2}\n",
      "(Epoch 1 / 30) train loss: 1.834933; val loss: 1.666528\n",
      "(Epoch 2 / 30) train loss: 1.580244; val loss: 1.576273\n",
      "(Epoch 3 / 30) train loss: 1.473073; val loss: 1.521432\n",
      "(Epoch 4 / 30) train loss: 1.391109; val loss: 1.494476\n",
      "(Epoch 5 / 30) train loss: 1.324125; val loss: 1.456407\n",
      "(Epoch 6 / 30) train loss: 1.263580; val loss: 1.471515\n",
      "(Epoch 7 / 30) train loss: 1.207112; val loss: 1.455836\n",
      "(Epoch 8 / 30) train loss: 1.151686; val loss: 1.443932\n",
      "(Epoch 9 / 30) train loss: 1.100151; val loss: 1.437728\n",
      "(Epoch 10 / 30) train loss: 1.048457; val loss: 1.435830\n",
      "(Epoch 11 / 30) train loss: 0.998694; val loss: 1.452665\n",
      "(Epoch 12 / 30) train loss: 0.950739; val loss: 1.467964\n",
      "(Epoch 13 / 30) train loss: 0.906714; val loss: 1.461529\n",
      "(Epoch 14 / 30) train loss: 0.852338; val loss: 1.474598\n",
      "(Epoch 15 / 30) train loss: 0.810662; val loss: 1.487222\n",
      "Stopping early at epoch 14!\n",
      "Best val loss: 1.4358298941031837\n",
      "\n",
      "Evaluating Config #4 [of 10]:\n",
      " {'learning_rate': 0.0003269111290857105, 'reg': 9.530551226369371e-07, 'loss_func': <class 'exercise_code.networks.loss.CrossEntropyFromLogits'>, 'activation': <class 'exercise_code.networks.layer.LeakyRelu'>, 'hidden_size': 825, 'num_layer': 2}\n",
      "(Epoch 1 / 30) train loss: 1.808703; val loss: 1.646699\n",
      "(Epoch 2 / 30) train loss: 1.554444; val loss: 1.565299\n",
      "(Epoch 3 / 30) train loss: 1.449178; val loss: 1.502443\n",
      "(Epoch 4 / 30) train loss: 1.365063; val loss: 1.509513\n",
      "(Epoch 5 / 30) train loss: 1.298731; val loss: 1.489821\n",
      "(Epoch 6 / 30) train loss: 1.237544; val loss: 1.454201\n",
      "(Epoch 7 / 30) train loss: 1.170539; val loss: 1.463479\n",
      "(Epoch 8 / 30) train loss: 1.114361; val loss: 1.451766\n",
      "(Epoch 9 / 30) train loss: 1.055017; val loss: 1.448379\n",
      "(Epoch 10 / 30) train loss: 0.998388; val loss: 1.446311\n",
      "(Epoch 11 / 30) train loss: 0.948649; val loss: 1.482116\n",
      "(Epoch 12 / 30) train loss: 0.884744; val loss: 1.473995\n",
      "(Epoch 13 / 30) train loss: 0.837000; val loss: 1.494269\n",
      "(Epoch 14 / 30) train loss: 0.784038; val loss: 1.503020\n",
      "(Epoch 15 / 30) train loss: 0.733803; val loss: 1.524570\n",
      "Stopping early at epoch 14!\n",
      "Best val loss: 1.4463111881819426\n",
      "\n",
      "Evaluating Config #5 [of 10]:\n",
      " {'learning_rate': 0.00011048347239530082, 'reg': 2.6922612498899135e-06, 'loss_func': <class 'exercise_code.networks.loss.CrossEntropyFromLogits'>, 'activation': <class 'exercise_code.networks.layer.Relu'>, 'hidden_size': 362, 'num_layer': 3}\n",
      "(Epoch 1 / 30) train loss: 2.250202; val loss: 2.114695\n",
      "(Epoch 2 / 30) train loss: 2.005911; val loss: 1.901496\n",
      "(Epoch 3 / 30) train loss: 1.819106; val loss: 1.782860\n",
      "(Epoch 4 / 30) train loss: 1.716566; val loss: 1.698921\n",
      "(Epoch 5 / 30) train loss: 1.636681; val loss: 1.633185\n",
      "(Epoch 6 / 30) train loss: 1.568584; val loss: 1.593254\n",
      "(Epoch 7 / 30) train loss: 1.506581; val loss: 1.554767\n",
      "(Epoch 8 / 30) train loss: 1.455312; val loss: 1.528356\n",
      "(Epoch 9 / 30) train loss: 1.407807; val loss: 1.500579\n",
      "(Epoch 10 / 30) train loss: 1.363799; val loss: 1.488365\n",
      "(Epoch 11 / 30) train loss: 1.321745; val loss: 1.472465\n",
      "(Epoch 12 / 30) train loss: 1.284373; val loss: 1.459589\n",
      "(Epoch 13 / 30) train loss: 1.249727; val loss: 1.448641\n",
      "(Epoch 14 / 30) train loss: 1.213401; val loss: 1.451943\n",
      "(Epoch 15 / 30) train loss: 1.186039; val loss: 1.441335\n",
      "(Epoch 16 / 30) train loss: 1.151144; val loss: 1.444329\n",
      "(Epoch 17 / 30) train loss: 1.115245; val loss: 1.436440\n",
      "(Epoch 18 / 30) train loss: 1.081913; val loss: 1.431736\n",
      "(Epoch 19 / 30) train loss: 1.050845; val loss: 1.438764\n",
      "(Epoch 20 / 30) train loss: 1.021710; val loss: 1.451655\n",
      "(Epoch 21 / 30) train loss: 0.989930; val loss: 1.459189\n",
      "(Epoch 22 / 30) train loss: 0.966757; val loss: 1.459922\n",
      "(Epoch 23 / 30) train loss: 0.932624; val loss: 1.473370\n",
      "Stopping early at epoch 22!\n",
      "Best val loss: 1.4317364471019038\n",
      "\n",
      "Evaluating Config #6 [of 10]:\n",
      " {'learning_rate': 0.00023034093506544908, 'reg': 1.3854774064821215e-07, 'loss_func': <class 'exercise_code.networks.loss.CrossEntropyFromLogits'>, 'activation': <class 'exercise_code.networks.layer.Relu'>, 'hidden_size': 713, 'num_layer': 3}\n",
      "(Epoch 1 / 30) train loss: 2.087465; val loss: 1.852765\n",
      "(Epoch 2 / 30) train loss: 1.734975; val loss: 1.678629\n",
      "(Epoch 3 / 30) train loss: 1.580969; val loss: 1.569728\n",
      "(Epoch 4 / 30) train loss: 1.467168; val loss: 1.497397\n",
      "(Epoch 5 / 30) train loss: 1.379529; val loss: 1.499903\n",
      "(Epoch 6 / 30) train loss: 1.300012; val loss: 1.463607\n",
      "(Epoch 7 / 30) train loss: 1.231767; val loss: 1.430095\n",
      "(Epoch 8 / 30) train loss: 1.163309; val loss: 1.427796\n",
      "(Epoch 9 / 30) train loss: 1.102122; val loss: 1.470209\n",
      "(Epoch 10 / 30) train loss: 1.042494; val loss: 1.425242\n",
      "(Epoch 11 / 30) train loss: 0.982995; val loss: 1.426371\n",
      "(Epoch 12 / 30) train loss: 0.922153; val loss: 1.469998\n",
      "(Epoch 13 / 30) train loss: 0.864843; val loss: 1.523029\n",
      "(Epoch 14 / 30) train loss: 0.800151; val loss: 1.533806\n",
      "(Epoch 15 / 30) train loss: 0.743164; val loss: 1.607162\n",
      "Stopping early at epoch 14!\n",
      "Best val loss: 1.4252419309151152\n",
      "\n",
      "Evaluating Config #7 [of 10]:\n",
      " {'learning_rate': 0.00022466137776032372, 'reg': 1.3862843691657333e-07, 'loss_func': <class 'exercise_code.networks.loss.CrossEntropyFromLogits'>, 'activation': <class 'exercise_code.networks.layer.Relu'>, 'hidden_size': 602, 'num_layer': 3}\n",
      "(Epoch 1 / 30) train loss: 2.109493; val loss: 1.885941\n",
      "(Epoch 2 / 30) train loss: 1.759257; val loss: 1.685585\n",
      "(Epoch 3 / 30) train loss: 1.604717; val loss: 1.593500\n",
      "(Epoch 4 / 30) train loss: 1.490507; val loss: 1.525021\n",
      "(Epoch 5 / 30) train loss: 1.406652; val loss: 1.496373\n",
      "(Epoch 6 / 30) train loss: 1.327780; val loss: 1.455133\n",
      "(Epoch 7 / 30) train loss: 1.262081; val loss: 1.453576\n",
      "(Epoch 8 / 30) train loss: 1.198054; val loss: 1.433042\n",
      "(Epoch 9 / 30) train loss: 1.135803; val loss: 1.437954\n",
      "(Epoch 10 / 30) train loss: 1.077909; val loss: 1.429808\n",
      "(Epoch 11 / 30) train loss: 1.018824; val loss: 1.463906\n",
      "(Epoch 12 / 30) train loss: 0.966620; val loss: 1.471334\n",
      "(Epoch 13 / 30) train loss: 0.910280; val loss: 1.509726\n",
      "(Epoch 14 / 30) train loss: 0.854009; val loss: 1.487406\n",
      "(Epoch 15 / 30) train loss: 0.789673; val loss: 1.535431\n",
      "Stopping early at epoch 14!\n",
      "Best val loss: 1.4298084091250642\n",
      "\n",
      "Evaluating Config #8 [of 10]:\n",
      " {'learning_rate': 0.00027057218773256583, 'reg': 2.071490874842696e-06, 'loss_func': <class 'exercise_code.networks.loss.CrossEntropyFromLogits'>, 'activation': <class 'exercise_code.networks.layer.Relu'>, 'hidden_size': 619, 'num_layer': 2}\n",
      "(Epoch 1 / 30) train loss: 1.852425; val loss: 1.688545\n",
      "(Epoch 2 / 30) train loss: 1.593000; val loss: 1.577126\n",
      "(Epoch 3 / 30) train loss: 1.485138; val loss: 1.535122\n",
      "(Epoch 4 / 30) train loss: 1.406140; val loss: 1.491776\n",
      "(Epoch 5 / 30) train loss: 1.342358; val loss: 1.471588\n",
      "(Epoch 6 / 30) train loss: 1.279200; val loss: 1.446734\n",
      "(Epoch 7 / 30) train loss: 1.223240; val loss: 1.444216\n",
      "(Epoch 8 / 30) train loss: 1.174982; val loss: 1.430002\n",
      "(Epoch 9 / 30) train loss: 1.126487; val loss: 1.435331\n",
      "(Epoch 10 / 30) train loss: 1.075682; val loss: 1.440621\n",
      "(Epoch 11 / 30) train loss: 1.031596; val loss: 1.434332\n",
      "(Epoch 12 / 30) train loss: 0.985060; val loss: 1.464562\n",
      "(Epoch 13 / 30) train loss: 0.942749; val loss: 1.437643\n",
      "Stopping early at epoch 12!\n",
      "Best val loss: 1.4300024678239005\n",
      "\n",
      "Evaluating Config #9 [of 10]:\n",
      " {'learning_rate': 0.00012439244765323623, 'reg': 1.8447451817432843e-06, 'loss_func': <class 'exercise_code.networks.loss.CrossEntropyFromLogits'>, 'activation': <class 'exercise_code.networks.layer.Relu'>, 'hidden_size': 674, 'num_layer': 2}\n",
      "(Epoch 1 / 30) train loss: 1.950032; val loss: 1.773306\n",
      "(Epoch 2 / 30) train loss: 1.691755; val loss: 1.666077\n",
      "(Epoch 3 / 30) train loss: 1.588781; val loss: 1.599714\n",
      "(Epoch 4 / 30) train loss: 1.519543; val loss: 1.557664\n",
      "(Epoch 5 / 30) train loss: 1.462650; val loss: 1.523724\n",
      "(Epoch 6 / 30) train loss: 1.416861; val loss: 1.500845\n",
      "(Epoch 7 / 30) train loss: 1.376733; val loss: 1.483308\n",
      "(Epoch 8 / 30) train loss: 1.334508; val loss: 1.469458\n",
      "(Epoch 9 / 30) train loss: 1.299083; val loss: 1.456850\n",
      "(Epoch 10 / 30) train loss: 1.266180; val loss: 1.440304\n",
      "(Epoch 11 / 30) train loss: 1.232757; val loss: 1.436880\n",
      "(Epoch 12 / 30) train loss: 1.200369; val loss: 1.428517\n",
      "(Epoch 13 / 30) train loss: 1.168567; val loss: 1.426530\n",
      "(Epoch 14 / 30) train loss: 1.138296; val loss: 1.422956\n",
      "(Epoch 15 / 30) train loss: 1.109765; val loss: 1.421235\n",
      "(Epoch 16 / 30) train loss: 1.080020; val loss: 1.417354\n",
      "(Epoch 17 / 30) train loss: 1.052845; val loss: 1.429518\n",
      "(Epoch 18 / 30) train loss: 1.025521; val loss: 1.416804\n",
      "(Epoch 19 / 30) train loss: 0.996977; val loss: 1.415988\n",
      "(Epoch 20 / 30) train loss: 0.970439; val loss: 1.408629\n",
      "(Epoch 21 / 30) train loss: 0.943853; val loss: 1.414436\n",
      "(Epoch 22 / 30) train loss: 0.920428; val loss: 1.415581\n",
      "(Epoch 23 / 30) train loss: 0.891471; val loss: 1.421459\n",
      "(Epoch 24 / 30) train loss: 0.869694; val loss: 1.419180\n",
      "(Epoch 25 / 30) train loss: 0.840609; val loss: 1.423577\n",
      "Stopping early at epoch 24!\n",
      "Best val loss: 1.408628663398016\n",
      "\n",
      "Evaluating Config #10 [of 10]:\n",
      " {'learning_rate': 0.0002080976854375828, 'reg': 9.604408711672395e-07, 'loss_func': <class 'exercise_code.networks.loss.CrossEntropyFromLogits'>, 'activation': <class 'exercise_code.networks.layer.Relu'>, 'hidden_size': 840, 'num_layer': 2}\n",
      "(Epoch 1 / 30) train loss: 1.861781; val loss: 1.690953\n",
      "(Epoch 2 / 30) train loss: 1.602047; val loss: 1.590301\n",
      "(Epoch 3 / 30) train loss: 1.495600; val loss: 1.536297\n",
      "(Epoch 4 / 30) train loss: 1.419527; val loss: 1.501121\n",
      "(Epoch 5 / 30) train loss: 1.354053; val loss: 1.481427\n",
      "(Epoch 6 / 30) train loss: 1.297654; val loss: 1.452608\n",
      "(Epoch 7 / 30) train loss: 1.244491; val loss: 1.442851\n",
      "(Epoch 8 / 30) train loss: 1.195761; val loss: 1.449987\n",
      "(Epoch 9 / 30) train loss: 1.145376; val loss: 1.450864\n",
      "(Epoch 10 / 30) train loss: 1.099915; val loss: 1.422345\n",
      "(Epoch 11 / 30) train loss: 1.055538; val loss: 1.443086\n",
      "(Epoch 12 / 30) train loss: 1.006928; val loss: 1.437543\n",
      "(Epoch 13 / 30) train loss: 0.965959; val loss: 1.439565\n",
      "(Epoch 14 / 30) train loss: 0.922347; val loss: 1.445703\n",
      "(Epoch 15 / 30) train loss: 0.881676; val loss: 1.446148\n",
      "Stopping early at epoch 14!\n",
      "Best val loss: 1.4223446426800759\n",
      "\n",
      "Search done. Best Val Loss = 1.408628663398016\n",
      "Best Config: {'learning_rate': 0.00012439244765323623, 'reg': 1.8447451817432843e-06, 'loss_func': <class 'exercise_code.networks.loss.CrossEntropyFromLogits'>, 'activation': <class 'exercise_code.networks.layer.Relu'>, 'hidden_size': 674, 'num_layer': 2}\n"
     ]
    }
   ],
   "source": [
    "from exercise_code.hyperparameter_tuning import random_search\n",
    "from exercise_code.networks import MyOwnNetwork\n",
    "\n",
    "# Specify the used network\n",
    "model_class = ClassificationNet # For some reason MyNetwork doesn't want to pickle here\n",
    "\n",
    "# Random search with small training set\n",
    "\n",
    "# best_model, best_config, results  = random_search(\n",
    "#     dataloaders['train_small'], dataloaders['val_500files'],\n",
    "#     random_search_spaces = {\n",
    "#         \"learning_rate\": ([1e-2, 1e-6], 'log'),\n",
    "#         \"reg\": ([1e-3, 1e-7], \"log\"),\n",
    "#         \"loss_func\": ([CrossEntropyFromLogits], \"item\"),\n",
    "#     },\n",
    "#     model_class=model_class,\n",
    "#     num_search = 1, epochs=20, patience=5)\n",
    "\n",
    "# Random search with full training set\n",
    "\n",
    "best_model, best_config, results  = random_search(\n",
    "    dataloaders['train'], dataloaders['val'],\n",
    "    random_search_spaces = {\n",
    "        \"learning_rate\": ([1e-4, 3.5e-4], 'log'),\n",
    "        \"reg\": ([1e-5, 1e-7], \"log\"),\n",
    "        \"loss_func\": ([CrossEntropyFromLogits], \"item\"),\n",
    "        \"activation\": ([Relu, LeakyRelu], \"item\"),\n",
    "        \"hidden_size\": ([300, 1000], \"int\"),\n",
    "        \"num_layer\": ([2, 3], \"int\"),\n",
    "    },\n",
    "    model_class=model_class,\n",
    "    num_search = 10, epochs=30, patience=5)"
   ]
  },
  {
   "attachments": {},
   "cell_type": "markdown",
   "metadata": {
    "id": "LayF5YYbN5eq"
   },
   "source": [
    "It's time to run it with the whole dataset, and let it search for a few hours for a nice configuration. \n",
    "\n",
    "However, to save some time, let's first implement an **early-stopping** mechanism, that you also already know from the lecture."
   ]
  },
  {
   "attachments": {},
   "cell_type": "markdown",
   "metadata": {
    "id": "DCaACnn3N5eq"
   },
   "source": [
    "## 3.3 Early Stopping"
   ]
  },
  {
   "attachments": {},
   "cell_type": "markdown",
   "metadata": {
    "id": "IjsO1OPLN5eq"
   },
   "source": [
    "By now you've already seen a lot of training curves:\n",
    "\n",
    "<img src=http://fouryears.eu/wp-content/uploads/2017/12/early_stopping.png></img>\n",
    "\n",
    "Usually, at some point the validation loss goes up again, which is a sign that we're overfitting to our training data. Since it actually doesn't make sense to train further at this point, it's common practice to apply \"early stopping\", i.e., cancel the training process when the validation loss doesn't improve anymore. The nice thing about this concept is, that not only it improves generalization through the prevention of overfitting, but also it saves us a lot of time - one of our most valuable resources in deep learning.\n",
    "\n",
    "Since there are natural fluctuations in the validation loss, you usually don't cancel the training process right at the first epoch when the validation-loss increases, but instead, you wait for some epochs (specified by the `patience`-parameter) and if the loss still doesn't improve, we stop.\n",
    "\n",
    "<div class=\"alert alert-success\">\n",
    "    <h3>Task: Check Code</h3>\n",
    "    <p>Please check the implementation of the early stopping mechanism in <code>../exercise_6/exercise_code/solver.py</code>.\n",
    " </p>\n",
    "</div>"
   ]
  },
  {
   "attachments": {},
   "cell_type": "markdown",
   "metadata": {
    "id": "P8wWTovfN5eq"
   },
   "source": [
    "## 3.4 Let's find the perfect model!"
   ]
  },
  {
   "attachments": {},
   "cell_type": "markdown",
   "metadata": {
    "id": "ksUYQAhgN5eq"
   },
   "source": [
    "Now you've set everything up and you are ready to train your model. You can use a combination of grid and random search to find proper hyperparameters. \n",
    "\n",
    "Be aware that this process will take some time, since we'll be using a much larger dataset.\n",
    "\n",
    "At the beginning, it is a good approach to do a coarse random search across a wide range of values to find promising sub-ranges of your parameter space. Afterwards, you can zoom into these ranges and perform another random search (or grid search) to finetune the configurations.\n",
    "\n",
    "To save time and resources, don't use the whole dataset at the beginning, but instead a medium large subset of the samples. Also, you don't have to train for a large number of epochs - as mentioned above: we first want to get an overview about our hyper parameters.\n",
    "\n",
    "<div class=\"alert alert-info\">\n",
    "    <h3>Task: Hyperparameters Tunning & Model Training </h3>\n",
    "        <p> Now, it is your turn to do the hyperparamater tuning. In the cell below, you can use the <code>random_search</code> function to find a good choice of parameters. Put in some reasonable ranges for the hyperparameters and evaluate them.\n",
    "    <p> <b>Note:</b> At the beginning, it's a good approach to first do a coarse random search across a <b> wide range of values</b> to find promising sub-ranges of your parameter space and use <b> a medium large subset of the dataset </b>. Afterwards, you can zoom into these ranges and do another random search (or grid search) to finetune the configurations. Use the cell below to play around and find good hyperparameters for your model!</p>\n",
    "        <p> Finally, once you've found some promising hyperparameters (or narrowed them down to promising subranges), it's time to utilize these hyperparameters to train your network on the whole dataset for a large number of epochs so that your own model can reach an acceptable performance. \n",
    "        <p> <b>Hint 1:</b> You may use a <code>Solver</code> class we provided before or directly use the <code>random_search</code> function (as you can also monitor the loss here) for model training.\n",
    "        <p> <b>Hint 2:</b> Be patience, this will time.\n",
    "        <p> <b>Hint 3:</b> It is a better practice to find good set of hyperparameters on the small datasets, and only then run a full training session on the full dataset, either with specifc hyperparameters that you've found in the <code>random search</code>, or better ranges.\n",
    "</div>"
   ]
  },
  {
   "cell_type": "code",
   "execution_count": null,
   "metadata": {
    "colab": {
     "background_save": true
    },
    "id": "g2C24gzzN5eq",
    "outputId": "f9a7ca76-0471-44bc-dbb7-ac7f5d14e581"
   },
   "outputs": [],
   "source": [
    "from exercise_code.networks import MyOwnNetwork, ClassificationNet\n",
    "\n",
    "\n",
    "# model_type = ClassificationNet\n",
    "model_type = MyOwnNetwork\n",
    "\n",
    "########################################################################\n",
    "# TODO:                                                                #\n",
    "# Implement your own neural network and find suitable hyperparameters  #\n",
    "# Be sure to edit the MyOwnNetwork class in the following code snippet #\n",
    "# to upload the correct model! Or just use the given                   #\n",
    "# \"ClassificationNet\".                                                 #\n",
    "#                                                                      #\n",
    "# Note: the pickling cell expects your model to be named \"best_model\". #\n",
    "# Unless you change it there, naming the best model in any other way   #\n",
    "# will result in an unknown behavior.                                  #\n",
    "########################################################################\n",
    "\n",
    "best_model, best_config, results  = random_search(\n",
    "    dataloaders['train_small'], dataloaders['val_500files'],\n",
    "    random_search_spaces = {\n",
    "        \"learning_rate\": ([1e-2, 1e-5], 'log'), # TODO: smaller LR once we have enough testing\n",
    "        \"reg\": ([1e-3, 1e-7], \"log\"),\n",
    "        \"loss_func\": ([CrossEntropyFromLogits], \"item\"),\n",
    "        \"activation\": ([Relu, LeakyRelu], \"item\"),\n",
    "        \"hidden_size\": ([300, 1000], \"int\"),\n",
    "        \"num_layer\": ([2, 4], \"int\"),\n",
    "    },\n",
    "    model_class=model_type,\n",
    "    num_search = 10, epochs=20, patience=3)\n",
    "\n",
    "########################################################################\n",
    "#                           END OF YOUR CODE                           #\n",
    "########################################################################"
   ]
  },
  {
   "attachments": {},
   "cell_type": "markdown",
   "metadata": {
    "id": "gmZbWaaIN5er"
   },
   "source": [
    "Now it's time to edit the ranges above and adjust them to explore regions that performed well!\n",
    "\n",
    "Also, feel free to experiment around. Other hyperparameters you can change are the network architecture, optimizer, activations functions and many more.\n",
    "\n",
    "Try to get an accuracy as high as possible, since that's all what counts for this submission!\n",
    "\n",
    "You'll pass if you reach at least **48%** accuracy on our test set - but there will also be a leaderboard of all students of this course. Can you make it to the top?"
   ]
  },
  {
   "attachments": {},
   "cell_type": "markdown",
   "metadata": {
    "id": "mJZ7UXHeN5er"
   },
   "source": [
    "## 3.5 Checking the validation accuracy"
   ]
  },
  {
   "cell_type": "code",
   "execution_count": 103,
   "metadata": {
    "colab": {
     "background_save": true
    },
    "id": "qPyHczNJN5er",
    "outputId": "7cbc0fbb-2d6e-49a1-d518-83e2260ea339"
   },
   "outputs": [
    {
     "name": "stdout",
     "output_type": "stream",
     "text": [
      "Train Accuracy: \u001b[92m75.33052884615384\u001b[0m%\n",
      "Validation Accuracy: \u001b[92m52.56410256410257\u001b[0m%\n"
     ]
    }
   ],
   "source": [
    "from exercise_code.tests.base_tests import bcolors\n",
    "\n",
    "labels, pred, acc = best_model.get_dataset_prediction(dataloaders['train'])\n",
    "res = bcolors.colorize(\"green\", acc * 100) if acc * 100 > 48 else bcolors.colorize(\"red\", acc * 100)\n",
    "print(\"Train Accuracy: {}%\".format(res))\n",
    "labels, pred, acc = best_model.get_dataset_prediction(dataloaders['val'])\n",
    "res = bcolors.colorize(\"green\", acc * 100) if acc * 100 > 48 else bcolors.colorize(\"red\", acc * 100)\n",
    "print(\"Validation Accuracy: {}%\".format(res))"
   ]
  },
  {
   "attachments": {},
   "cell_type": "markdown",
   "metadata": {
    "id": "MQ_AGtp8N5er"
   },
   "source": [
    "# 4. Test your model\n",
    "When you have finished the hyperparameter tuning and you found your final model which performs well on the validation set (**you should at least get 48% accuracy on the validation set!**), it's time to run your model on the test set.\n",
    "\n",
    "<div class=\"alert alert-danger\">\n",
    "    <h3>Important</h3>\n",
    "    <p>As you have learned in the lecture, you must only use the test set once! So only run the next cell if you are completely sure that your model works well enough and that you are ready to submit. Your test set is different from the test set on our server, so results may vary a bit. Nevertheless, you will get a reasonable approximation of your model's performance if you perform the final evaluation on the test set only once.</p>\n",
    "    <p>If you are an external student that can't use our submission webpage: this test performance is your final result and if you surpassed the threshold, you have completed this exercise :). Now, train again to aim for a better number!</p>\n",
    "</div>"
   ]
  },
  {
   "cell_type": "code",
   "execution_count": 104,
   "metadata": {
    "colab": {
     "background_save": true
    },
    "id": "xJ2lwiVUN5er",
    "outputId": "82f45e2a-7357-4444-d8c7-2296b7f6cb68"
   },
   "outputs": [
    {
     "name": "stdout",
     "output_type": "stream",
     "text": [
      "Test Accuracy: \u001b[92m52.23357371794872\u001b[0m%\n"
     ]
    }
   ],
   "source": [
    "# comment this part out to see your model's performance on the test set.\n",
    "labels, pred, acc = best_model.get_dataset_prediction(dataloaders['test'])\n",
    "res = bcolors.colorize(\"green\", acc * 100) if acc * 100 > 48 else bcolors.colorize(\"red\", acc * 100)\n",
    "print(\"Test Accuracy: {}%\".format(res))\n"
   ]
  },
  {
   "attachments": {},
   "cell_type": "markdown",
   "metadata": {
    "id": "K3MBnG7qN5er"
   },
   "source": [
    "<div class=\"alert alert-warning\">\n",
    "    <h3>Note:</h3>\n",
    "    <p>The \"real\" test set is actually the dataset we're using for testing your model, which is <b>different</b> from the test-set you're using here.</p>\n",
    "</div>"
   ]
  },
  {
   "attachments": {},
   "cell_type": "markdown",
   "metadata": {
    "id": "2lOy_GulN5es"
   },
   "source": [
    "# 5. Saving your Model"
   ]
  },
  {
   "cell_type": "code",
   "execution_count": 105,
   "metadata": {},
   "outputs": [],
   "source": [
    "from exercise_code.networks import MyOwnNetwork, ClassificationNet\n"
   ]
  },
  {
   "cell_type": "code",
   "execution_count": 106,
   "metadata": {
    "colab": {
     "background_save": true
    },
    "id": "icgNMAlEN5es"
   },
   "outputs": [],
   "source": [
    "from exercise_code.tests import save_pickle\n",
    "best_model.eval()\n",
    "save_pickle({\"cifar_fcn\": best_model}, \"cifar_fcn.p\")"
   ]
  },
  {
   "cell_type": "code",
   "execution_count": 107,
   "metadata": {
    "colab": {
     "background_save": true
    },
    "id": "Gd4TchGlN5es",
    "outputId": "b913c1bd-b861-47bb-c257-b30fa214e761"
   },
   "outputs": [
    {
     "name": "stdout",
     "output_type": "stream",
     "text": [
      "relevant folders: ['exercise_code', 'models']\n",
      "notebooks files: ['1_cifar10_classification.ipynb']\n",
      "Adding folder exercise_code\n",
      "Adding folder models\n",
      "Adding notebook 1_cifar10_classification.ipynb\n",
      "Zipping successful! Zip is stored under: /home/timm_pop/Documents/i2dl/output/exercise_06.zip\n"
     ]
    }
   ],
   "source": [
    "from exercise_code.submit import submit_exercise\n",
    "\n",
    "submit_exercise('../output/exercise_06')"
   ]
  },
  {
   "attachments": {},
   "cell_type": "markdown",
   "metadata": {
    "id": "q5C_bKa5N5es"
   },
   "source": [
    "# 6. Submission Instructions\n",
    "\n",
    "Congratulations! You've just built your first image classifier! To complete the exercise, submit your final model to our submission portal - you probably know the procedure by now.\n",
    "\n",
    "1. Go on [our submission page](https://i2dl.vc.in.tum.de/submission/), register for an account and login. We use your matriculation number and send you an email with the login details to the associated mail account. When in doubt, login into tum-online and check your mails there. You will get an id which we'll need in the next step.\n",
    "2. Log into [our submission page](https://i2dl.vc.in.tum.de/submission/), with your account details and upload the zip file.\n",
    "3. Your submission will be evaluated by our system and you will get feedback about the performance of it. You will get an email with your score, as well as a message if you have surpassed the threshold or not.\n",
    "4. Within the working period, you can submit as many solutions as you want to get the best possible score.\n",
    "\n",
    "\n",
    "# 7. Submission Goals\n",
    "\n",
    "- Goal: Successfully implement a fully connected NN image classifier and tune the hyperparameters.\n",
    "\n",
    "- Passing Criteria: This time, there are no unit tests checking specific components of your code. To  pass the submission your model needs to reach at least **48% accuracy** on __our__ test dataset. The submission system will show you a number between 0 and 100 which corresponds to your accuracy.\n",
    "\n",
    "- Submission start: __June 1st, 2023 10:00__\n",
    "- Submission deadline : __June 7th, 2023 15:59__ \n",
    "- You can make **$\\infty$** submissions until the deadline. Your __best submission__ will be considered for the bonus."
   ]
  },
  {
   "attachments": {},
   "cell_type": "markdown",
   "metadata": {},
   "source": [
    "# [Exercise Review](https://forms.gle/9SYivCPQZdktRDS29)\n",
    "We are always interested in your opinion. Now that you have finished this exercise, we would like you to give us some feedback about the time required to finish the submission and/or work through the notebooks. Please take the short time to fill out our [review form](https://forms.gle/9SYivCPQZdktRDS29) for this exercise so that we can do better next time! :)"
   ]
  },
  {
   "cell_type": "code",
   "execution_count": null,
   "metadata": {},
   "outputs": [],
   "source": []
  }
 ],
 "metadata": {
  "colab": {
   "collapsed_sections": [
    "WKNRU4BWN5eg",
    "3MhxqP2LN5ej",
    "dbFSP4z9N5ek",
    "0TE2PxMBN5ek",
    "QUFotyERN5ek",
    "l0pZa4weN5eo",
    "rDyeiAN1N5ep",
    "DCaACnn3N5eq",
    "P8wWTovfN5eq",
    "mJZ7UXHeN5er"
   ],
   "name": "1.cifar10_classification.ipynb",
   "provenance": []
  },
  "kernelspec": {
   "display_name": "Python 3 (ipykernel)",
   "language": "python",
   "name": "python3"
  },
  "language_info": {
   "codemirror_mode": {
    "name": "ipython",
    "version": 3
   },
   "file_extension": ".py",
   "mimetype": "text/x-python",
   "name": "python",
   "nbconvert_exporter": "python",
   "pygments_lexer": "ipython3",
   "version": "3.10.11"
  },
  "vscode": {
   "interpreter": {
    "hash": "54970da6898dad277dbf355945c2dee7f942d2a31ec1fc1455b6d4f552d07b83"
   }
  }
 },
 "nbformat": 4,
 "nbformat_minor": 1
}
