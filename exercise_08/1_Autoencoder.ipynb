{
 "cells": [
  {
   "attachments": {},
   "cell_type": "markdown",
   "metadata": {
    "id": "9CALuVmNMNkM"
   },
   "source": [
    "# Autoencoder for MNIST\n",
    "\n",
    "Welcome to this notebook where you'll be training an autoencoder using the MNIST dataset, which comprises handwritten digits. This exercise is the last where we present you with a structured skeleton to work with. However, in following exercises, we will only provide you with the dataset, task, and a test scenario, enabling you to test your skills and compete with your peers on our leaderboards. Get ready to dive in and showcase your deep learning expertise!\n",
    "\n",
    "\n",
    "## Your task:\n",
    "\n",
    "Autoencoders have various applications, including unsupervised pretraining using unlabeled data, followed by fine-tuning the encoder with labeled data. This approach can greatly enhance performance when there is only a little amount of labeled data but a lot of unlabeled data available.\n",
    "\n",
    "In this exercise, you will use the MNIST dataset, consisting of 60,000 images of handwritten digits. However, not all the image labels are available to you. Your first objective is to train an autoencoder to accurately reproduce these unlabeled images.\n",
    "\n",
    "Afterwards, you will transfer the weights of the pretrained encoder and perform fine-tuning on a classifier using the available labeled data. This technique is commonly known as **transfer learning**, which allows you to leverage the knowledge gained from the autoencoder to improve the classification of the handwritten digits."
   ]
  },
  {
   "cell_type": "code",
   "execution_count": 1,
   "metadata": {
    "id": "XcU9f4APMNkT"
   },
   "outputs": [],
   "source": [
    "# For automatic file reloading as usual\n",
    "%load_ext autoreload\n",
    "%autoreload 2\n",
    "%matplotlib inline"
   ]
  },
  {
   "attachments": {},
   "cell_type": "markdown",
   "metadata": {
    "id": "Xb9dFU2EMNkW"
   },
   "source": [
    "## (Optional) Mount folder in Colab\n",
    "\n",
    "Uncomment the following cell to mount your gdrive if you are using the notebook in google colab:"
   ]
  },
  {
   "cell_type": "code",
   "execution_count": 2,
   "metadata": {
    "id": "TRr4E4YVMNkW"
   },
   "outputs": [
    {
     "data": {
      "text/plain": [
       "\"\\nfrom google.colab import drive\\nimport os\\ngdrive_path='/content/gdrive/MyDrive/i2dl/exercise_08'\\n\\n# This will mount your google drive under 'MyDrive'\\ndrive.mount('/content/gdrive', force_remount=True)\\n# In order to access the files in this notebook we have to navigate to the correct folder\\nos.chdir(gdrive_path)\\n# Check manually if all files are present\\n\""
      ]
     },
     "execution_count": 2,
     "metadata": {},
     "output_type": "execute_result"
    }
   ],
   "source": [
    "# Use the following lines if you want to use Google Colab\n",
    "# We presume you created a folder \"i2dl\" within your main drive folder, and put the exercise there.\n",
    "# NOTE: terminate all other colab sessions that use GPU!\n",
    "# NOTE 2: Make sure the correct exercise folder (e.g exercise_08) is given.\n",
    "\n",
    "# from google.colab import drive\n",
    "# import os\n",
    "\n",
    "\"\"\"\n",
    "from google.colab import drive\n",
    "import os\n",
    "gdrive_path='/content/gdrive/MyDrive/i2dl/exercise_08'\n",
    "\n",
    "# This will mount your google drive under 'MyDrive'\n",
    "drive.mount('/content/gdrive', force_remount=True)\n",
    "# In order to access the files in this notebook we have to navigate to the correct folder\n",
    "os.chdir(gdrive_path)\n",
    "# Check manually if all files are present\n",
    "\"\"\""
   ]
  },
  {
   "attachments": {},
   "cell_type": "markdown",
   "metadata": {
    "id": "JzDQg-kDMNkY"
   },
   "source": [
    "### Set up PyTorch environment in colab\n",
    "- (OPTIONAL) Enable GPU via Runtime --> Change runtime type --> GPU\n",
    "- Uncomment the following cell if you are using the notebook in google colab:"
   ]
  },
  {
   "cell_type": "code",
   "execution_count": 3,
   "metadata": {
    "id": "pIUdsXeXMNkZ"
   },
   "outputs": [],
   "source": [
    "# Optional: install correct libraries in google colab\n",
    "# !python -m pip install torch==1.11.0+cu113 torchvision==0.12.0+cu113 torchtext==0.12.0+cu113 torchaudio==0.12.0+cu113 -f https://download.pytorch.org/whl/torch_stable.html\n",
    "# !python -m pip install tensorboard==2.8.0 > /dev/null\n",
    "# !python -m pip install pytorch-lightning==1.6.0"
   ]
  },
  {
   "attachments": {},
   "cell_type": "markdown",
   "metadata": {
    "id": "hEDWAZ7-ZA4E"
   },
   "source": [
    "# Imports"
   ]
  },
  {
   "cell_type": "code",
   "execution_count": 4,
   "metadata": {
    "id": "dJCiVLV5o9QO"
   },
   "outputs": [],
   "source": [
    "import numpy as np\n",
    "import matplotlib.pyplot as plt\n",
    "from pathlib import Path\n",
    "import os, sys\n",
    "import shutil\n",
    "import torch\n",
    "import torch.nn as nn\n",
    "from torchvision import transforms\n",
    "from exercise_code.image_folder_dataset import ImageFolderDataset\n",
    "from torch.utils.tensorboard import SummaryWriter\n",
    "from time import sleep\n",
    "from tqdm import tqdm\n",
    "from exercise_code.tests.base_tests import bcolors\n",
    "\n",
    "torch.manual_seed(42)\n",
    "\n",
    "os.environ['KMP_DUPLICATE_LIB_OK']='True' # To prevent the kernel from dying."
   ]
  },
  {
   "attachments": {},
   "cell_type": "markdown",
   "metadata": {
    "id": "dvaj6myXS7nN"
   },
   "source": [
    "<div class=\"alert alert-warning\">\n",
    "    <h3>Note: Google Colab</h3>\n",
    "    <p>\n",
    "In case you don't have a GPU, you can run this notebook on Google Colab where you can access a GPU for free, but, of course, you can also run this notebook on your CPU.\n",
    "         </p>\n",
    "</div>"
   ]
  },
  {
   "cell_type": "code",
   "execution_count": 5,
   "metadata": {
    "id": "VWgm75NnS9hr"
   },
   "outputs": [
    {
     "name": "stdout",
     "output_type": "stream",
     "text": [
      "You are using the following device:  cpu\n"
     ]
    }
   ],
   "source": [
    "device = torch.device(\"cuda\" if torch.cuda.is_available() else \"cpu\")\n",
    "print('You are using the following device: ', device)"
   ]
  },
  {
   "attachments": {},
   "cell_type": "markdown",
   "metadata": {
    "id": "Pm_rTAPnpsUo"
   },
   "source": [
    "## Setup TensorBoard\n",
    "\n",
    "In the previous exercise (Exercise 07), you learned how to use TensorBoard effectively. Let's use it again to enhance the convenience of debugging your network and the training process. Throughout this notebook, feel free to implement additional logs or visualizations into your TensorBoard, further improving your analysis and understanding of the network's behavior. "
   ]
  },
  {
   "cell_type": "code",
   "execution_count": 6,
   "metadata": {
    "id": "QbAJFyHkMNke"
   },
   "outputs": [],
   "source": [
    "################# COLAB ONLY #################\n",
    "# %load_ext tensorboard\n",
    "# %tensorboard --logdir=./ --port 6006\n",
    "\n",
    "# Use the cmd for less trouble, if you can. From the working directory, run: tensorboard --logdir=./ --port 6006"
   ]
  },
  {
   "attachments": {},
   "cell_type": "markdown",
   "metadata": {
    "id": "t-Yt2KRiMNkf"
   },
   "source": [
    "# 1. The MNIST Dataset\n",
    "\n",
    "First, let's download the MNIST dataset. As mentioned in the beginning of this notebook, MNIST is a dataset of 60,000 images depicting handwritten digits. However, labeling such a large dataset can be a costly process, leaving us in a challenging situation.\n",
    "\n",
    "To overcome this, a practical approach is to label a small subset of the images. Let's consider a scenario where you have hired another student to perform the labeling task for you. After some time, you have been provided with 300 labeled images. Out of these, 100 images will be used for training, another 100 for validation, and the remaining 100 for testing. Undoubtedly, this poses a challenge due to the limited number of labeled samples.\n",
    "\n",
    "Now, you have the flexibility to define any transforms that you deem necessary, either at this point or at a later stage. However, it's important to note that during the final evaluation on the server, no transformations will be applied to the test set.\n",
    "\n",
    "Feel free to experiment with various transforms as you proceed (you can also pass without any transforms). \n",
    "\n",
    "\n",
    "**Note**: We do **not** apply any transformations to the test set at the time of final evaluation on our server."
   ]
  },
  {
   "cell_type": "code",
   "execution_count": 7,
   "metadata": {
    "id": "U5_eopjbMNkf",
    "pycharm": {
     "name": "#%%\n"
    }
   },
   "outputs": [
    {
     "name": "stdout",
     "output_type": "stream",
     "text": [
      "Found dataset folder. Skipped downloading. If you face issues, please re-download the dataset using\n",
      "'--force_download=True'\n",
      "https://i2dl.vc.in.tum.de/static/data/mnist.zip\n",
      "Found dataset folder. Skipped downloading. If you face issues, please re-download the dataset using\n",
      "'--force_download=True'\n",
      "https://i2dl.vc.in.tum.de/static/data/mnist.zip\n",
      "Found dataset folder. Skipped downloading. If you face issues, please re-download the dataset using\n",
      "'--force_download=True'\n",
      "https://i2dl.vc.in.tum.de/static/data/mnist.zip\n",
      "Found dataset folder. Skipped downloading. If you face issues, please re-download the dataset using\n",
      "'--force_download=True'\n",
      "https://i2dl.vc.in.tum.de/static/data/mnist.zip\n",
      "Found dataset folder. Skipped downloading. If you face issues, please re-download the dataset using\n",
      "'--force_download=True'\n",
      "https://i2dl.vc.in.tum.de/static/data/mnist.zip\n"
     ]
    }
   ],
   "source": [
    "import torchvision.transforms as transforms\n",
    "\n",
    "transform = transforms.Compose([])\n",
    "\n",
    "########################################################################\n",
    "# TODO: Feel free to define transforms                                 #\n",
    "########################################################################\n",
    "\n",
    "# MNIST mean: 0.1307, std: 0.3081\n",
    "\n",
    "transform = transforms.Compose([\n",
    "    transforms.Normalize((0.1307), (0.3081)),\n",
    "    # transforms.RandomPerspective(distortion_scale=0.3, p=0.2),\n",
    "    # transforms.RandomRotation(degrees=30)\n",
    "    ])\n",
    "\n",
    "########################################################################\n",
    "#                           END OF YOUR CODE                           #\n",
    "########################################################################\n",
    "\n",
    "i2dl_exercises_path = os.path.dirname(os.path.abspath(os.getcwd()))\n",
    "mnist_root = os.path.join(i2dl_exercises_path, \"datasets\", \"mnist\")\n",
    "\n",
    "train_100_dataset = ImageFolderDataset(root=mnist_root,images='train_images.pt',labels='train_labels.pt',force_download=False,verbose=True,transform=transform)\n",
    "val_100_dataset = ImageFolderDataset(root=mnist_root,images='val_images.pt',labels='val_labels.pt',force_download=False,verbose=True,transform=transform)\n",
    "test_100_dataset = ImageFolderDataset(root=mnist_root,images='test_images.pt',labels='test_labels.pt',force_download=False,verbose=True,transform=transform)\n",
    "\n",
    "# We also set up the unlabeled images which we will use later\n",
    "unlabeled_train = ImageFolderDataset(root=mnist_root,images='unlabeled_train_images.pt',force_download=False,verbose=True,transform=transform)\n",
    "unlabeled_val = ImageFolderDataset(root=mnist_root,images='unlabeled_val_images.pt',force_download=False,verbose=True,transform=transform)\n",
    "\n"
   ]
  },
  {
   "attachments": {},
   "cell_type": "markdown",
   "metadata": {
    "id": "zwrT1ckAMNkg"
   },
   "source": [
    "The dataset consists of tuples of 28x28 pixel PIL images and a label that is an integer from 0 to 9. \n",
    "\n",
    "Let's turn a few of the images into numpy arrays, to look at their shape and visualize them and see if the labels we paid for are correct."
   ]
  },
  {
   "cell_type": "code",
   "execution_count": 8,
   "metadata": {
    "id": "k7ct1J2CMNkh"
   },
   "outputs": [
    {
     "name": "stdout",
     "output_type": "stream",
     "text": [
      "The shape of our greyscale images:  (28, 28)\n"
     ]
    },
    {
     "data": {
      "image/png": "[encoded data removed]",
      "text/plain": [
       "<Figure size 1600x1600 with 10 Axes>"
      ]
     },
     "metadata": {},
     "output_type": "display_data"
    }
   ],
   "source": [
    "plt.rcParams['figure.figsize'] = (16,16) # Make the figures a bit bigger\n",
    "\n",
    "indices_arr = [83, 98, 92, 99, 78, 97, 90, 95, 93, 96]\n",
    "for i, index in enumerate(indices_arr):\n",
    "    image = np.array(train_100_dataset[index][0].squeeze()) # get the image of the data sample\n",
    "    label = train_100_dataset[index][1] # get the label of the data sample\n",
    "    plt.subplot(1, 10, i + 1)\n",
    "    plt.imshow(image, cmap='gray', interpolation='none')\n",
    "    plt.title(\"Class {}\".format(label))\n",
    "    \n",
    "plt.tight_layout()\n",
    "print('The shape of our greyscale images: ', image.shape)"
   ]
  },
  {
   "attachments": {},
   "cell_type": "markdown",
   "metadata": {
    "id": "V9sz_lHyqJoj"
   },
   "source": [
    "<div class=\"alert alert-warning\">\n",
    "    <h3>Note: Starting Simple</h3>\n",
    "    <p>\n",
    "Regardless of the size of the dataset, the first step is to evaluate the performance of a simple classifier. It is advisable to always start with a straightforward approach when tackling a problem and gradually build upon it to determine which changes yield improvements.</p>\n",
    "</div>\n",
    "\n",
    "# 2. A Simple Classifier\n",
    "\n",
    "In `exercise_code/models.py` we prepared all classes for you which you will finalize throughout the notebook to build an Autoencoder and an image classifier with PyTorch.\n",
    "\n",
    "![network_split](img/network_split.png)\n",
    "\n",
    "## 2.1 The Encoder\n",
    "\n",
    "Unlike to previous models, we are going to split up the model into two parts: the `encoder` and the `classifier`. The `classifier` has a fixed task, generating predictions given a one-dimensional input. On the other hand, the `encoder`'s task is to extract meaningful information from the input, enabling the classifier to make accurate decisions. \n",
    "\n",
    "For now, both networks will be similar in design and consist of linear layers coupled with auxiliary layers. This split-up will be relevant later, e.g., by using convolutional layers which are introduced in the lecture. We are going to set up the `encoder` now. \n",
    "\n",
    "Think about a good network architecture. You have complete freedom in this regard and can devise any network structure that you think might be fitting. (\\*)\n",
    "\n",
    "Have a look at the documentation of `torch.nn` at https://pytorch.org/docs/stable/nn.html to learn how to use this module in order to build your network!\n",
    "\n",
    "Then implement your architecture: initialize it in `__init__()` and assign it to `self.model`. This is particularly easy using `nn.Sequential()` where you only have to pass the list of your layers. \n",
    "\n",
    "To make your model customizable and support parameter search, do not use hardcoded hyperparameters - instead, pass them as a simple dictionary `hparams` (here, `n_hidden` is the number of neurons in the hidden layer) when initializing `models`.\n",
    "\n",
    "Here is an simple example:\n",
    "\n",
    "```python\n",
    "        self.model = nn.Sequential(\n",
    "            nn.Linear(input_size, self.hparams[\"n_hidden\"]),\n",
    "            nn.ReLU(),            \n",
    "            nn.Linear(self.hparams[\"n_hidden\"], num_classes)\n",
    "        )\n",
    "```\n",
    "\n",
    "Have a look at the forward path in `forward(self, x)`, which is so easy that you don't need to implement it yourself.\n",
    "\n",
    "As PyTorch automatically computes the gradients, that's all you need to do! No need to manually calculate derivatives for the backward paths anymore! :)\n",
    "\n",
    "\n",
    "____\n",
    "\\* *The size of your final model must be less than 20 MB, which is approximately equivalent to 5 Mio. params. Note that this limit is quite lenient, you will probably need much less parameters!*\n",
    "\n",
    "*In order to keep things simple, you should only use fully connected layers for this task as we need to revert the encoder architecture  later on in the notebook.*\n",
    "\n",
    "<div class=\"alert alert-info\">\n",
    "    <h3>Task: Implement</h3>\n",
    "    <p>Implement the <code>Encoder</code> class initialization in <code>exercise_code/models.py</code>.\n",
    "    </p>\n",
    "</div>"
   ]
  },
  {
   "attachments": {},
   "cell_type": "markdown",
   "metadata": {
    "id": "jNf7FrvwMNki"
   },
   "source": [
    "## 2.2 The Classifier\n",
    "\n",
    "Now let's implement the classifier. The classifier will utilize the encoder that you have defined in the above cell. By looking at `Classifier.forward`, you can see that we are essentially concatenating the `classifier`and the `encoder` together. Therefore, it is crucial to ensure that the input shape of the classifier matches the output shape of the encoder you implemented above\n",
    "\n",
    "<div class=\"alert alert-info\">\n",
    "    <h3>Task: Implement</h3>\n",
    "    <p>1. Implement the <code>Classifier</code> class network initialization in <code>exercise_code/models.py</code>.\n",
    "    </p>\n",
    "    <p>2. Define in the next cell your hyperparameters in a dictionary called 'hparams'.\n",
    "    </p>\n",
    "</div>"
   ]
  },
  {
   "cell_type": "code",
   "execution_count": 9,
   "metadata": {
    "id": "AawbvD1rMNkj"
   },
   "outputs": [],
   "source": [
    "hparams = {}\n",
    "########################################################################\n",
    "# TODO: Define your hyper parameters here!                             #\n",
    "########################################################################\n",
    "\n",
    "hparams = {    \n",
    "    \"device\" : device,\n",
    "    \"num_workers\" : 8,\n",
    "    \"epochs\" : 150, # Don't do too many epochs on large batch size or else overfitting!\n",
    "    \"batch_size\" : 64, # Batch size, use small one for classifier!\n",
    "    \n",
    "    \"num_classes\" : 10, # There are 10 digits\n",
    "    \"input_size\" : 28 * 28, # Number of pixels in images\n",
    "    \n",
    "    \"learning_rate\" : 1e-3, # Optimizer\n",
    "    \"weight_decay\" : 1e-5, # ADAM\n",
    "    \n",
    "    \"dropout_p\" : 0.5, # Dropout probability for the classifier, reduces overfitting\n",
    "    \"latent_dim\" : 20, # Encoder output dim, Decode input dim, classifier input dim. If this it too high, overfitting will occur\n",
    "    \"decoder_hidden\" : 50, # Decoder Hidden\n",
    "    \"encoder_hidden\" : 50, # Encoder Hidden\n",
    "    \"classifier_hidden\" : 50 # Classifier Hidden\n",
    "}\n",
    "\n",
    "########################################################################\n",
    "#                           END OF YOUR CODE                           #\n",
    "########################################################################"
   ]
  },
  {
   "attachments": {},
   "cell_type": "markdown",
   "metadata": {
    "id": "bOYbUg8lAmgU"
   },
   "source": [
    "\n",
    "## 2.3 Optimizer\n",
    "Lastly, implement the function `set_optimizer` to define your optimizer. Here the documentation of `torch.optim` at https://pytorch.org/docs/stable/optim.html might be helpful.\n",
    "\n",
    "<div class=\"alert alert-info\">\n",
    "    <h3>Task: Implement</h3>\n",
    "    <p>Implement the <code>set_optimizer</code> method of the <code>Classifier</code> in <code>exercise_code/models.py</code>.\n",
    "    </p>\n",
    "</div>\n"
   ]
  },
  {
   "attachments": {},
   "cell_type": "markdown",
   "metadata": {
    "id": "xrUfa-a7MNkk"
   },
   "source": [
    "## 2.4 Training & Validation Step\n",
    "\n",
    "<div class=\"alert alert-success\">\n",
    "    <h3>Task: Check Code</h3>\n",
    "    <p> Let's take a closer look at the training pipeline outlined below. It is explicitly written here in its entirety to provide you with a comprehensive understanding of its structure. Additionally, you can refer back to this pipeline whenever you encounter any uncertainties or need guidance.\n",
    " </p>\n",
    "</div>\n"
   ]
  },
  {
   "cell_type": "code",
   "execution_count": 10,
   "metadata": {
    "id": "NY_lLaNWMNkk"
   },
   "outputs": [],
   "source": [
    " # One of the most crucial things in deep learning is to understand the training pipeline:\n",
    " # 1. Forward()          --> The forward pass of the network, to calculate the currnent loss.\n",
    " # 2. Backward()         --> The backward pass of the network, to calculate the gradients w.r.t the loss, calculated in the previous stage.\n",
    " # 3. Optimizer_step()   --> Update the weights w.r.t thier corresponding gradients and the learnign rate.\n",
    "\n",
    "def create_tqdm_bar(iterable, desc):\n",
    "    return tqdm(enumerate(iterable),total=len(iterable), ncols=150, desc=desc)\n",
    "\n",
    "\n",
    "def train_classifier(classifier, train_loader, val_loader, loss_func, tb_logger, epochs=10, name=\"default\"):\n",
    "    \"\"\"\n",
    "    Train the classifier for a number of epochs.\n",
    "    \"\"\"\n",
    "    optimizer = classifier.optimizer\n",
    "    classifier = classifier.to(device)\n",
    "    for epoch in range(epochs):\n",
    "        \n",
    "        training_loss = 0\n",
    "        validation_loss = 0\n",
    "        \n",
    "        # Training stage, where we want to update the parameters.\n",
    "        classifier.train()  # Set the model to training mode\n",
    "        \n",
    "        # Create a progress bar for the training loop.\n",
    "        training_loop = create_tqdm_bar(train_loader, desc=f'Training Epoch [{epoch + 1}/{epochs}]')\n",
    "        for train_iteration, batch in training_loop:\n",
    "            optimizer.zero_grad() # Reset the gradients - VERY important! Otherwise they accumulate.\n",
    "            images, labels = batch # Get the images and labels from the batch, in the fashion we defined in the dataset and dataloader.\n",
    "            images, labels = images.to(device), labels.to(device) # Send the data to the device (GPU or CPU) - it has to be the same device as the model.\n",
    "\n",
    "            # Flatten the images to a vector. This is done because the classifier expects a vector as input.\n",
    "            # Could also be done by reshaping the images in the dataset.\n",
    "            images = images.view(images.shape[0], -1) \n",
    "\n",
    "            pred = classifier(images) # Stage 1: Forward().\n",
    "            loss = loss_func(pred, labels) # Compute the loss over the predictions and the ground truth.\n",
    "            loss.backward()  # Stage 2: Backward().\n",
    "            optimizer.step() # Stage 3: Update the parameters.\n",
    "\n",
    "            training_loss += loss.item()\n",
    "\n",
    "            # Update the progress bar.\n",
    "            training_loop.set_postfix(curr_train_loss = \"{:.8f}\".format(training_loss / (train_iteration + 1)), val_loss = \"{:.8f}\".format(validation_loss))\n",
    "\n",
    "            # Update the tensorboard logger.\n",
    "            tb_logger.add_scalar(f'classifier_{name}/train_loss', loss.item(), epoch * len(train_loader) + train_iteration)\n",
    "            sleep(0.1) # Remove this line if you want to see the progress bar faster.\n",
    "\n",
    "        # Validation stage, where we don't want to update the parameters. Pay attention to the classifier.eval() line\n",
    "        # and \"with torch.no_grad()\" wrapper.\n",
    "        classifier.eval()\n",
    "        val_loop = create_tqdm_bar(val_loader, desc=f'Validation Epoch [{epoch + 1}/{epochs}]')\n",
    "        validation_loss = 0\n",
    "        with torch.no_grad():\n",
    "            for val_iteration, batch in val_loop:\n",
    "                images, labels = batch\n",
    "                images, labels = images.to(device), labels.to(device)\n",
    "\n",
    "                images = images.view(images.shape[0], -1) \n",
    "                pred = classifier(images)\n",
    "                loss = loss_func(pred, labels)\n",
    "                validation_loss += loss.item()\n",
    "\n",
    "                # Update the progress bar.\n",
    "                val_loop.set_postfix(val_loss = \"{:.8f}\".format(validation_loss / (val_iteration + 1)))\n",
    "\n",
    "                # Update the tensorboard logger.\n",
    "                tb_logger.add_scalar(f'classifier_{name}/val_loss', loss.item(), epoch * len(val_loader) + val_iteration)\n",
    "                sleep(0.1) # Remove this line if you want to see the progress bar faster.\n",
    "        \n",
    "        # This value is used for the progress bar of the training loop.\n",
    "        validation_loss /= len(val_loader)\n",
    "            "
   ]
  },
  {
   "attachments": {},
   "cell_type": "markdown",
   "metadata": {
    "id": "KVKLlwlyMNkl"
   },
   "source": [
    "## 2.5 Fit Classification Model with Trainer\n",
    "Now it's finally time to train your model.\n",
    "Run the following cell to see the behold the magic of deep learning at play."
   ]
  },
  {
   "cell_type": "code",
   "execution_count": 11,
   "metadata": {
    "id": "uBGavq9cMNkl"
   },
   "outputs": [
    {
     "name": "stderr",
     "output_type": "stream",
     "text": [
      "Training Epoch [1/150]: 100%|██████████████████████████████████████████| 2/2 [00:00<00:00,  9.51it/s, curr_train_loss=2.93384731, val_loss=0.00000000]\n",
      "Validation Epoch [1/150]: 100%|████████████████████████████████████████████████████████████████████| 2/2 [00:00<00:00,  9.52it/s, val_loss=2.83044803]\n",
      "Training Epoch [2/150]: 100%|██████████████████████████████████████████| 2/2 [00:00<00:00,  9.35it/s, curr_train_loss=2.57405341, val_loss=0.00000000]\n",
      "Validation Epoch [2/150]: 100%|████████████████████████████████████████████████████████████████████| 2/2 [00:00<00:00,  9.51it/s, val_loss=2.67525232]\n",
      "Training Epoch [3/150]: 100%|██████████████████████████████████████████| 2/2 [00:00<00:00,  9.39it/s, curr_train_loss=2.35689270, val_loss=0.00000000]\n",
      "Validation Epoch [3/150]: 100%|████████████████████████████████████████████████████████████████████| 2/2 [00:00<00:00,  9.50it/s, val_loss=2.52740347]\n",
      "Training Epoch [4/150]: 100%|██████████████████████████████████████████| 2/2 [00:00<00:00,  9.41it/s, curr_train_loss=2.12454712, val_loss=0.00000000]\n",
      "Validation Epoch [4/150]: 100%|████████████████████████████████████████████████████████████████████| 2/2 [00:00<00:00,  9.44it/s, val_loss=2.36786652]\n",
      "Training Epoch [5/150]: 100%|██████████████████████████████████████████| 2/2 [00:00<00:00,  9.30it/s, curr_train_loss=1.86185569, val_loss=0.00000000]\n",
      "Validation Epoch [5/150]: 100%|████████████████████████████████████████████████████████████████████| 2/2 [00:00<00:00,  9.50it/s, val_loss=2.19086957]\n",
      "Training Epoch [6/150]: 100%|██████████████████████████████████████████| 2/2 [00:00<00:00,  9.37it/s, curr_train_loss=1.59939027, val_loss=0.00000000]\n",
      "Validation Epoch [6/150]: 100%|████████████████████████████████████████████████████████████████████| 2/2 [00:00<00:00,  9.52it/s, val_loss=2.01979476]\n",
      "Training Epoch [7/150]: 100%|██████████████████████████████████████████| 2/2 [00:00<00:00,  9.37it/s, curr_train_loss=1.36819053, val_loss=0.00000000]\n",
      "Validation Epoch [7/150]: 100%|████████████████████████████████████████████████████████████████████| 2/2 [00:00<00:00,  9.47it/s, val_loss=1.85307795]\n",
      "Training Epoch [8/150]: 100%|██████████████████████████████████████████| 2/2 [00:00<00:00,  9.39it/s, curr_train_loss=1.17452580, val_loss=0.00000000]\n",
      "Validation Epoch [8/150]: 100%|████████████████████████████████████████████████████████████████████| 2/2 [00:00<00:00,  9.45it/s, val_loss=1.69236290]\n",
      "Training Epoch [9/150]: 100%|██████████████████████████████████████████| 2/2 [00:00<00:00,  9.38it/s, curr_train_loss=1.01288188, val_loss=0.00000000]\n",
      "Validation Epoch [9/150]: 100%|████████████████████████████████████████████████████████████████████| 2/2 [00:00<00:00,  9.48it/s, val_loss=1.55825680]\n",
      "Training Epoch [10/150]: 100%|█████████████████████████████████████████| 2/2 [00:00<00:00,  9.16it/s, curr_train_loss=0.84810191, val_loss=0.00000000]\n",
      "Validation Epoch [10/150]: 100%|███████████████████████████████████████████████████████████████████| 2/2 [00:00<00:00,  9.63it/s, val_loss=1.45618695]\n",
      "Training Epoch [11/150]: 100%|█████████████████████████████████████████| 2/2 [00:00<00:00,  9.57it/s, curr_train_loss=0.72398648, val_loss=0.00000000]\n",
      "Validation Epoch [11/150]: 100%|███████████████████████████████████████████████████████████████████| 2/2 [00:00<00:00,  9.56it/s, val_loss=1.38195699]\n",
      "Training Epoch [12/150]: 100%|█████████████████████████████████████████| 2/2 [00:00<00:00,  9.58it/s, curr_train_loss=0.63443187, val_loss=0.00000000]\n",
      "Validation Epoch [12/150]: 100%|███████████████████████████████████████████████████████████████████| 2/2 [00:00<00:00,  9.47it/s, val_loss=1.31349140]\n",
      "Training Epoch [13/150]: 100%|█████████████████████████████████████████| 2/2 [00:00<00:00,  9.47it/s, curr_train_loss=0.53034043, val_loss=0.00000000]\n",
      "Validation Epoch [13/150]: 100%|███████████████████████████████████████████████████████████████████| 2/2 [00:00<00:00,  9.66it/s, val_loss=1.27130955]\n",
      "Training Epoch [14/150]: 100%|█████████████████████████████████████████| 2/2 [00:00<00:00,  9.48it/s, curr_train_loss=0.47862339, val_loss=0.00000000]\n",
      "Validation Epoch [14/150]: 100%|███████████████████████████████████████████████████████████████████| 2/2 [00:00<00:00,  9.57it/s, val_loss=1.23817402]\n",
      "Training Epoch [15/150]: 100%|█████████████████████████████████████████| 2/2 [00:00<00:00,  9.40it/s, curr_train_loss=0.42839256, val_loss=0.00000000]\n",
      "Validation Epoch [15/150]: 100%|███████████████████████████████████████████████████████████████████| 2/2 [00:00<00:00,  9.45it/s, val_loss=1.19493324]\n",
      "Training Epoch [16/150]: 100%|█████████████████████████████████████████| 2/2 [00:00<00:00,  9.42it/s, curr_train_loss=0.36219642, val_loss=0.00000000]\n",
      "Validation Epoch [16/150]: 100%|███████████████████████████████████████████████████████████████████| 2/2 [00:00<00:00,  9.48it/s, val_loss=1.14243200]\n",
      "Training Epoch [17/150]: 100%|█████████████████████████████████████████| 2/2 [00:00<00:00,  9.48it/s, curr_train_loss=0.31394216, val_loss=0.00000000]\n",
      "Validation Epoch [17/150]: 100%|███████████████████████████████████████████████████████████████████| 2/2 [00:00<00:00,  9.63it/s, val_loss=1.09816578]\n",
      "Training Epoch [18/150]: 100%|█████████████████████████████████████████| 2/2 [00:00<00:00,  9.41it/s, curr_train_loss=0.27713092, val_loss=0.00000000]\n",
      "Validation Epoch [18/150]: 100%|███████████████████████████████████████████████████████████████████| 2/2 [00:00<00:00,  9.51it/s, val_loss=1.06291586]\n",
      "Training Epoch [19/150]: 100%|█████████████████████████████████████████| 2/2 [00:00<00:00,  9.36it/s, curr_train_loss=0.25101312, val_loss=0.00000000]\n",
      "Validation Epoch [19/150]: 100%|███████████████████████████████████████████████████████████████████| 2/2 [00:00<00:00,  9.46it/s, val_loss=1.03083995]\n",
      "Training Epoch [20/150]: 100%|█████████████████████████████████████████| 2/2 [00:00<00:00,  9.22it/s, curr_train_loss=0.22708182, val_loss=0.00000000]\n",
      "Validation Epoch [20/150]: 100%|███████████████████████████████████████████████████████████████████| 2/2 [00:00<00:00,  9.55it/s, val_loss=1.01277024]\n",
      "Training Epoch [21/150]: 100%|█████████████████████████████████████████| 2/2 [00:00<00:00,  9.55it/s, curr_train_loss=0.20034860, val_loss=0.00000000]\n",
      "Validation Epoch [21/150]: 100%|███████████████████████████████████████████████████████████████████| 2/2 [00:00<00:00,  9.59it/s, val_loss=1.00302309]\n",
      "Training Epoch [22/150]: 100%|█████████████████████████████████████████| 2/2 [00:00<00:00,  9.35it/s, curr_train_loss=0.17025613, val_loss=0.00000000]\n",
      "Validation Epoch [22/150]: 100%|███████████████████████████████████████████████████████████████████| 2/2 [00:00<00:00,  9.49it/s, val_loss=0.99952695]\n",
      "Training Epoch [23/150]: 100%|█████████████████████████████████████████| 2/2 [00:00<00:00,  9.48it/s, curr_train_loss=0.15788680, val_loss=0.00000000]\n",
      "Validation Epoch [23/150]: 100%|███████████████████████████████████████████████████████████████████| 2/2 [00:00<00:00,  9.58it/s, val_loss=0.99663678]\n",
      "Training Epoch [24/150]: 100%|█████████████████████████████████████████| 2/2 [00:00<00:00,  9.49it/s, curr_train_loss=0.14031718, val_loss=0.00000000]\n",
      "Validation Epoch [24/150]: 100%|███████████████████████████████████████████████████████████████████| 2/2 [00:00<00:00,  9.65it/s, val_loss=0.99106085]\n",
      "Training Epoch [25/150]: 100%|█████████████████████████████████████████| 2/2 [00:00<00:00,  9.43it/s, curr_train_loss=0.12254747, val_loss=0.00000000]\n",
      "Validation Epoch [25/150]: 100%|███████████████████████████████████████████████████████████████████| 2/2 [00:00<00:00,  9.15it/s, val_loss=0.98360819]\n",
      "Training Epoch [26/150]: 100%|█████████████████████████████████████████| 2/2 [00:00<00:00,  9.47it/s, curr_train_loss=0.11693220, val_loss=0.00000000]\n",
      "Validation Epoch [26/150]: 100%|███████████████████████████████████████████████████████████████████| 2/2 [00:00<00:00,  9.48it/s, val_loss=0.97201407]\n",
      "Training Epoch [27/150]: 100%|█████████████████████████████████████████| 2/2 [00:00<00:00,  9.46it/s, curr_train_loss=0.10078384, val_loss=0.00000000]\n",
      "Validation Epoch [27/150]: 100%|███████████████████████████████████████████████████████████████████| 2/2 [00:00<00:00,  9.56it/s, val_loss=0.95841056]\n",
      "Training Epoch [28/150]: 100%|█████████████████████████████████████████| 2/2 [00:00<00:00,  9.46it/s, curr_train_loss=0.09235540, val_loss=0.00000000]\n",
      "Validation Epoch [28/150]: 100%|███████████████████████████████████████████████████████████████████| 2/2 [00:00<00:00,  9.48it/s, val_loss=0.94448441]\n",
      "Training Epoch [29/150]: 100%|█████████████████████████████████████████| 2/2 [00:00<00:00,  9.41it/s, curr_train_loss=0.08384529, val_loss=0.00000000]\n",
      "Validation Epoch [29/150]: 100%|███████████████████████████████████████████████████████████████████| 2/2 [00:00<00:00,  9.52it/s, val_loss=0.93180159]\n",
      "Training Epoch [30/150]: 100%|█████████████████████████████████████████| 2/2 [00:00<00:00,  9.40it/s, curr_train_loss=0.07836308, val_loss=0.00000000]\n",
      "Validation Epoch [30/150]: 100%|███████████████████████████████████████████████████████████████████| 2/2 [00:00<00:00,  9.52it/s, val_loss=0.92280072]\n",
      "Training Epoch [31/150]: 100%|█████████████████████████████████████████| 2/2 [00:00<00:00,  9.38it/s, curr_train_loss=0.07035343, val_loss=0.00000000]\n",
      "Validation Epoch [31/150]: 100%|███████████████████████████████████████████████████████████████████| 2/2 [00:00<00:00,  9.53it/s, val_loss=0.91704518]\n",
      "Training Epoch [32/150]: 100%|█████████████████████████████████████████| 2/2 [00:00<00:00,  9.16it/s, curr_train_loss=0.06636136, val_loss=0.00000000]\n",
      "Validation Epoch [32/150]: 100%|███████████████████████████████████████████████████████████████████| 2/2 [00:00<00:00,  9.44it/s, val_loss=0.91334695]\n",
      "Training Epoch [33/150]: 100%|█████████████████████████████████████████| 2/2 [00:00<00:00,  9.43it/s, curr_train_loss=0.06080519, val_loss=0.00000000]\n",
      "Validation Epoch [33/150]: 100%|███████████████████████████████████████████████████████████████████| 2/2 [00:00<00:00,  9.56it/s, val_loss=0.90960509]\n",
      "Training Epoch [34/150]: 100%|█████████████████████████████████████████| 2/2 [00:00<00:00,  9.45it/s, curr_train_loss=0.05869964, val_loss=0.00000000]\n",
      "Validation Epoch [34/150]: 100%|███████████████████████████████████████████████████████████████████| 2/2 [00:00<00:00,  9.34it/s, val_loss=0.90696469]\n",
      "Training Epoch [35/150]: 100%|█████████████████████████████████████████| 2/2 [00:00<00:00,  9.29it/s, curr_train_loss=0.05212553, val_loss=0.00000000]\n",
      "Validation Epoch [35/150]: 100%|███████████████████████████████████████████████████████████████████| 2/2 [00:00<00:00,  9.43it/s, val_loss=0.90544838]\n",
      "Training Epoch [36/150]: 100%|█████████████████████████████████████████| 2/2 [00:00<00:00,  9.39it/s, curr_train_loss=0.05020087, val_loss=0.00000000]\n",
      "Validation Epoch [36/150]: 100%|███████████████████████████████████████████████████████████████████| 2/2 [00:00<00:00,  9.48it/s, val_loss=0.90491620]\n",
      "Training Epoch [37/150]: 100%|█████████████████████████████████████████| 2/2 [00:00<00:00,  9.40it/s, curr_train_loss=0.04540084, val_loss=0.00000000]\n",
      "Validation Epoch [37/150]: 100%|███████████████████████████████████████████████████████████████████| 2/2 [00:00<00:00,  9.56it/s, val_loss=0.90612811]\n",
      "Training Epoch [38/150]: 100%|█████████████████████████████████████████| 2/2 [00:00<00:00,  9.12it/s, curr_train_loss=0.04326727, val_loss=0.00000000]\n",
      "Validation Epoch [38/150]: 100%|███████████████████████████████████████████████████████████████████| 2/2 [00:00<00:00,  9.52it/s, val_loss=0.90738791]\n",
      "Training Epoch [39/150]: 100%|█████████████████████████████████████████| 2/2 [00:00<00:00,  9.29it/s, curr_train_loss=0.04016942, val_loss=0.00000000]\n",
      "Validation Epoch [39/150]: 100%|███████████████████████████████████████████████████████████████████| 2/2 [00:00<00:00,  9.39it/s, val_loss=0.90995303]\n",
      "Training Epoch [40/150]: 100%|█████████████████████████████████████████| 2/2 [00:00<00:00,  9.38it/s, curr_train_loss=0.03924362, val_loss=0.00000000]\n",
      "Validation Epoch [40/150]: 100%|███████████████████████████████████████████████████████████████████| 2/2 [00:00<00:00,  9.47it/s, val_loss=0.91227192]\n",
      "Training Epoch [41/150]: 100%|█████████████████████████████████████████| 2/2 [00:00<00:00,  9.30it/s, curr_train_loss=0.03950650, val_loss=0.00000000]\n",
      "Validation Epoch [41/150]: 100%|███████████████████████████████████████████████████████████████████| 2/2 [00:00<00:00,  9.57it/s, val_loss=0.91535091]\n",
      "Training Epoch [42/150]: 100%|█████████████████████████████████████████| 2/2 [00:00<00:00,  9.41it/s, curr_train_loss=0.03614394, val_loss=0.00000000]\n",
      "Validation Epoch [42/150]: 100%|███████████████████████████████████████████████████████████████████| 2/2 [00:00<00:00,  9.51it/s, val_loss=0.91708839]\n",
      "Training Epoch [43/150]: 100%|█████████████████████████████████████████| 2/2 [00:00<00:00,  9.41it/s, curr_train_loss=0.03189888, val_loss=0.00000000]\n",
      "Validation Epoch [43/150]: 100%|███████████████████████████████████████████████████████████████████| 2/2 [00:00<00:00,  9.52it/s, val_loss=0.91889146]\n",
      "Training Epoch [44/150]: 100%|█████████████████████████████████████████| 2/2 [00:00<00:00,  9.41it/s, curr_train_loss=0.03270131, val_loss=0.00000000]\n",
      "Validation Epoch [44/150]: 100%|███████████████████████████████████████████████████████████████████| 2/2 [00:00<00:00,  9.44it/s, val_loss=0.92065531]\n",
      "Training Epoch [45/150]: 100%|█████████████████████████████████████████| 2/2 [00:00<00:00,  9.24it/s, curr_train_loss=0.03040972, val_loss=0.00000000]\n",
      "Validation Epoch [45/150]: 100%|███████████████████████████████████████████████████████████████████| 2/2 [00:00<00:00,  9.49it/s, val_loss=0.92270052]\n",
      "Training Epoch [46/150]: 100%|█████████████████████████████████████████| 2/2 [00:00<00:00,  9.42it/s, curr_train_loss=0.03078921, val_loss=0.00000000]\n",
      "Validation Epoch [46/150]: 100%|███████████████████████████████████████████████████████████████████| 2/2 [00:00<00:00,  9.42it/s, val_loss=0.92405200]\n",
      "Training Epoch [47/150]: 100%|█████████████████████████████████████████| 2/2 [00:00<00:00,  9.35it/s, curr_train_loss=0.02930398, val_loss=0.00000000]\n",
      "Validation Epoch [47/150]: 100%|███████████████████████████████████████████████████████████████████| 2/2 [00:00<00:00,  9.32it/s, val_loss=0.92523172]\n",
      "Training Epoch [48/150]: 100%|█████████████████████████████████████████| 2/2 [00:00<00:00,  9.35it/s, curr_train_loss=0.02764830, val_loss=0.00000000]\n",
      "Validation Epoch [48/150]: 100%|███████████████████████████████████████████████████████████████████| 2/2 [00:00<00:00,  9.42it/s, val_loss=0.92531949]\n",
      "Training Epoch [49/150]: 100%|█████████████████████████████████████████| 2/2 [00:00<00:00,  9.41it/s, curr_train_loss=0.02594079, val_loss=0.00000000]\n",
      "Validation Epoch [49/150]: 100%|███████████████████████████████████████████████████████████████████| 2/2 [00:00<00:00,  9.49it/s, val_loss=0.92503196]\n",
      "Training Epoch [50/150]: 100%|█████████████████████████████████████████| 2/2 [00:00<00:00,  9.44it/s, curr_train_loss=0.02526853, val_loss=0.00000000]\n",
      "Validation Epoch [50/150]: 100%|███████████████████████████████████████████████████████████████████| 2/2 [00:00<00:00,  9.40it/s, val_loss=0.92472380]\n",
      "Training Epoch [51/150]: 100%|█████████████████████████████████████████| 2/2 [00:00<00:00,  9.41it/s, curr_train_loss=0.02354410, val_loss=0.00000000]\n",
      "Validation Epoch [51/150]: 100%|███████████████████████████████████████████████████████████████████| 2/2 [00:00<00:00,  9.47it/s, val_loss=0.92432359]\n",
      "Training Epoch [52/150]: 100%|█████████████████████████████████████████| 2/2 [00:00<00:00,  9.35it/s, curr_train_loss=0.02275249, val_loss=0.00000000]\n",
      "Validation Epoch [52/150]: 100%|███████████████████████████████████████████████████████████████████| 2/2 [00:00<00:00,  9.43it/s, val_loss=0.92376879]\n",
      "Training Epoch [53/150]: 100%|█████████████████████████████████████████| 2/2 [00:00<00:00,  9.41it/s, curr_train_loss=0.02293269, val_loss=0.00000000]\n",
      "Validation Epoch [53/150]: 100%|███████████████████████████████████████████████████████████████████| 2/2 [00:00<00:00,  9.41it/s, val_loss=0.92453486]\n",
      "Training Epoch [54/150]: 100%|█████████████████████████████████████████| 2/2 [00:00<00:00,  9.44it/s, curr_train_loss=0.02127226, val_loss=0.00000000]\n",
      "Validation Epoch [54/150]: 100%|███████████████████████████████████████████████████████████████████| 2/2 [00:00<00:00,  9.52it/s, val_loss=0.92537031]\n",
      "Training Epoch [55/150]: 100%|█████████████████████████████████████████| 2/2 [00:00<00:00,  9.43it/s, curr_train_loss=0.02167461, val_loss=0.00000000]\n",
      "Validation Epoch [55/150]: 100%|███████████████████████████████████████████████████████████████████| 2/2 [00:00<00:00,  9.51it/s, val_loss=0.92670229]\n",
      "Training Epoch [56/150]: 100%|█████████████████████████████████████████| 2/2 [00:00<00:00,  9.41it/s, curr_train_loss=0.02112147, val_loss=0.00000000]\n",
      "Validation Epoch [56/150]: 100%|███████████████████████████████████████████████████████████████████| 2/2 [00:00<00:00,  9.52it/s, val_loss=0.92722684]\n",
      "Training Epoch [57/150]: 100%|█████████████████████████████████████████| 2/2 [00:00<00:00,  9.38it/s, curr_train_loss=0.02015695, val_loss=0.00000000]\n",
      "Validation Epoch [57/150]: 100%|███████████████████████████████████████████████████████████████████| 2/2 [00:00<00:00,  9.51it/s, val_loss=0.92729372]\n",
      "Training Epoch [58/150]: 100%|█████████████████████████████████████████| 2/2 [00:00<00:00,  9.43it/s, curr_train_loss=0.01911062, val_loss=0.00000000]\n",
      "Validation Epoch [58/150]: 100%|███████████████████████████████████████████████████████████████████| 2/2 [00:00<00:00,  9.57it/s, val_loss=0.92724398]\n",
      "Training Epoch [59/150]: 100%|█████████████████████████████████████████| 2/2 [00:00<00:00,  8.98it/s, curr_train_loss=0.01857357, val_loss=0.00000000]\n",
      "Validation Epoch [59/150]: 100%|███████████████████████████████████████████████████████████████████| 2/2 [00:00<00:00,  9.57it/s, val_loss=0.92772126]\n",
      "Training Epoch [60/150]: 100%|█████████████████████████████████████████| 2/2 [00:00<00:00,  9.53it/s, curr_train_loss=0.01657860, val_loss=0.00000000]\n",
      "Validation Epoch [60/150]: 100%|███████████████████████████████████████████████████████████████████| 2/2 [00:00<00:00,  9.64it/s, val_loss=0.92891297]\n",
      "Training Epoch [61/150]: 100%|█████████████████████████████████████████| 2/2 [00:00<00:00,  9.49it/s, curr_train_loss=0.01805726, val_loss=0.00000000]\n",
      "Validation Epoch [61/150]: 100%|███████████████████████████████████████████████████████████████████| 2/2 [00:00<00:00,  9.38it/s, val_loss=0.92930901]\n",
      "Training Epoch [62/150]: 100%|█████████████████████████████████████████| 2/2 [00:00<00:00,  9.39it/s, curr_train_loss=0.01655105, val_loss=0.00000000]\n",
      "Validation Epoch [62/150]: 100%|███████████████████████████████████████████████████████████████████| 2/2 [00:00<00:00,  9.44it/s, val_loss=0.92977574]\n",
      "Training Epoch [63/150]: 100%|█████████████████████████████████████████| 2/2 [00:00<00:00,  9.41it/s, curr_train_loss=0.01679291, val_loss=0.00000000]\n",
      "Validation Epoch [63/150]: 100%|███████████████████████████████████████████████████████████████████| 2/2 [00:00<00:00,  9.53it/s, val_loss=0.93067759]\n",
      "Training Epoch [64/150]: 100%|█████████████████████████████████████████| 2/2 [00:00<00:00,  9.48it/s, curr_train_loss=0.01629504, val_loss=0.00000000]\n",
      "Validation Epoch [64/150]: 100%|███████████████████████████████████████████████████████████████████| 2/2 [00:00<00:00,  9.48it/s, val_loss=0.93189517]\n",
      "Training Epoch [65/150]: 100%|█████████████████████████████████████████| 2/2 [00:00<00:00,  9.44it/s, curr_train_loss=0.01525457, val_loss=0.00000000]\n",
      "Validation Epoch [65/150]: 100%|███████████████████████████████████████████████████████████████████| 2/2 [00:00<00:00,  9.28it/s, val_loss=0.93408895]\n",
      "Training Epoch [66/150]: 100%|█████████████████████████████████████████| 2/2 [00:00<00:00,  9.37it/s, curr_train_loss=0.01505197, val_loss=0.00000000]\n",
      "Validation Epoch [66/150]: 100%|███████████████████████████████████████████████████████████████████| 2/2 [00:00<00:00,  9.52it/s, val_loss=0.93561897]\n",
      "Training Epoch [67/150]: 100%|█████████████████████████████████████████| 2/2 [00:00<00:00,  9.29it/s, curr_train_loss=0.01478019, val_loss=0.00000000]\n",
      "Validation Epoch [67/150]: 100%|███████████████████████████████████████████████████████████████████| 2/2 [00:00<00:00,  9.55it/s, val_loss=0.93720385]\n",
      "Training Epoch [68/150]: 100%|█████████████████████████████████████████| 2/2 [00:00<00:00,  9.25it/s, curr_train_loss=0.01430774, val_loss=0.00000000]\n",
      "Validation Epoch [68/150]: 100%|███████████████████████████████████████████████████████████████████| 2/2 [00:00<00:00,  9.52it/s, val_loss=0.93787858]\n",
      "Training Epoch [69/150]: 100%|█████████████████████████████████████████| 2/2 [00:00<00:00,  9.39it/s, curr_train_loss=0.01414700, val_loss=0.00000000]\n",
      "Validation Epoch [69/150]: 100%|███████████████████████████████████████████████████████████████████| 2/2 [00:00<00:00,  9.49it/s, val_loss=0.93842348]\n",
      "Training Epoch [70/150]: 100%|█████████████████████████████████████████| 2/2 [00:00<00:00,  9.43it/s, curr_train_loss=0.01299280, val_loss=0.00000000]\n",
      "Validation Epoch [70/150]: 100%|███████████████████████████████████████████████████████████████████| 2/2 [00:00<00:00,  9.54it/s, val_loss=0.93831003]\n",
      "Training Epoch [71/150]: 100%|█████████████████████████████████████████| 2/2 [00:00<00:00,  9.41it/s, curr_train_loss=0.01388785, val_loss=0.00000000]\n",
      "Validation Epoch [71/150]: 100%|███████████████████████████████████████████████████████████████████| 2/2 [00:00<00:00,  9.54it/s, val_loss=0.93890196]\n",
      "Training Epoch [72/150]: 100%|█████████████████████████████████████████| 2/2 [00:00<00:00,  9.40it/s, curr_train_loss=0.01284426, val_loss=0.00000000]\n",
      "Validation Epoch [72/150]: 100%|███████████████████████████████████████████████████████████████████| 2/2 [00:00<00:00,  9.50it/s, val_loss=0.94047219]\n",
      "Training Epoch [73/150]: 100%|█████████████████████████████████████████| 2/2 [00:00<00:00,  9.29it/s, curr_train_loss=0.01202230, val_loss=0.00000000]\n",
      "Validation Epoch [73/150]: 100%|███████████████████████████████████████████████████████████████████| 2/2 [00:00<00:00,  9.39it/s, val_loss=0.94247720]\n",
      "Training Epoch [74/150]: 100%|█████████████████████████████████████████| 2/2 [00:00<00:00,  9.25it/s, curr_train_loss=0.01232804, val_loss=0.00000000]\n",
      "Validation Epoch [74/150]: 100%|███████████████████████████████████████████████████████████████████| 2/2 [00:00<00:00,  9.51it/s, val_loss=0.94412339]\n",
      "Training Epoch [75/150]: 100%|█████████████████████████████████████████| 2/2 [00:00<00:00,  9.44it/s, curr_train_loss=0.01188498, val_loss=0.00000000]\n",
      "Validation Epoch [75/150]: 100%|███████████████████████████████████████████████████████████████████| 2/2 [00:00<00:00,  9.49it/s, val_loss=0.94549471]\n",
      "Training Epoch [76/150]: 100%|█████████████████████████████████████████| 2/2 [00:00<00:00,  9.35it/s, curr_train_loss=0.01125357, val_loss=0.00000000]\n",
      "Validation Epoch [76/150]: 100%|███████████████████████████████████████████████████████████████████| 2/2 [00:00<00:00,  9.53it/s, val_loss=0.94652820]\n",
      "Training Epoch [77/150]: 100%|█████████████████████████████████████████| 2/2 [00:00<00:00,  9.40it/s, curr_train_loss=0.01152137, val_loss=0.00000000]\n",
      "Validation Epoch [77/150]: 100%|███████████████████████████████████████████████████████████████████| 2/2 [00:00<00:00,  9.52it/s, val_loss=0.94724539]\n",
      "Training Epoch [78/150]: 100%|█████████████████████████████████████████| 2/2 [00:00<00:00,  9.42it/s, curr_train_loss=0.01068551, val_loss=0.00000000]\n",
      "Validation Epoch [78/150]: 100%|███████████████████████████████████████████████████████████████████| 2/2 [00:00<00:00,  9.51it/s, val_loss=0.94869071]\n",
      "Training Epoch [79/150]: 100%|█████████████████████████████████████████| 2/2 [00:00<00:00,  9.42it/s, curr_train_loss=0.01065967, val_loss=0.00000000]\n",
      "Validation Epoch [79/150]: 100%|███████████████████████████████████████████████████████████████████| 2/2 [00:00<00:00,  9.51it/s, val_loss=0.94880888]\n",
      "Training Epoch [80/150]: 100%|█████████████████████████████████████████| 2/2 [00:00<00:00,  9.35it/s, curr_train_loss=0.00985895, val_loss=0.00000000]\n",
      "Validation Epoch [80/150]: 100%|███████████████████████████████████████████████████████████████████| 2/2 [00:00<00:00,  9.54it/s, val_loss=0.94899160]\n",
      "Training Epoch [81/150]: 100%|█████████████████████████████████████████| 2/2 [00:00<00:00,  9.40it/s, curr_train_loss=0.01051890, val_loss=0.00000000]\n",
      "Validation Epoch [81/150]: 100%|███████████████████████████████████████████████████████████████████| 2/2 [00:00<00:00,  9.50it/s, val_loss=0.94907567]\n",
      "Training Epoch [82/150]: 100%|█████████████████████████████████████████| 2/2 [00:00<00:00,  9.40it/s, curr_train_loss=0.01032356, val_loss=0.00000000]\n",
      "Validation Epoch [82/150]: 100%|███████████████████████████████████████████████████████████████████| 2/2 [00:00<00:00,  9.52it/s, val_loss=0.94895273]\n",
      "Training Epoch [83/150]: 100%|█████████████████████████████████████████| 2/2 [00:00<00:00,  9.31it/s, curr_train_loss=0.00978738, val_loss=0.00000000]\n",
      "Validation Epoch [83/150]: 100%|███████████████████████████████████████████████████████████████████| 2/2 [00:00<00:00,  9.64it/s, val_loss=0.94950750]\n",
      "Training Epoch [84/150]: 100%|█████████████████████████████████████████| 2/2 [00:00<00:00,  9.40it/s, curr_train_loss=0.00955421, val_loss=0.00000000]\n",
      "Validation Epoch [84/150]: 100%|███████████████████████████████████████████████████████████████████| 2/2 [00:00<00:00,  9.47it/s, val_loss=0.95044398]\n",
      "Training Epoch [85/150]: 100%|█████████████████████████████████████████| 2/2 [00:00<00:00,  9.39it/s, curr_train_loss=0.00920491, val_loss=0.00000000]\n",
      "Validation Epoch [85/150]: 100%|███████████████████████████████████████████████████████████████████| 2/2 [00:00<00:00,  9.47it/s, val_loss=0.95137820]\n",
      "Training Epoch [86/150]: 100%|█████████████████████████████████████████| 2/2 [00:00<00:00,  9.43it/s, curr_train_loss=0.00936687, val_loss=0.00000000]\n",
      "Validation Epoch [86/150]: 100%|███████████████████████████████████████████████████████████████████| 2/2 [00:00<00:00,  9.41it/s, val_loss=0.95254266]\n",
      "Training Epoch [87/150]: 100%|█████████████████████████████████████████| 2/2 [00:00<00:00,  9.40it/s, curr_train_loss=0.00899605, val_loss=0.00000000]\n",
      "Validation Epoch [87/150]: 100%|███████████████████████████████████████████████████████████████████| 2/2 [00:00<00:00,  9.49it/s, val_loss=0.95358622]\n",
      "Training Epoch [88/150]: 100%|█████████████████████████████████████████| 2/2 [00:00<00:00,  9.33it/s, curr_train_loss=0.00849080, val_loss=0.00000000]\n",
      "Validation Epoch [88/150]: 100%|███████████████████████████████████████████████████████████████████| 2/2 [00:00<00:00,  9.47it/s, val_loss=0.95449576]\n",
      "Training Epoch [89/150]: 100%|█████████████████████████████████████████| 2/2 [00:00<00:00,  9.28it/s, curr_train_loss=0.00866463, val_loss=0.00000000]\n",
      "Validation Epoch [89/150]: 100%|███████████████████████████████████████████████████████████████████| 2/2 [00:00<00:00,  9.52it/s, val_loss=0.95582759]\n",
      "Training Epoch [90/150]: 100%|█████████████████████████████████████████| 2/2 [00:00<00:00,  9.42it/s, curr_train_loss=0.00877165, val_loss=0.00000000]\n",
      "Validation Epoch [90/150]: 100%|███████████████████████████████████████████████████████████████████| 2/2 [00:00<00:00,  9.52it/s, val_loss=0.95671934]\n",
      "Training Epoch [91/150]: 100%|█████████████████████████████████████████| 2/2 [00:00<00:00,  9.49it/s, curr_train_loss=0.00844577, val_loss=0.00000000]\n",
      "Validation Epoch [91/150]: 100%|███████████████████████████████████████████████████████████████████| 2/2 [00:00<00:00,  9.55it/s, val_loss=0.95754230]\n",
      "Training Epoch [92/150]: 100%|█████████████████████████████████████████| 2/2 [00:00<00:00,  9.56it/s, curr_train_loss=0.00821525, val_loss=0.00000000]\n",
      "Validation Epoch [92/150]: 100%|███████████████████████████████████████████████████████████████████| 2/2 [00:00<00:00,  9.45it/s, val_loss=0.95789957]\n",
      "Training Epoch [93/150]: 100%|█████████████████████████████████████████| 2/2 [00:00<00:00,  9.38it/s, curr_train_loss=0.00785190, val_loss=0.00000000]\n",
      "Validation Epoch [93/150]: 100%|███████████████████████████████████████████████████████████████████| 2/2 [00:00<00:00,  9.40it/s, val_loss=0.95823419]\n",
      "Training Epoch [94/150]: 100%|█████████████████████████████████████████| 2/2 [00:00<00:00,  9.37it/s, curr_train_loss=0.00819170, val_loss=0.00000000]\n",
      "Validation Epoch [94/150]: 100%|███████████████████████████████████████████████████████████████████| 2/2 [00:00<00:00,  9.54it/s, val_loss=0.95849535]\n",
      "Training Epoch [95/150]: 100%|█████████████████████████████████████████| 2/2 [00:00<00:00,  9.43it/s, curr_train_loss=0.00774864, val_loss=0.00000000]\n",
      "Validation Epoch [95/150]: 100%|███████████████████████████████████████████████████████████████████| 2/2 [00:00<00:00,  9.49it/s, val_loss=0.95899338]\n",
      "Training Epoch [96/150]: 100%|█████████████████████████████████████████| 2/2 [00:00<00:00,  9.47it/s, curr_train_loss=0.00788012, val_loss=0.00000000]\n",
      "Validation Epoch [96/150]: 100%|███████████████████████████████████████████████████████████████████| 2/2 [00:00<00:00,  9.49it/s, val_loss=0.95944345]\n",
      "Training Epoch [97/150]: 100%|█████████████████████████████████████████| 2/2 [00:00<00:00,  9.47it/s, curr_train_loss=0.00740471, val_loss=0.00000000]\n",
      "Validation Epoch [97/150]: 100%|███████████████████████████████████████████████████████████████████| 2/2 [00:00<00:00,  9.49it/s, val_loss=0.95943823]\n",
      "Training Epoch [98/150]: 100%|█████████████████████████████████████████| 2/2 [00:00<00:00,  9.49it/s, curr_train_loss=0.00756300, val_loss=0.00000000]\n",
      "Validation Epoch [98/150]: 100%|███████████████████████████████████████████████████████████████████| 2/2 [00:00<00:00,  9.48it/s, val_loss=0.95965105]\n",
      "Training Epoch [99/150]: 100%|█████████████████████████████████████████| 2/2 [00:00<00:00,  9.42it/s, curr_train_loss=0.00717669, val_loss=0.00000000]\n",
      "Validation Epoch [99/150]: 100%|███████████████████████████████████████████████████████████████████| 2/2 [00:00<00:00,  9.50it/s, val_loss=0.95986021]\n",
      "Training Epoch [100/150]: 100%|████████████████████████████████████████| 2/2 [00:00<00:00,  9.44it/s, curr_train_loss=0.00689026, val_loss=0.00000000]\n",
      "Validation Epoch [100/150]: 100%|██████████████████████████████████████████████████████████████████| 2/2 [00:00<00:00,  9.55it/s, val_loss=0.96002677]\n",
      "Training Epoch [101/150]: 100%|████████████████████████████████████████| 2/2 [00:00<00:00,  9.41it/s, curr_train_loss=0.00707796, val_loss=0.00000000]\n",
      "Validation Epoch [101/150]: 100%|██████████████████████████████████████████████████████████████████| 2/2 [00:00<00:00,  9.50it/s, val_loss=0.96049806]\n",
      "Training Epoch [102/150]: 100%|████████████████████████████████████████| 2/2 [00:00<00:00,  9.42it/s, curr_train_loss=0.00658955, val_loss=0.00000000]\n",
      "Validation Epoch [102/150]: 100%|██████████████████████████████████████████████████████████████████| 2/2 [00:00<00:00,  9.50it/s, val_loss=0.96147963]\n",
      "Training Epoch [103/150]: 100%|████████████████████████████████████████| 2/2 [00:00<00:00,  9.48it/s, curr_train_loss=0.00669939, val_loss=0.00000000]\n",
      "Validation Epoch [103/150]: 100%|██████████████████████████████████████████████████████████████████| 2/2 [00:00<00:00,  9.43it/s, val_loss=0.96218872]\n",
      "Training Epoch [104/150]: 100%|████████████████████████████████████████| 2/2 [00:00<00:00,  9.31it/s, curr_train_loss=0.00657766, val_loss=0.00000000]\n",
      "Validation Epoch [104/150]: 100%|██████████████████████████████████████████████████████████████████| 2/2 [00:00<00:00,  9.46it/s, val_loss=0.96301144]\n",
      "Training Epoch [105/150]: 100%|████████████████████████████████████████| 2/2 [00:00<00:00,  9.42it/s, curr_train_loss=0.00674891, val_loss=0.00000000]\n",
      "Validation Epoch [105/150]: 100%|██████████████████████████████████████████████████████████████████| 2/2 [00:00<00:00,  9.44it/s, val_loss=0.96388289]\n",
      "Training Epoch [106/150]: 100%|████████████████████████████████████████| 2/2 [00:00<00:00,  9.36it/s, curr_train_loss=0.00643440, val_loss=0.00000000]\n",
      "Validation Epoch [106/150]: 100%|██████████████████████████████████████████████████████████████████| 2/2 [00:00<00:00,  9.46it/s, val_loss=0.96403870]\n",
      "Training Epoch [107/150]: 100%|████████████████████████████████████████| 2/2 [00:00<00:00,  9.38it/s, curr_train_loss=0.00623883, val_loss=0.00000000]\n",
      "Validation Epoch [107/150]: 100%|██████████████████████████████████████████████████████████████████| 2/2 [00:00<00:00,  9.44it/s, val_loss=0.96430665]\n",
      "Training Epoch [108/150]: 100%|████████████████████████████████████████| 2/2 [00:00<00:00,  9.41it/s, curr_train_loss=0.00608447, val_loss=0.00000000]\n",
      "Validation Epoch [108/150]: 100%|██████████████████████████████████████████████████████████████████| 2/2 [00:00<00:00,  9.47it/s, val_loss=0.96504304]\n",
      "Training Epoch [109/150]: 100%|████████████████████████████████████████| 2/2 [00:00<00:00,  9.39it/s, curr_train_loss=0.00591574, val_loss=0.00000000]\n",
      "Validation Epoch [109/150]: 100%|██████████████████████████████████████████████████████████████████| 2/2 [00:00<00:00,  9.51it/s, val_loss=0.96578649]\n",
      "Training Epoch [110/150]: 100%|████████████████████████████████████████| 2/2 [00:00<00:00,  9.41it/s, curr_train_loss=0.00588052, val_loss=0.00000000]\n",
      "Validation Epoch [110/150]: 100%|██████████████████████████████████████████████████████████████████| 2/2 [00:00<00:00,  9.50it/s, val_loss=0.96629524]\n",
      "Training Epoch [111/150]: 100%|████████████████████████████████████████| 2/2 [00:00<00:00,  9.40it/s, curr_train_loss=0.00606997, val_loss=0.00000000]\n",
      "Validation Epoch [111/150]: 100%|██████████████████████████████████████████████████████████████████| 2/2 [00:00<00:00,  9.43it/s, val_loss=0.96664581]\n",
      "Training Epoch [112/150]: 100%|████████████████████████████████████████| 2/2 [00:00<00:00,  9.35it/s, curr_train_loss=0.00582016, val_loss=0.00000000]\n",
      "Validation Epoch [112/150]: 100%|██████████████████████████████████████████████████████████████████| 2/2 [00:00<00:00,  9.53it/s, val_loss=0.96728694]\n",
      "Training Epoch [113/150]: 100%|████████████████████████████████████████| 2/2 [00:00<00:00,  9.42it/s, curr_train_loss=0.00564468, val_loss=0.00000000]\n",
      "Validation Epoch [113/150]: 100%|██████████████████████████████████████████████████████████████████| 2/2 [00:00<00:00,  9.51it/s, val_loss=0.96746224]\n",
      "Training Epoch [114/150]: 100%|████████████████████████████████████████| 2/2 [00:00<00:00,  9.44it/s, curr_train_loss=0.00548436, val_loss=0.00000000]\n",
      "Validation Epoch [114/150]: 100%|██████████████████████████████████████████████████████████████████| 2/2 [00:00<00:00,  9.49it/s, val_loss=0.96803015]\n",
      "Training Epoch [115/150]: 100%|████████████████████████████████████████| 2/2 [00:00<00:00,  9.46it/s, curr_train_loss=0.00532814, val_loss=0.00000000]\n",
      "Validation Epoch [115/150]: 100%|██████████████████████████████████████████████████████████████████| 2/2 [00:00<00:00,  9.48it/s, val_loss=0.96869043]\n",
      "Training Epoch [116/150]: 100%|████████████████████████████████████████| 2/2 [00:00<00:00,  9.39it/s, curr_train_loss=0.00530233, val_loss=0.00000000]\n",
      "Validation Epoch [116/150]: 100%|██████████████████████████████████████████████████████████████████| 2/2 [00:00<00:00,  9.48it/s, val_loss=0.96969056]\n",
      "Training Epoch [117/150]: 100%|████████████████████████████████████████| 2/2 [00:00<00:00,  9.40it/s, curr_train_loss=0.00537981, val_loss=0.00000000]\n",
      "Validation Epoch [117/150]: 100%|██████████████████████████████████████████████████████████████████| 2/2 [00:00<00:00,  9.50it/s, val_loss=0.97032365]\n",
      "Training Epoch [118/150]: 100%|████████████████████████████████████████| 2/2 [00:00<00:00,  9.44it/s, curr_train_loss=0.00517566, val_loss=0.00000000]\n",
      "Validation Epoch [118/150]: 100%|██████████████████████████████████████████████████████████████████| 2/2 [00:00<00:00,  9.46it/s, val_loss=0.97093284]\n",
      "Training Epoch [119/150]: 100%|████████████████████████████████████████| 2/2 [00:00<00:00,  9.36it/s, curr_train_loss=0.00518948, val_loss=0.00000000]\n",
      "Validation Epoch [119/150]: 100%|██████████████████████████████████████████████████████████████████| 2/2 [00:00<00:00,  9.48it/s, val_loss=0.97164461]\n",
      "Training Epoch [120/150]: 100%|████████████████████████████████████████| 2/2 [00:00<00:00,  9.43it/s, curr_train_loss=0.00510326, val_loss=0.00000000]\n",
      "Validation Epoch [120/150]: 100%|██████████████████████████████████████████████████████████████████| 2/2 [00:00<00:00,  9.49it/s, val_loss=0.97182459]\n",
      "Training Epoch [121/150]: 100%|████████████████████████████████████████| 2/2 [00:00<00:00,  9.40it/s, curr_train_loss=0.00512811, val_loss=0.00000000]\n",
      "Validation Epoch [121/150]: 100%|██████████████████████████████████████████████████████████████████| 2/2 [00:00<00:00,  9.50it/s, val_loss=0.97194898]\n",
      "Training Epoch [122/150]: 100%|████████████████████████████████████████| 2/2 [00:00<00:00,  9.34it/s, curr_train_loss=0.00513909, val_loss=0.00000000]\n",
      "Validation Epoch [122/150]: 100%|██████████████████████████████████████████████████████████████████| 2/2 [00:00<00:00,  9.48it/s, val_loss=0.97254160]\n",
      "Training Epoch [123/150]: 100%|████████████████████████████████████████| 2/2 [00:00<00:00,  9.09it/s, curr_train_loss=0.00487594, val_loss=0.00000000]\n",
      "Validation Epoch [123/150]: 100%|██████████████████████████████████████████████████████████████████| 2/2 [00:00<00:00,  9.57it/s, val_loss=0.97281486]\n",
      "Training Epoch [124/150]: 100%|████████████████████████████████████████| 2/2 [00:00<00:00,  9.57it/s, curr_train_loss=0.00474333, val_loss=0.00000000]\n",
      "Validation Epoch [124/150]: 100%|██████████████████████████████████████████████████████████████████| 2/2 [00:00<00:00,  9.53it/s, val_loss=0.97346154]\n",
      "Training Epoch [125/150]: 100%|████████████████████████████████████████| 2/2 [00:00<00:00,  9.22it/s, curr_train_loss=0.00466098, val_loss=0.00000000]\n",
      "Validation Epoch [125/150]: 100%|██████████████████████████████████████████████████████████████████| 2/2 [00:00<00:00,  9.60it/s, val_loss=0.97477338]\n",
      "Training Epoch [126/150]: 100%|████████████████████████████████████████| 2/2 [00:00<00:00,  9.42it/s, curr_train_loss=0.00473471, val_loss=0.00000000]\n",
      "Validation Epoch [126/150]: 100%|██████████████████████████████████████████████████████████████████| 2/2 [00:00<00:00,  9.52it/s, val_loss=0.97602221]\n",
      "Training Epoch [127/150]: 100%|████████████████████████████████████████| 2/2 [00:00<00:00,  9.40it/s, curr_train_loss=0.00463488, val_loss=0.00000000]\n",
      "Validation Epoch [127/150]: 100%|██████████████████████████████████████████████████████████████████| 2/2 [00:00<00:00,  9.44it/s, val_loss=0.97693071]\n",
      "Training Epoch [128/150]: 100%|████████████████████████████████████████| 2/2 [00:00<00:00,  9.33it/s, curr_train_loss=0.00454117, val_loss=0.00000000]\n",
      "Validation Epoch [128/150]: 100%|██████████████████████████████████████████████████████████████████| 2/2 [00:00<00:00,  9.44it/s, val_loss=0.97795129]\n",
      "Training Epoch [129/150]: 100%|████████████████████████████████████████| 2/2 [00:00<00:00,  9.37it/s, curr_train_loss=0.00429366, val_loss=0.00000000]\n",
      "Validation Epoch [129/150]: 100%|██████████████████████████████████████████████████████████████████| 2/2 [00:00<00:00,  9.38it/s, val_loss=0.97865456]\n",
      "Training Epoch [130/150]: 100%|████████████████████████████████████████| 2/2 [00:00<00:00,  9.36it/s, curr_train_loss=0.00437542, val_loss=0.00000000]\n",
      "Validation Epoch [130/150]: 100%|██████████████████████████████████████████████████████████████████| 2/2 [00:00<00:00,  9.46it/s, val_loss=0.97905180]\n",
      "Training Epoch [131/150]: 100%|████████████████████████████████████████| 2/2 [00:00<00:00,  9.40it/s, curr_train_loss=0.00456547, val_loss=0.00000000]\n",
      "Validation Epoch [131/150]: 100%|██████████████████████████████████████████████████████████████████| 2/2 [00:00<00:00,  9.50it/s, val_loss=0.97951332]\n",
      "Training Epoch [132/150]: 100%|████████████████████████████████████████| 2/2 [00:00<00:00,  9.40it/s, curr_train_loss=0.00432214, val_loss=0.00000000]\n",
      "Validation Epoch [132/150]: 100%|██████████████████████████████████████████████████████████████████| 2/2 [00:00<00:00,  9.60it/s, val_loss=0.98012283]\n",
      "Training Epoch [133/150]: 100%|████████████████████████████████████████| 2/2 [00:00<00:00,  9.44it/s, curr_train_loss=0.00428112, val_loss=0.00000000]\n",
      "Validation Epoch [133/150]: 100%|██████████████████████████████████████████████████████████████████| 2/2 [00:00<00:00,  9.55it/s, val_loss=0.98109332]\n",
      "Training Epoch [134/150]: 100%|████████████████████████████████████████| 2/2 [00:00<00:00,  9.38it/s, curr_train_loss=0.00407238, val_loss=0.00000000]\n",
      "Validation Epoch [134/150]: 100%|██████████████████████████████████████████████████████████████████| 2/2 [00:00<00:00,  9.52it/s, val_loss=0.98200044]\n",
      "Training Epoch [135/150]: 100%|████████████████████████████████████████| 2/2 [00:00<00:00,  9.36it/s, curr_train_loss=0.00420116, val_loss=0.00000000]\n",
      "Validation Epoch [135/150]: 100%|██████████████████████████████████████████████████████████████████| 2/2 [00:00<00:00,  9.40it/s, val_loss=0.98300523]\n",
      "Training Epoch [136/150]: 100%|████████████████████████████████████████| 2/2 [00:00<00:00,  9.41it/s, curr_train_loss=0.00408077, val_loss=0.00000000]\n",
      "Validation Epoch [136/150]: 100%|██████████████████████████████████████████████████████████████████| 2/2 [00:00<00:00,  9.48it/s, val_loss=0.98458683]\n",
      "Training Epoch [137/150]: 100%|████████████████████████████████████████| 2/2 [00:00<00:00,  9.34it/s, curr_train_loss=0.00402998, val_loss=0.00000000]\n",
      "Validation Epoch [137/150]: 100%|██████████████████████████████████████████████████████████████████| 2/2 [00:00<00:00,  9.51it/s, val_loss=0.98573768]\n",
      "Training Epoch [138/150]: 100%|████████████████████████████████████████| 2/2 [00:00<00:00,  9.58it/s, curr_train_loss=0.00383641, val_loss=0.00000000]\n",
      "Validation Epoch [138/150]: 100%|██████████████████████████████████████████████████████████████████| 2/2 [00:00<00:00,  9.66it/s, val_loss=0.98659015]\n",
      "Training Epoch [139/150]: 100%|████████████████████████████████████████| 2/2 [00:00<00:00,  9.36it/s, curr_train_loss=0.00391896, val_loss=0.00000000]\n",
      "Validation Epoch [139/150]: 100%|██████████████████████████████████████████████████████████████████| 2/2 [00:00<00:00,  9.51it/s, val_loss=0.98749352]\n",
      "Training Epoch [140/150]: 100%|████████████████████████████████████████| 2/2 [00:00<00:00,  9.37it/s, curr_train_loss=0.00389314, val_loss=0.00000000]\n",
      "Validation Epoch [140/150]: 100%|██████████████████████████████████████████████████████████████████| 2/2 [00:00<00:00,  9.52it/s, val_loss=0.98825529]\n",
      "Training Epoch [141/150]: 100%|████████████████████████████████████████| 2/2 [00:00<00:00,  9.59it/s, curr_train_loss=0.00386173, val_loss=0.00000000]\n",
      "Validation Epoch [141/150]: 100%|██████████████████████████████████████████████████████████████████| 2/2 [00:00<00:00,  9.58it/s, val_loss=0.98894876]\n",
      "Training Epoch [142/150]: 100%|████████████████████████████████████████| 2/2 [00:00<00:00,  9.42it/s, curr_train_loss=0.00362823, val_loss=0.00000000]\n",
      "Validation Epoch [142/150]: 100%|██████████████████████████████████████████████████████████████████| 2/2 [00:00<00:00,  9.51it/s, val_loss=0.98941493]\n",
      "Training Epoch [143/150]: 100%|████████████████████████████████████████| 2/2 [00:00<00:00,  9.27it/s, curr_train_loss=0.00364404, val_loss=0.00000000]\n",
      "Validation Epoch [143/150]: 100%|██████████████████████████████████████████████████████████████████| 2/2 [00:00<00:00,  9.55it/s, val_loss=0.98973981]\n",
      "Training Epoch [144/150]: 100%|████████████████████████████████████████| 2/2 [00:00<00:00,  9.42it/s, curr_train_loss=0.00376360, val_loss=0.00000000]\n",
      "Validation Epoch [144/150]: 100%|██████████████████████████████████████████████████████████████████| 2/2 [00:00<00:00,  9.50it/s, val_loss=0.98956555]\n",
      "Training Epoch [145/150]: 100%|████████████████████████████████████████| 2/2 [00:00<00:00,  9.40it/s, curr_train_loss=0.00376140, val_loss=0.00000000]\n",
      "Validation Epoch [145/150]: 100%|██████████████████████████████████████████████████████████████████| 2/2 [00:00<00:00,  9.49it/s, val_loss=0.98924601]\n",
      "Training Epoch [146/150]: 100%|████████████████████████████████████████| 2/2 [00:00<00:00,  9.39it/s, curr_train_loss=0.00345877, val_loss=0.00000000]\n",
      "Validation Epoch [146/150]: 100%|██████████████████████████████████████████████████████████████████| 2/2 [00:00<00:00,  9.45it/s, val_loss=0.98941022]\n",
      "Training Epoch [147/150]: 100%|████████████████████████████████████████| 2/2 [00:00<00:00,  9.39it/s, curr_train_loss=0.00354330, val_loss=0.00000000]\n",
      "Validation Epoch [147/150]: 100%|██████████████████████████████████████████████████████████████████| 2/2 [00:00<00:00,  9.50it/s, val_loss=0.98995125]\n",
      "Training Epoch [148/150]: 100%|████████████████████████████████████████| 2/2 [00:00<00:00,  9.43it/s, curr_train_loss=0.00340396, val_loss=0.00000000]\n",
      "Validation Epoch [148/150]: 100%|██████████████████████████████████████████████████████████████████| 2/2 [00:00<00:00,  9.50it/s, val_loss=0.99017069]\n",
      "Training Epoch [149/150]: 100%|████████████████████████████████████████| 2/2 [00:00<00:00,  9.36it/s, curr_train_loss=0.00350330, val_loss=0.00000000]\n",
      "Validation Epoch [149/150]: 100%|██████████████████████████████████████████████████████████████████| 2/2 [00:00<00:00,  9.55it/s, val_loss=0.99030671]\n",
      "Training Epoch [150/150]: 100%|████████████████████████████████████████| 2/2 [00:00<00:00,  9.42it/s, curr_train_loss=0.00356486, val_loss=0.00000000]\n",
      "Validation Epoch [150/150]: 100%|██████████████████████████████████████████████████████████████████| 2/2 [00:00<00:00,  9.46it/s, val_loss=0.99085402]"
     ]
    },
    {
     "name": "stdout",
     "output_type": "stream",
     "text": [
      "Finished training!\n",
      "How did we do? Let's check the accuracy of the defaut classifier on the training and validation sets:\n",
      "Training Acc: 100.0%\n",
      "Validation Acc: 76.0%\n"
     ]
    },
    {
     "name": "stderr",
     "output_type": "stream",
     "text": [
      "\n"
     ]
    }
   ],
   "source": [
    "from exercise_code.models import Classifier\n",
    "from exercise_code.models import Encoder\n",
    "\n",
    "# Create the encoder and the classifier.\n",
    "encoder = Encoder(hparams).to(device)\n",
    "classifier = Classifier(hparams, encoder).to(device)\n",
    "\n",
    "# Create a tensorboard logger.\n",
    "# NOTE: In order to see the logs, run the following command in the terminal: tensorboard --logdir=./\n",
    "# Also, in order to reset the logs, delete the logs folder MANUALLY.\n",
    "\n",
    "path = os.path.join('logs', 'cls_logs')\n",
    "num_of_runs = len(os.listdir(path)) if os.path.exists(path) else 0\n",
    "path = os.path.join(path, f'run_{num_of_runs + 1}')\n",
    "\n",
    "tb_logger = SummaryWriter(path)\n",
    "\n",
    "# Train the classifier.\n",
    "labled_train_loader = torch.utils.data.DataLoader(train_100_dataset, batch_size=hparams['batch_size'], shuffle=True)\n",
    "labled_val_loader = torch.utils.data.DataLoader(val_100_dataset, batch_size=hparams['batch_size'], shuffle=False)\n",
    "\n",
    "epochs = hparams.get('epochs', 10)\n",
    "loss_func = nn.CrossEntropyLoss() # The loss function we use for classification.\n",
    "train_classifier(classifier, labled_train_loader, labled_val_loader, loss_func, tb_logger, epochs=epochs, name=\"Default\")\n",
    "\n",
    "print(\"Finished training!\")\n",
    "print(\"How did we do? Let's check the accuracy of the defaut classifier on the training and validation sets:\")\n",
    "print(f\"Training Acc: {classifier.getAcc(labled_train_loader)[1] * 100}%\")\n",
    "print(f\"Validation Acc: {classifier.getAcc(labled_val_loader)[1] * 100}%\")"
   ]
  },
  {
   "attachments": {},
   "cell_type": "markdown",
   "metadata": {
    "id": "i16vmHZXMNkm",
    "pycharm": {
     "name": "#%% md\n"
    }
   },
   "source": [
    "# 3. Autoencoder\n",
    "\n",
    "With only a limited number of labeled images, it's challenging to achieve high performance. We have no money left to pay the student to create more labels, and labeling the data ourselves is out of question. A commonly used approach would be to apply data augmentation to maximize the potential of our limited labeled data, but here we provide another way to solve this problem: **transfer learning**.\n",
    "\n",
    "For each input, the autoencoder tries to reproduce the same image as an output. The difficulty behind this task is that the autoencoder has to go through a low dimensional bottleneck, which is called the **latent space**.\n",
    "In other words, the autoencoder learns to represent all the input information in a low dimensional latent space - it learns to compress the input distribution. To train the autoencoder, we use the mean squared error loss, which calculates the discrepancy between the input pixels and the output pixels. The best part is that this loss function doesn't require any labels!\n",
    "\n",
    "By pretraining the autoencoder in this way on the large amount of unlabeled data, we can capture valuable latent representations of the input images. Then, we transfer the weights of the encoder to our classifier, enabling it to benefit from the knowledge learned during the unsupervised pretraining phase. \n",
    "\n",
    "![autoencoder](img/autoencoder.png)\n",
    "\n",
    "After this, our encoder has learned to extract meaningful information from the inputs. We can then transfer its weights\n",
    "to a classifier architecture and finetune it with our labeled data, i.e., instead of initializing our encoder randomly we are re-using the weights of our trained encoder from our autoencoder network. \n",
    "\n",
    "![autoencoder_pretrained](img/pretrained.png)\n",
    "\n",
    "## 3.1 Decoder\n",
    "\n",
    "Before we can train our autoencoder, you have to initialize the your `decoder` architecture. The simplest way is to mirror your encoder architecture which ensure that the `latent space` output of our `encoder` is correctly transformed to our input shape.\n",
    "\n",
    "<div class=\"alert alert-info\">\n",
    "    <h3>Task: Implement</h3>\n",
    "    <p>Implement the <code>Decoder</code> and <code>Autoencoder</code> class initialization in <code>exercise_code/models.py</code>.</p>\n",
    "    <p>Implemet <code>training_step</code> and <code>validation_step</code> of the autoencoder, following the pipeline we've shown you in train_classifier().</p>\n",
    "    <p>Note the differences between the classificaiton task, and now the regression task!</p>\n",
    "\n",
    "\n",
    "</div>\n",
    "\n",
    "## 3.2 Autoencoder Training\n",
    "\n",
    "Now, we can train the full autoencoder consisting of both en- and decoder."
   ]
  },
  {
   "cell_type": "code",
   "execution_count": 12,
   "metadata": {
    "id": "xqqdoLDgMNkm"
   },
   "outputs": [],
   "source": [
    "from exercise_code.models import Autoencoder, Encoder, Decoder\n",
    "\n",
    "########################################################################\n",
    "# TODO: Define your hyperparameters here!                              #\n",
    "# Hint: use a large batch_size                                         #\n",
    "########################################################################\n",
    "\n",
    "hparams = {    \n",
    "    \"device\" : device,\n",
    "    \"num_workers\" : 8,\n",
    "    \"epochs\" : 20, # Don't do too many epochs on large batch size\n",
    "    \"batch_size\" : 256, # Batch size, use large for autoencoder!\n",
    "    \n",
    "    \"num_classes\" : 10, # There are 10 digits\n",
    "    \"input_size\" : 28 * 28, # Number of pixels in images\n",
    "    \n",
    "    \"learning_rate\" : 1e-3, # Optimizer\n",
    "    \"weight_decay\" : 1e-5, # ADAM\n",
    "    \n",
    "    \"dropout_p\" : 0.5, # Dropout probability for the classifier, reduces overfitting\n",
    "    \"latent_dim\" : 20, # Encoder output dim, Decode input dim, classifier input dim. If this it too high, overfitting will occur\n",
    "    \"decoder_hidden\" : 1400, # Decoder Hidden, make large so we can reconstruct data well\n",
    "    \"encoder_hidden\" : 400, # Encoder Hidden\n",
    "    \"classifier_hidden\" : 400 # Classifier Hidden\n",
    "}\n",
    "\n",
    "\n",
    "########################################################################\n",
    "#                           END OF YOUR CODE                           #\n",
    "########################################################################\n",
    "encoder_pretrained = Encoder(hparams).to(device)\n",
    "decoder = Decoder(hparams).to(device)\n",
    "autoencoder = Autoencoder(hparams, encoder_pretrained, decoder).to(device)"
   ]
  },
  {
   "attachments": {},
   "cell_type": "markdown",
   "metadata": {
    "id": "uRuIIm8YMNkn"
   },
   "source": [
    "Some tests to check whether we'll accept your model."
   ]
  },
  {
   "cell_type": "code",
   "execution_count": 13,
   "metadata": {
    "id": "SoAaC-NqMNkn"
   },
   "outputs": [
    {
     "name": "stdout",
     "output_type": "stream",
     "text": [
      "# Paramters: Your model has \u001b[92m1.45\u001b[0m mio. params.\n",
      "Model accepted!\n"
     ]
    }
   ],
   "source": [
    "from exercise_code.Util import printModelInfo, load_model\n",
    "_ = printModelInfo(autoencoder)"
   ]
  },
  {
   "attachments": {},
   "cell_type": "markdown",
   "metadata": {
    "id": "plQwnphtqggl"
   },
   "source": [
    "After implementing the relevant functions - read the following code, and then run it.\n",
    "Keep in mind that an epoch here will take much longer since\n",
    "we are iterating through 5,8600 images instead of just 100.\n",
    "\n",
    "For speed, colab is indeed recommended. "
   ]
  },
  {
   "cell_type": "code",
   "execution_count": 14,
   "metadata": {
    "id": "_uuzXMq6zjbb",
    "tags": []
   },
   "outputs": [
    {
     "name": "stderr",
     "output_type": "stream",
     "text": [
      "Training Epoch [0/20]: 100%|████████████████████████████████████████████| 229/229 [00:06<00:00, 35.85it/s, train_loss=0.26005125, val_loss=0.00000000]\n",
      "Validation Epoch [0/20]: 100%|█████████████████████████████████████████████████████████████████████| 4/4 [00:00<00:00, 85.75it/s, val_loss=0.17442477]\n",
      "Training Epoch [1/20]: 100%|████████████████████████████████████████████| 229/229 [00:06<00:00, 37.62it/s, train_loss=0.16071806, val_loss=0.17442477]\n",
      "Validation Epoch [1/20]: 100%|█████████████████████████████████████████████████████████████████████| 4/4 [00:00<00:00, 74.69it/s, val_loss=0.15361145]\n",
      "Training Epoch [2/20]: 100%|████████████████████████████████████████████| 229/229 [00:06<00:00, 34.88it/s, train_loss=0.14590492, val_loss=0.15361145]\n",
      "Validation Epoch [2/20]: 100%|█████████████████████████████████████████████████████████████████████| 4/4 [00:00<00:00, 70.95it/s, val_loss=0.14227876]\n",
      "Training Epoch [3/20]: 100%|████████████████████████████████████████████| 229/229 [00:06<00:00, 33.81it/s, train_loss=0.13649991, val_loss=0.14227876]\n",
      "Validation Epoch [3/20]: 100%|█████████████████████████████████████████████████████████████████████| 4/4 [00:00<00:00, 84.24it/s, val_loss=0.13518543]\n",
      "Training Epoch [4/20]: 100%|████████████████████████████████████████████| 229/229 [00:06<00:00, 36.61it/s, train_loss=0.12802964, val_loss=0.13518543]\n",
      "Validation Epoch [4/20]: 100%|█████████████████████████████████████████████████████████████████████| 4/4 [00:00<00:00, 85.27it/s, val_loss=0.12849785]\n",
      "Training Epoch [5/20]: 100%|████████████████████████████████████████████| 229/229 [00:06<00:00, 33.49it/s, train_loss=0.12369008, val_loss=0.12849785]\n",
      "Validation Epoch [5/20]: 100%|█████████████████████████████████████████████████████████████████████| 4/4 [00:00<00:00, 71.08it/s, val_loss=0.12470222]\n",
      "Training Epoch [6/20]: 100%|████████████████████████████████████████████| 229/229 [00:07<00:00, 32.65it/s, train_loss=0.11995042, val_loss=0.12470222]\n",
      "Validation Epoch [6/20]: 100%|█████████████████████████████████████████████████████████████████████| 4/4 [00:00<00:00, 69.11it/s, val_loss=0.12131413]\n",
      "Training Epoch [7/20]: 100%|████████████████████████████████████████████| 229/229 [00:06<00:00, 34.06it/s, train_loss=0.11689542, val_loss=0.12131413]\n",
      "Validation Epoch [7/20]: 100%|█████████████████████████████████████████████████████████████████████| 4/4 [00:00<00:00, 68.22it/s, val_loss=0.11869381]\n",
      "Training Epoch [8/20]: 100%|████████████████████████████████████████████| 229/229 [00:06<00:00, 33.74it/s, train_loss=0.11287886, val_loss=0.11869381]\n",
      "Validation Epoch [8/20]: 100%|█████████████████████████████████████████████████████████████████████| 4/4 [00:00<00:00, 73.49it/s, val_loss=0.11559276]\n",
      "Training Epoch [9/20]: 100%|████████████████████████████████████████████| 229/229 [00:06<00:00, 33.07it/s, train_loss=0.11106467, val_loss=0.11559276]\n",
      "Validation Epoch [9/20]: 100%|█████████████████████████████████████████████████████████████████████| 4/4 [00:00<00:00, 57.57it/s, val_loss=0.11402596]\n",
      "Training Epoch [10/20]: 100%|███████████████████████████████████████████| 229/229 [00:07<00:00, 32.47it/s, train_loss=0.10949690, val_loss=0.11402596]\n",
      "Validation Epoch [10/20]: 100%|████████████████████████████████████████████████████████████████████| 4/4 [00:00<00:00, 70.98it/s, val_loss=0.11240968]\n",
      "Training Epoch [11/20]: 100%|███████████████████████████████████████████| 229/229 [00:06<00:00, 33.53it/s, train_loss=0.10802716, val_loss=0.11240968]\n",
      "Validation Epoch [11/20]: 100%|████████████████████████████████████████████████████████████████████| 4/4 [00:00<00:00, 74.81it/s, val_loss=0.11124744]\n",
      "Training Epoch [12/20]: 100%|███████████████████████████████████████████| 229/229 [00:06<00:00, 33.13it/s, train_loss=0.10555712, val_loss=0.11124744]\n",
      "Validation Epoch [12/20]: 100%|████████████████████████████████████████████████████████████████████| 4/4 [00:00<00:00, 81.21it/s, val_loss=0.10917642]\n",
      "Training Epoch [13/20]: 100%|███████████████████████████████████████████| 229/229 [00:06<00:00, 33.03it/s, train_loss=0.10456940, val_loss=0.10917642]\n",
      "Validation Epoch [13/20]: 100%|████████████████████████████████████████████████████████████████████| 4/4 [00:00<00:00, 62.77it/s, val_loss=0.10840620]\n",
      "Training Epoch [14/20]: 100%|███████████████████████████████████████████| 229/229 [00:06<00:00, 35.46it/s, train_loss=0.10374115, val_loss=0.10840620]\n",
      "Validation Epoch [14/20]: 100%|████████████████████████████████████████████████████████████████████| 4/4 [00:00<00:00, 83.89it/s, val_loss=0.10774228]\n",
      "Training Epoch [15/20]: 100%|███████████████████████████████████████████| 229/229 [00:06<00:00, 34.90it/s, train_loss=0.10291748, val_loss=0.10774228]\n",
      "Validation Epoch [15/20]: 100%|████████████████████████████████████████████████████████████████████| 4/4 [00:00<00:00, 77.85it/s, val_loss=0.10716111]\n",
      "Training Epoch [16/20]: 100%|███████████████████████████████████████████| 229/229 [00:06<00:00, 33.59it/s, train_loss=0.10123472, val_loss=0.10716111]\n",
      "Validation Epoch [16/20]: 100%|████████████████████████████████████████████████████████████████████| 4/4 [00:00<00:00, 71.68it/s, val_loss=0.10561872]\n",
      "Training Epoch [17/20]: 100%|███████████████████████████████████████████| 229/229 [00:06<00:00, 32.74it/s, train_loss=0.10063881, val_loss=0.10561872]\n",
      "Validation Epoch [17/20]: 100%|████████████████████████████████████████████████████████████████████| 4/4 [00:00<00:00, 71.39it/s, val_loss=0.10510777]\n",
      "Training Epoch [18/20]: 100%|███████████████████████████████████████████| 229/229 [00:06<00:00, 33.39it/s, train_loss=0.10011866, val_loss=0.10510777]\n",
      "Validation Epoch [18/20]: 100%|████████████████████████████████████████████████████████████████████| 4/4 [00:00<00:00, 80.42it/s, val_loss=0.10475684]\n",
      "Training Epoch [19/20]: 100%|███████████████████████████████████████████| 229/229 [00:06<00:00, 34.39it/s, train_loss=0.09961208, val_loss=0.10475684]\n",
      "Validation Epoch [19/20]: 100%|████████████████████████████████████████████████████████████████████| 4/4 [00:00<00:00, 64.69it/s, val_loss=0.10424557]"
     ]
    },
    {
     "name": "stdout",
     "output_type": "stream",
     "text": [
      "Finished training!\n"
     ]
    },
    {
     "name": "stderr",
     "output_type": "stream",
     "text": [
      "\n"
     ]
    }
   ],
   "source": [
    "encoder_pretrained = Encoder(hparams).to(device)\n",
    "decoder = Decoder(hparams).to(device)\n",
    "autoencoder = Autoencoder(hparams, encoder_pretrained, decoder).to(device)\n",
    "\n",
    "def train_model(model, train_loader, val_loader, loss_func, tb_logger, epochs=10, name='Autoencoder'):\n",
    "    \n",
    "    optimizer = model.optimizer\n",
    "    scheduler = torch.optim.lr_scheduler.StepLR(optimizer, step_size=epochs * len(train_loader) / 5, gamma=0.7)\n",
    "    validation_loss = 0\n",
    "    model = model.to(device)\n",
    "    for epoch in range(epochs):\n",
    "        \n",
    "        # Train\n",
    "        training_loop = create_tqdm_bar(train_loader, desc=f'Training Epoch [{epoch}/{epochs}]')\n",
    "        training_loss = 0\n",
    "        for train_iteration, batch in training_loop:\n",
    "            \n",
    "            loss = model.training_step(batch, loss_func) # You need to implement this function.\n",
    "            training_loss += loss.item()\n",
    "            scheduler.step()\n",
    "\n",
    "            # Update the progress bar.\n",
    "            training_loop.set_postfix(train_loss = \"{:.8f}\".format(training_loss / (train_iteration + 1)), val_loss = \"{:.8f}\".format(validation_loss))\n",
    "\n",
    "            # Update the tensorboard logger.\n",
    "            tb_logger.add_scalar(f'{name}/train_loss', loss.item(), epoch * len(train_loader) + train_iteration)\n",
    "\n",
    "        # Validation\n",
    "        val_loop = create_tqdm_bar(val_loader, desc=f'Validation Epoch [{epoch}/{epochs}]')\n",
    "        validation_loss = 0\n",
    "        with torch.no_grad():\n",
    "            for val_iteration, batch in val_loop:\n",
    "                loss = model.validation_step(batch, loss_func) # You need to implement this function.\n",
    "                validation_loss += loss.item()\n",
    "\n",
    "                # Update the progress bar.\n",
    "                val_loop.set_postfix(val_loss = \"{:.8f}\".format(validation_loss / (val_iteration + 1)))\n",
    "\n",
    "                # Update the tensorboard logger.\n",
    "                tb_logger.add_scalar(f'{name}/val_loss', validation_loss / (val_iteration + 1), epoch * len(val_loader) + val_iteration)\n",
    "        # This value is for the progress bar of the training loop.\n",
    "        validation_loss /= len(val_loader)\n",
    "\n",
    "# Creat a tensorboard logger.\n",
    "# NOTE: In order to see the logs, run the following command in the terminal: tensorboard --logdir=./\n",
    "# Also, in order to reset the logs, delete the logs folder MANUALLY.\n",
    "\n",
    "path = os.path.join('logs', 'ae_logs')\n",
    "num_of_runs = len(os.listdir(path)) if os.path.exists(path) else 0\n",
    "path = os.path.join(path, f'run_{num_of_runs + 1}')\n",
    "tb_logger = SummaryWriter(path)\n",
    "\n",
    "# Train the classifier.\n",
    "unlabled_train_loader = torch.utils.data.DataLoader(unlabeled_train, batch_size=hparams['batch_size'], shuffle=True)\n",
    "unlabled_val_loader = torch.utils.data.DataLoader(unlabeled_val, batch_size=hparams['batch_size'], shuffle=False)\n",
    "\n",
    "epochs = hparams.get('epochs', 5)\n",
    "loss_func = nn.MSELoss() # The loss function we use for regression (Could also be nn.L1Loss()).\n",
    "train_model(autoencoder, unlabled_train_loader, unlabled_val_loader, loss_func, tb_logger, epochs=epochs, name='Autoencoder')\n",
    "\n",
    "print(\"Finished training!\")"
   ]
  },
  {
   "attachments": {},
   "cell_type": "markdown",
   "metadata": {
    "id": "vdgiYWy4MNkq"
   },
   "source": [
    "Once trained, let's have a look at the reconstructed validation images (If you have not already looked at them in TensorBoard)."
   ]
  },
  {
   "cell_type": "code",
   "execution_count": 15,
   "metadata": {
    "id": "a991mKcyMNkq"
   },
   "outputs": [
    {
     "data": {
      "image/png": "[encoded data removed]",
      "text/plain": [
       "<Figure size 1600x1600 with 64 Axes>"
      ]
     },
     "metadata": {},
     "output_type": "display_data"
    }
   ],
   "source": [
    "reconstructions = autoencoder.getReconstructions(unlabled_val_loader)\n",
    "for i in range(64):\n",
    "    plt.subplot(8,8,i+1)\n",
    "    plt.axis('off')\n",
    "    plt.imshow(reconstructions[i], cmap='gray', interpolation='none')\n",
    "    \n",
    "plt.tight_layout()"
   ]
  },
  {
   "attachments": {},
   "cell_type": "markdown",
   "metadata": {
    "id": "R2hrP5b1MNkr"
   },
   "source": [
    "# 4. Transfer Learning\n",
    "\n",
    "## 4.1 The pretrained Classifier\n",
    "\n",
    "Now we initialize another classifier but this time with the pretrained encoder."
   ]
  },
  {
   "cell_type": "code",
   "execution_count": 16,
   "metadata": {
    "id": "OELYQAUmMNkr"
   },
   "outputs": [],
   "source": [
    "from exercise_code.models import Classifier\n",
    "from copy import deepcopy\n",
    "\n",
    "hparams = {}\n",
    "########################################################################\n",
    "# TODO: Define your hyperparameters here!                             #\n",
    "########################################################################\n",
    "\n",
    "hparams = {    \n",
    "    \"device\" : device,\n",
    "    \"num_workers\" : 8,\n",
    "    \"epochs\" : 100, # Don't do too many epochs on large batch size\n",
    "    \"batch_size\" : 64, # Use same batch size as in classifier training\n",
    "    \n",
    "    \"num_classes\" : 10, # There are 10 digits\n",
    "    \"input_size\" : 28 * 28, # Number of pixels in images\n",
    "    \n",
    "    \"learning_rate\" : 5e-3, # Optimizer\n",
    "    \"weight_decay\" : 1e-5, # ADAM\n",
    "    \n",
    "    \"dropout_p\" : 0.5, # Dropout probability for the classifier, reduces overfitting\n",
    "    \"latent_dim\" : 20, # Encoder output dim, Decode input dim, classifier input dim. If this it too high, overfitting will occur\n",
    "    \"decoder_hidden\" : 50, # Decoder Hidden, make large so we can reconstruct data well\n",
    "    \"encoder_hidden\" : 50, # Encoder Hidden\n",
    "    \"classifier_hidden\" : 50 # Classifier Hidden\n",
    "}\n",
    "\n",
    "########################################################################\n",
    "#                           END OF YOUR CODE                           #\n",
    "########################################################################\n",
    "\n",
    "encoder_pretrained_copy = deepcopy(encoder_pretrained)\n",
    "classifier_pretrained = Classifier(hparams, encoder_pretrained_copy).to(device)"
   ]
  },
  {
   "attachments": {},
   "cell_type": "markdown",
   "metadata": {
    "id": "R8FUtih6MNks"
   },
   "source": [
    "Let's define another trainer that will utilize the pretrained classifier, allowing us to compare its performance with the classifier trained only on the labeled data. To achieve a reasonable result, you may need to optimize the parameters you defined earlier."
   ]
  },
  {
   "cell_type": "code",
   "execution_count": 17,
   "metadata": {
    "id": "Mx_euorWMNks"
   },
   "outputs": [
    {
     "name": "stderr",
     "output_type": "stream",
     "text": [
      "Training Epoch [1/100]: 100%|██████████████████████████████████████████| 2/2 [00:00<00:00,  9.51it/s, curr_train_loss=4.66051614, val_loss=0.00000000]\n",
      "Validation Epoch [1/100]: 100%|████████████████████████████████████████████████████████████████████| 2/2 [00:00<00:00,  9.62it/s, val_loss=3.97498751]\n",
      "Training Epoch [2/100]: 100%|██████████████████████████████████████████| 2/2 [00:00<00:00,  9.45it/s, curr_train_loss=1.66386306, val_loss=0.00000000]\n",
      "Validation Epoch [2/100]: 100%|████████████████████████████████████████████████████████████████████| 2/2 [00:00<00:00,  9.52it/s, val_loss=2.10533381]\n",
      "Training Epoch [3/100]: 100%|██████████████████████████████████████████| 2/2 [00:00<00:00,  9.36it/s, curr_train_loss=0.56794184, val_loss=0.00000000]\n",
      "Validation Epoch [3/100]: 100%|████████████████████████████████████████████████████████████████████| 2/2 [00:00<00:00,  9.52it/s, val_loss=1.54414099]\n",
      "Training Epoch [4/100]: 100%|██████████████████████████████████████████| 2/2 [00:00<00:00,  9.38it/s, curr_train_loss=0.45388597, val_loss=0.00000000]\n",
      "Validation Epoch [4/100]: 100%|████████████████████████████████████████████████████████████████████| 2/2 [00:00<00:00,  9.41it/s, val_loss=1.40813082]\n",
      "Training Epoch [5/100]: 100%|██████████████████████████████████████████| 2/2 [00:00<00:00,  9.50it/s, curr_train_loss=0.23815710, val_loss=0.00000000]\n",
      "Validation Epoch [5/100]: 100%|████████████████████████████████████████████████████████████████████| 2/2 [00:00<00:00,  9.43it/s, val_loss=1.27490517]\n",
      "Training Epoch [6/100]: 100%|██████████████████████████████████████████| 2/2 [00:00<00:00,  9.36it/s, curr_train_loss=0.05656336, val_loss=0.00000000]\n",
      "Validation Epoch [6/100]: 100%|████████████████████████████████████████████████████████████████████| 2/2 [00:00<00:00,  9.53it/s, val_loss=1.30987191]\n",
      "Training Epoch [7/100]: 100%|██████████████████████████████████████████| 2/2 [00:00<00:00,  9.36it/s, curr_train_loss=0.05056222, val_loss=0.00000000]\n",
      "Validation Epoch [7/100]: 100%|████████████████████████████████████████████████████████████████████| 2/2 [00:00<00:00,  9.48it/s, val_loss=1.44387573]\n",
      "Training Epoch [8/100]: 100%|██████████████████████████████████████████| 2/2 [00:00<00:00,  9.48it/s, curr_train_loss=0.05704363, val_loss=0.00000000]\n",
      "Validation Epoch [8/100]: 100%|████████████████████████████████████████████████████████████████████| 2/2 [00:00<00:00,  9.56it/s, val_loss=1.47612178]\n",
      "Training Epoch [9/100]: 100%|██████████████████████████████████████████| 2/2 [00:00<00:00,  9.35it/s, curr_train_loss=0.02713764, val_loss=0.00000000]\n",
      "Validation Epoch [9/100]: 100%|████████████████████████████████████████████████████████████████████| 2/2 [00:00<00:00,  9.52it/s, val_loss=1.51230365]\n",
      "Training Epoch [10/100]: 100%|█████████████████████████████████████████| 2/2 [00:00<00:00,  9.35it/s, curr_train_loss=0.01590374, val_loss=0.00000000]\n",
      "Validation Epoch [10/100]: 100%|███████████████████████████████████████████████████████████████████| 2/2 [00:00<00:00,  9.49it/s, val_loss=1.54073632]\n",
      "Training Epoch [11/100]: 100%|█████████████████████████████████████████| 2/2 [00:00<00:00,  9.36it/s, curr_train_loss=0.00890603, val_loss=0.00000000]\n",
      "Validation Epoch [11/100]: 100%|███████████████████████████████████████████████████████████████████| 2/2 [00:00<00:00,  9.53it/s, val_loss=1.54959261]\n",
      "Training Epoch [12/100]: 100%|█████████████████████████████████████████| 2/2 [00:00<00:00,  9.47it/s, curr_train_loss=0.00528217, val_loss=0.00000000]\n",
      "Validation Epoch [12/100]: 100%|███████████████████████████████████████████████████████████████████| 2/2 [00:00<00:00,  9.59it/s, val_loss=1.55301529]\n",
      "Training Epoch [13/100]: 100%|█████████████████████████████████████████| 2/2 [00:00<00:00,  9.46it/s, curr_train_loss=0.00418579, val_loss=0.00000000]\n",
      "Validation Epoch [13/100]: 100%|███████████████████████████████████████████████████████████████████| 2/2 [00:00<00:00,  9.54it/s, val_loss=1.55707604]\n",
      "Training Epoch [14/100]: 100%|█████████████████████████████████████████| 2/2 [00:00<00:00,  9.46it/s, curr_train_loss=0.00333124, val_loss=0.00000000]\n",
      "Validation Epoch [14/100]: 100%|███████████████████████████████████████████████████████████████████| 2/2 [00:00<00:00,  9.62it/s, val_loss=1.56302083]\n",
      "Training Epoch [15/100]: 100%|█████████████████████████████████████████| 2/2 [00:00<00:00,  9.43it/s, curr_train_loss=0.00288123, val_loss=0.00000000]\n",
      "Validation Epoch [15/100]: 100%|███████████████████████████████████████████████████████████████████| 2/2 [00:00<00:00,  9.55it/s, val_loss=1.56814480]\n",
      "Training Epoch [16/100]: 100%|█████████████████████████████████████████| 2/2 [00:00<00:00,  9.27it/s, curr_train_loss=0.00229423, val_loss=0.00000000]\n",
      "Validation Epoch [16/100]: 100%|███████████████████████████████████████████████████████████████████| 2/2 [00:00<00:00,  9.65it/s, val_loss=1.57210481]\n",
      "Training Epoch [17/100]: 100%|█████████████████████████████████████████| 2/2 [00:00<00:00,  9.47it/s, curr_train_loss=0.00178375, val_loss=0.00000000]\n",
      "Validation Epoch [17/100]: 100%|███████████████████████████████████████████████████████████████████| 2/2 [00:00<00:00,  9.52it/s, val_loss=1.57478744]\n",
      "Training Epoch [18/100]: 100%|█████████████████████████████████████████| 2/2 [00:00<00:00,  9.35it/s, curr_train_loss=0.00143093, val_loss=0.00000000]\n",
      "Validation Epoch [18/100]: 100%|███████████████████████████████████████████████████████████████████| 2/2 [00:00<00:00,  9.57it/s, val_loss=1.57661235]\n",
      "Training Epoch [19/100]: 100%|█████████████████████████████████████████| 2/2 [00:00<00:00,  9.46it/s, curr_train_loss=0.00123898, val_loss=0.00000000]\n",
      "Validation Epoch [19/100]: 100%|███████████████████████████████████████████████████████████████████| 2/2 [00:00<00:00,  9.69it/s, val_loss=1.57696480]\n",
      "Training Epoch [20/100]: 100%|█████████████████████████████████████████| 2/2 [00:00<00:00,  9.34it/s, curr_train_loss=0.00102553, val_loss=0.00000000]\n",
      "Validation Epoch [20/100]: 100%|███████████████████████████████████████████████████████████████████| 2/2 [00:00<00:00,  9.51it/s, val_loss=1.57551342]\n",
      "Training Epoch [21/100]: 100%|█████████████████████████████████████████| 2/2 [00:00<00:00,  9.37it/s, curr_train_loss=0.00084334, val_loss=0.00000000]\n",
      "Validation Epoch [21/100]: 100%|███████████████████████████████████████████████████████████████████| 2/2 [00:00<00:00,  9.51it/s, val_loss=1.57349724]\n",
      "Training Epoch [22/100]: 100%|█████████████████████████████████████████| 2/2 [00:00<00:00,  9.42it/s, curr_train_loss=0.00081196, val_loss=0.00000000]\n",
      "Validation Epoch [22/100]: 100%|███████████████████████████████████████████████████████████████████| 2/2 [00:00<00:00,  9.65it/s, val_loss=1.57061082]\n",
      "Training Epoch [23/100]: 100%|█████████████████████████████████████████| 2/2 [00:00<00:00,  9.50it/s, curr_train_loss=0.00069005, val_loss=0.00000000]\n",
      "Validation Epoch [23/100]: 100%|███████████████████████████████████████████████████████████████████| 2/2 [00:00<00:00,  9.55it/s, val_loss=1.56708288]\n",
      "Training Epoch [24/100]: 100%|█████████████████████████████████████████| 2/2 [00:00<00:00,  9.29it/s, curr_train_loss=0.00060232, val_loss=0.00000000]\n",
      "Validation Epoch [24/100]: 100%|███████████████████████████████████████████████████████████████████| 2/2 [00:00<00:00,  9.53it/s, val_loss=1.56324816]\n",
      "Training Epoch [25/100]: 100%|█████████████████████████████████████████| 2/2 [00:00<00:00,  9.33it/s, curr_train_loss=0.00050829, val_loss=0.00000000]\n",
      "Validation Epoch [25/100]: 100%|███████████████████████████████████████████████████████████████████| 2/2 [00:00<00:00,  9.52it/s, val_loss=1.55948287]\n",
      "Training Epoch [26/100]: 100%|█████████████████████████████████████████| 2/2 [00:00<00:00,  9.38it/s, curr_train_loss=0.00052912, val_loss=0.00000000]\n",
      "Validation Epoch [26/100]: 100%|███████████████████████████████████████████████████████████████████| 2/2 [00:00<00:00,  9.51it/s, val_loss=1.55622667]\n",
      "Training Epoch [27/100]: 100%|█████████████████████████████████████████| 2/2 [00:00<00:00,  9.31it/s, curr_train_loss=0.00043617, val_loss=0.00000000]\n",
      "Validation Epoch [27/100]: 100%|███████████████████████████████████████████████████████████████████| 2/2 [00:00<00:00,  9.50it/s, val_loss=1.55362099]\n",
      "Training Epoch [28/100]: 100%|█████████████████████████████████████████| 2/2 [00:00<00:00,  9.35it/s, curr_train_loss=0.00041153, val_loss=0.00000000]\n",
      "Validation Epoch [28/100]: 100%|███████████████████████████████████████████████████████████████████| 2/2 [00:00<00:00,  9.49it/s, val_loss=1.55143863]\n",
      "Training Epoch [29/100]: 100%|█████████████████████████████████████████| 2/2 [00:00<00:00,  9.33it/s, curr_train_loss=0.00036654, val_loss=0.00000000]\n",
      "Validation Epoch [29/100]: 100%|███████████████████████████████████████████████████████████████████| 2/2 [00:00<00:00,  9.50it/s, val_loss=1.54980475]\n",
      "Training Epoch [30/100]: 100%|█████████████████████████████████████████| 2/2 [00:00<00:00,  9.32it/s, curr_train_loss=0.00037306, val_loss=0.00000000]\n",
      "Validation Epoch [30/100]: 100%|███████████████████████████████████████████████████████████████████| 2/2 [00:00<00:00,  9.50it/s, val_loss=1.54831481]\n",
      "Training Epoch [31/100]: 100%|█████████████████████████████████████████| 2/2 [00:00<00:00,  9.20it/s, curr_train_loss=0.00034256, val_loss=0.00000000]\n",
      "Validation Epoch [31/100]: 100%|███████████████████████████████████████████████████████████████████| 2/2 [00:00<00:00,  9.51it/s, val_loss=1.54713535]\n",
      "Training Epoch [32/100]: 100%|█████████████████████████████████████████| 2/2 [00:00<00:00,  9.36it/s, curr_train_loss=0.00032461, val_loss=0.00000000]\n",
      "Validation Epoch [32/100]: 100%|███████████████████████████████████████████████████████████████████| 2/2 [00:00<00:00,  9.40it/s, val_loss=1.54628187]\n",
      "Training Epoch [33/100]: 100%|█████████████████████████████████████████| 2/2 [00:00<00:00,  9.26it/s, curr_train_loss=0.00031128, val_loss=0.00000000]\n",
      "Validation Epoch [33/100]: 100%|███████████████████████████████████████████████████████████████████| 2/2 [00:00<00:00,  9.48it/s, val_loss=1.54572141]\n",
      "Training Epoch [34/100]: 100%|█████████████████████████████████████████| 2/2 [00:00<00:00,  9.38it/s, curr_train_loss=0.00029252, val_loss=0.00000000]\n",
      "Validation Epoch [34/100]: 100%|███████████████████████████████████████████████████████████████████| 2/2 [00:00<00:00,  9.55it/s, val_loss=1.54519242]\n",
      "Training Epoch [35/100]: 100%|█████████████████████████████████████████| 2/2 [00:00<00:00,  9.40it/s, curr_train_loss=0.00027123, val_loss=0.00000000]\n",
      "Validation Epoch [35/100]: 100%|███████████████████████████████████████████████████████████████████| 2/2 [00:00<00:00,  9.48it/s, val_loss=1.54490781]\n",
      "Training Epoch [36/100]: 100%|█████████████████████████████████████████| 2/2 [00:00<00:00,  9.33it/s, curr_train_loss=0.00029655, val_loss=0.00000000]\n",
      "Validation Epoch [36/100]: 100%|███████████████████████████████████████████████████████████████████| 2/2 [00:00<00:00,  9.48it/s, val_loss=1.54408157]\n",
      "Training Epoch [37/100]: 100%|█████████████████████████████████████████| 2/2 [00:00<00:00,  9.35it/s, curr_train_loss=0.00026893, val_loss=0.00000000]\n",
      "Validation Epoch [37/100]: 100%|███████████████████████████████████████████████████████████████████| 2/2 [00:00<00:00,  9.52it/s, val_loss=1.54222536]\n",
      "Training Epoch [38/100]: 100%|█████████████████████████████████████████| 2/2 [00:00<00:00,  9.34it/s, curr_train_loss=0.00027282, val_loss=0.00000000]\n",
      "Validation Epoch [38/100]: 100%|███████████████████████████████████████████████████████████████████| 2/2 [00:00<00:00,  9.37it/s, val_loss=1.53785241]\n",
      "Training Epoch [39/100]: 100%|█████████████████████████████████████████| 2/2 [00:00<00:00,  9.25it/s, curr_train_loss=0.00024059, val_loss=0.00000000]\n",
      "Validation Epoch [39/100]: 100%|███████████████████████████████████████████████████████████████████| 2/2 [00:00<00:00,  9.44it/s, val_loss=1.53056395]\n",
      "Training Epoch [40/100]: 100%|█████████████████████████████████████████| 2/2 [00:00<00:00,  9.33it/s, curr_train_loss=0.00024456, val_loss=0.00000000]\n",
      "Validation Epoch [40/100]: 100%|███████████████████████████████████████████████████████████████████| 2/2 [00:00<00:00,  9.49it/s, val_loss=1.52207571]\n",
      "Training Epoch [41/100]: 100%|█████████████████████████████████████████| 2/2 [00:00<00:00,  9.32it/s, curr_train_loss=0.00022316, val_loss=0.00000000]\n",
      "Validation Epoch [41/100]: 100%|███████████████████████████████████████████████████████████████████| 2/2 [00:00<00:00,  9.50it/s, val_loss=1.51586950]\n",
      "Training Epoch [42/100]: 100%|█████████████████████████████████████████| 2/2 [00:00<00:00,  9.25it/s, curr_train_loss=0.00023094, val_loss=0.00000000]\n",
      "Validation Epoch [42/100]: 100%|███████████████████████████████████████████████████████████████████| 2/2 [00:00<00:00,  9.40it/s, val_loss=1.51125616]\n",
      "Training Epoch [43/100]: 100%|█████████████████████████████████████████| 2/2 [00:00<00:00,  9.32it/s, curr_train_loss=0.00021272, val_loss=0.00000000]\n",
      "Validation Epoch [43/100]: 100%|███████████████████████████████████████████████████████████████████| 2/2 [00:00<00:00,  9.41it/s, val_loss=1.50841546]\n",
      "Training Epoch [44/100]: 100%|█████████████████████████████████████████| 2/2 [00:00<00:00,  9.33it/s, curr_train_loss=0.00020340, val_loss=0.00000000]\n",
      "Validation Epoch [44/100]: 100%|███████████████████████████████████████████████████████████████████| 2/2 [00:00<00:00,  9.41it/s, val_loss=1.50650352]\n",
      "Training Epoch [45/100]: 100%|█████████████████████████████████████████| 2/2 [00:00<00:00,  9.30it/s, curr_train_loss=0.00020123, val_loss=0.00000000]\n",
      "Validation Epoch [45/100]: 100%|███████████████████████████████████████████████████████████████████| 2/2 [00:00<00:00,  9.45it/s, val_loss=1.50947183]\n",
      "Training Epoch [46/100]: 100%|█████████████████████████████████████████| 2/2 [00:00<00:00,  9.31it/s, curr_train_loss=0.00019553, val_loss=0.00000000]\n",
      "Validation Epoch [46/100]: 100%|███████████████████████████████████████████████████████████████████| 2/2 [00:00<00:00,  9.41it/s, val_loss=1.51358122]\n",
      "Training Epoch [47/100]: 100%|█████████████████████████████████████████| 2/2 [00:00<00:00,  9.27it/s, curr_train_loss=0.00018984, val_loss=0.00000000]\n",
      "Validation Epoch [47/100]: 100%|███████████████████████████████████████████████████████████████████| 2/2 [00:00<00:00,  9.45it/s, val_loss=1.51311737]\n",
      "Training Epoch [48/100]: 100%|█████████████████████████████████████████| 2/2 [00:00<00:00,  9.35it/s, curr_train_loss=0.00018438, val_loss=0.00000000]\n",
      "Validation Epoch [48/100]: 100%|███████████████████████████████████████████████████████████████████| 2/2 [00:00<00:00,  9.51it/s, val_loss=1.50527602]\n",
      "Training Epoch [49/100]: 100%|█████████████████████████████████████████| 2/2 [00:00<00:00,  9.35it/s, curr_train_loss=0.00018419, val_loss=0.00000000]\n",
      "Validation Epoch [49/100]: 100%|███████████████████████████████████████████████████████████████████| 2/2 [00:00<00:00,  9.47it/s, val_loss=1.49770951]\n",
      "Training Epoch [50/100]: 100%|█████████████████████████████████████████| 2/2 [00:00<00:00,  9.27it/s, curr_train_loss=0.00018143, val_loss=0.00000000]\n",
      "Validation Epoch [50/100]: 100%|███████████████████████████████████████████████████████████████████| 2/2 [00:00<00:00,  9.47it/s, val_loss=1.49734032]\n",
      "Training Epoch [51/100]: 100%|█████████████████████████████████████████| 2/2 [00:00<00:00,  9.31it/s, curr_train_loss=0.00017455, val_loss=0.00000000]\n",
      "Validation Epoch [51/100]: 100%|███████████████████████████████████████████████████████████████████| 2/2 [00:00<00:00,  9.46it/s, val_loss=1.50634676]\n",
      "Training Epoch [52/100]: 100%|█████████████████████████████████████████| 2/2 [00:00<00:00,  9.22it/s, curr_train_loss=0.00015970, val_loss=0.00000000]\n",
      "Validation Epoch [52/100]: 100%|███████████████████████████████████████████████████████████████████| 2/2 [00:00<00:00,  9.46it/s, val_loss=1.51948482]\n",
      "Training Epoch [53/100]: 100%|█████████████████████████████████████████| 2/2 [00:00<00:00,  9.28it/s, curr_train_loss=0.00015974, val_loss=0.00000000]\n",
      "Validation Epoch [53/100]: 100%|███████████████████████████████████████████████████████████████████| 2/2 [00:00<00:00,  9.46it/s, val_loss=1.52529848]\n",
      "Training Epoch [54/100]: 100%|█████████████████████████████████████████| 2/2 [00:00<00:00,  9.32it/s, curr_train_loss=0.00014408, val_loss=0.00000000]\n",
      "Validation Epoch [54/100]: 100%|███████████████████████████████████████████████████████████████████| 2/2 [00:00<00:00,  9.32it/s, val_loss=1.52145231]\n",
      "Training Epoch [55/100]: 100%|█████████████████████████████████████████| 2/2 [00:00<00:00,  9.35it/s, curr_train_loss=0.00015364, val_loss=0.00000000]\n",
      "Validation Epoch [55/100]: 100%|███████████████████████████████████████████████████████████████████| 2/2 [00:00<00:00,  9.34it/s, val_loss=1.51780462]\n",
      "Training Epoch [56/100]: 100%|█████████████████████████████████████████| 2/2 [00:00<00:00,  9.30it/s, curr_train_loss=0.00014562, val_loss=0.00000000]\n",
      "Validation Epoch [56/100]: 100%|███████████████████████████████████████████████████████████████████| 2/2 [00:00<00:00,  9.45it/s, val_loss=1.52070075]\n",
      "Training Epoch [57/100]: 100%|█████████████████████████████████████████| 2/2 [00:00<00:00,  9.30it/s, curr_train_loss=0.00013634, val_loss=0.00000000]\n",
      "Validation Epoch [57/100]: 100%|███████████████████████████████████████████████████████████████████| 2/2 [00:00<00:00,  9.40it/s, val_loss=1.52403456]\n",
      "Training Epoch [58/100]: 100%|█████████████████████████████████████████| 2/2 [00:00<00:00,  9.35it/s, curr_train_loss=0.00013615, val_loss=0.00000000]\n",
      "Validation Epoch [58/100]: 100%|███████████████████████████████████████████████████████████████████| 2/2 [00:00<00:00,  9.48it/s, val_loss=1.52580559]\n",
      "Training Epoch [59/100]: 100%|█████████████████████████████████████████| 2/2 [00:00<00:00,  9.30it/s, curr_train_loss=0.00014194, val_loss=0.00000000]\n",
      "Validation Epoch [59/100]: 100%|███████████████████████████████████████████████████████████████████| 2/2 [00:00<00:00,  9.44it/s, val_loss=1.52165931]\n",
      "Training Epoch [60/100]: 100%|█████████████████████████████████████████| 2/2 [00:00<00:00,  9.28it/s, curr_train_loss=0.00013365, val_loss=0.00000000]\n",
      "Validation Epoch [60/100]: 100%|███████████████████████████████████████████████████████████████████| 2/2 [00:00<00:00,  9.44it/s, val_loss=1.51918155]\n",
      "Training Epoch [61/100]: 100%|█████████████████████████████████████████| 2/2 [00:00<00:00,  9.31it/s, curr_train_loss=0.00012207, val_loss=0.00000000]\n",
      "Validation Epoch [61/100]: 100%|███████████████████████████████████████████████████████████████████| 2/2 [00:00<00:00,  9.44it/s, val_loss=1.52278572]\n",
      "Training Epoch [62/100]: 100%|█████████████████████████████████████████| 2/2 [00:00<00:00,  9.29it/s, curr_train_loss=0.00011369, val_loss=0.00000000]\n",
      "Validation Epoch [62/100]: 100%|███████████████████████████████████████████████████████████████████| 2/2 [00:00<00:00,  9.47it/s, val_loss=1.52874488]\n",
      "Training Epoch [63/100]: 100%|█████████████████████████████████████████| 2/2 [00:00<00:00,  9.32it/s, curr_train_loss=0.00011780, val_loss=0.00000000]\n",
      "Validation Epoch [63/100]: 100%|███████████████████████████████████████████████████████████████████| 2/2 [00:00<00:00,  9.51it/s, val_loss=1.52849382]\n",
      "Training Epoch [64/100]: 100%|█████████████████████████████████████████| 2/2 [00:00<00:00,  9.32it/s, curr_train_loss=0.00011370, val_loss=0.00000000]\n",
      "Validation Epoch [64/100]: 100%|███████████████████████████████████████████████████████████████████| 2/2 [00:00<00:00,  9.34it/s, val_loss=1.52851528]\n",
      "Training Epoch [65/100]: 100%|█████████████████████████████████████████| 2/2 [00:00<00:00,  9.28it/s, curr_train_loss=0.00010892, val_loss=0.00000000]\n",
      "Validation Epoch [65/100]: 100%|███████████████████████████████████████████████████████████████████| 2/2 [00:00<00:00,  9.47it/s, val_loss=1.53000283]\n",
      "Training Epoch [66/100]: 100%|█████████████████████████████████████████| 2/2 [00:00<00:00,  9.26it/s, curr_train_loss=0.00010714, val_loss=0.00000000]\n",
      "Validation Epoch [66/100]: 100%|███████████████████████████████████████████████████████████████████| 2/2 [00:00<00:00,  9.41it/s, val_loss=1.53334105]\n",
      "Training Epoch [67/100]: 100%|█████████████████████████████████████████| 2/2 [00:00<00:00,  9.24it/s, curr_train_loss=0.00010652, val_loss=0.00000000]\n",
      "Validation Epoch [67/100]: 100%|███████████████████████████████████████████████████████████████████| 2/2 [00:00<00:00,  9.45it/s, val_loss=1.53724378]\n",
      "Training Epoch [68/100]: 100%|█████████████████████████████████████████| 2/2 [00:00<00:00,  9.30it/s, curr_train_loss=0.00009687, val_loss=0.00000000]\n",
      "Validation Epoch [68/100]: 100%|███████████████████████████████████████████████████████████████████| 2/2 [00:00<00:00,  9.47it/s, val_loss=1.53694385]\n",
      "Training Epoch [69/100]: 100%|█████████████████████████████████████████| 2/2 [00:00<00:00,  8.90it/s, curr_train_loss=0.00010241, val_loss=0.00000000]\n",
      "Validation Epoch [69/100]: 100%|███████████████████████████████████████████████████████████████████| 2/2 [00:00<00:00,  9.32it/s, val_loss=1.53646380]\n",
      "Training Epoch [70/100]: 100%|█████████████████████████████████████████| 2/2 [00:00<00:00,  9.25it/s, curr_train_loss=0.00010194, val_loss=0.00000000]\n",
      "Validation Epoch [70/100]: 100%|███████████████████████████████████████████████████████████████████| 2/2 [00:00<00:00,  9.47it/s, val_loss=1.53849500]\n",
      "Training Epoch [71/100]: 100%|█████████████████████████████████████████| 2/2 [00:00<00:00,  9.25it/s, curr_train_loss=0.00009680, val_loss=0.00000000]\n",
      "Validation Epoch [71/100]: 100%|███████████████████████████████████████████████████████████████████| 2/2 [00:00<00:00,  9.46it/s, val_loss=1.54160416]\n",
      "Training Epoch [72/100]: 100%|█████████████████████████████████████████| 2/2 [00:00<00:00,  9.33it/s, curr_train_loss=0.00008759, val_loss=0.00000000]\n",
      "Validation Epoch [72/100]: 100%|███████████████████████████████████████████████████████████████████| 2/2 [00:00<00:00,  9.47it/s, val_loss=1.53785414]\n",
      "Training Epoch [73/100]: 100%|█████████████████████████████████████████| 2/2 [00:00<00:00,  9.32it/s, curr_train_loss=0.00009228, val_loss=0.00000000]\n",
      "Validation Epoch [73/100]: 100%|███████████████████████████████████████████████████████████████████| 2/2 [00:00<00:00,  9.48it/s, val_loss=1.53420180]\n",
      "Training Epoch [74/100]: 100%|█████████████████████████████████████████| 2/2 [00:00<00:00,  9.34it/s, curr_train_loss=0.00008919, val_loss=0.00000000]\n",
      "Validation Epoch [74/100]: 100%|███████████████████████████████████████████████████████████████████| 2/2 [00:00<00:00,  9.49it/s, val_loss=1.53796715]\n",
      "Training Epoch [75/100]: 100%|█████████████████████████████████████████| 2/2 [00:00<00:00,  9.34it/s, curr_train_loss=0.00008399, val_loss=0.00000000]\n",
      "Validation Epoch [75/100]: 100%|███████████████████████████████████████████████████████████████████| 2/2 [00:00<00:00,  9.48it/s, val_loss=1.54359269]\n",
      "Training Epoch [76/100]: 100%|█████████████████████████████████████████| 2/2 [00:00<00:00,  9.26it/s, curr_train_loss=0.00007943, val_loss=0.00000000]\n",
      "Validation Epoch [76/100]: 100%|███████████████████████████████████████████████████████████████████| 2/2 [00:00<00:00,  9.47it/s, val_loss=1.54127359]\n",
      "Training Epoch [77/100]: 100%|█████████████████████████████████████████| 2/2 [00:00<00:00,  9.33it/s, curr_train_loss=0.00007856, val_loss=0.00000000]\n",
      "Validation Epoch [77/100]: 100%|███████████████████████████████████████████████████████████████████| 2/2 [00:00<00:00,  9.51it/s, val_loss=1.53700823]\n",
      "Training Epoch [78/100]: 100%|█████████████████████████████████████████| 2/2 [00:00<00:00,  9.32it/s, curr_train_loss=0.00008629, val_loss=0.00000000]\n",
      "Validation Epoch [78/100]: 100%|███████████████████████████████████████████████████████████████████| 2/2 [00:00<00:00,  9.47it/s, val_loss=1.54183346]\n",
      "Training Epoch [79/100]: 100%|█████████████████████████████████████████| 2/2 [00:00<00:00,  9.32it/s, curr_train_loss=0.00007702, val_loss=0.00000000]\n",
      "Validation Epoch [79/100]: 100%|███████████████████████████████████████████████████████████████████| 2/2 [00:00<00:00,  9.43it/s, val_loss=1.55424237]\n",
      "Training Epoch [80/100]: 100%|█████████████████████████████████████████| 2/2 [00:00<00:00,  9.27it/s, curr_train_loss=0.00008116, val_loss=0.00000000]\n",
      "Validation Epoch [80/100]: 100%|███████████████████████████████████████████████████████████████████| 2/2 [00:00<00:00,  9.53it/s, val_loss=1.55283082]\n",
      "Training Epoch [81/100]: 100%|█████████████████████████████████████████| 2/2 [00:00<00:00,  9.31it/s, curr_train_loss=0.00007713, val_loss=0.00000000]\n",
      "Validation Epoch [81/100]: 100%|███████████████████████████████████████████████████████████████████| 2/2 [00:00<00:00,  9.50it/s, val_loss=1.54469043]\n",
      "Training Epoch [82/100]: 100%|█████████████████████████████████████████| 2/2 [00:00<00:00,  9.34it/s, curr_train_loss=0.00007568, val_loss=0.00000000]\n",
      "Validation Epoch [82/100]: 100%|███████████████████████████████████████████████████████████████████| 2/2 [00:00<00:00,  9.49it/s, val_loss=1.54407710]\n",
      "Training Epoch [83/100]: 100%|█████████████████████████████████████████| 2/2 [00:00<00:00,  9.35it/s, curr_train_loss=0.00007505, val_loss=0.00000000]\n",
      "Validation Epoch [83/100]: 100%|███████████████████████████████████████████████████████████████████| 2/2 [00:00<00:00,  9.52it/s, val_loss=1.54768389]\n",
      "Training Epoch [84/100]: 100%|█████████████████████████████████████████| 2/2 [00:00<00:00,  9.31it/s, curr_train_loss=0.00007444, val_loss=0.00000000]\n",
      "Validation Epoch [84/100]: 100%|███████████████████████████████████████████████████████████████████| 2/2 [00:00<00:00,  9.50it/s, val_loss=1.55682003]\n",
      "Training Epoch [85/100]: 100%|█████████████████████████████████████████| 2/2 [00:00<00:00,  9.35it/s, curr_train_loss=0.00007227, val_loss=0.00000000]\n",
      "Validation Epoch [85/100]: 100%|███████████████████████████████████████████████████████████████████| 2/2 [00:00<00:00,  9.48it/s, val_loss=1.55636120]\n",
      "Training Epoch [86/100]: 100%|█████████████████████████████████████████| 2/2 [00:00<00:00,  9.37it/s, curr_train_loss=0.00007604, val_loss=0.00000000]\n",
      "Validation Epoch [86/100]: 100%|███████████████████████████████████████████████████████████████████| 2/2 [00:00<00:00,  9.52it/s, val_loss=1.54881936]\n",
      "Training Epoch [87/100]: 100%|█████████████████████████████████████████| 2/2 [00:00<00:00,  9.30it/s, curr_train_loss=0.00007326, val_loss=0.00000000]\n",
      "Validation Epoch [87/100]: 100%|███████████████████████████████████████████████████████████████████| 2/2 [00:00<00:00,  9.39it/s, val_loss=1.54543507]\n",
      "Training Epoch [88/100]: 100%|█████████████████████████████████████████| 2/2 [00:00<00:00,  9.31it/s, curr_train_loss=0.00007777, val_loss=0.00000000]\n",
      "Validation Epoch [88/100]: 100%|███████████████████████████████████████████████████████████████████| 2/2 [00:00<00:00,  9.49it/s, val_loss=1.54709458]\n",
      "Training Epoch [89/100]: 100%|█████████████████████████████████████████| 2/2 [00:00<00:00,  9.40it/s, curr_train_loss=0.00006792, val_loss=0.00000000]\n",
      "Validation Epoch [89/100]: 100%|███████████████████████████████████████████████████████████████████| 2/2 [00:00<00:00,  9.53it/s, val_loss=1.55892545]\n",
      "Training Epoch [90/100]: 100%|█████████████████████████████████████████| 2/2 [00:00<00:00,  9.27it/s, curr_train_loss=0.00007070, val_loss=0.00000000]\n",
      "Validation Epoch [90/100]: 100%|███████████████████████████████████████████████████████████████████| 2/2 [00:00<00:00,  9.47it/s, val_loss=1.55972540]\n",
      "Training Epoch [91/100]: 100%|█████████████████████████████████████████| 2/2 [00:00<00:00,  9.25it/s, curr_train_loss=0.00006634, val_loss=0.00000000]\n",
      "Validation Epoch [91/100]: 100%|███████████████████████████████████████████████████████████████████| 2/2 [00:00<00:00,  9.50it/s, val_loss=1.55361378]\n",
      "Training Epoch [92/100]: 100%|█████████████████████████████████████████| 2/2 [00:00<00:00,  9.33it/s, curr_train_loss=0.00006645, val_loss=0.00000000]\n",
      "Validation Epoch [92/100]: 100%|███████████████████████████████████████████████████████████████████| 2/2 [00:00<00:00,  9.51it/s, val_loss=1.54913563]\n",
      "Training Epoch [93/100]: 100%|█████████████████████████████████████████| 2/2 [00:00<00:00,  9.35it/s, curr_train_loss=0.00006792, val_loss=0.00000000]\n",
      "Validation Epoch [93/100]: 100%|███████████████████████████████████████████████████████████████████| 2/2 [00:00<00:00,  9.50it/s, val_loss=1.55188978]\n",
      "Training Epoch [94/100]: 100%|█████████████████████████████████████████| 2/2 [00:00<00:00,  9.34it/s, curr_train_loss=0.00005953, val_loss=0.00000000]\n",
      "Validation Epoch [94/100]: 100%|███████████████████████████████████████████████████████████████████| 2/2 [00:00<00:00,  9.52it/s, val_loss=1.55872440]\n",
      "Training Epoch [95/100]: 100%|█████████████████████████████████████████| 2/2 [00:00<00:00,  9.37it/s, curr_train_loss=0.00006296, val_loss=0.00000000]\n",
      "Validation Epoch [95/100]: 100%|███████████████████████████████████████████████████████████████████| 2/2 [00:00<00:00,  9.45it/s, val_loss=1.56070310]\n",
      "Training Epoch [96/100]: 100%|█████████████████████████████████████████| 2/2 [00:00<00:00,  9.37it/s, curr_train_loss=0.00006892, val_loss=0.00000000]\n",
      "Validation Epoch [96/100]: 100%|███████████████████████████████████████████████████████████████████| 2/2 [00:00<00:00,  9.47it/s, val_loss=1.55617660]\n",
      "Training Epoch [97/100]: 100%|█████████████████████████████████████████| 2/2 [00:00<00:00,  9.33it/s, curr_train_loss=0.00006651, val_loss=0.00000000]\n",
      "Validation Epoch [97/100]: 100%|███████████████████████████████████████████████████████████████████| 2/2 [00:00<00:00,  9.47it/s, val_loss=1.55308092]\n",
      "Training Epoch [98/100]: 100%|█████████████████████████████████████████| 2/2 [00:00<00:00,  9.31it/s, curr_train_loss=0.00006269, val_loss=0.00000000]\n",
      "Validation Epoch [98/100]: 100%|███████████████████████████████████████████████████████████████████| 2/2 [00:00<00:00,  9.48it/s, val_loss=1.55352587]\n",
      "Training Epoch [99/100]: 100%|█████████████████████████████████████████| 2/2 [00:00<00:00,  9.31it/s, curr_train_loss=0.00006265, val_loss=0.00000000]\n",
      "Validation Epoch [99/100]: 100%|███████████████████████████████████████████████████████████████████| 2/2 [00:00<00:00,  9.50it/s, val_loss=1.55466700]\n",
      "Training Epoch [100/100]: 100%|████████████████████████████████████████| 2/2 [00:00<00:00,  9.29it/s, curr_train_loss=0.00006038, val_loss=0.00000000]\n",
      "Validation Epoch [100/100]: 100%|██████████████████████████████████████████████████████████████████| 2/2 [00:00<00:00,  9.51it/s, val_loss=1.55263555]"
     ]
    },
    {
     "name": "stdout",
     "output_type": "stream",
     "text": [
      "Finished training!\n"
     ]
    },
    {
     "name": "stderr",
     "output_type": "stream",
     "text": [
      "\n"
     ]
    }
   ],
   "source": [
    "\n",
    "# Creat a tensorboard logger.\n",
    "# NOTE: In order to see the logs, run the following command in the terminal: tensorboard --logdir=./\n",
    "# Also, in order to reset the logs, delete the logs folder MANUALLY.\n",
    "# Pay attention that if you run this cell mutltiple times, the pretrained_encoder\n",
    "# is not reset, and will keep training from where it stopped. Thus, it could overfit.\n",
    "\n",
    "path = os.path.join('logs', 'pretrained_cls_logs')\n",
    "num_of_runs = len(os.listdir(path)) if os.path.exists(path) else 0\n",
    "path = os.path.join(path, f'run_{num_of_runs + 1}')\n",
    "tb_logger = SummaryWriter(path)\n",
    "\n",
    "batch_size = hparams.get('batch_size', 16)\n",
    "labled_train_loader = torch.utils.data.DataLoader(train_100_dataset, batch_size=batch_size, shuffle=True)\n",
    "labled_val_loader = torch.utils.data.DataLoader(val_100_dataset, batch_size=batch_size, shuffle=False)\n",
    "\n",
    "epochs = hparams.get('epochs', 20)\n",
    "loss_func = nn.CrossEntropyLoss() # The loss function we use for classification.\n",
    "train_classifier(classifier_pretrained, labled_train_loader, labled_val_loader, loss_func, tb_logger, epochs=epochs, name='Pretrained')\n",
    "\n",
    "print(\"Finished training!\") "
   ]
  },
  {
   "attachments": {},
   "cell_type": "markdown",
   "metadata": {
    "id": "H-pm1MY_MNks"
   },
   "source": [
    "Let's have a look at the validation accuracy of the two different classifiers and compare them. And don't forget that you can also monitor your training in TensorBoard.\n",
    "\n",
    "We will only look at the test accuracy and compare our two classifiers with respect to that in the very end."
   ]
  },
  {
   "cell_type": "code",
   "execution_count": 18,
   "metadata": {
    "id": "-e5Bd9KLMNkt"
   },
   "outputs": [
    {
     "name": "stdout",
     "output_type": "stream",
     "text": [
      "Validation accuracy when training from scratch: \u001b[92m76.0\u001b[0m%\n",
      "Validation accuracy with pretraining: \u001b[92m75.0\u001b[0m%\n"
     ]
    }
   ],
   "source": [
    "val_acc_scracth = classifier.getAcc(labled_val_loader)[1]*100\n",
    "color = 'green' if val_acc_scracth > 55 else 'red'\n",
    "print(f\"Validation accuracy when training from scratch: {bcolors.colorize(color, val_acc_scracth)}%\")\n",
    "\n",
    "val_acc_pretrained = classifier_pretrained.getAcc(labled_val_loader)[1]*100\n",
    "color = 'green' if val_acc_pretrained > 55 else 'red'\n",
    "print(f\"Validation accuracy with pretraining: {bcolors.colorize(color, val_acc_pretrained)}%\")\n",
    "\n",
    "\n"
   ]
  },
  {
   "attachments": {},
   "cell_type": "markdown",
   "metadata": {
    "id": "zAp2OTyf4_5b"
   },
   "source": [
    "Now that everything is working, feel free to play around with different architectures. As you've seen, it's quite easy to define your model or do adpations there.\n",
    "\n",
    "To pass this submission, you will need to achieve an accuracy of **55%**."
   ]
  },
  {
   "attachments": {},
   "cell_type": "markdown",
   "metadata": {
    "id": "OmEYmRT-5S-e"
   },
   "source": [
    "# Save your model & Report Test Accuracy\n",
    "\n",
    "When you are finally done with your **hyperparameter tuning**, achieved **at least 55% validation accuracy** and are happy with your final model, you can save it here.\n",
    "\n",
    "Before that, please check again whether the number of parameters is below 5 Mio and the file size is below 20 MB.\n",
    "\n",
    "Once your final model is saved, we'll finally report the test accuracy."
   ]
  },
  {
   "cell_type": "code",
   "execution_count": 19,
   "metadata": {
    "id": "S69ETKxD5TcE"
   },
   "outputs": [
    {
     "name": "stdout",
     "output_type": "stream",
     "text": [
      "Test accuracy when training from scratch: \u001b[92m74.0\u001b[0m%\n",
      "Test accuracy with pretraining: \u001b[92m73.0\u001b[0m%\n",
      "Validation Accuracy: \u001b[92m75.0\u001b[0m%\n",
      "# Paramters: Your model has \u001b[92m0.322\u001b[0m mio. params.\n",
      "Size: Great! Your model size is \u001b[92m2.6\u001b[0m MB and is less than 20 MB.\n",
      "Your model has been saved and is ready to be submitted.\n"
     ]
    }
   ],
   "source": [
    "from exercise_code.Util import test_and_save\n",
    "test_dl = torch.utils.data.DataLoader(test_100_dataset, batch_size=4, shuffle=False)\n",
    "\n",
    "test_acc = classifier.getAcc(test_dl)[1]*100\n",
    "color = 'green' if test_acc > 55 else 'red'\n",
    "print(f\"Test accuracy when training from scratch: {bcolors.colorize(color, test_acc)}%\")\n",
    "\n",
    "test_acc = classifier_pretrained.getAcc(test_dl)[1]*100\n",
    "color = 'green' if test_acc > 55 else 'red'\n",
    "print(f\"Test accuracy with pretraining: {bcolors.colorize(color, test_acc)}%\")\n",
    "\n",
    "test_and_save(classifier_pretrained, labled_val_loader, test_dl)"
   ]
  },
  {
   "cell_type": "code",
   "execution_count": 20,
   "metadata": {
    "id": "enZCnGL6MNkt"
   },
   "outputs": [
    {
     "name": "stdout",
     "output_type": "stream",
     "text": [
      "relevant folders: ['exercise_code', 'models']\n",
      "notebooks files: ['Optional-BatchNormalization_Dropout.ipynb', '1_Autoencoder.ipynb']\n",
      "Adding folder exercise_code\n",
      "Adding folder models\n",
      "Adding notebook Optional-BatchNormalization_Dropout.ipynb\n",
      "Adding notebook 1_Autoencoder.ipynb\n",
      "Zipping successful! Zip is stored under: /home/timm_pop/Documents/i2dl/output/exercise_08.zip\n"
     ]
    }
   ],
   "source": [
    "# Now zip the folder for upload\n",
    "from exercise_code.submit import submit_exercise\n",
    "\n",
    "submit_exercise('../output/exercise_08')"
   ]
  },
  {
   "attachments": {},
   "cell_type": "markdown",
   "metadata": {
    "id": "7fuo3Tf9MNku",
    "pycharm": {
     "name": "#%% md\n"
    }
   },
   "source": [
    "Congratulations on completing your first autoencoder and successfully transferring the weights to a classifier! It's remarkable how much easier this process becomes with the power of PyTorch, compared to working with plain NumPy, right?\n",
    "\n",
    "To complete the exercise, please submit your final model to [our submission portal](https://i2dl.vc.in.tum.de/) - you should be already familiar with the submission procedure. Next, it is time to get started with some more complex neural networks and tasks in the upcoming exercises. See you next week!\n",
    "\n",
    "# Submission Goals\n",
    "\n",
    "- Goal: Successfully implement a fully connected autoencoder for MNIST with Pytorch and transfer the encoder weights to a classifier.\n",
    "\n",
    "- Passing Criteria: There are no unit tests that check specific components of your code. The only thing that's required to pass the submission, is your model to reach at least **55% accuracy** on __our__ test dataset. The submission system will show you a number between 0 and 100 which corresponds to your accuracy.\n",
    "\n",
    "- Submission start: __June 15, 2023 10:00__\n",
    "- Submission deadline : __June 21, 2023 15:59__ \n",
    "- You can make **$\\infty$** submissions until the deadline. Your __best submission__ will be considered for the bonus."
   ]
  },
  {
   "attachments": {},
   "cell_type": "markdown",
   "metadata": {
    "id": "Ar26mFO5MNku"
   },
   "source": [
    "# [Exercise Review](https://forms.gle/9SYivCPQZdktRDS29)\n",
    "\n",
    "We are always interested in your opinion. Now that you have finished this exercise, we would like you to give us some feedback about the time required to finish the submission and/or work through the notebooks. Please take the short time to fill out our [review form](https://forms.gle/9SYivCPQZdktRDS29) for this exercise so that we can do better next time! :)"
   ]
  }
 ],
 "metadata": {
  "accelerator": "GPU",
  "colab": {
   "provenance": []
  },
  "kernelspec": {
   "display_name": "Python 3",
   "language": "python",
   "name": "python3"
  },
  "language_info": {
   "codemirror_mode": {
    "name": "ipython",
    "version": 3
   },
   "file_extension": ".py",
   "mimetype": "text/x-python",
   "name": "python",
   "nbconvert_exporter": "python",
   "pygments_lexer": "ipython3",
   "version": "3.10.11"
  },
  "vscode": {
   "interpreter": {
    "hash": "54970da6898dad277dbf355945c2dee7f942d2a31ec1fc1455b6d4f552d07b83"
   }
  }
 },
 "nbformat": 4,
 "nbformat_minor": 1
}
