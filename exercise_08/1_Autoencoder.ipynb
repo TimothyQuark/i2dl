{
 "cells": [
  {
   "attachments": {},
   "cell_type": "markdown",
   "metadata": {
    "id": "9CALuVmNMNkM"
   },
   "source": [
    "# Autoencoder for MNIST\n",
    "\n",
    "Welcome to this notebook where you'll be training an autoencoder using the MNIST dataset, which comprises handwritten digits. This exercise is the last where we present you with a structured skeleton to work with. However, in following exercises, we will only provide you with the dataset, task, and a test scenario, enabling you to test your skills and compete with your peers on our leaderboards. Get ready to dive in and showcase your deep learning expertise!\n",
    "\n",
    "\n",
    "## Your task:\n",
    "\n",
    "Autoencoders have various applications, including unsupervised pretraining using unlabeled data, followed by fine-tuning the encoder with labeled data. This approach can greatly enhance performance when there is only a little amount of labeled data but a lot of unlabeled data available.\n",
    "\n",
    "In this exercise, you will use the MNIST dataset, consisting of 60,000 images of handwritten digits. However, not all the image labels are available to you. Your first objective is to train an autoencoder to accurately reproduce these unlabeled images.\n",
    "\n",
    "Afterwards, you will transfer the weights of the pretrained encoder and perform fine-tuning on a classifier using the available labeled data. This technique is commonly known as **transfer learning**, which allows you to leverage the knowledge gained from the autoencoder to improve the classification of the handwritten digits."
   ]
  },
  {
   "cell_type": "code",
   "execution_count": null,
   "metadata": {
    "id": "XcU9f4APMNkT"
   },
   "outputs": [],
   "source": [
    "# For automatic file reloading as usual\n",
    "%load_ext autoreload\n",
    "%autoreload 2\n",
    "%matplotlib inline"
   ]
  },
  {
   "attachments": {},
   "cell_type": "markdown",
   "metadata": {
    "id": "Xb9dFU2EMNkW"
   },
   "source": [
    "## (Optional) Mount folder in Colab\n",
    "\n",
    "Uncomment the following cell to mount your gdrive if you are using the notebook in google colab:"
   ]
  },
  {
   "cell_type": "code",
   "execution_count": null,
   "metadata": {
    "id": "TRr4E4YVMNkW"
   },
   "outputs": [],
   "source": [
    "# Use the following lines if you want to use Google Colab\n",
    "# We presume you created a folder \"i2dl\" within your main drive folder, and put the exercise there.\n",
    "# NOTE: terminate all other colab sessions that use GPU!\n",
    "# NOTE 2: Make sure the correct exercise folder (e.g exercise_08) is given.\n",
    "\n",
    "# from google.colab import drive\n",
    "# import os\n",
    "\n",
    "\"\"\"\n",
    "from google.colab import drive\n",
    "import os\n",
    "gdrive_path='/content/gdrive/MyDrive/i2dl/exercise_08'\n",
    "\n",
    "# This will mount your google drive under 'MyDrive'\n",
    "drive.mount('/content/gdrive', force_remount=True)\n",
    "# In order to access the files in this notebook we have to navigate to the correct folder\n",
    "os.chdir(gdrive_path)\n",
    "# Check manually if all files are present\n",
    "\"\"\""
   ]
  },
  {
   "attachments": {},
   "cell_type": "markdown",
   "metadata": {
    "id": "JzDQg-kDMNkY"
   },
   "source": [
    "### Set up PyTorch environment in colab\n",
    "- (OPTIONAL) Enable GPU via Runtime --> Change runtime type --> GPU\n",
    "- Uncomment the following cell if you are using the notebook in google colab:"
   ]
  },
  {
   "cell_type": "code",
   "execution_count": null,
   "metadata": {
    "id": "pIUdsXeXMNkZ"
   },
   "outputs": [],
   "source": [
    "# Optional: install correct libraries in google colab\n",
    "# !python -m pip install torch==1.11.0+cu113 torchvision==0.12.0+cu113 torchtext==0.12.0+cu113 torchaudio==0.12.0+cu113 -f https://download.pytorch.org/whl/torch_stable.html\n",
    "# !python -m pip install tensorboard==2.8.0 > /dev/null\n",
    "# !python -m pip install pytorch-lightning==1.6.0"
   ]
  },
  {
   "attachments": {},
   "cell_type": "markdown",
   "metadata": {
    "id": "hEDWAZ7-ZA4E"
   },
   "source": [
    "# Imports"
   ]
  },
  {
   "cell_type": "code",
   "execution_count": null,
   "metadata": {
    "id": "dJCiVLV5o9QO"
   },
   "outputs": [],
   "source": [
    "import numpy as np\n",
    "import matplotlib.pyplot as plt\n",
    "from pathlib import Path\n",
    "import os, sys\n",
    "import shutil\n",
    "import torch\n",
    "import torch.nn as nn\n",
    "from torchvision import transforms\n",
    "from exercise_code.image_folder_dataset import ImageFolderDataset\n",
    "from torch.utils.tensorboard import SummaryWriter\n",
    "from time import sleep\n",
    "from tqdm import tqdm\n",
    "from exercise_code.tests.base_tests import bcolors\n",
    "\n",
    "torch.manual_seed(42)\n",
    "\n",
    "os.environ['KMP_DUPLICATE_LIB_OK']='True' # To prevent the kernel from dying."
   ]
  },
  {
   "attachments": {},
   "cell_type": "markdown",
   "metadata": {
    "id": "dvaj6myXS7nN"
   },
   "source": [
    "<div class=\"alert alert-warning\">\n",
    "    <h3>Note: Google Colab</h3>\n",
    "    <p>\n",
    "In case you don't have a GPU, you can run this notebook on Google Colab where you can access a GPU for free, but, of course, you can also run this notebook on your CPU.\n",
    "         </p>\n",
    "</div>"
   ]
  },
  {
   "cell_type": "code",
   "execution_count": null,
   "metadata": {
    "id": "VWgm75NnS9hr"
   },
   "outputs": [],
   "source": [
    "device = torch.device(\"cuda\" if torch.cuda.is_available() else \"cpu\")\n",
    "print('You are using the following device: ', device)"
   ]
  },
  {
   "attachments": {},
   "cell_type": "markdown",
   "metadata": {
    "id": "Pm_rTAPnpsUo"
   },
   "source": [
    "## Setup TensorBoard\n",
    "\n",
    "In the previous exercise (Exercise 07), you learned how to use TensorBoard effectively. Let's use it again to enhance the convenience of debugging your network and the training process. Throughout this notebook, feel free to implement additional logs or visualizations into your TensorBoard, further improving your analysis and understanding of the network's behavior. "
   ]
  },
  {
   "cell_type": "code",
   "execution_count": null,
   "metadata": {
    "id": "QbAJFyHkMNke"
   },
   "outputs": [],
   "source": [
    "################# COLAB ONLY #################\n",
    "# %load_ext tensorboard\n",
    "# %tensorboard --logdir=./ --port 6006\n",
    "\n",
    "# Use the cmd for less trouble, if you can. From the working directory, run: tensorboard --logdir=./ --port 6006"
   ]
  },
  {
   "attachments": {},
   "cell_type": "markdown",
   "metadata": {
    "id": "t-Yt2KRiMNkf"
   },
   "source": [
    "# 1. The MNIST Dataset\n",
    "\n",
    "First, let's download the MNIST dataset. As mentioned in the beginning of this notebook, MNIST is a dataset of 60,000 images depicting handwritten digits. However, labeling such a large dataset can be a costly process, leaving us in a challenging situation.\n",
    "\n",
    "To overcome this, a practical approach is to label a small subset of the images. Let's consider a scenario where you have hired another student to perform the labeling task for you. After some time, you have been provided with 300 labeled images. Out of these, 100 images will be used for training, another 100 for validation, and the remaining 100 for testing. Undoubtedly, this poses a challenge due to the limited number of labeled samples.\n",
    "\n",
    "Now, you have the flexibility to define any transforms that you deem necessary, either at this point or at a later stage. However, it's important to note that during the final evaluation on the server, no transformations will be applied to the test set.\n",
    "\n",
    "Feel free to experiment with various transforms as you proceed (you can also pass without any transforms). \n",
    "\n",
    "\n",
    "**Note**: We do **not** apply any transformations to the test set at the time of final evaluation on our server."
   ]
  },
  {
   "cell_type": "code",
   "execution_count": null,
   "metadata": {
    "id": "U5_eopjbMNkf",
    "pycharm": {
     "name": "#%%\n"
    }
   },
   "outputs": [],
   "source": [
    "import torchvision.transforms as transforms\n",
    "\n",
    "transform = transforms.Compose([])\n",
    "\n",
    "########################################################################\n",
    "# TODO: Feel free to define transforms                                 #\n",
    "########################################################################\n",
    "\n",
    "# MNIST mean: 0.1307, std: 0.3081\n",
    "\n",
    "transform = transforms.Compose([\n",
    "    transforms.Normalize((0.1307), (0.3081)),\n",
    "    transforms.RandomPerspective(distortion_scale=0.3, p=0.2),\n",
    "    transforms.RandomRotation(degrees=30)\n",
    "    ])\n",
    "\n",
    "########################################################################\n",
    "#                           END OF YOUR CODE                           #\n",
    "########################################################################\n",
    "\n",
    "i2dl_exercises_path = os.path.dirname(os.path.abspath(os.getcwd()))\n",
    "mnist_root = os.path.join(i2dl_exercises_path, \"datasets\", \"mnist\")\n",
    "\n",
    "train_100_dataset = ImageFolderDataset(root=mnist_root,images='train_images.pt',labels='train_labels.pt',force_download=False,verbose=True,transform=transform)\n",
    "val_100_dataset = ImageFolderDataset(root=mnist_root,images='val_images.pt',labels='val_labels.pt',force_download=False,verbose=True,transform=transform)\n",
    "test_100_dataset = ImageFolderDataset(root=mnist_root,images='test_images.pt',labels='test_labels.pt',force_download=False,verbose=True,transform=transform)\n",
    "\n",
    "# We also set up the unlabeled images which we will use later\n",
    "unlabeled_train = ImageFolderDataset(root=mnist_root,images='unlabeled_train_images.pt',force_download=False,verbose=True,transform=transform)\n",
    "unlabeled_val = ImageFolderDataset(root=mnist_root,images='unlabeled_val_images.pt',force_download=False,verbose=True,transform=transform)\n",
    "\n"
   ]
  },
  {
   "attachments": {},
   "cell_type": "markdown",
   "metadata": {
    "id": "zwrT1ckAMNkg"
   },
   "source": [
    "The dataset consists of tuples of 28x28 pixel PIL images and a label that is an integer from 0 to 9. \n",
    "\n",
    "Let's turn a few of the images into numpy arrays, to look at their shape and visualize them and see if the labels we paid for are correct."
   ]
  },
  {
   "cell_type": "code",
   "execution_count": null,
   "metadata": {
    "id": "k7ct1J2CMNkh"
   },
   "outputs": [],
   "source": [
    "plt.rcParams['figure.figsize'] = (16,16) # Make the figures a bit bigger\n",
    "\n",
    "indices_arr = [83, 98, 92, 99, 78, 97, 90, 95, 93, 96]\n",
    "for i, index in enumerate(indices_arr):\n",
    "    image = np.array(train_100_dataset[index][0].squeeze()) # get the image of the data sample\n",
    "    label = train_100_dataset[index][1] # get the label of the data sample\n",
    "    plt.subplot(1, 10, i + 1)\n",
    "    plt.imshow(image, cmap='gray', interpolation='none')\n",
    "    plt.title(\"Class {}\".format(label))\n",
    "    \n",
    "plt.tight_layout()\n",
    "print('The shape of our greyscale images: ', image.shape)"
   ]
  },
  {
   "attachments": {},
   "cell_type": "markdown",
   "metadata": {
    "id": "V9sz_lHyqJoj"
   },
   "source": [
    "<div class=\"alert alert-warning\">\n",
    "    <h3>Note: Starting Simple</h3>\n",
    "    <p>\n",
    "Regardless of the size of the dataset, the first step is to evaluate the performance of a simple classifier. It is advisable to always start with a straightforward approach when tackling a problem and gradually build upon it to determine which changes yield improvements.</p>\n",
    "</div>\n",
    "\n",
    "# 2. A Simple Classifier\n",
    "\n",
    "In `exercise_code/models.py` we prepared all classes for you which you will finalize throughout the notebook to build an Autoencoder and an image classifier with PyTorch.\n",
    "\n",
    "![network_split](img/network_split.png)\n",
    "\n",
    "## 2.1 The Encoder\n",
    "\n",
    "Unlike to previous models, we are going to split up the model into two parts: the `encoder` and the `classifier`. The `classifier` has a fixed task, generating predictions given a one-dimensional input. On the other hand, the `encoder`'s task is to extract meaningful information from the input, enabling the classifier to make accurate decisions. \n",
    "\n",
    "For now, both networks will be similar in design and consist of linear layers coupled with auxiliary layers. This split-up will be relevant later, e.g., by using convolutional layers which are introduced in the lecture. We are going to set up the `encoder` now. \n",
    "\n",
    "Think about a good network architecture. You have complete freedom in this regard and can devise any network structure that you think might be fitting. (\\*)\n",
    "\n",
    "Have a look at the documentation of `torch.nn` at https://pytorch.org/docs/stable/nn.html to learn how to use this module in order to build your network!\n",
    "\n",
    "Then implement your architecture: initialize it in `__init__()` and assign it to `self.model`. This is particularly easy using `nn.Sequential()` where you only have to pass the list of your layers. \n",
    "\n",
    "To make your model customizable and support parameter search, do not use hardcoded hyperparameters - instead, pass them as a simple dictionary `hparams` (here, `n_hidden` is the number of neurons in the hidden layer) when initializing `models`.\n",
    "\n",
    "Here is an simple example:\n",
    "\n",
    "```python\n",
    "        self.model = nn.Sequential(\n",
    "            nn.Linear(input_size, self.hparams[\"n_hidden\"]),\n",
    "            nn.ReLU(),            \n",
    "            nn.Linear(self.hparams[\"n_hidden\"], num_classes)\n",
    "        )\n",
    "```\n",
    "\n",
    "Have a look at the forward path in `forward(self, x)`, which is so easy that you don't need to implement it yourself.\n",
    "\n",
    "As PyTorch automatically computes the gradients, that's all you need to do! No need to manually calculate derivatives for the backward paths anymore! :)\n",
    "\n",
    "\n",
    "____\n",
    "\\* *The size of your final model must be less than 20 MB, which is approximately equivalent to 5 Mio. params. Note that this limit is quite lenient, you will probably need much less parameters!*\n",
    "\n",
    "*In order to keep things simple, you should only use fully connected layers for this task as we need to revert the encoder architecture  later on in the notebook.*\n",
    "\n",
    "<div class=\"alert alert-info\">\n",
    "    <h3>Task: Implement</h3>\n",
    "    <p>Implement the <code>Encoder</code> class initialization in <code>exercise_code/models.py</code>.\n",
    "    </p>\n",
    "</div>"
   ]
  },
  {
   "attachments": {},
   "cell_type": "markdown",
   "metadata": {
    "id": "jNf7FrvwMNki"
   },
   "source": [
    "## 2.2 The Classifier\n",
    "\n",
    "Now let's implement the classifier. The classifier will utilize the encoder that you have defined in the above cell. By looking at `Classifier.forward`, you can see that we are essentially concatenating the `classifier`and the `encoder` together. Therefore, it is crucial to ensure that the input shape of the classifier matches the output shape of the encoder you implemented above\n",
    "\n",
    "<div class=\"alert alert-info\">\n",
    "    <h3>Task: Implement</h3>\n",
    "    <p>1. Implement the <code>Classifier</code> class network initialization in <code>exercise_code/models.py</code>.\n",
    "    </p>\n",
    "    <p>2. Define in the next cell your hyperparameters in a dictionary called 'hparams'.\n",
    "    </p>\n",
    "</div>"
   ]
  },
  {
   "cell_type": "code",
   "execution_count": 183,
   "metadata": {
    "id": "AawbvD1rMNkj"
   },
   "outputs": [],
   "source": [
    "hparams = {}\n",
    "########################################################################\n",
    "# TODO: Define your hyper parameters here!                             #\n",
    "########################################################################\n",
    "\n",
    "hparams = {    \n",
    "    \"device\" : device,\n",
    "    \"num_workers\" : 8,\n",
    "    \"epochs\" : 150, # Don't do too many epochs on large batch size or else overfitting!\n",
    "    \"batch_size\" : 64, # Batch size, use small one for classifier!\n",
    "    \n",
    "    \"num_classes\" : 10, # There are 10 digits\n",
    "    \"input_size\" : 28 * 28, # Number of pixels in images\n",
    "    \n",
    "    \"learning_rate\" : 1e-3, # Optimizer\n",
    "    \"weight_decay\" : 1e-5, # ADAM\n",
    "    \n",
    "    \"dropout_p\" : 0.5, # Dropout probability for the classifier, reduces overfitting\n",
    "    \"latent_dim\" : 20, # Encoder output dim, Decode input dim, classifier input dim. If this it too high, overfitting will occur\n",
    "    \"decoder_hidden\" : 256, # Decoder Hidden\n",
    "    \"encoder_hidden\" : 256, # Encoder Hidden\n",
    "    \"classifier_hidden\" : 256 # Classifier Hidden\n",
    "}\n",
    "\n",
    "########################################################################\n",
    "#                           END OF YOUR CODE                           #\n",
    "########################################################################"
   ]
  },
  {
   "attachments": {},
   "cell_type": "markdown",
   "metadata": {
    "id": "bOYbUg8lAmgU"
   },
   "source": [
    "\n",
    "## 2.3 Optimizer\n",
    "Lastly, implement the function `set_optimizer` to define your optimizer. Here the documentation of `torch.optim` at https://pytorch.org/docs/stable/optim.html might be helpful.\n",
    "\n",
    "<div class=\"alert alert-info\">\n",
    "    <h3>Task: Implement</h3>\n",
    "    <p>Implement the <code>set_optimizer</code> method of the <code>Classifier</code> in <code>exercise_code/models.py</code>.\n",
    "    </p>\n",
    "</div>\n"
   ]
  },
  {
   "attachments": {},
   "cell_type": "markdown",
   "metadata": {
    "id": "xrUfa-a7MNkk"
   },
   "source": [
    "## 2.4 Training & Validation Step\n",
    "\n",
    "<div class=\"alert alert-success\">\n",
    "    <h3>Task: Check Code</h3>\n",
    "    <p> Let's take a closer look at the training pipeline outlined below. It is explicitly written here in its entirety to provide you with a comprehensive understanding of its structure. Additionally, you can refer back to this pipeline whenever you encounter any uncertainties or need guidance.\n",
    " </p>\n",
    "</div>\n"
   ]
  },
  {
   "cell_type": "code",
   "execution_count": null,
   "metadata": {
    "id": "NY_lLaNWMNkk"
   },
   "outputs": [],
   "source": [
    " # One of the most crucial things in deep learning is to understand the training pipeline:\n",
    " # 1. Forward()          --> The forward pass of the network, to calculate the currnent loss.\n",
    " # 2. Backward()         --> The backward pass of the network, to calculate the gradients w.r.t the loss, calculated in the previous stage.\n",
    " # 3. Optimizer_step()   --> Update the weights w.r.t thier corresponding gradients and the learnign rate.\n",
    "\n",
    "def create_tqdm_bar(iterable, desc):\n",
    "    return tqdm(enumerate(iterable),total=len(iterable), ncols=150, desc=desc)\n",
    "\n",
    "\n",
    "def train_classifier(classifier, train_loader, val_loader, loss_func, tb_logger, epochs=10, name=\"default\"):\n",
    "    \"\"\"\n",
    "    Train the classifier for a number of epochs.\n",
    "    \"\"\"\n",
    "    optimizer = classifier.optimizer\n",
    "    classifier = classifier.to(device)\n",
    "    for epoch in range(epochs):\n",
    "        \n",
    "        training_loss = 0\n",
    "        validation_loss = 0\n",
    "        \n",
    "        # Training stage, where we want to update the parameters.\n",
    "        classifier.train()  # Set the model to training mode\n",
    "        \n",
    "        # Create a progress bar for the training loop.\n",
    "        training_loop = create_tqdm_bar(train_loader, desc=f'Training Epoch [{epoch + 1}/{epochs}]')\n",
    "        for train_iteration, batch in training_loop:\n",
    "            optimizer.zero_grad() # Reset the gradients - VERY important! Otherwise they accumulate.\n",
    "            images, labels = batch # Get the images and labels from the batch, in the fashion we defined in the dataset and dataloader.\n",
    "            images, labels = images.to(device), labels.to(device) # Send the data to the device (GPU or CPU) - it has to be the same device as the model.\n",
    "\n",
    "            # Flatten the images to a vector. This is done because the classifier expects a vector as input.\n",
    "            # Could also be done by reshaping the images in the dataset.\n",
    "            images = images.view(images.shape[0], -1) \n",
    "\n",
    "            pred = classifier(images) # Stage 1: Forward().\n",
    "            loss = loss_func(pred, labels) # Compute the loss over the predictions and the ground truth.\n",
    "            loss.backward()  # Stage 2: Backward().\n",
    "            optimizer.step() # Stage 3: Update the parameters.\n",
    "\n",
    "            training_loss += loss.item()\n",
    "\n",
    "            # Update the progress bar.\n",
    "            training_loop.set_postfix(curr_train_loss = \"{:.8f}\".format(training_loss / (train_iteration + 1)), val_loss = \"{:.8f}\".format(validation_loss))\n",
    "\n",
    "            # Update the tensorboard logger.\n",
    "            tb_logger.add_scalar(f'classifier_{name}/train_loss', loss.item(), epoch * len(train_loader) + train_iteration)\n",
    "            sleep(0.1) # Remove this line if you want to see the progress bar faster.\n",
    "\n",
    "        # Validation stage, where we don't want to update the parameters. Pay attention to the classifier.eval() line\n",
    "        # and \"with torch.no_grad()\" wrapper.\n",
    "        classifier.eval()\n",
    "        val_loop = create_tqdm_bar(val_loader, desc=f'Validation Epoch [{epoch + 1}/{epochs}]')\n",
    "        validation_loss = 0\n",
    "        with torch.no_grad():\n",
    "            for val_iteration, batch in val_loop:\n",
    "                images, labels = batch\n",
    "                images, labels = images.to(device), labels.to(device)\n",
    "\n",
    "                images = images.view(images.shape[0], -1) \n",
    "                pred = classifier(images)\n",
    "                loss = loss_func(pred, labels)\n",
    "                validation_loss += loss.item()\n",
    "\n",
    "                # Update the progress bar.\n",
    "                val_loop.set_postfix(val_loss = \"{:.8f}\".format(validation_loss / (val_iteration + 1)))\n",
    "\n",
    "                # Update the tensorboard logger.\n",
    "                tb_logger.add_scalar(f'classifier_{name}/val_loss', loss.item(), epoch * len(val_loader) + val_iteration)\n",
    "                sleep(0.1) # Remove this line if you want to see the progress bar faster.\n",
    "        \n",
    "        # This value is used for the progress bar of the training loop.\n",
    "        validation_loss /= len(val_loader)\n",
    "            "
   ]
  },
  {
   "attachments": {},
   "cell_type": "markdown",
   "metadata": {
    "id": "KVKLlwlyMNkl"
   },
   "source": [
    "## 2.5 Fit Classification Model with Trainer\n",
    "Now it's finally time to train your model.\n",
    "Run the following cell to see the behold the magic of deep learning at play."
   ]
  },
  {
   "cell_type": "code",
   "execution_count": 184,
   "metadata": {
    "id": "uBGavq9cMNkl"
   },
   "outputs": [
    {
     "name": "stderr",
     "output_type": "stream",
     "text": [
      "Training Epoch [1/150]: 100%|██████████████████████████████████████████| 2/2 [00:00<00:00,  7.94it/s, curr_train_loss=3.31008279, val_loss=0.00000000]\n",
      "Validation Epoch [1/150]: 100%|████████████████████████████████████████████████████████████████████| 2/2 [00:00<00:00,  8.35it/s, val_loss=2.97684777]\n",
      "Training Epoch [2/150]: 100%|██████████████████████████████████████████| 2/2 [00:00<00:00,  8.04it/s, curr_train_loss=2.80866492, val_loss=0.00000000]\n",
      "Validation Epoch [2/150]: 100%|████████████████████████████████████████████████████████████████████| 2/2 [00:00<00:00,  8.26it/s, val_loss=2.90776849]\n",
      "Training Epoch [3/150]: 100%|██████████████████████████████████████████| 2/2 [00:00<00:00,  7.68it/s, curr_train_loss=2.68751013, val_loss=0.00000000]\n",
      "Validation Epoch [3/150]: 100%|████████████████████████████████████████████████████████████████████| 2/2 [00:00<00:00,  8.59it/s, val_loss=2.84677529]\n",
      "Training Epoch [4/150]: 100%|██████████████████████████████████████████| 2/2 [00:00<00:00,  8.37it/s, curr_train_loss=2.47558236, val_loss=0.00000000]\n",
      "Validation Epoch [4/150]: 100%|████████████████████████████████████████████████████████████████████| 2/2 [00:00<00:00,  8.56it/s, val_loss=2.72665143]\n",
      "Training Epoch [5/150]: 100%|██████████████████████████████████████████| 2/2 [00:00<00:00,  8.39it/s, curr_train_loss=2.31148875, val_loss=0.00000000]\n",
      "Validation Epoch [5/150]: 100%|████████████████████████████████████████████████████████████████████| 2/2 [00:00<00:00,  8.21it/s, val_loss=2.60381246]\n",
      "Training Epoch [6/150]: 100%|██████████████████████████████████████████| 2/2 [00:00<00:00,  7.50it/s, curr_train_loss=2.11622000, val_loss=0.00000000]\n",
      "Validation Epoch [6/150]: 100%|████████████████████████████████████████████████████████████████████| 2/2 [00:00<00:00,  8.12it/s, val_loss=2.49951768]\n",
      "Training Epoch [7/150]: 100%|██████████████████████████████████████████| 2/2 [00:00<00:00,  8.52it/s, curr_train_loss=2.09895003, val_loss=0.00000000]\n",
      "Validation Epoch [7/150]: 100%|████████████████████████████████████████████████████████████████████| 2/2 [00:00<00:00,  7.75it/s, val_loss=2.34597945]\n",
      "Training Epoch [8/150]: 100%|██████████████████████████████████████████| 2/2 [00:00<00:00,  7.62it/s, curr_train_loss=1.95245719, val_loss=0.00000000]\n",
      "Validation Epoch [8/150]: 100%|████████████████████████████████████████████████████████████████████| 2/2 [00:00<00:00,  7.61it/s, val_loss=2.18616879]\n",
      "Training Epoch [9/150]: 100%|██████████████████████████████████████████| 2/2 [00:00<00:00,  7.45it/s, curr_train_loss=1.93970716, val_loss=0.00000000]\n",
      "Validation Epoch [9/150]: 100%|████████████████████████████████████████████████████████████████████| 2/2 [00:00<00:00,  7.69it/s, val_loss=2.09841621]\n",
      "Training Epoch [10/150]: 100%|█████████████████████████████████████████| 2/2 [00:00<00:00,  7.51it/s, curr_train_loss=1.74759656, val_loss=0.00000000]\n",
      "Validation Epoch [10/150]: 100%|███████████████████████████████████████████████████████████████████| 2/2 [00:00<00:00,  8.14it/s, val_loss=2.06833911]\n",
      "Training Epoch [11/150]: 100%|█████████████████████████████████████████| 2/2 [00:00<00:00,  8.23it/s, curr_train_loss=1.68645906, val_loss=0.00000000]\n",
      "Validation Epoch [11/150]: 100%|███████████████████████████████████████████████████████████████████| 2/2 [00:00<00:00,  8.04it/s, val_loss=2.01302624]\n",
      "Training Epoch [12/150]: 100%|█████████████████████████████████████████| 2/2 [00:00<00:00,  7.80it/s, curr_train_loss=1.70838028, val_loss=0.00000000]\n",
      "Validation Epoch [12/150]: 100%|███████████████████████████████████████████████████████████████████| 2/2 [00:00<00:00,  7.66it/s, val_loss=1.90472841]\n",
      "Training Epoch [13/150]: 100%|█████████████████████████████████████████| 2/2 [00:00<00:00,  8.00it/s, curr_train_loss=1.57489008, val_loss=0.00000000]\n",
      "Validation Epoch [13/150]: 100%|███████████████████████████████████████████████████████████████████| 2/2 [00:00<00:00,  8.54it/s, val_loss=1.79463947]\n",
      "Training Epoch [14/150]: 100%|█████████████████████████████████████████| 2/2 [00:00<00:00,  8.01it/s, curr_train_loss=1.57641405, val_loss=0.00000000]\n",
      "Validation Epoch [14/150]: 100%|███████████████████████████████████████████████████████████████████| 2/2 [00:00<00:00,  7.68it/s, val_loss=1.86675870]\n",
      "Training Epoch [15/150]: 100%|█████████████████████████████████████████| 2/2 [00:00<00:00,  7.88it/s, curr_train_loss=1.51695532, val_loss=0.00000000]\n",
      "Validation Epoch [15/150]: 100%|███████████████████████████████████████████████████████████████████| 2/2 [00:00<00:00,  8.38it/s, val_loss=1.72696376]\n",
      "Training Epoch [16/150]: 100%|█████████████████████████████████████████| 2/2 [00:00<00:00,  7.86it/s, curr_train_loss=1.41369110, val_loss=0.00000000]\n",
      "Validation Epoch [16/150]: 100%|███████████████████████████████████████████████████████████████████| 2/2 [00:00<00:00,  7.73it/s, val_loss=1.80954754]\n",
      "Training Epoch [17/150]: 100%|█████████████████████████████████████████| 2/2 [00:00<00:00,  7.55it/s, curr_train_loss=1.32511401, val_loss=0.00000000]\n",
      "Validation Epoch [17/150]: 100%|███████████████████████████████████████████████████████████████████| 2/2 [00:00<00:00,  7.75it/s, val_loss=1.68429327]\n",
      "Training Epoch [18/150]: 100%|█████████████████████████████████████████| 2/2 [00:00<00:00,  7.54it/s, curr_train_loss=1.34588844, val_loss=0.00000000]\n",
      "Validation Epoch [18/150]: 100%|███████████████████████████████████████████████████████████████████| 2/2 [00:00<00:00,  7.72it/s, val_loss=1.64826995]\n",
      "Training Epoch [19/150]: 100%|█████████████████████████████████████████| 2/2 [00:00<00:00,  7.52it/s, curr_train_loss=1.28919381, val_loss=0.00000000]\n",
      "Validation Epoch [19/150]: 100%|███████████████████████████████████████████████████████████████████| 2/2 [00:00<00:00,  7.63it/s, val_loss=1.69479197]\n",
      "Training Epoch [20/150]: 100%|█████████████████████████████████████████| 2/2 [00:00<00:00,  8.03it/s, curr_train_loss=1.28215653, val_loss=0.00000000]\n",
      "Validation Epoch [20/150]: 100%|███████████████████████████████████████████████████████████████████| 2/2 [00:00<00:00,  7.95it/s, val_loss=1.56683320]\n",
      "Training Epoch [21/150]: 100%|█████████████████████████████████████████| 2/2 [00:00<00:00,  7.70it/s, curr_train_loss=1.18668532, val_loss=0.00000000]\n",
      "Validation Epoch [21/150]: 100%|███████████████████████████████████████████████████████████████████| 2/2 [00:00<00:00,  7.90it/s, val_loss=1.51907319]\n",
      "Training Epoch [22/150]: 100%|█████████████████████████████████████████| 2/2 [00:00<00:00,  7.63it/s, curr_train_loss=1.30587733, val_loss=0.00000000]\n",
      "Validation Epoch [22/150]: 100%|███████████████████████████████████████████████████████████████████| 2/2 [00:00<00:00,  7.99it/s, val_loss=1.56807154]\n",
      "Training Epoch [23/150]: 100%|█████████████████████████████████████████| 2/2 [00:00<00:00,  7.70it/s, curr_train_loss=1.15334046, val_loss=0.00000000]\n",
      "Validation Epoch [23/150]: 100%|███████████████████████████████████████████████████████████████████| 2/2 [00:00<00:00,  7.88it/s, val_loss=1.56933725]\n",
      "Training Epoch [24/150]: 100%|█████████████████████████████████████████| 2/2 [00:00<00:00,  7.69it/s, curr_train_loss=1.09560895, val_loss=0.00000000]\n",
      "Validation Epoch [24/150]: 100%|███████████████████████████████████████████████████████████████████| 2/2 [00:00<00:00,  7.89it/s, val_loss=1.49936742]\n",
      "Training Epoch [25/150]: 100%|█████████████████████████████████████████| 2/2 [00:00<00:00,  7.71it/s, curr_train_loss=1.05367380, val_loss=0.00000000]\n",
      "Validation Epoch [25/150]: 100%|███████████████████████████████████████████████████████████████████| 2/2 [00:00<00:00,  7.64it/s, val_loss=1.47528189]\n",
      "Training Epoch [26/150]: 100%|█████████████████████████████████████████| 2/2 [00:00<00:00,  7.70it/s, curr_train_loss=1.08130449, val_loss=0.00000000]\n",
      "Validation Epoch [26/150]: 100%|███████████████████████████████████████████████████████████████████| 2/2 [00:00<00:00,  8.56it/s, val_loss=1.54799455]\n",
      "Training Epoch [27/150]: 100%|█████████████████████████████████████████| 2/2 [00:00<00:00,  7.84it/s, curr_train_loss=0.97924355, val_loss=0.00000000]\n",
      "Validation Epoch [27/150]: 100%|███████████████████████████████████████████████████████████████████| 2/2 [00:00<00:00,  7.63it/s, val_loss=1.36908346]\n",
      "Training Epoch [28/150]: 100%|█████████████████████████████████████████| 2/2 [00:00<00:00,  7.58it/s, curr_train_loss=1.10955977, val_loss=0.00000000]\n",
      "Validation Epoch [28/150]: 100%|███████████████████████████████████████████████████████████████████| 2/2 [00:00<00:00,  8.20it/s, val_loss=1.40666628]\n",
      "Training Epoch [29/150]: 100%|█████████████████████████████████████████| 2/2 [00:00<00:00,  7.69it/s, curr_train_loss=0.98967510, val_loss=0.00000000]\n",
      "Validation Epoch [29/150]: 100%|███████████████████████████████████████████████████████████████████| 2/2 [00:00<00:00,  8.12it/s, val_loss=1.44592565]\n",
      "Training Epoch [30/150]: 100%|█████████████████████████████████████████| 2/2 [00:00<00:00,  8.06it/s, curr_train_loss=0.92663795, val_loss=0.00000000]\n",
      "Validation Epoch [30/150]: 100%|███████████████████████████████████████████████████████████████████| 2/2 [00:00<00:00,  7.81it/s, val_loss=1.43728656]\n",
      "Training Epoch [31/150]: 100%|█████████████████████████████████████████| 2/2 [00:00<00:00,  7.55it/s, curr_train_loss=0.94091922, val_loss=0.00000000]\n",
      "Validation Epoch [31/150]: 100%|███████████████████████████████████████████████████████████████████| 2/2 [00:00<00:00,  8.15it/s, val_loss=1.35137510]\n",
      "Training Epoch [32/150]: 100%|█████████████████████████████████████████| 2/2 [00:00<00:00,  7.83it/s, curr_train_loss=0.90154621, val_loss=0.00000000]\n",
      "Validation Epoch [32/150]: 100%|███████████████████████████████████████████████████████████████████| 2/2 [00:00<00:00,  7.71it/s, val_loss=1.36554837]\n",
      "Training Epoch [33/150]: 100%|█████████████████████████████████████████| 2/2 [00:00<00:00,  8.41it/s, curr_train_loss=0.83112910, val_loss=0.00000000]\n",
      "Validation Epoch [33/150]: 100%|███████████████████████████████████████████████████████████████████| 2/2 [00:00<00:00,  8.10it/s, val_loss=1.36209375]\n",
      "Training Epoch [34/150]: 100%|█████████████████████████████████████████| 2/2 [00:00<00:00,  7.69it/s, curr_train_loss=0.83766830, val_loss=0.00000000]\n",
      "Validation Epoch [34/150]: 100%|███████████████████████████████████████████████████████████████████| 2/2 [00:00<00:00,  7.65it/s, val_loss=1.40497988]\n",
      "Training Epoch [35/150]: 100%|█████████████████████████████████████████| 2/2 [00:00<00:00,  7.44it/s, curr_train_loss=0.86394560, val_loss=0.00000000]\n",
      "Validation Epoch [35/150]: 100%|███████████████████████████████████████████████████████████████████| 2/2 [00:00<00:00,  7.75it/s, val_loss=1.33770877]\n",
      "Training Epoch [36/150]: 100%|█████████████████████████████████████████| 2/2 [00:00<00:00,  7.52it/s, curr_train_loss=0.82998148, val_loss=0.00000000]\n",
      "Validation Epoch [36/150]: 100%|███████████████████████████████████████████████████████████████████| 2/2 [00:00<00:00,  7.82it/s, val_loss=1.30016577]\n",
      "Training Epoch [37/150]: 100%|█████████████████████████████████████████| 2/2 [00:00<00:00,  8.12it/s, curr_train_loss=0.88306007, val_loss=0.00000000]\n",
      "Validation Epoch [37/150]: 100%|███████████████████████████████████████████████████████████████████| 2/2 [00:00<00:00,  7.65it/s, val_loss=1.28439850]\n",
      "Training Epoch [38/150]: 100%|█████████████████████████████████████████| 2/2 [00:00<00:00,  7.47it/s, curr_train_loss=0.86429301, val_loss=0.00000000]\n",
      "Validation Epoch [38/150]: 100%|███████████████████████████████████████████████████████████████████| 2/2 [00:00<00:00,  7.49it/s, val_loss=1.30863321]\n",
      "Training Epoch [39/150]: 100%|█████████████████████████████████████████| 2/2 [00:00<00:00,  7.31it/s, curr_train_loss=0.94372660, val_loss=0.00000000]\n",
      "Validation Epoch [39/150]: 100%|███████████████████████████████████████████████████████████████████| 2/2 [00:00<00:00,  8.08it/s, val_loss=1.35976678]\n",
      "Training Epoch [40/150]: 100%|█████████████████████████████████████████| 2/2 [00:00<00:00,  7.40it/s, curr_train_loss=0.71891150, val_loss=0.00000000]\n",
      "Validation Epoch [40/150]: 100%|███████████████████████████████████████████████████████████████████| 2/2 [00:00<00:00,  8.00it/s, val_loss=1.29490334]\n",
      "Training Epoch [41/150]: 100%|█████████████████████████████████████████| 2/2 [00:00<00:00,  7.75it/s, curr_train_loss=0.85392940, val_loss=0.00000000]\n",
      "Validation Epoch [41/150]: 100%|███████████████████████████████████████████████████████████████████| 2/2 [00:00<00:00,  8.17it/s, val_loss=1.30992675]\n",
      "Training Epoch [42/150]: 100%|█████████████████████████████████████████| 2/2 [00:00<00:00,  7.95it/s, curr_train_loss=0.75050011, val_loss=0.00000000]\n",
      "Validation Epoch [42/150]: 100%|███████████████████████████████████████████████████████████████████| 2/2 [00:00<00:00,  7.81it/s, val_loss=1.23755187]\n",
      "Training Epoch [43/150]: 100%|█████████████████████████████████████████| 2/2 [00:00<00:00,  7.44it/s, curr_train_loss=0.72919306, val_loss=0.00000000]\n",
      "Validation Epoch [43/150]: 100%|███████████████████████████████████████████████████████████████████| 2/2 [00:00<00:00,  7.77it/s, val_loss=1.24148428]\n",
      "Training Epoch [44/150]: 100%|█████████████████████████████████████████| 2/2 [00:00<00:00,  7.39it/s, curr_train_loss=0.76114661, val_loss=0.00000000]\n",
      "Validation Epoch [44/150]: 100%|███████████████████████████████████████████████████████████████████| 2/2 [00:00<00:00,  8.02it/s, val_loss=1.22800630]\n",
      "Training Epoch [45/150]: 100%|█████████████████████████████████████████| 2/2 [00:00<00:00,  7.32it/s, curr_train_loss=0.85174766, val_loss=0.00000000]\n",
      "Validation Epoch [45/150]: 100%|███████████████████████████████████████████████████████████████████| 2/2 [00:00<00:00,  7.99it/s, val_loss=1.30781341]\n",
      "Training Epoch [46/150]: 100%|█████████████████████████████████████████| 2/2 [00:00<00:00,  7.40it/s, curr_train_loss=0.74428430, val_loss=0.00000000]\n",
      "Validation Epoch [46/150]: 100%|███████████████████████████████████████████████████████████████████| 2/2 [00:00<00:00,  7.92it/s, val_loss=1.20007592]\n",
      "Training Epoch [47/150]: 100%|█████████████████████████████████████████| 2/2 [00:00<00:00,  7.59it/s, curr_train_loss=0.71957946, val_loss=0.00000000]\n",
      "Validation Epoch [47/150]: 100%|███████████████████████████████████████████████████████████████████| 2/2 [00:00<00:00,  7.86it/s, val_loss=1.21099782]\n",
      "Training Epoch [48/150]: 100%|█████████████████████████████████████████| 2/2 [00:00<00:00,  7.48it/s, curr_train_loss=0.69301042, val_loss=0.00000000]\n",
      "Validation Epoch [48/150]: 100%|███████████████████████████████████████████████████████████████████| 2/2 [00:00<00:00,  8.58it/s, val_loss=1.18787175]\n",
      "Training Epoch [49/150]: 100%|█████████████████████████████████████████| 2/2 [00:00<00:00,  7.30it/s, curr_train_loss=0.62984920, val_loss=0.00000000]\n",
      "Validation Epoch [49/150]: 100%|███████████████████████████████████████████████████████████████████| 2/2 [00:00<00:00,  8.52it/s, val_loss=1.16046211]\n",
      "Training Epoch [50/150]: 100%|█████████████████████████████████████████| 2/2 [00:00<00:00,  7.81it/s, curr_train_loss=0.71054345, val_loss=0.00000000]\n",
      "Validation Epoch [50/150]: 100%|███████████████████████████████████████████████████████████████████| 2/2 [00:00<00:00,  7.79it/s, val_loss=1.08673429]\n",
      "Training Epoch [51/150]: 100%|█████████████████████████████████████████| 2/2 [00:00<00:00,  7.62it/s, curr_train_loss=0.71103504, val_loss=0.00000000]\n",
      "Validation Epoch [51/150]: 100%|███████████████████████████████████████████████████████████████████| 2/2 [00:00<00:00,  7.88it/s, val_loss=1.18024379]\n",
      "Training Epoch [52/150]: 100%|█████████████████████████████████████████| 2/2 [00:00<00:00,  7.62it/s, curr_train_loss=0.72755638, val_loss=0.00000000]\n",
      "Validation Epoch [52/150]: 100%|███████████████████████████████████████████████████████████████████| 2/2 [00:00<00:00,  7.88it/s, val_loss=1.19641393]\n",
      "Training Epoch [53/150]: 100%|█████████████████████████████████████████| 2/2 [00:00<00:00,  8.08it/s, curr_train_loss=0.76113531, val_loss=0.00000000]\n",
      "Validation Epoch [53/150]: 100%|███████████████████████████████████████████████████████████████████| 2/2 [00:00<00:00,  8.14it/s, val_loss=1.22473970]\n",
      "Training Epoch [54/150]: 100%|█████████████████████████████████████████| 2/2 [00:00<00:00,  7.60it/s, curr_train_loss=0.75846472, val_loss=0.00000000]\n",
      "Validation Epoch [54/150]: 100%|███████████████████████████████████████████████████████████████████| 2/2 [00:00<00:00,  7.98it/s, val_loss=1.24419212]\n",
      "Training Epoch [55/150]: 100%|█████████████████████████████████████████| 2/2 [00:00<00:00,  7.67it/s, curr_train_loss=0.55125317, val_loss=0.00000000]\n",
      "Validation Epoch [55/150]: 100%|███████████████████████████████████████████████████████████████████| 2/2 [00:00<00:00,  7.69it/s, val_loss=1.15119407]\n",
      "Training Epoch [56/150]: 100%|█████████████████████████████████████████| 2/2 [00:00<00:00,  7.75it/s, curr_train_loss=0.58615333, val_loss=0.00000000]\n",
      "Validation Epoch [56/150]: 100%|███████████████████████████████████████████████████████████████████| 2/2 [00:00<00:00,  7.66it/s, val_loss=1.03319988]\n",
      "Training Epoch [57/150]: 100%|█████████████████████████████████████████| 2/2 [00:00<00:00,  8.47it/s, curr_train_loss=0.61433870, val_loss=0.00000000]\n",
      "Validation Epoch [57/150]: 100%|███████████████████████████████████████████████████████████████████| 2/2 [00:00<00:00,  8.28it/s, val_loss=1.08900708]\n",
      "Training Epoch [58/150]: 100%|█████████████████████████████████████████| 2/2 [00:00<00:00,  8.49it/s, curr_train_loss=0.58084837, val_loss=0.00000000]\n",
      "Validation Epoch [58/150]: 100%|███████████████████████████████████████████████████████████████████| 2/2 [00:00<00:00,  7.75it/s, val_loss=1.00969398]\n",
      "Training Epoch [59/150]: 100%|█████████████████████████████████████████| 2/2 [00:00<00:00,  7.64it/s, curr_train_loss=0.62068966, val_loss=0.00000000]\n",
      "Validation Epoch [59/150]: 100%|███████████████████████████████████████████████████████████████████| 2/2 [00:00<00:00,  7.67it/s, val_loss=1.11748308]\n",
      "Training Epoch [60/150]: 100%|█████████████████████████████████████████| 2/2 [00:00<00:00,  7.49it/s, curr_train_loss=0.66889966, val_loss=0.00000000]\n",
      "Validation Epoch [60/150]: 100%|███████████████████████████████████████████████████████████████████| 2/2 [00:00<00:00,  8.49it/s, val_loss=0.99789038]\n",
      "Training Epoch [61/150]: 100%|█████████████████████████████████████████| 2/2 [00:00<00:00,  7.45it/s, curr_train_loss=0.57622752, val_loss=0.00000000]\n",
      "Validation Epoch [61/150]: 100%|███████████████████████████████████████████████████████████████████| 2/2 [00:00<00:00,  8.45it/s, val_loss=1.03444985]\n",
      "Training Epoch [62/150]: 100%|█████████████████████████████████████████| 2/2 [00:00<00:00,  7.71it/s, curr_train_loss=0.56403625, val_loss=0.00000000]\n",
      "Validation Epoch [62/150]: 100%|███████████████████████████████████████████████████████████████████| 2/2 [00:00<00:00,  7.63it/s, val_loss=1.03497380]\n",
      "Training Epoch [63/150]: 100%|█████████████████████████████████████████| 2/2 [00:00<00:00,  7.49it/s, curr_train_loss=0.50696282, val_loss=0.00000000]\n",
      "Validation Epoch [63/150]: 100%|███████████████████████████████████████████████████████████████████| 2/2 [00:00<00:00,  7.91it/s, val_loss=1.01757947]\n",
      "Training Epoch [64/150]: 100%|█████████████████████████████████████████| 2/2 [00:00<00:00,  8.51it/s, curr_train_loss=0.39281948, val_loss=0.00000000]\n",
      "Validation Epoch [64/150]: 100%|███████████████████████████████████████████████████████████████████| 2/2 [00:00<00:00,  8.31it/s, val_loss=1.11405411]\n",
      "Training Epoch [65/150]: 100%|█████████████████████████████████████████| 2/2 [00:00<00:00,  8.38it/s, curr_train_loss=0.48943222, val_loss=0.00000000]\n",
      "Validation Epoch [65/150]: 100%|███████████████████████████████████████████████████████████████████| 2/2 [00:00<00:00,  7.93it/s, val_loss=1.06571278]\n",
      "Training Epoch [66/150]: 100%|█████████████████████████████████████████| 2/2 [00:00<00:00,  7.38it/s, curr_train_loss=0.56612682, val_loss=0.00000000]\n",
      "Validation Epoch [66/150]: 100%|███████████████████████████████████████████████████████████████████| 2/2 [00:00<00:00,  8.44it/s, val_loss=1.08037168]\n",
      "Training Epoch [67/150]: 100%|█████████████████████████████████████████| 2/2 [00:00<00:00,  7.86it/s, curr_train_loss=0.46183711, val_loss=0.00000000]\n",
      "Validation Epoch [67/150]: 100%|███████████████████████████████████████████████████████████████████| 2/2 [00:00<00:00,  7.70it/s, val_loss=1.06893107]\n",
      "Training Epoch [68/150]: 100%|█████████████████████████████████████████| 2/2 [00:00<00:00,  7.99it/s, curr_train_loss=0.53899261, val_loss=0.00000000]\n",
      "Validation Epoch [68/150]: 100%|███████████████████████████████████████████████████████████████████| 2/2 [00:00<00:00,  7.69it/s, val_loss=0.99791074]\n",
      "Training Epoch [69/150]: 100%|█████████████████████████████████████████| 2/2 [00:00<00:00,  7.57it/s, curr_train_loss=0.55013390, val_loss=0.00000000]\n",
      "Validation Epoch [69/150]: 100%|███████████████████████████████████████████████████████████████████| 2/2 [00:00<00:00,  8.54it/s, val_loss=1.01437923]\n",
      "Training Epoch [70/150]: 100%|█████████████████████████████████████████| 2/2 [00:00<00:00,  7.49it/s, curr_train_loss=0.45445938, val_loss=0.00000000]\n",
      "Validation Epoch [70/150]: 100%|███████████████████████████████████████████████████████████████████| 2/2 [00:00<00:00,  7.85it/s, val_loss=0.99396110]\n",
      "Training Epoch [71/150]: 100%|█████████████████████████████████████████| 2/2 [00:00<00:00,  8.08it/s, curr_train_loss=0.56487098, val_loss=0.00000000]\n",
      "Validation Epoch [71/150]: 100%|███████████████████████████████████████████████████████████████████| 2/2 [00:00<00:00,  7.67it/s, val_loss=1.06157702]\n",
      "Training Epoch [72/150]: 100%|█████████████████████████████████████████| 2/2 [00:00<00:00,  7.54it/s, curr_train_loss=0.43338479, val_loss=0.00000000]\n",
      "Validation Epoch [72/150]: 100%|███████████████████████████████████████████████████████████████████| 2/2 [00:00<00:00,  8.52it/s, val_loss=0.99638084]\n",
      "Training Epoch [73/150]: 100%|█████████████████████████████████████████| 2/2 [00:00<00:00,  7.72it/s, curr_train_loss=0.42637858, val_loss=0.00000000]\n",
      "Validation Epoch [73/150]: 100%|███████████████████████████████████████████████████████████████████| 2/2 [00:00<00:00,  8.02it/s, val_loss=0.97774094]\n",
      "Training Epoch [74/150]: 100%|█████████████████████████████████████████| 2/2 [00:00<00:00,  7.67it/s, curr_train_loss=0.38836536, val_loss=0.00000000]\n",
      "Validation Epoch [74/150]: 100%|███████████████████████████████████████████████████████████████████| 2/2 [00:00<00:00,  7.83it/s, val_loss=1.09516755]\n",
      "Training Epoch [75/150]: 100%|█████████████████████████████████████████| 2/2 [00:00<00:00,  8.09it/s, curr_train_loss=0.40850896, val_loss=0.00000000]\n",
      "Validation Epoch [75/150]: 100%|███████████████████████████████████████████████████████████████████| 2/2 [00:00<00:00,  8.00it/s, val_loss=0.89576206]\n",
      "Training Epoch [76/150]: 100%|█████████████████████████████████████████| 2/2 [00:00<00:00,  7.77it/s, curr_train_loss=0.41571593, val_loss=0.00000000]\n",
      "Validation Epoch [76/150]: 100%|███████████████████████████████████████████████████████████████████| 2/2 [00:00<00:00,  7.15it/s, val_loss=1.02034765]\n",
      "Training Epoch [77/150]: 100%|█████████████████████████████████████████| 2/2 [00:00<00:00,  8.09it/s, curr_train_loss=0.45428284, val_loss=0.00000000]\n",
      "Validation Epoch [77/150]: 100%|███████████████████████████████████████████████████████████████████| 2/2 [00:00<00:00,  8.40it/s, val_loss=1.05202061]\n",
      "Training Epoch [78/150]: 100%|█████████████████████████████████████████| 2/2 [00:00<00:00,  8.13it/s, curr_train_loss=0.46677786, val_loss=0.00000000]\n",
      "Validation Epoch [78/150]: 100%|███████████████████████████████████████████████████████████████████| 2/2 [00:00<00:00,  8.13it/s, val_loss=0.90814951]\n",
      "Training Epoch [79/150]: 100%|█████████████████████████████████████████| 2/2 [00:00<00:00,  7.48it/s, curr_train_loss=0.45979349, val_loss=0.00000000]\n",
      "Validation Epoch [79/150]: 100%|███████████████████████████████████████████████████████████████████| 2/2 [00:00<00:00,  7.91it/s, val_loss=0.93638307]\n",
      "Training Epoch [80/150]: 100%|█████████████████████████████████████████| 2/2 [00:00<00:00,  7.68it/s, curr_train_loss=0.38656349, val_loss=0.00000000]\n",
      "Validation Epoch [80/150]: 100%|███████████████████████████████████████████████████████████████████| 2/2 [00:00<00:00,  8.02it/s, val_loss=0.96628603]\n",
      "Training Epoch [81/150]: 100%|█████████████████████████████████████████| 2/2 [00:00<00:00,  7.31it/s, curr_train_loss=0.42135625, val_loss=0.00000000]\n",
      "Validation Epoch [81/150]: 100%|███████████████████████████████████████████████████████████████████| 2/2 [00:00<00:00,  8.07it/s, val_loss=0.93591070]\n",
      "Training Epoch [82/150]: 100%|█████████████████████████████████████████| 2/2 [00:00<00:00,  7.69it/s, curr_train_loss=0.43419889, val_loss=0.00000000]\n",
      "Validation Epoch [82/150]: 100%|███████████████████████████████████████████████████████████████████| 2/2 [00:00<00:00,  7.74it/s, val_loss=0.97296098]\n",
      "Training Epoch [83/150]: 100%|█████████████████████████████████████████| 2/2 [00:00<00:00,  8.06it/s, curr_train_loss=0.40662841, val_loss=0.00000000]\n",
      "Validation Epoch [83/150]: 100%|███████████████████████████████████████████████████████████████████| 2/2 [00:00<00:00,  7.77it/s, val_loss=0.99573806]\n",
      "Training Epoch [84/150]: 100%|█████████████████████████████████████████| 2/2 [00:00<00:00,  8.45it/s, curr_train_loss=0.41958827, val_loss=0.00000000]\n",
      "Validation Epoch [84/150]: 100%|███████████████████████████████████████████████████████████████████| 2/2 [00:00<00:00,  7.83it/s, val_loss=0.98582742]\n",
      "Training Epoch [85/150]: 100%|█████████████████████████████████████████| 2/2 [00:00<00:00,  7.59it/s, curr_train_loss=0.45210418, val_loss=0.00000000]\n",
      "Validation Epoch [85/150]: 100%|███████████████████████████████████████████████████████████████████| 2/2 [00:00<00:00,  7.81it/s, val_loss=0.94236186]\n",
      "Training Epoch [86/150]: 100%|█████████████████████████████████████████| 2/2 [00:00<00:00,  7.71it/s, curr_train_loss=0.35946302, val_loss=0.00000000]\n",
      "Validation Epoch [86/150]: 100%|███████████████████████████████████████████████████████████████████| 2/2 [00:00<00:00,  7.97it/s, val_loss=0.87661722]\n",
      "Training Epoch [87/150]: 100%|█████████████████████████████████████████| 2/2 [00:00<00:00,  7.80it/s, curr_train_loss=0.29731050, val_loss=0.00000000]\n",
      "Validation Epoch [87/150]: 100%|███████████████████████████████████████████████████████████████████| 2/2 [00:00<00:00,  7.94it/s, val_loss=0.89260679]\n",
      "Training Epoch [88/150]: 100%|█████████████████████████████████████████| 2/2 [00:00<00:00,  7.68it/s, curr_train_loss=0.49504700, val_loss=0.00000000]\n",
      "Validation Epoch [88/150]: 100%|███████████████████████████████████████████████████████████████████| 2/2 [00:00<00:00,  7.89it/s, val_loss=0.92704672]\n",
      "Training Epoch [89/150]: 100%|█████████████████████████████████████████| 2/2 [00:00<00:00,  8.06it/s, curr_train_loss=0.54398538, val_loss=0.00000000]\n",
      "Validation Epoch [89/150]: 100%|███████████████████████████████████████████████████████████████████| 2/2 [00:00<00:00,  8.11it/s, val_loss=0.87538743]\n",
      "Training Epoch [90/150]: 100%|█████████████████████████████████████████| 2/2 [00:00<00:00,  7.69it/s, curr_train_loss=0.39059576, val_loss=0.00000000]\n",
      "Validation Epoch [90/150]: 100%|███████████████████████████████████████████████████████████████████| 2/2 [00:00<00:00,  7.67it/s, val_loss=0.94949561]\n",
      "Training Epoch [91/150]: 100%|█████████████████████████████████████████| 2/2 [00:00<00:00,  7.68it/s, curr_train_loss=0.35852291, val_loss=0.00000000]\n",
      "Validation Epoch [91/150]: 100%|███████████████████████████████████████████████████████████████████| 2/2 [00:00<00:00,  7.89it/s, val_loss=1.13987529]\n",
      "Training Epoch [92/150]: 100%|█████████████████████████████████████████| 2/2 [00:00<00:00,  7.31it/s, curr_train_loss=0.46518092, val_loss=0.00000000]\n",
      "Validation Epoch [92/150]: 100%|███████████████████████████████████████████████████████████████████| 2/2 [00:00<00:00,  7.73it/s, val_loss=1.06029502]\n",
      "Training Epoch [93/150]: 100%|█████████████████████████████████████████| 2/2 [00:00<00:00,  7.53it/s, curr_train_loss=0.51132795, val_loss=0.00000000]\n",
      "Validation Epoch [93/150]: 100%|███████████████████████████████████████████████████████████████████| 2/2 [00:00<00:00,  7.80it/s, val_loss=1.02448514]\n",
      "Training Epoch [94/150]: 100%|█████████████████████████████████████████| 2/2 [00:00<00:00,  7.38it/s, curr_train_loss=0.46907732, val_loss=0.00000000]\n",
      "Validation Epoch [94/150]: 100%|███████████████████████████████████████████████████████████████████| 2/2 [00:00<00:00,  7.78it/s, val_loss=0.82917270]\n",
      "Training Epoch [95/150]: 100%|█████████████████████████████████████████| 2/2 [00:00<00:00,  7.41it/s, curr_train_loss=0.47672300, val_loss=0.00000000]\n",
      "Validation Epoch [95/150]: 100%|███████████████████████████████████████████████████████████████████| 2/2 [00:00<00:00,  7.48it/s, val_loss=0.94040936]\n",
      "Training Epoch [96/150]: 100%|█████████████████████████████████████████| 2/2 [00:00<00:00,  7.63it/s, curr_train_loss=0.45686154, val_loss=0.00000000]\n",
      "Validation Epoch [96/150]: 100%|███████████████████████████████████████████████████████████████████| 2/2 [00:00<00:00,  8.01it/s, val_loss=1.08538568]\n",
      "Training Epoch [97/150]: 100%|█████████████████████████████████████████| 2/2 [00:00<00:00,  7.71it/s, curr_train_loss=0.36143509, val_loss=0.00000000]\n",
      "Validation Epoch [97/150]: 100%|███████████████████████████████████████████████████████████████████| 2/2 [00:00<00:00,  8.46it/s, val_loss=0.98860288]\n",
      "Training Epoch [98/150]: 100%|█████████████████████████████████████████| 2/2 [00:00<00:00,  7.93it/s, curr_train_loss=0.38536079, val_loss=0.00000000]\n",
      "Validation Epoch [98/150]: 100%|███████████████████████████████████████████████████████████████████| 2/2 [00:00<00:00,  7.45it/s, val_loss=1.04332626]\n",
      "Training Epoch [99/150]: 100%|█████████████████████████████████████████| 2/2 [00:00<00:00,  7.42it/s, curr_train_loss=0.44024250, val_loss=0.00000000]\n",
      "Validation Epoch [99/150]: 100%|███████████████████████████████████████████████████████████████████| 2/2 [00:00<00:00,  7.78it/s, val_loss=0.97266081]\n",
      "Training Epoch [100/150]: 100%|████████████████████████████████████████| 2/2 [00:00<00:00,  7.76it/s, curr_train_loss=0.40736096, val_loss=0.00000000]\n",
      "Validation Epoch [100/150]: 100%|██████████████████████████████████████████████████████████████████| 2/2 [00:00<00:00,  8.54it/s, val_loss=0.92851108]\n",
      "Training Epoch [101/150]: 100%|████████████████████████████████████████| 2/2 [00:00<00:00,  7.48it/s, curr_train_loss=0.36345313, val_loss=0.00000000]\n",
      "Validation Epoch [101/150]: 100%|██████████████████████████████████████████████████████████████████| 2/2 [00:00<00:00,  7.93it/s, val_loss=1.00202549]\n",
      "Training Epoch [102/150]: 100%|████████████████████████████████████████| 2/2 [00:00<00:00,  7.57it/s, curr_train_loss=0.32923977, val_loss=0.00000000]\n",
      "Validation Epoch [102/150]: 100%|██████████████████████████████████████████████████████████████████| 2/2 [00:00<00:00,  8.46it/s, val_loss=0.94048187]\n",
      "Training Epoch [103/150]: 100%|████████████████████████████████████████| 2/2 [00:00<00:00,  7.72it/s, curr_train_loss=0.34781989, val_loss=0.00000000]\n",
      "Validation Epoch [103/150]: 100%|██████████████████████████████████████████████████████████████████| 2/2 [00:00<00:00,  8.17it/s, val_loss=0.93212196]\n",
      "Training Epoch [104/150]: 100%|████████████████████████████████████████| 2/2 [00:00<00:00,  7.70it/s, curr_train_loss=0.44254263, val_loss=0.00000000]\n",
      "Validation Epoch [104/150]: 100%|██████████████████████████████████████████████████████████████████| 2/2 [00:00<00:00,  7.77it/s, val_loss=1.11180973]\n",
      "Training Epoch [105/150]: 100%|████████████████████████████████████████| 2/2 [00:00<00:00,  7.69it/s, curr_train_loss=0.42830408, val_loss=0.00000000]\n",
      "Validation Epoch [105/150]: 100%|██████████████████████████████████████████████████████████████████| 2/2 [00:00<00:00,  8.33it/s, val_loss=0.99506471]\n",
      "Training Epoch [106/150]: 100%|████████████████████████████████████████| 2/2 [00:00<00:00,  8.11it/s, curr_train_loss=0.36023916, val_loss=0.00000000]\n",
      "Validation Epoch [106/150]: 100%|██████████████████████████████████████████████████████████████████| 2/2 [00:00<00:00,  8.04it/s, val_loss=0.96712962]\n",
      "Training Epoch [107/150]: 100%|████████████████████████████████████████| 2/2 [00:00<00:00,  8.05it/s, curr_train_loss=0.38881037, val_loss=0.00000000]\n",
      "Validation Epoch [107/150]: 100%|██████████████████████████████████████████████████████████████████| 2/2 [00:00<00:00,  7.57it/s, val_loss=0.98209316]\n",
      "Training Epoch [108/150]: 100%|████████████████████████████████████████| 2/2 [00:00<00:00,  8.28it/s, curr_train_loss=0.41430435, val_loss=0.00000000]\n",
      "Validation Epoch [108/150]: 100%|██████████████████████████████████████████████████████████████████| 2/2 [00:00<00:00,  7.89it/s, val_loss=1.02872896]\n",
      "Training Epoch [109/150]: 100%|████████████████████████████████████████| 2/2 [00:00<00:00,  8.36it/s, curr_train_loss=0.36774506, val_loss=0.00000000]\n",
      "Validation Epoch [109/150]: 100%|██████████████████████████████████████████████████████████████████| 2/2 [00:00<00:00,  8.01it/s, val_loss=0.97390181]\n",
      "Training Epoch [110/150]: 100%|████████████████████████████████████████| 2/2 [00:00<00:00,  7.65it/s, curr_train_loss=0.30605365, val_loss=0.00000000]\n",
      "Validation Epoch [110/150]: 100%|██████████████████████████████████████████████████████████████████| 2/2 [00:00<00:00,  8.31it/s, val_loss=0.99095795]\n",
      "Training Epoch [111/150]: 100%|████████████████████████████████████████| 2/2 [00:00<00:00,  7.45it/s, curr_train_loss=0.39627208, val_loss=0.00000000]\n",
      "Validation Epoch [111/150]: 100%|██████████████████████████████████████████████████████████████████| 2/2 [00:00<00:00,  7.85it/s, val_loss=1.05921939]\n",
      "Training Epoch [112/150]: 100%|████████████████████████████████████████| 2/2 [00:00<00:00,  7.82it/s, curr_train_loss=0.33849499, val_loss=0.00000000]\n",
      "Validation Epoch [112/150]: 100%|██████████████████████████████████████████████████████████████████| 2/2 [00:00<00:00,  7.95it/s, val_loss=1.00610986]\n",
      "Training Epoch [113/150]: 100%|████████████████████████████████████████| 2/2 [00:00<00:00,  7.86it/s, curr_train_loss=0.29234578, val_loss=0.00000000]\n",
      "Validation Epoch [113/150]: 100%|██████████████████████████████████████████████████████████████████| 2/2 [00:00<00:00,  7.52it/s, val_loss=1.08020616]\n",
      "Training Epoch [114/150]: 100%|████████████████████████████████████████| 2/2 [00:00<00:00,  7.42it/s, curr_train_loss=0.32669564, val_loss=0.00000000]\n",
      "Validation Epoch [114/150]: 100%|██████████████████████████████████████████████████████████████████| 2/2 [00:00<00:00,  8.05it/s, val_loss=1.07541671]\n",
      "Training Epoch [115/150]: 100%|████████████████████████████████████████| 2/2 [00:00<00:00,  7.58it/s, curr_train_loss=0.42524104, val_loss=0.00000000]\n",
      "Validation Epoch [115/150]: 100%|██████████████████████████████████████████████████████████████████| 2/2 [00:00<00:00,  8.43it/s, val_loss=0.85582042]\n",
      "Training Epoch [116/150]: 100%|████████████████████████████████████████| 2/2 [00:00<00:00,  7.74it/s, curr_train_loss=0.51681362, val_loss=0.00000000]\n",
      "Validation Epoch [116/150]: 100%|██████████████████████████████████████████████████████████████████| 2/2 [00:00<00:00,  7.73it/s, val_loss=1.02473152]\n",
      "Training Epoch [117/150]: 100%|████████████████████████████████████████| 2/2 [00:00<00:00,  8.40it/s, curr_train_loss=0.35793813, val_loss=0.00000000]\n",
      "Validation Epoch [117/150]: 100%|██████████████████████████████████████████████████████████████████| 2/2 [00:00<00:00,  7.41it/s, val_loss=1.09585342]\n",
      "Training Epoch [118/150]: 100%|████████████████████████████████████████| 2/2 [00:00<00:00,  7.86it/s, curr_train_loss=0.40588474, val_loss=0.00000000]\n",
      "Validation Epoch [118/150]: 100%|██████████████████████████████████████████████████████████████████| 2/2 [00:00<00:00,  7.88it/s, val_loss=1.07723257]\n",
      "Training Epoch [119/150]: 100%|████████████████████████████████████████| 2/2 [00:00<00:00,  7.63it/s, curr_train_loss=0.34096865, val_loss=0.00000000]\n",
      "Validation Epoch [119/150]: 100%|██████████████████████████████████████████████████████████████████| 2/2 [00:00<00:00,  7.89it/s, val_loss=0.94324243]\n",
      "Training Epoch [120/150]: 100%|████████████████████████████████████████| 2/2 [00:00<00:00,  8.29it/s, curr_train_loss=0.37822679, val_loss=0.00000000]\n",
      "Validation Epoch [120/150]: 100%|██████████████████████████████████████████████████████████████████| 2/2 [00:00<00:00,  8.57it/s, val_loss=0.98534203]\n",
      "Training Epoch [121/150]: 100%|████████████████████████████████████████| 2/2 [00:00<00:00,  7.55it/s, curr_train_loss=0.29008526, val_loss=0.00000000]\n",
      "Validation Epoch [121/150]: 100%|██████████████████████████████████████████████████████████████████| 2/2 [00:00<00:00,  8.52it/s, val_loss=0.89154321]\n",
      "Training Epoch [122/150]: 100%|████████████████████████████████████████| 2/2 [00:00<00:00,  8.35it/s, curr_train_loss=0.36825383, val_loss=0.00000000]\n",
      "Validation Epoch [122/150]: 100%|██████████████████████████████████████████████████████████████████| 2/2 [00:00<00:00,  8.52it/s, val_loss=0.91533270]\n",
      "Training Epoch [123/150]: 100%|████████████████████████████████████████| 2/2 [00:00<00:00,  7.81it/s, curr_train_loss=0.47029124, val_loss=0.00000000]\n",
      "Validation Epoch [123/150]: 100%|██████████████████████████████████████████████████████████████████| 2/2 [00:00<00:00,  8.37it/s, val_loss=0.87487832]\n",
      "Training Epoch [124/150]: 100%|████████████████████████████████████████| 2/2 [00:00<00:00,  7.61it/s, curr_train_loss=0.38917674, val_loss=0.00000000]\n",
      "Validation Epoch [124/150]: 100%|██████████████████████████████████████████████████████████████████| 2/2 [00:00<00:00,  8.11it/s, val_loss=1.00690749]\n",
      "Training Epoch [125/150]: 100%|████████████████████████████████████████| 2/2 [00:00<00:00,  7.89it/s, curr_train_loss=0.28838908, val_loss=0.00000000]\n",
      "Validation Epoch [125/150]: 100%|██████████████████████████████████████████████████████████████████| 2/2 [00:00<00:00,  8.36it/s, val_loss=0.92383218]\n",
      "Training Epoch [126/150]: 100%|████████████████████████████████████████| 2/2 [00:00<00:00,  7.64it/s, curr_train_loss=0.29622644, val_loss=0.00000000]\n",
      "Validation Epoch [126/150]: 100%|██████████████████████████████████████████████████████████████████| 2/2 [00:00<00:00,  8.02it/s, val_loss=0.96802467]\n",
      "Training Epoch [127/150]: 100%|████████████████████████████████████████| 2/2 [00:00<00:00,  7.78it/s, curr_train_loss=0.33676951, val_loss=0.00000000]\n",
      "Validation Epoch [127/150]: 100%|██████████████████████████████████████████████████████████████████| 2/2 [00:00<00:00,  8.22it/s, val_loss=0.89776826]\n",
      "Training Epoch [128/150]: 100%|████████████████████████████████████████| 2/2 [00:00<00:00,  7.80it/s, curr_train_loss=0.34930432, val_loss=0.00000000]\n",
      "Validation Epoch [128/150]: 100%|██████████████████████████████████████████████████████████████████| 2/2 [00:00<00:00,  7.98it/s, val_loss=0.88480577]\n",
      "Training Epoch [129/150]: 100%|████████████████████████████████████████| 2/2 [00:00<00:00,  8.08it/s, curr_train_loss=0.26344824, val_loss=0.00000000]\n",
      "Validation Epoch [129/150]: 100%|██████████████████████████████████████████████████████████████████| 2/2 [00:00<00:00,  7.85it/s, val_loss=0.91959301]\n",
      "Training Epoch [130/150]: 100%|████████████████████████████████████████| 2/2 [00:00<00:00,  8.37it/s, curr_train_loss=0.25385049, val_loss=0.00000000]\n",
      "Validation Epoch [130/150]: 100%|██████████████████████████████████████████████████████████████████| 2/2 [00:00<00:00,  8.23it/s, val_loss=0.94095367]\n",
      "Training Epoch [131/150]: 100%|████████████████████████████████████████| 2/2 [00:00<00:00,  8.01it/s, curr_train_loss=0.25070267, val_loss=0.00000000]\n",
      "Validation Epoch [131/150]: 100%|██████████████████████████████████████████████████████████████████| 2/2 [00:00<00:00,  7.72it/s, val_loss=0.90518081]\n",
      "Training Epoch [132/150]: 100%|████████████████████████████████████████| 2/2 [00:00<00:00,  7.35it/s, curr_train_loss=0.39215681, val_loss=0.00000000]\n",
      "Validation Epoch [132/150]: 100%|██████████████████████████████████████████████████████████████████| 2/2 [00:00<00:00,  7.71it/s, val_loss=0.93315002]\n",
      "Training Epoch [133/150]: 100%|████████████████████████████████████████| 2/2 [00:00<00:00,  7.74it/s, curr_train_loss=0.29510140, val_loss=0.00000000]\n",
      "Validation Epoch [133/150]: 100%|██████████████████████████████████████████████████████████████████| 2/2 [00:00<00:00,  7.80it/s, val_loss=0.84927005]\n",
      "Training Epoch [134/150]: 100%|████████████████████████████████████████| 2/2 [00:00<00:00,  7.54it/s, curr_train_loss=0.25020529, val_loss=0.00000000]\n",
      "Validation Epoch [134/150]: 100%|██████████████████████████████████████████████████████████████████| 2/2 [00:00<00:00,  7.55it/s, val_loss=0.95168355]\n",
      "Training Epoch [135/150]: 100%|████████████████████████████████████████| 2/2 [00:00<00:00,  7.77it/s, curr_train_loss=0.40718044, val_loss=0.00000000]\n",
      "Validation Epoch [135/150]: 100%|██████████████████████████████████████████████████████████████████| 2/2 [00:00<00:00,  8.33it/s, val_loss=0.93015498]\n",
      "Training Epoch [136/150]: 100%|████████████████████████████████████████| 2/2 [00:00<00:00,  8.21it/s, curr_train_loss=0.43690634, val_loss=0.00000000]\n",
      "Validation Epoch [136/150]: 100%|██████████████████████████████████████████████████████████████████| 2/2 [00:00<00:00,  8.55it/s, val_loss=1.02735198]\n",
      "Training Epoch [137/150]: 100%|████████████████████████████████████████| 2/2 [00:00<00:00,  8.30it/s, curr_train_loss=0.27072278, val_loss=0.00000000]\n",
      "Validation Epoch [137/150]: 100%|██████████████████████████████████████████████████████████████████| 2/2 [00:00<00:00,  8.45it/s, val_loss=1.19342047]\n",
      "Training Epoch [138/150]: 100%|████████████████████████████████████████| 2/2 [00:00<00:00,  7.37it/s, curr_train_loss=0.33523758, val_loss=0.00000000]\n",
      "Validation Epoch [138/150]: 100%|██████████████████████████████████████████████████████████████████| 2/2 [00:00<00:00,  8.24it/s, val_loss=1.07177886]\n",
      "Training Epoch [139/150]: 100%|████████████████████████████████████████| 2/2 [00:00<00:00,  7.60it/s, curr_train_loss=0.26952662, val_loss=0.00000000]\n",
      "Validation Epoch [139/150]: 100%|██████████████████████████████████████████████████████████████████| 2/2 [00:00<00:00,  8.29it/s, val_loss=1.11031508]\n",
      "Training Epoch [140/150]: 100%|████████████████████████████████████████| 2/2 [00:00<00:00,  7.53it/s, curr_train_loss=0.30412294, val_loss=0.00000000]\n",
      "Validation Epoch [140/150]: 100%|██████████████████████████████████████████████████████████████████| 2/2 [00:00<00:00,  7.96it/s, val_loss=1.07978466]\n",
      "Training Epoch [141/150]: 100%|████████████████████████████████████████| 2/2 [00:00<00:00,  7.59it/s, curr_train_loss=0.24155376, val_loss=0.00000000]\n",
      "Validation Epoch [141/150]: 100%|██████████████████████████████████████████████████████████████████| 2/2 [00:00<00:00,  8.51it/s, val_loss=1.05206582]\n",
      "Training Epoch [142/150]: 100%|████████████████████████████████████████| 2/2 [00:00<00:00,  8.48it/s, curr_train_loss=0.31262265, val_loss=0.00000000]\n",
      "Validation Epoch [142/150]: 100%|██████████████████████████████████████████████████████████████████| 2/2 [00:00<00:00,  7.58it/s, val_loss=0.88373786]\n",
      "Training Epoch [143/150]: 100%|████████████████████████████████████████| 2/2 [00:00<00:00,  7.65it/s, curr_train_loss=0.21076354, val_loss=0.00000000]\n",
      "Validation Epoch [143/150]: 100%|██████████████████████████████████████████████████████████████████| 2/2 [00:00<00:00,  8.58it/s, val_loss=1.02360514]\n",
      "Training Epoch [144/150]: 100%|████████████████████████████████████████| 2/2 [00:00<00:00,  8.41it/s, curr_train_loss=0.33879128, val_loss=0.00000000]\n",
      "Validation Epoch [144/150]: 100%|██████████████████████████████████████████████████████████████████| 2/2 [00:00<00:00,  7.85it/s, val_loss=1.18122220]\n",
      "Training Epoch [145/150]: 100%|████████████████████████████████████████| 2/2 [00:00<00:00,  8.15it/s, curr_train_loss=0.30672364, val_loss=0.00000000]\n",
      "Validation Epoch [145/150]: 100%|██████████████████████████████████████████████████████████████████| 2/2 [00:00<00:00,  8.04it/s, val_loss=0.97103658]\n",
      "Training Epoch [146/150]: 100%|████████████████████████████████████████| 2/2 [00:00<00:00,  7.61it/s, curr_train_loss=0.31429708, val_loss=0.00000000]\n",
      "Validation Epoch [146/150]: 100%|██████████████████████████████████████████████████████████████████| 2/2 [00:00<00:00,  7.83it/s, val_loss=0.97014341]\n",
      "Training Epoch [147/150]: 100%|████████████████████████████████████████| 2/2 [00:00<00:00,  7.91it/s, curr_train_loss=0.36504027, val_loss=0.00000000]\n",
      "Validation Epoch [147/150]: 100%|██████████████████████████████████████████████████████████████████| 2/2 [00:00<00:00,  7.75it/s, val_loss=1.19574228]\n",
      "Training Epoch [148/150]: 100%|████████████████████████████████████████| 2/2 [00:00<00:00,  8.49it/s, curr_train_loss=0.22848500, val_loss=0.00000000]\n",
      "Validation Epoch [148/150]: 100%|██████████████████████████████████████████████████████████████████| 2/2 [00:00<00:00,  8.54it/s, val_loss=1.01127920]\n",
      "Training Epoch [149/150]: 100%|████████████████████████████████████████| 2/2 [00:00<00:00,  8.43it/s, curr_train_loss=0.20375132, val_loss=0.00000000]\n",
      "Validation Epoch [149/150]: 100%|██████████████████████████████████████████████████████████████████| 2/2 [00:00<00:00,  8.61it/s, val_loss=0.97715104]\n",
      "Training Epoch [150/150]: 100%|████████████████████████████████████████| 2/2 [00:00<00:00,  8.46it/s, curr_train_loss=0.36582324, val_loss=0.00000000]\n",
      "Validation Epoch [150/150]: 100%|██████████████████████████████████████████████████████████████████| 2/2 [00:00<00:00,  7.56it/s, val_loss=1.10927886]"
     ]
    },
    {
     "name": "stdout",
     "output_type": "stream",
     "text": [
      "Finished training!\n",
      "How did we do? Let's check the accuracy of the defaut classifier on the training and validation sets:\n",
      "Training Acc: 92.0%\n",
      "Validation Acc: 73.0%\n"
     ]
    },
    {
     "name": "stderr",
     "output_type": "stream",
     "text": [
      "\n"
     ]
    }
   ],
   "source": [
    "from exercise_code.models import Classifier\n",
    "from exercise_code.models import Encoder\n",
    "\n",
    "# Create the encoder and the classifier.\n",
    "encoder = Encoder(hparams).to(device)\n",
    "classifier = Classifier(hparams, encoder).to(device)\n",
    "\n",
    "# Create a tensorboard logger.\n",
    "# NOTE: In order to see the logs, run the following command in the terminal: tensorboard --logdir=./\n",
    "# Also, in order to reset the logs, delete the logs folder MANUALLY.\n",
    "\n",
    "path = os.path.join('logs', 'cls_logs')\n",
    "num_of_runs = len(os.listdir(path)) if os.path.exists(path) else 0\n",
    "path = os.path.join(path, f'run_{num_of_runs + 1}')\n",
    "\n",
    "tb_logger = SummaryWriter(path)\n",
    "\n",
    "# Train the classifier.\n",
    "labled_train_loader = torch.utils.data.DataLoader(train_100_dataset, batch_size=hparams['batch_size'], shuffle=True)\n",
    "labled_val_loader = torch.utils.data.DataLoader(val_100_dataset, batch_size=hparams['batch_size'], shuffle=False)\n",
    "\n",
    "epochs = hparams.get('epochs', 10)\n",
    "loss_func = nn.CrossEntropyLoss() # The loss function we use for classification.\n",
    "train_classifier(classifier, labled_train_loader, labled_val_loader, loss_func, tb_logger, epochs=epochs, name=\"Default\")\n",
    "\n",
    "print(\"Finished training!\")\n",
    "print(\"How did we do? Let's check the accuracy of the defaut classifier on the training and validation sets:\")\n",
    "print(f\"Training Acc: {classifier.getAcc(labled_train_loader)[1] * 100}%\")\n",
    "print(f\"Validation Acc: {classifier.getAcc(labled_val_loader)[1] * 100}%\")"
   ]
  },
  {
   "attachments": {},
   "cell_type": "markdown",
   "metadata": {
    "id": "i16vmHZXMNkm",
    "pycharm": {
     "name": "#%% md\n"
    }
   },
   "source": [
    "# 3. Autoencoder\n",
    "\n",
    "With only a limited number of labeled images, it's challenging to achieve high performance. We have no money left to pay the student to create more labels, and labeling the data ourselves is out of question. A commonly used approach would be to apply data augmentation to maximize the potential of our limited labeled data, but here we provide another way to solve this problem: **transfer learning**.\n",
    "\n",
    "For each input, the autoencoder tries to reproduce the same image as an output. The difficulty behind this task is that the autoencoder has to go through a low dimensional bottleneck, which is called the **latent space**.\n",
    "In other words, the autoencoder learns to represent all the input information in a low dimensional latent space - it learns to compress the input distribution. To train the autoencoder, we use the mean squared error loss, which calculates the discrepancy between the input pixels and the output pixels. The best part is that this loss function doesn't require any labels!\n",
    "\n",
    "By pretraining the autoencoder in this way on the large amount of unlabeled data, we can capture valuable latent representations of the input images. Then, we transfer the weights of the encoder to our classifier, enabling it to benefit from the knowledge learned during the unsupervised pretraining phase. \n",
    "\n",
    "![autoencoder](img/autoencoder.png)\n",
    "\n",
    "After this, our encoder has learned to extract meaningful information from the inputs. We can then transfer its weights\n",
    "to a classifier architecture and finetune it with our labeled data, i.e., instead of initializing our encoder randomly we are re-using the weights of our trained encoder from our autoencoder network. \n",
    "\n",
    "![autoencoder_pretrained](img/pretrained.png)\n",
    "\n",
    "## 3.1 Decoder\n",
    "\n",
    "Before we can train our autoencoder, you have to initialize the your `decoder` architecture. The simplest way is to mirror your encoder architecture which ensure that the `latent space` output of our `encoder` is correctly transformed to our input shape.\n",
    "\n",
    "<div class=\"alert alert-info\">\n",
    "    <h3>Task: Implement</h3>\n",
    "    <p>Implement the <code>Decoder</code> and <code>Autoencoder</code> class initialization in <code>exercise_code/models.py</code>.</p>\n",
    "    <p>Implemet <code>training_step</code> and <code>validation_step</code> of the autoencoder, following the pipeline we've shown you in train_classifier().</p>\n",
    "    <p>Note the differences between the classificaiton task, and now the regression task!</p>\n",
    "\n",
    "\n",
    "</div>\n",
    "\n",
    "## 3.2 Autoencoder Training\n",
    "\n",
    "Now, we can train the full autoencoder consisting of both en- and decoder."
   ]
  },
  {
   "cell_type": "code",
   "execution_count": null,
   "metadata": {
    "id": "xqqdoLDgMNkm"
   },
   "outputs": [],
   "source": [
    "from exercise_code.models import Autoencoder, Encoder, Decoder\n",
    "\n",
    "########################################################################\n",
    "# TODO: Define your hyperparameters here!                              #\n",
    "# Hint: use a large batch_size                                         #\n",
    "########################################################################\n",
    "\n",
    "hparams = {    \n",
    "    \"device\" : device,\n",
    "    \"num_workers\" : 8,\n",
    "    \"epochs\" : 10, # Don't do too many epochs on large batch size or else overfitting!\n",
    "    \"batch_size\" : 256, # Batch size, use small one for classifier!\n",
    "    \n",
    "    \"num_classes\" : 10, # There are 10 digits\n",
    "    \"input_size\" : 28 * 28, # Number of pixels in images\n",
    "    \n",
    "    \"learning_rate\" : 1e-3, # Optimizer\n",
    "    \"weight_decay\" : 1e-5, # ADAM\n",
    "    \n",
    "    \"dropout_p\" : 0.5, # Dropout probability for the classifier, reduces overfitting\n",
    "    \"latent_dim\" : 20, # Encoder output dim, Decode input dim, classifier input dim. If this it too high, overfitting will occur\n",
    "    \"decoder_hidden\" : 256, # Decoder Hidden\n",
    "    \"encoder_hidden\" : 256, # Encoder Hidden\n",
    "    \"classifier_hidden\" : 256 # Classifier Hidden\n",
    "}\n",
    "\n",
    "########################################################################\n",
    "#                           END OF YOUR CODE                           #\n",
    "########################################################################\n",
    "encoder_pretrained = Encoder(hparams).to(device)\n",
    "decoder = Decoder(hparams).to(device)\n",
    "autoencoder = Autoencoder(hparams, encoder_pretrained, decoder).to(device)"
   ]
  },
  {
   "attachments": {},
   "cell_type": "markdown",
   "metadata": {
    "id": "uRuIIm8YMNkn"
   },
   "source": [
    "Some tests to check whether we'll accept your model."
   ]
  },
  {
   "cell_type": "code",
   "execution_count": null,
   "metadata": {
    "id": "SoAaC-NqMNkn"
   },
   "outputs": [],
   "source": [
    "from exercise_code.Util import printModelInfo, load_model\n",
    "_ = printModelInfo(autoencoder)"
   ]
  },
  {
   "attachments": {},
   "cell_type": "markdown",
   "metadata": {
    "id": "plQwnphtqggl"
   },
   "source": [
    "After implementing the relevant functions - read the following code, and then run it.\n",
    "Keep in mind that an epoch here will take much longer since\n",
    "we are iterating through 5,8600 images instead of just 100.\n",
    "\n",
    "For speed, colab is indeed recommended. "
   ]
  },
  {
   "cell_type": "code",
   "execution_count": null,
   "metadata": {
    "id": "_uuzXMq6zjbb",
    "tags": []
   },
   "outputs": [],
   "source": [
    "encoder_pretrained = Encoder(hparams).to(device)\n",
    "decoder = Decoder(hparams).to(device)\n",
    "autoencoder = Autoencoder(hparams, encoder_pretrained, decoder).to(device)\n",
    "\n",
    "def train_model(model, train_loader, val_loader, loss_func, tb_logger, epochs=10, name='Autoencoder'):\n",
    "    \n",
    "    optimizer = model.optimizer\n",
    "    scheduler = torch.optim.lr_scheduler.StepLR(optimizer, step_size=epochs * len(train_loader) / 5, gamma=0.7)\n",
    "    validation_loss = 0\n",
    "    model = model.to(device)\n",
    "    for epoch in range(epochs):\n",
    "        \n",
    "        # Train\n",
    "        training_loop = create_tqdm_bar(train_loader, desc=f'Training Epoch [{epoch}/{epochs}]')\n",
    "        training_loss = 0\n",
    "        for train_iteration, batch in training_loop:\n",
    "            \n",
    "            loss = model.training_step(batch, loss_func) # You need to implement this function.\n",
    "            training_loss += loss.item()\n",
    "            scheduler.step()\n",
    "\n",
    "            # Update the progress bar.\n",
    "            training_loop.set_postfix(train_loss = \"{:.8f}\".format(training_loss / (train_iteration + 1)), val_loss = \"{:.8f}\".format(validation_loss))\n",
    "\n",
    "            # Update the tensorboard logger.\n",
    "            tb_logger.add_scalar(f'{name}/train_loss', loss.item(), epoch * len(train_loader) + train_iteration)\n",
    "\n",
    "        # Validation\n",
    "        val_loop = create_tqdm_bar(val_loader, desc=f'Validation Epoch [{epoch}/{epochs}]')\n",
    "        validation_loss = 0\n",
    "        with torch.no_grad():\n",
    "            for val_iteration, batch in val_loop:\n",
    "                loss = model.validation_step(batch, loss_func) # You need to implement this function.\n",
    "                validation_loss += loss.item()\n",
    "\n",
    "                # Update the progress bar.\n",
    "                val_loop.set_postfix(val_loss = \"{:.8f}\".format(validation_loss / (val_iteration + 1)))\n",
    "\n",
    "                # Update the tensorboard logger.\n",
    "                tb_logger.add_scalar(f'{name}/val_loss', validation_loss / (val_iteration + 1), epoch * len(val_loader) + val_iteration)\n",
    "        # This value is for the progress bar of the training loop.\n",
    "        validation_loss /= len(val_loader)\n",
    "\n",
    "# Creat a tensorboard logger.\n",
    "# NOTE: In order to see the logs, run the following command in the terminal: tensorboard --logdir=./\n",
    "# Also, in order to reset the logs, delete the logs folder MANUALLY.\n",
    "\n",
    "path = os.path.join('logs', 'ae_logs')\n",
    "num_of_runs = len(os.listdir(path)) if os.path.exists(path) else 0\n",
    "path = os.path.join(path, f'run_{num_of_runs + 1}')\n",
    "tb_logger = SummaryWriter(path)\n",
    "\n",
    "# Train the classifier.\n",
    "unlabled_train_loader = torch.utils.data.DataLoader(unlabeled_train, batch_size=hparams['batch_size'], shuffle=True)\n",
    "unlabled_val_loader = torch.utils.data.DataLoader(unlabeled_val, batch_size=hparams['batch_size'], shuffle=False)\n",
    "\n",
    "epochs = hparams.get('epochs', 5)\n",
    "loss_func = nn.MSELoss() # The loss function we use for regression (Could also be nn.L1Loss()).\n",
    "train_model(autoencoder, unlabled_train_loader, unlabled_val_loader, loss_func, tb_logger, epochs=epochs, name='Autoencoder')\n",
    "\n",
    "print(\"Finished training!\")"
   ]
  },
  {
   "attachments": {},
   "cell_type": "markdown",
   "metadata": {
    "id": "vdgiYWy4MNkq"
   },
   "source": [
    "Once trained, let's have a look at the reconstructed validation images (If you have not already looked at them in TensorBoard)."
   ]
  },
  {
   "cell_type": "code",
   "execution_count": null,
   "metadata": {
    "id": "a991mKcyMNkq"
   },
   "outputs": [],
   "source": [
    "reconstructions = autoencoder.getReconstructions(unlabled_val_loader)\n",
    "for i in range(64):\n",
    "    plt.subplot(8,8,i+1)\n",
    "    plt.axis('off')\n",
    "    plt.imshow(reconstructions[i], cmap='gray', interpolation='none')\n",
    "    \n",
    "plt.tight_layout()"
   ]
  },
  {
   "attachments": {},
   "cell_type": "markdown",
   "metadata": {
    "id": "R2hrP5b1MNkr"
   },
   "source": [
    "# 4. Transfer Learning\n",
    "\n",
    "## 4.1 The pretrained Classifier\n",
    "\n",
    "Now we initialize another classifier but this time with the pretrained encoder."
   ]
  },
  {
   "cell_type": "code",
   "execution_count": null,
   "metadata": {
    "id": "OELYQAUmMNkr"
   },
   "outputs": [],
   "source": [
    "from exercise_code.models import Classifier\n",
    "from copy import deepcopy\n",
    "\n",
    "hparams = {}\n",
    "########################################################################\n",
    "# TODO: Define your hyperparameters here!                             #\n",
    "########################################################################\n",
    "\n",
    "hparams = {\n",
    "    \"device\" : device,\n",
    "    \"num_workers\" : 8,\n",
    "    \"epochs\" : 100, # Don't do too many epochs on large batch size or else overfitting!\n",
    "    \"batch_size\" : 64, # Batch size, should probably use same one as in classifier training\n",
    "    \n",
    "    \"num_classes\" : 10, # There are 10 digits\n",
    "    \"input_size\" : 28 * 28, # Number of pixels in images\n",
    "    \n",
    "    \"learning_rate\" : 2e-3, # Optimizer\n",
    "    \"weight_decay\" : 1e-5, # ADAM\n",
    "    \n",
    "    \"dropout_p\" : 0.5, # Dropout probability for the classifier\n",
    "    \"latent_dim\" : 20, # Encoder output dim, Decode input dim, classifier input dim. If this it too high, overfitting will occur\n",
    "    \"decoder_hidden\" : 256, # Decoder Hidden\n",
    "    \"encoder_hidden\" : 256, # Encoder Hidden\n",
    "    \"classifier_hidden\" : 256 # Classifier Hidden\n",
    "}\n",
    "\n",
    "########################################################################\n",
    "#                           END OF YOUR CODE                           #\n",
    "########################################################################\n",
    "\n",
    "encoder_pretrained_copy = deepcopy(encoder_pretrained)\n",
    "classifier_pretrained = Classifier(hparams, encoder_pretrained_copy).to(device)"
   ]
  },
  {
   "attachments": {},
   "cell_type": "markdown",
   "metadata": {
    "id": "R8FUtih6MNks"
   },
   "source": [
    "Let's define another trainer that will utilize the pretrained classifier, allowing us to compare its performance with the classifier trained only on the labeled data. To achieve a reasonable result, you may need to optimize the parameters you defined earlier."
   ]
  },
  {
   "cell_type": "code",
   "execution_count": null,
   "metadata": {
    "id": "Mx_euorWMNks"
   },
   "outputs": [],
   "source": [
    "\n",
    "# Creat a tensorboard logger.\n",
    "# NOTE: In order to see the logs, run the following command in the terminal: tensorboard --logdir=./\n",
    "# Also, in order to reset the logs, delete the logs folder MANUALLY.\n",
    "# Pay attention that if you run this cell mutltiple times, the pretrained_encoder\n",
    "# is not reset, and will keep training from where it stopped. Thus, it could overfit.\n",
    "\n",
    "path = os.path.join('logs', 'pretrained_cls_logs')\n",
    "num_of_runs = len(os.listdir(path)) if os.path.exists(path) else 0\n",
    "path = os.path.join(path, f'run_{num_of_runs + 1}')\n",
    "tb_logger = SummaryWriter(path)\n",
    "\n",
    "batch_size = hparams.get('batch_size', 16)\n",
    "labled_train_loader = torch.utils.data.DataLoader(train_100_dataset, batch_size=batch_size, shuffle=True)\n",
    "labled_val_loader = torch.utils.data.DataLoader(val_100_dataset, batch_size=batch_size, shuffle=False)\n",
    "\n",
    "epochs = hparams.get('epochs', 20)\n",
    "loss_func = nn.CrossEntropyLoss() # The loss function we use for classification.\n",
    "train_classifier(classifier_pretrained, labled_train_loader, labled_val_loader, loss_func, tb_logger, epochs=epochs, name='Pretrained')\n",
    "\n",
    "print(\"Finished training!\") "
   ]
  },
  {
   "attachments": {},
   "cell_type": "markdown",
   "metadata": {
    "id": "H-pm1MY_MNks"
   },
   "source": [
    "Let's have a look at the validation accuracy of the two different classifiers and compare them. And don't forget that you can also monitor your training in TensorBoard.\n",
    "\n",
    "We will only look at the test accuracy and compare our two classifiers with respect to that in the very end."
   ]
  },
  {
   "cell_type": "code",
   "execution_count": null,
   "metadata": {
    "id": "-e5Bd9KLMNkt"
   },
   "outputs": [],
   "source": [
    "val_acc_scracth = classifier.getAcc(labled_val_loader)[1]*100\n",
    "color = 'green' if val_acc_scracth > 55 else 'red'\n",
    "print(f\"Validation accuracy when training from scratch: {bcolors.colorize(color, val_acc_scracth)}%\")\n",
    "\n",
    "val_acc_pretrained = classifier_pretrained.getAcc(labled_val_loader)[1]*100\n",
    "color = 'green' if val_acc_pretrained > 55 else 'red'\n",
    "print(f\"Validation accuracy with pretraining: {bcolors.colorize(color, val_acc_pretrained)}%\")\n",
    "\n",
    "\n"
   ]
  },
  {
   "attachments": {},
   "cell_type": "markdown",
   "metadata": {
    "id": "zAp2OTyf4_5b"
   },
   "source": [
    "Now that everything is working, feel free to play around with different architectures. As you've seen, it's quite easy to define your model or do adpations there.\n",
    "\n",
    "To pass this submission, you will need to achieve an accuracy of **55%**."
   ]
  },
  {
   "attachments": {},
   "cell_type": "markdown",
   "metadata": {
    "id": "OmEYmRT-5S-e"
   },
   "source": [
    "# Save your model & Report Test Accuracy\n",
    "\n",
    "When you are finally done with your **hyperparameter tuning**, achieved **at least 55% validation accuracy** and are happy with your final model, you can save it here.\n",
    "\n",
    "Before that, please check again whether the number of parameters is below 5 Mio and the file size is below 20 MB.\n",
    "\n",
    "Once your final model is saved, we'll finally report the test accuracy."
   ]
  },
  {
   "cell_type": "code",
   "execution_count": null,
   "metadata": {
    "id": "S69ETKxD5TcE"
   },
   "outputs": [],
   "source": [
    "from exercise_code.Util import test_and_save\n",
    "test_dl = torch.utils.data.DataLoader(test_100_dataset, batch_size=4, shuffle=False)\n",
    "\n",
    "test_acc = classifier.getAcc(test_dl)[1]*100\n",
    "color = 'green' if test_acc > 55 else 'red'\n",
    "print(f\"Test accuracy when training from scratch: {bcolors.colorize(color, test_acc)}%\")\n",
    "\n",
    "test_acc = classifier_pretrained.getAcc(test_dl)[1]*100\n",
    "color = 'green' if test_acc > 55 else 'red'\n",
    "print(f\"Test accuracy with pretraining: {bcolors.colorize(color, test_acc)}%\")\n",
    "\n",
    "test_and_save(classifier_pretrained, labled_val_loader, test_dl)"
   ]
  },
  {
   "cell_type": "code",
   "execution_count": null,
   "metadata": {
    "id": "enZCnGL6MNkt"
   },
   "outputs": [],
   "source": [
    "# Now zip the folder for upload\n",
    "from exercise_code.submit import submit_exercise\n",
    "\n",
    "submit_exercise('../output/exercise_08')"
   ]
  },
  {
   "attachments": {},
   "cell_type": "markdown",
   "metadata": {
    "id": "7fuo3Tf9MNku",
    "pycharm": {
     "name": "#%% md\n"
    }
   },
   "source": [
    "Congratulations on completing your first autoencoder and successfully transferring the weights to a classifier! It's remarkable how much easier this process becomes with the power of PyTorch, compared to working with plain NumPy, right?\n",
    "\n",
    "To complete the exercise, please submit your final model to [our submission portal](https://i2dl.vc.in.tum.de/) - you should be already familiar with the submission procedure. Next, it is time to get started with some more complex neural networks and tasks in the upcoming exercises. See you next week!\n",
    "\n",
    "# Submission Goals\n",
    "\n",
    "- Goal: Successfully implement a fully connected autoencoder for MNIST with Pytorch and transfer the encoder weights to a classifier.\n",
    "\n",
    "- Passing Criteria: There are no unit tests that check specific components of your code. The only thing that's required to pass the submission, is your model to reach at least **55% accuracy** on __our__ test dataset. The submission system will show you a number between 0 and 100 which corresponds to your accuracy.\n",
    "\n",
    "- Submission start: __June 15, 2023 10:00__\n",
    "- Submission deadline : __June 21, 2023 15:59__ \n",
    "- You can make **$\\infty$** submissions until the deadline. Your __best submission__ will be considered for the bonus."
   ]
  },
  {
   "attachments": {},
   "cell_type": "markdown",
   "metadata": {
    "id": "Ar26mFO5MNku"
   },
   "source": [
    "# [Exercise Review](https://forms.gle/9SYivCPQZdktRDS29)\n",
    "\n",
    "We are always interested in your opinion. Now that you have finished this exercise, we would like you to give us some feedback about the time required to finish the submission and/or work through the notebooks. Please take the short time to fill out our [review form](https://forms.gle/9SYivCPQZdktRDS29) for this exercise so that we can do better next time! :)"
   ]
  }
 ],
 "metadata": {
  "accelerator": "GPU",
  "colab": {
   "provenance": []
  },
  "kernelspec": {
   "display_name": "Python 3",
   "language": "python",
   "name": "python3"
  },
  "language_info": {
   "codemirror_mode": {
    "name": "ipython",
    "version": 3
   },
   "file_extension": ".py",
   "mimetype": "text/x-python",
   "name": "python",
   "nbconvert_exporter": "python",
   "pygments_lexer": "ipython3",
   "version": "3.10.11"
  },
  "vscode": {
   "interpreter": {
    "hash": "54970da6898dad277dbf355945c2dee7f942d2a31ec1fc1455b6d4f552d07b83"
   }
  }
 },
 "nbformat": 4,
 "nbformat_minor": 1
}
