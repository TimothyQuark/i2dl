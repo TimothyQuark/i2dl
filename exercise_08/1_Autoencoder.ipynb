{
 "cells": [
  {
   "attachments": {},
   "cell_type": "markdown",
   "metadata": {
    "id": "9CALuVmNMNkM"
   },
   "source": [
    "# Autoencoder for MNIST\n",
    "\n",
    "Welcome to this notebook where you'll be training an autoencoder using the MNIST dataset, which comprises handwritten digits. This exercise is the last where we present you with a structured skeleton to work with. However, in following exercises, we will only provide you with the dataset, task, and a test scenario, enabling you to test your skills and compete with your peers on our leaderboards. Get ready to dive in and showcase your deep learning expertise!\n",
    "\n",
    "\n",
    "## Your task:\n",
    "\n",
    "Autoencoders have various applications, including unsupervised pretraining using unlabeled data, followed by fine-tuning the encoder with labeled data. This approach can greatly enhance performance when there is only a little amount of labeled data but a lot of unlabeled data available.\n",
    "\n",
    "In this exercise, you will use the MNIST dataset, consisting of 60,000 images of handwritten digits. However, not all the image labels are available to you. Your first objective is to train an autoencoder to accurately reproduce these unlabeled images.\n",
    "\n",
    "Afterwards, you will transfer the weights of the pretrained encoder and perform fine-tuning on a classifier using the available labeled data. This technique is commonly known as **transfer learning**, which allows you to leverage the knowledge gained from the autoencoder to improve the classification of the handwritten digits."
   ]
  },
  {
   "cell_type": "code",
   "execution_count": null,
   "metadata": {
    "id": "XcU9f4APMNkT"
   },
   "outputs": [],
   "source": [
    "# For automatic file reloading as usual\n",
    "%load_ext autoreload\n",
    "%autoreload 2\n",
    "%matplotlib inline"
   ]
  },
  {
   "attachments": {},
   "cell_type": "markdown",
   "metadata": {
    "id": "Xb9dFU2EMNkW"
   },
   "source": [
    "## (Optional) Mount folder in Colab\n",
    "\n",
    "Uncomment the following cell to mount your gdrive if you are using the notebook in google colab:"
   ]
  },
  {
   "cell_type": "code",
   "execution_count": null,
   "metadata": {
    "id": "TRr4E4YVMNkW"
   },
   "outputs": [],
   "source": [
    "# Use the following lines if you want to use Google Colab\n",
    "# We presume you created a folder \"i2dl\" within your main drive folder, and put the exercise there.\n",
    "# NOTE: terminate all other colab sessions that use GPU!\n",
    "# NOTE 2: Make sure the correct exercise folder (e.g exercise_08) is given.\n",
    "\n",
    "# from google.colab import drive\n",
    "# import os\n",
    "\n",
    "\"\"\"\n",
    "from google.colab import drive\n",
    "import os\n",
    "gdrive_path='/content/gdrive/MyDrive/i2dl/exercise_08'\n",
    "\n",
    "# This will mount your google drive under 'MyDrive'\n",
    "drive.mount('/content/gdrive', force_remount=True)\n",
    "# In order to access the files in this notebook we have to navigate to the correct folder\n",
    "os.chdir(gdrive_path)\n",
    "# Check manually if all files are present\n",
    "\"\"\""
   ]
  },
  {
   "attachments": {},
   "cell_type": "markdown",
   "metadata": {
    "id": "JzDQg-kDMNkY"
   },
   "source": [
    "### Set up PyTorch environment in colab\n",
    "- (OPTIONAL) Enable GPU via Runtime --> Change runtime type --> GPU\n",
    "- Uncomment the following cell if you are using the notebook in google colab:"
   ]
  },
  {
   "cell_type": "code",
   "execution_count": null,
   "metadata": {
    "id": "pIUdsXeXMNkZ"
   },
   "outputs": [],
   "source": [
    "# Optional: install correct libraries in google colab\n",
    "# !python -m pip install torch==1.11.0+cu113 torchvision==0.12.0+cu113 torchtext==0.12.0+cu113 torchaudio==0.12.0+cu113 -f https://download.pytorch.org/whl/torch_stable.html\n",
    "# !python -m pip install tensorboard==2.8.0 > /dev/null\n",
    "# !python -m pip install pytorch-lightning==1.6.0"
   ]
  },
  {
   "attachments": {},
   "cell_type": "markdown",
   "metadata": {
    "id": "hEDWAZ7-ZA4E"
   },
   "source": [
    "# Imports"
   ]
  },
  {
   "cell_type": "code",
   "execution_count": null,
   "metadata": {
    "id": "dJCiVLV5o9QO"
   },
   "outputs": [],
   "source": [
    "import numpy as np\n",
    "import matplotlib.pyplot as plt\n",
    "from pathlib import Path\n",
    "import os, sys\n",
    "import shutil\n",
    "import torch\n",
    "import torch.nn as nn\n",
    "from torchvision import transforms\n",
    "from exercise_code.image_folder_dataset import ImageFolderDataset\n",
    "from torch.utils.tensorboard import SummaryWriter\n",
    "from time import sleep\n",
    "from tqdm import tqdm\n",
    "from exercise_code.tests.base_tests import bcolors\n",
    "\n",
    "torch.manual_seed(42)\n",
    "\n",
    "os.environ['KMP_DUPLICATE_LIB_OK']='True' # To prevent the kernel from dying."
   ]
  },
  {
   "attachments": {},
   "cell_type": "markdown",
   "metadata": {
    "id": "dvaj6myXS7nN"
   },
   "source": [
    "<div class=\"alert alert-warning\">\n",
    "    <h3>Note: Google Colab</h3>\n",
    "    <p>\n",
    "In case you don't have a GPU, you can run this notebook on Google Colab where you can access a GPU for free, but, of course, you can also run this notebook on your CPU.\n",
    "         </p>\n",
    "</div>"
   ]
  },
  {
   "cell_type": "code",
   "execution_count": null,
   "metadata": {
    "id": "VWgm75NnS9hr"
   },
   "outputs": [],
   "source": [
    "device = torch.device(\"cuda\" if torch.cuda.is_available() else \"cpu\")\n",
    "print('You are using the following device: ', device)"
   ]
  },
  {
   "attachments": {},
   "cell_type": "markdown",
   "metadata": {
    "id": "Pm_rTAPnpsUo"
   },
   "source": [
    "## Setup TensorBoard\n",
    "\n",
    "In the previous exercise (Exercise 07), you learned how to use TensorBoard effectively. Let's use it again to enhance the convenience of debugging your network and the training process. Throughout this notebook, feel free to implement additional logs or visualizations into your TensorBoard, further improving your analysis and understanding of the network's behavior. "
   ]
  },
  {
   "cell_type": "code",
   "execution_count": null,
   "metadata": {
    "id": "QbAJFyHkMNke"
   },
   "outputs": [],
   "source": [
    "################# COLAB ONLY #################\n",
    "# %load_ext tensorboard\n",
    "# %tensorboard --logdir=./ --port 6006\n",
    "\n",
    "# Use the cmd for less trouble, if you can. From the working directory, run: tensorboard --logdir=./ --port 6006"
   ]
  },
  {
   "attachments": {},
   "cell_type": "markdown",
   "metadata": {
    "id": "t-Yt2KRiMNkf"
   },
   "source": [
    "# 1. The MNIST Dataset\n",
    "\n",
    "First, let's download the MNIST dataset. As mentioned in the beginning of this notebook, MNIST is a dataset of 60,000 images depicting handwritten digits. However, labeling such a large dataset can be a costly process, leaving us in a challenging situation.\n",
    "\n",
    "To overcome this, a practical approach is to label a small subset of the images. Let's consider a scenario where you have hired another student to perform the labeling task for you. After some time, you have been provided with 300 labeled images. Out of these, 100 images will be used for training, another 100 for validation, and the remaining 100 for testing. Undoubtedly, this poses a challenge due to the limited number of labeled samples.\n",
    "\n",
    "Now, you have the flexibility to define any transforms that you deem necessary, either at this point or at a later stage. However, it's important to note that during the final evaluation on the server, no transformations will be applied to the test set.\n",
    "\n",
    "Feel free to experiment with various transforms as you proceed (you can also pass without any transforms). \n",
    "\n",
    "\n",
    "**Note**: We do **not** apply any transformations to the test set at the time of final evaluation on our server."
   ]
  },
  {
   "cell_type": "code",
   "execution_count": null,
   "metadata": {
    "id": "U5_eopjbMNkf",
    "pycharm": {
     "name": "#%%\n"
    }
   },
   "outputs": [],
   "source": [
    "import torchvision.transforms as transforms\n",
    "\n",
    "transform = transforms.Compose([])\n",
    "\n",
    "########################################################################\n",
    "# TODO: Feel free to define transforms                                 #\n",
    "########################################################################\n",
    "\n",
    "# MNIST mean: 0.1307, std: 0.3081\n",
    "\n",
    "transform = transforms.Compose([\n",
    "    transforms.Normalize((0.1307), (0.3081)),\n",
    "    transforms.RandomPerspective(distortion_scale=0.3, p=0.2),\n",
    "    transforms.RandomRotation(degrees=30)\n",
    "    ])\n",
    "\n",
    "########################################################################\n",
    "#                           END OF YOUR CODE                           #\n",
    "########################################################################\n",
    "\n",
    "i2dl_exercises_path = os.path.dirname(os.path.abspath(os.getcwd()))\n",
    "mnist_root = os.path.join(i2dl_exercises_path, \"datasets\", \"mnist\")\n",
    "\n",
    "train_100_dataset = ImageFolderDataset(root=mnist_root,images='train_images.pt',labels='train_labels.pt',force_download=False,verbose=True,transform=transform)\n",
    "val_100_dataset = ImageFolderDataset(root=mnist_root,images='val_images.pt',labels='val_labels.pt',force_download=False,verbose=True,transform=transform)\n",
    "test_100_dataset = ImageFolderDataset(root=mnist_root,images='test_images.pt',labels='test_labels.pt',force_download=False,verbose=True,transform=transform)\n",
    "\n",
    "# We also set up the unlabeled images which we will use later\n",
    "unlabeled_train = ImageFolderDataset(root=mnist_root,images='unlabeled_train_images.pt',force_download=False,verbose=True,transform=transform)\n",
    "unlabeled_val = ImageFolderDataset(root=mnist_root,images='unlabeled_val_images.pt',force_download=False,verbose=True,transform=transform)\n",
    "\n"
   ]
  },
  {
   "attachments": {},
   "cell_type": "markdown",
   "metadata": {
    "id": "zwrT1ckAMNkg"
   },
   "source": [
    "The dataset consists of tuples of 28x28 pixel PIL images and a label that is an integer from 0 to 9. \n",
    "\n",
    "Let's turn a few of the images into numpy arrays, to look at their shape and visualize them and see if the labels we paid for are correct."
   ]
  },
  {
   "cell_type": "code",
   "execution_count": null,
   "metadata": {
    "id": "k7ct1J2CMNkh"
   },
   "outputs": [],
   "source": [
    "plt.rcParams['figure.figsize'] = (16,16) # Make the figures a bit bigger\n",
    "\n",
    "indices_arr = [83, 98, 92, 99, 78, 97, 90, 95, 93, 96]\n",
    "for i, index in enumerate(indices_arr):\n",
    "    image = np.array(train_100_dataset[index][0].squeeze()) # get the image of the data sample\n",
    "    label = train_100_dataset[index][1] # get the label of the data sample\n",
    "    plt.subplot(1, 10, i + 1)\n",
    "    plt.imshow(image, cmap='gray', interpolation='none')\n",
    "    plt.title(\"Class {}\".format(label))\n",
    "    \n",
    "plt.tight_layout()\n",
    "print('The shape of our greyscale images: ', image.shape)"
   ]
  },
  {
   "attachments": {},
   "cell_type": "markdown",
   "metadata": {
    "id": "V9sz_lHyqJoj"
   },
   "source": [
    "<div class=\"alert alert-warning\">\n",
    "    <h3>Note: Starting Simple</h3>\n",
    "    <p>\n",
    "Regardless of the size of the dataset, the first step is to evaluate the performance of a simple classifier. It is advisable to always start with a straightforward approach when tackling a problem and gradually build upon it to determine which changes yield improvements.</p>\n",
    "</div>\n",
    "\n",
    "# 2. A Simple Classifier\n",
    "\n",
    "In `exercise_code/models.py` we prepared all classes for you which you will finalize throughout the notebook to build an Autoencoder and an image classifier with PyTorch.\n",
    "\n",
    "![network_split](img/network_split.png)\n",
    "\n",
    "## 2.1 The Encoder\n",
    "\n",
    "Unlike to previous models, we are going to split up the model into two parts: the `encoder` and the `classifier`. The `classifier` has a fixed task, generating predictions given a one-dimensional input. On the other hand, the `encoder`'s task is to extract meaningful information from the input, enabling the classifier to make accurate decisions. \n",
    "\n",
    "For now, both networks will be similar in design and consist of linear layers coupled with auxiliary layers. This split-up will be relevant later, e.g., by using convolutional layers which are introduced in the lecture. We are going to set up the `encoder` now. \n",
    "\n",
    "Think about a good network architecture. You have complete freedom in this regard and can devise any network structure that you think might be fitting. (\\*)\n",
    "\n",
    "Have a look at the documentation of `torch.nn` at https://pytorch.org/docs/stable/nn.html to learn how to use this module in order to build your network!\n",
    "\n",
    "Then implement your architecture: initialize it in `__init__()` and assign it to `self.model`. This is particularly easy using `nn.Sequential()` where you only have to pass the list of your layers. \n",
    "\n",
    "To make your model customizable and support parameter search, do not use hardcoded hyperparameters - instead, pass them as a simple dictionary `hparams` (here, `n_hidden` is the number of neurons in the hidden layer) when initializing `models`.\n",
    "\n",
    "Here is an simple example:\n",
    "\n",
    "```python\n",
    "        self.model = nn.Sequential(\n",
    "            nn.Linear(input_size, self.hparams[\"n_hidden\"]),\n",
    "            nn.ReLU(),            \n",
    "            nn.Linear(self.hparams[\"n_hidden\"], num_classes)\n",
    "        )\n",
    "```\n",
    "\n",
    "Have a look at the forward path in `forward(self, x)`, which is so easy that you don't need to implement it yourself.\n",
    "\n",
    "As PyTorch automatically computes the gradients, that's all you need to do! No need to manually calculate derivatives for the backward paths anymore! :)\n",
    "\n",
    "\n",
    "____\n",
    "\\* *The size of your final model must be less than 20 MB, which is approximately equivalent to 5 Mio. params. Note that this limit is quite lenient, you will probably need much less parameters!*\n",
    "\n",
    "*In order to keep things simple, you should only use fully connected layers for this task as we need to revert the encoder architecture  later on in the notebook.*\n",
    "\n",
    "<div class=\"alert alert-info\">\n",
    "    <h3>Task: Implement</h3>\n",
    "    <p>Implement the <code>Encoder</code> class initialization in <code>exercise_code/models.py</code>.\n",
    "    </p>\n",
    "</div>"
   ]
  },
  {
   "attachments": {},
   "cell_type": "markdown",
   "metadata": {
    "id": "jNf7FrvwMNki"
   },
   "source": [
    "## 2.2 The Classifier\n",
    "\n",
    "Now let's implement the classifier. The classifier will utilize the encoder that you have defined in the above cell. By looking at `Classifier.forward`, you can see that we are essentially concatenating the `classifier`and the `encoder` together. Therefore, it is crucial to ensure that the input shape of the classifier matches the output shape of the encoder you implemented above\n",
    "\n",
    "<div class=\"alert alert-info\">\n",
    "    <h3>Task: Implement</h3>\n",
    "    <p>1. Implement the <code>Classifier</code> class network initialization in <code>exercise_code/models.py</code>.\n",
    "    </p>\n",
    "    <p>2. Define in the next cell your hyperparameters in a dictionary called 'hparams'.\n",
    "    </p>\n",
    "</div>"
   ]
  },
  {
   "cell_type": "code",
   "execution_count": null,
   "metadata": {
    "id": "AawbvD1rMNkj"
   },
   "outputs": [],
   "source": [
    "hparams = {}\n",
    "########################################################################\n",
    "# TODO: Define your hyper parameters here!                             #\n",
    "########################################################################\n",
    "\n",
    "hparams = {    \n",
    "    \"device\" : device,\n",
    "    \"num_workers\" : 8,\n",
    "    \"epochs\" : 150, # Don't do too many epochs on large batch size or else overfitting!\n",
    "    \"batch_size\" : 64, # Batch size, use small one for classifier!\n",
    "    \n",
    "    \"num_classes\" : 10, # There are 10 digits\n",
    "    \"input_size\" : 28 * 28, # Number of pixels in images\n",
    "    \n",
    "    \"learning_rate\" : 1e-3, # Optimizer\n",
    "    \"weight_decay\" : 1e-5, # ADAM\n",
    "    \n",
    "    \"dropout_p\" : 0.5, # Dropout probability for the classifier, reduces overfitting\n",
    "    \"latent_dim\" : 20, # Encoder output dim, Decode input dim, classifier input dim. If this it too high, overfitting will occur\n",
    "    \"decoder_hidden\" : 256, # Decoder Hidden\n",
    "    \"encoder_hidden\" : 256, # Encoder Hidden\n",
    "    \"classifier_hidden\" : 256 # Classifier Hidden\n",
    "}\n",
    "\n",
    "########################################################################\n",
    "#                           END OF YOUR CODE                           #\n",
    "########################################################################"
   ]
  },
  {
   "attachments": {},
   "cell_type": "markdown",
   "metadata": {
    "id": "bOYbUg8lAmgU"
   },
   "source": [
    "\n",
    "## 2.3 Optimizer\n",
    "Lastly, implement the function `set_optimizer` to define your optimizer. Here the documentation of `torch.optim` at https://pytorch.org/docs/stable/optim.html might be helpful.\n",
    "\n",
    "<div class=\"alert alert-info\">\n",
    "    <h3>Task: Implement</h3>\n",
    "    <p>Implement the <code>set_optimizer</code> method of the <code>Classifier</code> in <code>exercise_code/models.py</code>.\n",
    "    </p>\n",
    "</div>\n"
   ]
  },
  {
   "attachments": {},
   "cell_type": "markdown",
   "metadata": {
    "id": "xrUfa-a7MNkk"
   },
   "source": [
    "## 2.4 Training & Validation Step\n",
    "\n",
    "<div class=\"alert alert-success\">\n",
    "    <h3>Task: Check Code</h3>\n",
    "    <p> Let's take a closer look at the training pipeline outlined below. It is explicitly written here in its entirety to provide you with a comprehensive understanding of its structure. Additionally, you can refer back to this pipeline whenever you encounter any uncertainties or need guidance.\n",
    " </p>\n",
    "</div>\n"
   ]
  },
  {
   "cell_type": "code",
   "execution_count": null,
   "metadata": {
    "id": "NY_lLaNWMNkk"
   },
   "outputs": [],
   "source": [
    " # One of the most crucial things in deep learning is to understand the training pipeline:\n",
    " # 1. Forward()          --> The forward pass of the network, to calculate the currnent loss.\n",
    " # 2. Backward()         --> The backward pass of the network, to calculate the gradients w.r.t the loss, calculated in the previous stage.\n",
    " # 3. Optimizer_step()   --> Update the weights w.r.t thier corresponding gradients and the learnign rate.\n",
    "\n",
    "def create_tqdm_bar(iterable, desc):\n",
    "    return tqdm(enumerate(iterable),total=len(iterable), ncols=150, desc=desc)\n",
    "\n",
    "\n",
    "def train_classifier(classifier, train_loader, val_loader, loss_func, tb_logger, epochs=10, name=\"default\"):\n",
    "    \"\"\"\n",
    "    Train the classifier for a number of epochs.\n",
    "    \"\"\"\n",
    "    optimizer = classifier.optimizer\n",
    "    classifier = classifier.to(device)\n",
    "    for epoch in range(epochs):\n",
    "        \n",
    "        training_loss = 0\n",
    "        validation_loss = 0\n",
    "        \n",
    "        # Training stage, where we want to update the parameters.\n",
    "        classifier.train()  # Set the model to training mode\n",
    "        \n",
    "        # Create a progress bar for the training loop.\n",
    "        training_loop = create_tqdm_bar(train_loader, desc=f'Training Epoch [{epoch + 1}/{epochs}]')\n",
    "        for train_iteration, batch in training_loop:\n",
    "            optimizer.zero_grad() # Reset the gradients - VERY important! Otherwise they accumulate.\n",
    "            images, labels = batch # Get the images and labels from the batch, in the fashion we defined in the dataset and dataloader.\n",
    "            images, labels = images.to(device), labels.to(device) # Send the data to the device (GPU or CPU) - it has to be the same device as the model.\n",
    "\n",
    "            # Flatten the images to a vector. This is done because the classifier expects a vector as input.\n",
    "            # Could also be done by reshaping the images in the dataset.\n",
    "            images = images.view(images.shape[0], -1) \n",
    "\n",
    "            pred = classifier(images) # Stage 1: Forward().\n",
    "            loss = loss_func(pred, labels) # Compute the loss over the predictions and the ground truth.\n",
    "            loss.backward()  # Stage 2: Backward().\n",
    "            optimizer.step() # Stage 3: Update the parameters.\n",
    "\n",
    "            training_loss += loss.item()\n",
    "\n",
    "            # Update the progress bar.\n",
    "            training_loop.set_postfix(curr_train_loss = \"{:.8f}\".format(training_loss / (train_iteration + 1)), val_loss = \"{:.8f}\".format(validation_loss))\n",
    "\n",
    "            # Update the tensorboard logger.\n",
    "            tb_logger.add_scalar(f'classifier_{name}/train_loss', loss.item(), epoch * len(train_loader) + train_iteration)\n",
    "            sleep(0.1) # Remove this line if you want to see the progress bar faster.\n",
    "\n",
    "        # Validation stage, where we don't want to update the parameters. Pay attention to the classifier.eval() line\n",
    "        # and \"with torch.no_grad()\" wrapper.\n",
    "        classifier.eval()\n",
    "        val_loop = create_tqdm_bar(val_loader, desc=f'Validation Epoch [{epoch + 1}/{epochs}]')\n",
    "        validation_loss = 0\n",
    "        with torch.no_grad():\n",
    "            for val_iteration, batch in val_loop:\n",
    "                images, labels = batch\n",
    "                images, labels = images.to(device), labels.to(device)\n",
    "\n",
    "                images = images.view(images.shape[0], -1) \n",
    "                pred = classifier(images)\n",
    "                loss = loss_func(pred, labels)\n",
    "                validation_loss += loss.item()\n",
    "\n",
    "                # Update the progress bar.\n",
    "                val_loop.set_postfix(val_loss = \"{:.8f}\".format(validation_loss / (val_iteration + 1)))\n",
    "\n",
    "                # Update the tensorboard logger.\n",
    "                tb_logger.add_scalar(f'classifier_{name}/val_loss', loss.item(), epoch * len(val_loader) + val_iteration)\n",
    "                sleep(0.1) # Remove this line if you want to see the progress bar faster.\n",
    "        \n",
    "        # This value is used for the progress bar of the training loop.\n",
    "        validation_loss /= len(val_loader)\n",
    "            "
   ]
  },
  {
   "attachments": {},
   "cell_type": "markdown",
   "metadata": {
    "id": "KVKLlwlyMNkl"
   },
   "source": [
    "## 2.5 Fit Classification Model with Trainer\n",
    "Now it's finally time to train your model.\n",
    "Run the following cell to see the behold the magic of deep learning at play."
   ]
  },
  {
   "cell_type": "code",
   "execution_count": null,
   "metadata": {
    "id": "uBGavq9cMNkl"
   },
   "outputs": [],
   "source": [
    "from exercise_code.models import Classifier\n",
    "from exercise_code.models import Encoder\n",
    "\n",
    "# Create the encoder and the classifier.\n",
    "encoder = Encoder(hparams).to(device)\n",
    "classifier = Classifier(hparams, encoder).to(device)\n",
    "\n",
    "# Create a tensorboard logger.\n",
    "# NOTE: In order to see the logs, run the following command in the terminal: tensorboard --logdir=./\n",
    "# Also, in order to reset the logs, delete the logs folder MANUALLY.\n",
    "\n",
    "path = os.path.join('logs', 'cls_logs')\n",
    "num_of_runs = len(os.listdir(path)) if os.path.exists(path) else 0\n",
    "path = os.path.join(path, f'run_{num_of_runs + 1}')\n",
    "\n",
    "tb_logger = SummaryWriter(path)\n",
    "\n",
    "# Train the classifier.\n",
    "labled_train_loader = torch.utils.data.DataLoader(train_100_dataset, batch_size=hparams['batch_size'], shuffle=True)\n",
    "labled_val_loader = torch.utils.data.DataLoader(val_100_dataset, batch_size=hparams['batch_size'], shuffle=False)\n",
    "\n",
    "epochs = hparams.get('epochs', 10)\n",
    "loss_func = nn.CrossEntropyLoss() # The loss function we use for classification.\n",
    "train_classifier(classifier, labled_train_loader, labled_val_loader, loss_func, tb_logger, epochs=epochs, name=\"Default\")\n",
    "\n",
    "print(\"Finished training!\")\n",
    "print(\"How did we do? Let's check the accuracy of the defaut classifier on the training and validation sets:\")\n",
    "print(f\"Training Acc: {classifier.getAcc(labled_train_loader)[1] * 100}%\")\n",
    "print(f\"Validation Acc: {classifier.getAcc(labled_val_loader)[1] * 100}%\")"
   ]
  },
  {
   "attachments": {},
   "cell_type": "markdown",
   "metadata": {
    "id": "i16vmHZXMNkm",
    "pycharm": {
     "name": "#%% md\n"
    }
   },
   "source": [
    "# 3. Autoencoder\n",
    "\n",
    "With only a limited number of labeled images, it's challenging to achieve high performance. We have no money left to pay the student to create more labels, and labeling the data ourselves is out of question. A commonly used approach would be to apply data augmentation to maximize the potential of our limited labeled data, but here we provide another way to solve this problem: **transfer learning**.\n",
    "\n",
    "For each input, the autoencoder tries to reproduce the same image as an output. The difficulty behind this task is that the autoencoder has to go through a low dimensional bottleneck, which is called the **latent space**.\n",
    "In other words, the autoencoder learns to represent all the input information in a low dimensional latent space - it learns to compress the input distribution. To train the autoencoder, we use the mean squared error loss, which calculates the discrepancy between the input pixels and the output pixels. The best part is that this loss function doesn't require any labels!\n",
    "\n",
    "By pretraining the autoencoder in this way on the large amount of unlabeled data, we can capture valuable latent representations of the input images. Then, we transfer the weights of the encoder to our classifier, enabling it to benefit from the knowledge learned during the unsupervised pretraining phase. \n",
    "\n",
    "![autoencoder](img/autoencoder.png)\n",
    "\n",
    "After this, our encoder has learned to extract meaningful information from the inputs. We can then transfer its weights\n",
    "to a classifier architecture and finetune it with our labeled data, i.e., instead of initializing our encoder randomly we are re-using the weights of our trained encoder from our autoencoder network. \n",
    "\n",
    "![autoencoder_pretrained](img/pretrained.png)\n",
    "\n",
    "## 3.1 Decoder\n",
    "\n",
    "Before we can train our autoencoder, you have to initialize the your `decoder` architecture. The simplest way is to mirror your encoder architecture which ensure that the `latent space` output of our `encoder` is correctly transformed to our input shape.\n",
    "\n",
    "<div class=\"alert alert-info\">\n",
    "    <h3>Task: Implement</h3>\n",
    "    <p>Implement the <code>Decoder</code> and <code>Autoencoder</code> class initialization in <code>exercise_code/models.py</code>.</p>\n",
    "    <p>Implemet <code>training_step</code> and <code>validation_step</code> of the autoencoder, following the pipeline we've shown you in train_classifier().</p>\n",
    "    <p>Note the differences between the classificaiton task, and now the regression task!</p>\n",
    "\n",
    "\n",
    "</div>\n",
    "\n",
    "## 3.2 Autoencoder Training\n",
    "\n",
    "Now, we can train the full autoencoder consisting of both en- and decoder."
   ]
  },
  {
   "cell_type": "code",
   "execution_count": null,
   "metadata": {
    "id": "xqqdoLDgMNkm"
   },
   "outputs": [],
   "source": [
    "from exercise_code.models import Autoencoder, Encoder, Decoder\n",
    "\n",
    "########################################################################\n",
    "# TODO: Define your hyperparameters here!                              #\n",
    "# Hint: use a large batch_size                                         #\n",
    "########################################################################\n",
    "\n",
    "hparams = {    \n",
    "    \"device\" : device,\n",
    "    \"num_workers\" : 8,\n",
    "    \"epochs\" : 30, # Don't do too many epochs on large batch size\n",
    "    \"batch_size\" : 512, # Batch size, use large for autoencoder!\n",
    "    \n",
    "    \"num_classes\" : 10, # There are 10 digits\n",
    "    \"input_size\" : 28 * 28, # Number of pixels in images\n",
    "    \n",
    "    \"learning_rate\" : 1e-3, # Optimizer\n",
    "    \"weight_decay\" : 1e-5, # ADAM\n",
    "    \n",
    "    \"dropout_p\" : 0.5, # Dropout probability for the classifier, reduces overfitting\n",
    "    \"latent_dim\" : 20, # Encoder output dim, Decode input dim, classifier input dim. If this it too high, overfitting will occur\n",
    "    \"decoder_hidden\" : 512, # Decoder Hidden, make large so we can reconstruct data well\n",
    "    \"encoder_hidden\" : 256, # Encoder Hidden\n",
    "    \"classifier_hidden\" : 256 # Classifier Hidden\n",
    "}\n",
    "\n",
    "########################################################################\n",
    "#                           END OF YOUR CODE                           #\n",
    "########################################################################\n",
    "encoder_pretrained = Encoder(hparams).to(device)\n",
    "decoder = Decoder(hparams).to(device)\n",
    "autoencoder = Autoencoder(hparams, encoder_pretrained, decoder).to(device)"
   ]
  },
  {
   "attachments": {},
   "cell_type": "markdown",
   "metadata": {
    "id": "uRuIIm8YMNkn"
   },
   "source": [
    "Some tests to check whether we'll accept your model."
   ]
  },
  {
   "cell_type": "code",
   "execution_count": null,
   "metadata": {
    "id": "SoAaC-NqMNkn"
   },
   "outputs": [],
   "source": [
    "from exercise_code.Util import printModelInfo, load_model\n",
    "_ = printModelInfo(autoencoder)"
   ]
  },
  {
   "attachments": {},
   "cell_type": "markdown",
   "metadata": {
    "id": "plQwnphtqggl"
   },
   "source": [
    "After implementing the relevant functions - read the following code, and then run it.\n",
    "Keep in mind that an epoch here will take much longer since\n",
    "we are iterating through 5,8600 images instead of just 100.\n",
    "\n",
    "For speed, colab is indeed recommended. "
   ]
  },
  {
   "cell_type": "code",
   "execution_count": null,
   "metadata": {
    "id": "_uuzXMq6zjbb",
    "tags": []
   },
   "outputs": [],
   "source": [
    "encoder_pretrained = Encoder(hparams).to(device)\n",
    "decoder = Decoder(hparams).to(device)\n",
    "autoencoder = Autoencoder(hparams, encoder_pretrained, decoder).to(device)\n",
    "\n",
    "def train_model(model, train_loader, val_loader, loss_func, tb_logger, epochs=10, name='Autoencoder'):\n",
    "    \n",
    "    optimizer = model.optimizer\n",
    "    scheduler = torch.optim.lr_scheduler.StepLR(optimizer, step_size=epochs * len(train_loader) / 5, gamma=0.7)\n",
    "    validation_loss = 0\n",
    "    model = model.to(device)\n",
    "    for epoch in range(epochs):\n",
    "        \n",
    "        # Train\n",
    "        training_loop = create_tqdm_bar(train_loader, desc=f'Training Epoch [{epoch}/{epochs}]')\n",
    "        training_loss = 0\n",
    "        for train_iteration, batch in training_loop:\n",
    "            \n",
    "            loss = model.training_step(batch, loss_func) # You need to implement this function.\n",
    "            training_loss += loss.item()\n",
    "            scheduler.step()\n",
    "\n",
    "            # Update the progress bar.\n",
    "            training_loop.set_postfix(train_loss = \"{:.8f}\".format(training_loss / (train_iteration + 1)), val_loss = \"{:.8f}\".format(validation_loss))\n",
    "\n",
    "            # Update the tensorboard logger.\n",
    "            tb_logger.add_scalar(f'{name}/train_loss', loss.item(), epoch * len(train_loader) + train_iteration)\n",
    "\n",
    "        # Validation\n",
    "        val_loop = create_tqdm_bar(val_loader, desc=f'Validation Epoch [{epoch}/{epochs}]')\n",
    "        validation_loss = 0\n",
    "        with torch.no_grad():\n",
    "            for val_iteration, batch in val_loop:\n",
    "                loss = model.validation_step(batch, loss_func) # You need to implement this function.\n",
    "                validation_loss += loss.item()\n",
    "\n",
    "                # Update the progress bar.\n",
    "                val_loop.set_postfix(val_loss = \"{:.8f}\".format(validation_loss / (val_iteration + 1)))\n",
    "\n",
    "                # Update the tensorboard logger.\n",
    "                tb_logger.add_scalar(f'{name}/val_loss', validation_loss / (val_iteration + 1), epoch * len(val_loader) + val_iteration)\n",
    "        # This value is for the progress bar of the training loop.\n",
    "        validation_loss /= len(val_loader)\n",
    "\n",
    "# Creat a tensorboard logger.\n",
    "# NOTE: In order to see the logs, run the following command in the terminal: tensorboard --logdir=./\n",
    "# Also, in order to reset the logs, delete the logs folder MANUALLY.\n",
    "\n",
    "path = os.path.join('logs', 'ae_logs')\n",
    "num_of_runs = len(os.listdir(path)) if os.path.exists(path) else 0\n",
    "path = os.path.join(path, f'run_{num_of_runs + 1}')\n",
    "tb_logger = SummaryWriter(path)\n",
    "\n",
    "# Train the classifier.\n",
    "unlabled_train_loader = torch.utils.data.DataLoader(unlabeled_train, batch_size=hparams['batch_size'], shuffle=True)\n",
    "unlabled_val_loader = torch.utils.data.DataLoader(unlabeled_val, batch_size=hparams['batch_size'], shuffle=False)\n",
    "\n",
    "epochs = hparams.get('epochs', 5)\n",
    "loss_func = nn.MSELoss() # The loss function we use for regression (Could also be nn.L1Loss()).\n",
    "train_model(autoencoder, unlabled_train_loader, unlabled_val_loader, loss_func, tb_logger, epochs=epochs, name='Autoencoder')\n",
    "\n",
    "print(\"Finished training!\")"
   ]
  },
  {
   "attachments": {},
   "cell_type": "markdown",
   "metadata": {
    "id": "vdgiYWy4MNkq"
   },
   "source": [
    "Once trained, let's have a look at the reconstructed validation images (If you have not already looked at them in TensorBoard)."
   ]
  },
  {
   "cell_type": "code",
   "execution_count": null,
   "metadata": {
    "id": "a991mKcyMNkq"
   },
   "outputs": [],
   "source": [
    "reconstructions = autoencoder.getReconstructions(unlabled_val_loader)\n",
    "for i in range(64):\n",
    "    plt.subplot(8,8,i+1)\n",
    "    plt.axis('off')\n",
    "    plt.imshow(reconstructions[i], cmap='gray', interpolation='none')\n",
    "    \n",
    "plt.tight_layout()"
   ]
  },
  {
   "attachments": {},
   "cell_type": "markdown",
   "metadata": {
    "id": "R2hrP5b1MNkr"
   },
   "source": [
    "# 4. Transfer Learning\n",
    "\n",
    "## 4.1 The pretrained Classifier\n",
    "\n",
    "Now we initialize another classifier but this time with the pretrained encoder."
   ]
  },
  {
   "cell_type": "code",
   "execution_count": null,
   "metadata": {
    "id": "OELYQAUmMNkr"
   },
   "outputs": [],
   "source": [
    "from exercise_code.models import Classifier\n",
    "from copy import deepcopy\n",
    "\n",
    "hparams = {}\n",
    "########################################################################\n",
    "# TODO: Define your hyperparameters here!                             #\n",
    "########################################################################\n",
    "\n",
    "hparams = {    \n",
    "    \"device\" : device,\n",
    "    \"num_workers\" : 8,\n",
    "    \"epochs\" : 100, # Don't do too many epochs on large batch size\n",
    "    \"batch_size\" : 512, # Use same batch size as in classifier training\n",
    "    \n",
    "    \"num_classes\" : 10, # There are 10 digits\n",
    "    \"input_size\" : 28 * 28, # Number of pixels in images\n",
    "    \n",
    "    \"learning_rate\" : 5e-3, # Optimizer\n",
    "    \"weight_decay\" : 1e-5, # ADAM\n",
    "    \n",
    "    \"dropout_p\" : 0.5, # Dropout probability for the classifier, reduces overfitting\n",
    "    \"latent_dim\" : 20, # Encoder output dim, Decode input dim, classifier input dim. If this it too high, overfitting will occur\n",
    "    \"decoder_hidden\" : 512, # Decoder Hidden, make large so we can reconstruct data well\n",
    "    \"encoder_hidden\" : 256, # Encoder Hidden\n",
    "    \"classifier_hidden\" : 256 # Classifier Hidden\n",
    "}\n",
    "\n",
    "########################################################################\n",
    "#                           END OF YOUR CODE                           #\n",
    "########################################################################\n",
    "\n",
    "encoder_pretrained_copy = deepcopy(encoder_pretrained)\n",
    "classifier_pretrained = Classifier(hparams, encoder_pretrained_copy).to(device)"
   ]
  },
  {
   "attachments": {},
   "cell_type": "markdown",
   "metadata": {
    "id": "R8FUtih6MNks"
   },
   "source": [
    "Let's define another trainer that will utilize the pretrained classifier, allowing us to compare its performance with the classifier trained only on the labeled data. To achieve a reasonable result, you may need to optimize the parameters you defined earlier."
   ]
  },
  {
   "cell_type": "code",
   "execution_count": 229,
   "metadata": {
    "id": "Mx_euorWMNks"
   },
   "outputs": [
    {
     "name": "stderr",
     "output_type": "stream",
     "text": [
      "Training Epoch [21/100]: 100%|█████████████████████████████████████████| 1/1 [00:00<00:00,  7.60it/s, curr_train_loss=0.92806870, val_loss=0.00000000]\n",
      "Validation Epoch [21/100]: 100%|███████████████████████████████████████████████████████████████████| 1/1 [00:00<00:00,  7.09it/s, val_loss=1.66852069]\n",
      "Training Epoch [22/100]: 100%|█████████████████████████████████████████| 1/1 [00:00<00:00,  7.28it/s, curr_train_loss=0.91458809, val_loss=0.00000000]\n",
      "Validation Epoch [22/100]: 100%|███████████████████████████████████████████████████████████████████| 1/1 [00:00<00:00,  6.54it/s, val_loss=1.55410802]\n",
      "Training Epoch [23/100]: 100%|█████████████████████████████████████████| 1/1 [00:00<00:00,  6.38it/s, curr_train_loss=0.92478621, val_loss=0.00000000]\n",
      "Validation Epoch [23/100]: 100%|███████████████████████████████████████████████████████████████████| 1/1 [00:00<00:00,  6.61it/s, val_loss=1.58344972]\n",
      "Training Epoch [24/100]: 100%|█████████████████████████████████████████| 1/1 [00:00<00:00,  6.43it/s, curr_train_loss=0.83088648, val_loss=0.00000000]\n",
      "Validation Epoch [24/100]: 100%|███████████████████████████████████████████████████████████████████| 1/1 [00:00<00:00,  6.28it/s, val_loss=1.52231538]\n",
      "Training Epoch [25/100]: 100%|█████████████████████████████████████████| 1/1 [00:00<00:00,  6.36it/s, curr_train_loss=0.83987981, val_loss=0.00000000]\n",
      "Validation Epoch [25/100]: 100%|███████████████████████████████████████████████████████████████████| 1/1 [00:00<00:00,  6.41it/s, val_loss=1.53298092]\n",
      "Training Epoch [26/100]: 100%|█████████████████████████████████████████| 1/1 [00:00<00:00,  6.26it/s, curr_train_loss=0.70052981, val_loss=0.00000000]\n",
      "Validation Epoch [26/100]: 100%|███████████████████████████████████████████████████████████████████| 1/1 [00:00<00:00,  6.50it/s, val_loss=1.67941058]\n",
      "Training Epoch [27/100]: 100%|█████████████████████████████████████████| 1/1 [00:00<00:00,  6.27it/s, curr_train_loss=0.74463332, val_loss=0.00000000]\n",
      "Validation Epoch [27/100]: 100%|███████████████████████████████████████████████████████████████████| 1/1 [00:00<00:00,  6.57it/s, val_loss=1.49433076]\n",
      "Training Epoch [28/100]: 100%|█████████████████████████████████████████| 1/1 [00:00<00:00,  7.16it/s, curr_train_loss=0.66924936, val_loss=0.00000000]\n",
      "Validation Epoch [28/100]: 100%|███████████████████████████████████████████████████████████████████| 1/1 [00:00<00:00,  7.62it/s, val_loss=1.52272201]\n",
      "Training Epoch [29/100]: 100%|█████████████████████████████████████████| 1/1 [00:00<00:00,  6.70it/s, curr_train_loss=0.70642781, val_loss=0.00000000]\n",
      "Validation Epoch [29/100]: 100%|███████████████████████████████████████████████████████████████████| 1/1 [00:00<00:00,  6.41it/s, val_loss=1.62419820]\n",
      "Training Epoch [30/100]: 100%|█████████████████████████████████████████| 1/1 [00:00<00:00,  6.25it/s, curr_train_loss=0.68924272, val_loss=0.00000000]\n",
      "Validation Epoch [30/100]: 100%|███████████████████████████████████████████████████████████████████| 1/1 [00:00<00:00,  6.81it/s, val_loss=1.41958272]\n",
      "Training Epoch [31/100]: 100%|█████████████████████████████████████████| 1/1 [00:00<00:00,  6.52it/s, curr_train_loss=0.60931849, val_loss=0.00000000]\n",
      "Validation Epoch [31/100]: 100%|███████████████████████████████████████████████████████████████████| 1/1 [00:00<00:00,  6.42it/s, val_loss=1.36146009]\n",
      "Training Epoch [32/100]: 100%|█████████████████████████████████████████| 1/1 [00:00<00:00,  6.47it/s, curr_train_loss=0.63228458, val_loss=0.00000000]\n",
      "Validation Epoch [32/100]: 100%|███████████████████████████████████████████████████████████████████| 1/1 [00:00<00:00,  6.50it/s, val_loss=1.32324874]\n",
      "Training Epoch [33/100]: 100%|█████████████████████████████████████████| 1/1 [00:00<00:00,  6.40it/s, curr_train_loss=0.59783667, val_loss=0.00000000]\n",
      "Validation Epoch [33/100]: 100%|███████████████████████████████████████████████████████████████████| 1/1 [00:00<00:00,  7.50it/s, val_loss=1.45329273]\n",
      "Training Epoch [34/100]: 100%|█████████████████████████████████████████| 1/1 [00:00<00:00,  6.15it/s, curr_train_loss=0.65100652, val_loss=0.00000000]\n",
      "Validation Epoch [34/100]: 100%|███████████████████████████████████████████████████████████████████| 1/1 [00:00<00:00,  6.21it/s, val_loss=1.32012868]\n",
      "Training Epoch [35/100]: 100%|█████████████████████████████████████████| 1/1 [00:00<00:00,  6.75it/s, curr_train_loss=0.55378526, val_loss=0.00000000]\n",
      "Validation Epoch [35/100]: 100%|███████████████████████████████████████████████████████████████████| 1/1 [00:00<00:00,  7.52it/s, val_loss=1.35753906]\n",
      "Training Epoch [36/100]: 100%|█████████████████████████████████████████| 1/1 [00:00<00:00,  7.36it/s, curr_train_loss=0.57037717, val_loss=0.00000000]\n",
      "Validation Epoch [36/100]: 100%|███████████████████████████████████████████████████████████████████| 1/1 [00:00<00:00,  7.40it/s, val_loss=1.32190335]\n",
      "Training Epoch [37/100]: 100%|█████████████████████████████████████████| 1/1 [00:00<00:00,  7.37it/s, curr_train_loss=0.49132073, val_loss=0.00000000]\n",
      "Validation Epoch [37/100]: 100%|███████████████████████████████████████████████████████████████████| 1/1 [00:00<00:00,  7.55it/s, val_loss=1.31672239]\n",
      "Training Epoch [38/100]: 100%|█████████████████████████████████████████| 1/1 [00:00<00:00,  7.45it/s, curr_train_loss=0.40919673, val_loss=0.00000000]\n",
      "Validation Epoch [38/100]: 100%|███████████████████████████████████████████████████████████████████| 1/1 [00:00<00:00,  6.48it/s, val_loss=1.21301115]\n",
      "Training Epoch [39/100]: 100%|█████████████████████████████████████████| 1/1 [00:00<00:00,  6.86it/s, curr_train_loss=0.52467853, val_loss=0.00000000]\n",
      "Validation Epoch [39/100]: 100%|███████████████████████████████████████████████████████████████████| 1/1 [00:00<00:00,  7.48it/s, val_loss=1.30269563]\n",
      "Training Epoch [40/100]: 100%|█████████████████████████████████████████| 1/1 [00:00<00:00,  7.30it/s, curr_train_loss=0.48728612, val_loss=0.00000000]\n",
      "Validation Epoch [40/100]: 100%|███████████████████████████████████████████████████████████████████| 1/1 [00:00<00:00,  7.60it/s, val_loss=1.33681011]\n",
      "Training Epoch [41/100]: 100%|█████████████████████████████████████████| 1/1 [00:00<00:00,  6.36it/s, curr_train_loss=0.44665974, val_loss=0.00000000]\n",
      "Validation Epoch [41/100]: 100%|███████████████████████████████████████████████████████████████████| 1/1 [00:00<00:00,  6.26it/s, val_loss=1.19498396]\n",
      "Training Epoch [42/100]: 100%|█████████████████████████████████████████| 1/1 [00:00<00:00,  6.12it/s, curr_train_loss=0.47550204, val_loss=0.00000000]\n",
      "Validation Epoch [42/100]: 100%|███████████████████████████████████████████████████████████████████| 1/1 [00:00<00:00,  6.38it/s, val_loss=1.15953982]\n",
      "Training Epoch [43/100]: 100%|█████████████████████████████████████████| 1/1 [00:00<00:00,  7.46it/s, curr_train_loss=0.44340217, val_loss=0.00000000]\n",
      "Validation Epoch [43/100]: 100%|███████████████████████████████████████████████████████████████████| 1/1 [00:00<00:00,  7.55it/s, val_loss=1.26861656]\n",
      "Training Epoch [44/100]: 100%|█████████████████████████████████████████| 1/1 [00:00<00:00,  6.13it/s, curr_train_loss=0.43398541, val_loss=0.00000000]\n",
      "Validation Epoch [44/100]: 100%|███████████████████████████████████████████████████████████████████| 1/1 [00:00<00:00,  6.11it/s, val_loss=1.34549534]\n",
      "Training Epoch [45/100]: 100%|█████████████████████████████████████████| 1/1 [00:00<00:00,  7.58it/s, curr_train_loss=0.38106868, val_loss=0.00000000]\n",
      "Validation Epoch [45/100]: 100%|███████████████████████████████████████████████████████████████████| 1/1 [00:00<00:00,  6.18it/s, val_loss=1.14406180]\n",
      "Training Epoch [46/100]: 100%|█████████████████████████████████████████| 1/1 [00:00<00:00,  6.64it/s, curr_train_loss=0.35973305, val_loss=0.00000000]\n",
      "Validation Epoch [46/100]: 100%|███████████████████████████████████████████████████████████████████| 1/1 [00:00<00:00,  6.67it/s, val_loss=1.03327560]\n",
      "Training Epoch [47/100]: 100%|█████████████████████████████████████████| 1/1 [00:00<00:00,  7.35it/s, curr_train_loss=0.35978881, val_loss=0.00000000]\n",
      "Validation Epoch [47/100]: 100%|███████████████████████████████████████████████████████████████████| 1/1 [00:00<00:00,  7.35it/s, val_loss=1.14657807]\n",
      "Training Epoch [48/100]: 100%|█████████████████████████████████████████| 1/1 [00:00<00:00,  7.34it/s, curr_train_loss=0.43222180, val_loss=0.00000000]\n",
      "Validation Epoch [48/100]: 100%|███████████████████████████████████████████████████████████████████| 1/1 [00:00<00:00,  7.51it/s, val_loss=1.19368494]\n",
      "Training Epoch [49/100]: 100%|█████████████████████████████████████████| 1/1 [00:00<00:00,  6.52it/s, curr_train_loss=0.40912887, val_loss=0.00000000]\n",
      "Validation Epoch [49/100]: 100%|███████████████████████████████████████████████████████████████████| 1/1 [00:00<00:00,  6.92it/s, val_loss=1.09857678]\n",
      "Training Epoch [50/100]: 100%|█████████████████████████████████████████| 1/1 [00:00<00:00,  6.42it/s, curr_train_loss=0.41520420, val_loss=0.00000000]\n",
      "Validation Epoch [50/100]: 100%|███████████████████████████████████████████████████████████████████| 1/1 [00:00<00:00,  7.56it/s, val_loss=1.12836993]\n",
      "Training Epoch [51/100]: 100%|█████████████████████████████████████████| 1/1 [00:00<00:00,  6.67it/s, curr_train_loss=0.40926114, val_loss=0.00000000]\n",
      "Validation Epoch [51/100]: 100%|███████████████████████████████████████████████████████████████████| 1/1 [00:00<00:00,  7.70it/s, val_loss=1.00790000]\n",
      "Training Epoch [52/100]: 100%|█████████████████████████████████████████| 1/1 [00:00<00:00,  6.39it/s, curr_train_loss=0.23353276, val_loss=0.00000000]\n",
      "Validation Epoch [52/100]: 100%|███████████████████████████████████████████████████████████████████| 1/1 [00:00<00:00,  6.84it/s, val_loss=1.24815774]\n",
      "Training Epoch [53/100]: 100%|█████████████████████████████████████████| 1/1 [00:00<00:00,  6.13it/s, curr_train_loss=0.39192307, val_loss=0.00000000]\n",
      "Validation Epoch [53/100]: 100%|███████████████████████████████████████████████████████████████████| 1/1 [00:00<00:00,  6.89it/s, val_loss=1.09161472]\n",
      "Training Epoch [54/100]: 100%|█████████████████████████████████████████| 1/1 [00:00<00:00,  7.00it/s, curr_train_loss=0.37595439, val_loss=0.00000000]\n",
      "Validation Epoch [54/100]: 100%|███████████████████████████████████████████████████████████████████| 1/1 [00:00<00:00,  6.67it/s, val_loss=0.92107779]\n",
      "Training Epoch [55/100]: 100%|█████████████████████████████████████████| 1/1 [00:00<00:00,  6.48it/s, curr_train_loss=0.22485243, val_loss=0.00000000]\n",
      "Validation Epoch [55/100]: 100%|███████████████████████████████████████████████████████████████████| 1/1 [00:00<00:00,  7.48it/s, val_loss=1.19019473]\n",
      "Training Epoch [56/100]: 100%|█████████████████████████████████████████| 1/1 [00:00<00:00,  7.41it/s, curr_train_loss=0.28936574, val_loss=0.00000000]\n",
      "Validation Epoch [56/100]: 100%|███████████████████████████████████████████████████████████████████| 1/1 [00:00<00:00,  6.54it/s, val_loss=1.20314825]\n",
      "Training Epoch [57/100]: 100%|█████████████████████████████████████████| 1/1 [00:00<00:00,  6.48it/s, curr_train_loss=0.21263522, val_loss=0.00000000]\n",
      "Validation Epoch [57/100]: 100%|███████████████████████████████████████████████████████████████████| 1/1 [00:00<00:00,  6.70it/s, val_loss=1.08039963]\n",
      "Training Epoch [58/100]: 100%|█████████████████████████████████████████| 1/1 [00:00<00:00,  7.31it/s, curr_train_loss=0.53820521, val_loss=0.00000000]\n",
      "Validation Epoch [58/100]: 100%|███████████████████████████████████████████████████████████████████| 1/1 [00:00<00:00,  7.44it/s, val_loss=1.19412720]\n",
      "Training Epoch [59/100]: 100%|█████████████████████████████████████████| 1/1 [00:00<00:00,  6.07it/s, curr_train_loss=0.39853138, val_loss=0.00000000]\n",
      "Validation Epoch [59/100]: 100%|███████████████████████████████████████████████████████████████████| 1/1 [00:00<00:00,  7.46it/s, val_loss=1.19945872]\n",
      "Training Epoch [60/100]: 100%|█████████████████████████████████████████| 1/1 [00:00<00:00,  7.41it/s, curr_train_loss=0.31186029, val_loss=0.00000000]\n",
      "Validation Epoch [60/100]: 100%|███████████████████████████████████████████████████████████████████| 1/1 [00:00<00:00,  7.59it/s, val_loss=1.17884529]\n",
      "Training Epoch [61/100]: 100%|█████████████████████████████████████████| 1/1 [00:00<00:00,  6.46it/s, curr_train_loss=0.28280288, val_loss=0.00000000]\n",
      "Validation Epoch [61/100]: 100%|███████████████████████████████████████████████████████████████████| 1/1 [00:00<00:00,  7.50it/s, val_loss=1.06090069]\n",
      "Training Epoch [62/100]: 100%|█████████████████████████████████████████| 1/1 [00:00<00:00,  6.52it/s, curr_train_loss=0.37898982, val_loss=0.00000000]\n",
      "Validation Epoch [62/100]: 100%|███████████████████████████████████████████████████████████████████| 1/1 [00:00<00:00,  6.56it/s, val_loss=1.13608968]\n",
      "Training Epoch [63/100]: 100%|█████████████████████████████████████████| 1/1 [00:00<00:00,  6.36it/s, curr_train_loss=0.27922606, val_loss=0.00000000]\n",
      "Validation Epoch [63/100]: 100%|███████████████████████████████████████████████████████████████████| 1/1 [00:00<00:00,  6.83it/s, val_loss=1.07055104]\n",
      "Training Epoch [64/100]: 100%|█████████████████████████████████████████| 1/1 [00:00<00:00,  7.46it/s, curr_train_loss=0.31374541, val_loss=0.00000000]\n",
      "Validation Epoch [64/100]: 100%|███████████████████████████████████████████████████████████████████| 1/1 [00:00<00:00,  7.54it/s, val_loss=1.22294700]\n",
      "Training Epoch [65/100]: 100%|█████████████████████████████████████████| 1/1 [00:00<00:00,  6.08it/s, curr_train_loss=0.38261947, val_loss=0.00000000]\n",
      "Validation Epoch [65/100]: 100%|███████████████████████████████████████████████████████████████████| 1/1 [00:00<00:00,  6.33it/s, val_loss=1.06886792]\n",
      "Training Epoch [66/100]: 100%|█████████████████████████████████████████| 1/1 [00:00<00:00,  6.14it/s, curr_train_loss=0.19967009, val_loss=0.00000000]\n",
      "Validation Epoch [66/100]: 100%|███████████████████████████████████████████████████████████████████| 1/1 [00:00<00:00,  6.35it/s, val_loss=1.06492412]\n",
      "Training Epoch [67/100]: 100%|█████████████████████████████████████████| 1/1 [00:00<00:00,  6.26it/s, curr_train_loss=0.32902947, val_loss=0.00000000]\n",
      "Validation Epoch [67/100]: 100%|███████████████████████████████████████████████████████████████████| 1/1 [00:00<00:00,  7.64it/s, val_loss=1.35031164]\n",
      "Training Epoch [68/100]: 100%|█████████████████████████████████████████| 1/1 [00:00<00:00,  6.71it/s, curr_train_loss=0.32250655, val_loss=0.00000000]\n",
      "Validation Epoch [68/100]: 100%|███████████████████████████████████████████████████████████████████| 1/1 [00:00<00:00,  6.42it/s, val_loss=1.28167164]\n",
      "Training Epoch [69/100]: 100%|█████████████████████████████████████████| 1/1 [00:00<00:00,  7.36it/s, curr_train_loss=0.19868860, val_loss=0.00000000]\n",
      "Validation Epoch [69/100]: 100%|███████████████████████████████████████████████████████████████████| 1/1 [00:00<00:00,  7.43it/s, val_loss=1.19088554]\n",
      "Training Epoch [70/100]: 100%|█████████████████████████████████████████| 1/1 [00:00<00:00,  6.26it/s, curr_train_loss=0.33703926, val_loss=0.00000000]\n",
      "Validation Epoch [70/100]: 100%|███████████████████████████████████████████████████████████████████| 1/1 [00:00<00:00,  6.23it/s, val_loss=1.34063876]\n",
      "Training Epoch [71/100]: 100%|█████████████████████████████████████████| 1/1 [00:00<00:00,  6.41it/s, curr_train_loss=0.24601792, val_loss=0.00000000]\n",
      "Validation Epoch [71/100]: 100%|███████████████████████████████████████████████████████████████████| 1/1 [00:00<00:00,  6.15it/s, val_loss=1.41464138]\n",
      "Training Epoch [72/100]: 100%|█████████████████████████████████████████| 1/1 [00:00<00:00,  5.94it/s, curr_train_loss=0.25507337, val_loss=0.00000000]\n",
      "Validation Epoch [72/100]: 100%|███████████████████████████████████████████████████████████████████| 1/1 [00:00<00:00,  6.47it/s, val_loss=1.30194533]\n",
      "Training Epoch [73/100]: 100%|█████████████████████████████████████████| 1/1 [00:00<00:00,  6.85it/s, curr_train_loss=0.25691849, val_loss=0.00000000]\n",
      "Validation Epoch [73/100]: 100%|███████████████████████████████████████████████████████████████████| 1/1 [00:00<00:00,  6.75it/s, val_loss=1.30313969]\n",
      "Training Epoch [74/100]: 100%|█████████████████████████████████████████| 1/1 [00:00<00:00,  7.40it/s, curr_train_loss=0.27707642, val_loss=0.00000000]\n",
      "Validation Epoch [74/100]: 100%|███████████████████████████████████████████████████████████████████| 1/1 [00:00<00:00,  7.52it/s, val_loss=1.18326628]\n",
      "Training Epoch [75/100]: 100%|█████████████████████████████████████████| 1/1 [00:00<00:00,  7.34it/s, curr_train_loss=0.34099188, val_loss=0.00000000]\n",
      "Validation Epoch [75/100]: 100%|███████████████████████████████████████████████████████████████████| 1/1 [00:00<00:00,  7.49it/s, val_loss=1.23149765]\n",
      "Training Epoch [76/100]: 100%|█████████████████████████████████████████| 1/1 [00:00<00:00,  6.41it/s, curr_train_loss=0.17640957, val_loss=0.00000000]\n",
      "Validation Epoch [76/100]: 100%|███████████████████████████████████████████████████████████████████| 1/1 [00:00<00:00,  6.20it/s, val_loss=1.13484800]\n",
      "Training Epoch [77/100]: 100%|█████████████████████████████████████████| 1/1 [00:00<00:00,  6.26it/s, curr_train_loss=0.21165492, val_loss=0.00000000]\n",
      "Validation Epoch [77/100]: 100%|███████████████████████████████████████████████████████████████████| 1/1 [00:00<00:00,  6.91it/s, val_loss=1.31883454]\n",
      "Training Epoch [78/100]: 100%|█████████████████████████████████████████| 1/1 [00:00<00:00,  7.36it/s, curr_train_loss=0.27375758, val_loss=0.00000000]\n",
      "Validation Epoch [78/100]: 100%|███████████████████████████████████████████████████████████████████| 1/1 [00:00<00:00,  6.60it/s, val_loss=1.15415883]\n",
      "Training Epoch [79/100]: 100%|█████████████████████████████████████████| 1/1 [00:00<00:00,  6.24it/s, curr_train_loss=0.32476947, val_loss=0.00000000]\n",
      "Validation Epoch [79/100]: 100%|███████████████████████████████████████████████████████████████████| 1/1 [00:00<00:00,  6.57it/s, val_loss=1.36443424]\n",
      "Training Epoch [80/100]: 100%|█████████████████████████████████████████| 1/1 [00:00<00:00,  6.40it/s, curr_train_loss=0.21991722, val_loss=0.00000000]\n",
      "Validation Epoch [80/100]: 100%|███████████████████████████████████████████████████████████████████| 1/1 [00:00<00:00,  6.52it/s, val_loss=1.37916279]\n",
      "Training Epoch [81/100]: 100%|█████████████████████████████████████████| 1/1 [00:00<00:00,  6.52it/s, curr_train_loss=0.20349476, val_loss=0.00000000]\n",
      "Validation Epoch [81/100]: 100%|███████████████████████████████████████████████████████████████████| 1/1 [00:00<00:00,  6.71it/s, val_loss=1.13507962]\n",
      "Training Epoch [82/100]: 100%|█████████████████████████████████████████| 1/1 [00:00<00:00,  6.64it/s, curr_train_loss=0.27699086, val_loss=0.00000000]\n",
      "Validation Epoch [82/100]: 100%|███████████████████████████████████████████████████████████████████| 1/1 [00:00<00:00,  6.41it/s, val_loss=1.33387315]\n",
      "Training Epoch [83/100]: 100%|█████████████████████████████████████████| 1/1 [00:00<00:00,  6.38it/s, curr_train_loss=0.15428138, val_loss=0.00000000]\n",
      "Validation Epoch [83/100]: 100%|███████████████████████████████████████████████████████████████████| 1/1 [00:00<00:00,  7.46it/s, val_loss=1.03560781]\n",
      "Training Epoch [84/100]: 100%|█████████████████████████████████████████| 1/1 [00:00<00:00,  7.35it/s, curr_train_loss=0.33291262, val_loss=0.00000000]\n",
      "Validation Epoch [84/100]: 100%|███████████████████████████████████████████████████████████████████| 1/1 [00:00<00:00,  7.52it/s, val_loss=1.33798862]\n",
      "Training Epoch [85/100]: 100%|█████████████████████████████████████████| 1/1 [00:00<00:00,  7.36it/s, curr_train_loss=0.30188423, val_loss=0.00000000]\n",
      "Validation Epoch [85/100]: 100%|███████████████████████████████████████████████████████████████████| 1/1 [00:00<00:00,  7.51it/s, val_loss=1.16451192]\n",
      "Training Epoch [86/100]: 100%|█████████████████████████████████████████| 1/1 [00:00<00:00,  6.32it/s, curr_train_loss=0.20318867, val_loss=0.00000000]\n",
      "Validation Epoch [86/100]: 100%|███████████████████████████████████████████████████████████████████| 1/1 [00:00<00:00,  6.49it/s, val_loss=1.24264991]\n",
      "Training Epoch [87/100]: 100%|█████████████████████████████████████████| 1/1 [00:00<00:00,  6.32it/s, curr_train_loss=0.26010686, val_loss=0.00000000]\n",
      "Validation Epoch [87/100]: 100%|███████████████████████████████████████████████████████████████████| 1/1 [00:00<00:00,  6.49it/s, val_loss=1.37898362]\n",
      "Training Epoch [88/100]: 100%|█████████████████████████████████████████| 1/1 [00:00<00:00,  7.61it/s, curr_train_loss=0.25649458, val_loss=0.00000000]\n",
      "Validation Epoch [88/100]: 100%|███████████████████████████████████████████████████████████████████| 1/1 [00:00<00:00,  6.77it/s, val_loss=1.17506361]\n",
      "Training Epoch [89/100]: 100%|█████████████████████████████████████████| 1/1 [00:00<00:00,  6.13it/s, curr_train_loss=0.28284553, val_loss=0.00000000]\n",
      "Validation Epoch [89/100]: 100%|███████████████████████████████████████████████████████████████████| 1/1 [00:00<00:00,  7.63it/s, val_loss=1.15025115]\n",
      "Training Epoch [90/100]: 100%|█████████████████████████████████████████| 1/1 [00:00<00:00,  6.17it/s, curr_train_loss=0.25851437, val_loss=0.00000000]\n",
      "Validation Epoch [90/100]: 100%|███████████████████████████████████████████████████████████████████| 1/1 [00:00<00:00,  6.53it/s, val_loss=1.33672643]\n",
      "Training Epoch [91/100]: 100%|█████████████████████████████████████████| 1/1 [00:00<00:00,  6.44it/s, curr_train_loss=0.24692786, val_loss=0.00000000]\n",
      "Validation Epoch [91/100]: 100%|███████████████████████████████████████████████████████████████████| 1/1 [00:00<00:00,  6.58it/s, val_loss=1.23575878]\n",
      "Training Epoch [92/100]: 100%|█████████████████████████████████████████| 1/1 [00:00<00:00,  7.37it/s, curr_train_loss=0.29460666, val_loss=0.00000000]\n",
      "Validation Epoch [92/100]: 100%|███████████████████████████████████████████████████████████████████| 1/1 [00:00<00:00,  7.51it/s, val_loss=1.04344058]\n",
      "Training Epoch [93/100]: 100%|█████████████████████████████████████████| 1/1 [00:00<00:00,  7.47it/s, curr_train_loss=0.27198184, val_loss=0.00000000]\n",
      "Validation Epoch [93/100]: 100%|███████████████████████████████████████████████████████████████████| 1/1 [00:00<00:00,  6.57it/s, val_loss=1.13173616]\n",
      "Training Epoch [94/100]: 100%|█████████████████████████████████████████| 1/1 [00:00<00:00,  6.54it/s, curr_train_loss=0.15508209, val_loss=0.00000000]\n",
      "Validation Epoch [94/100]: 100%|███████████████████████████████████████████████████████████████████| 1/1 [00:00<00:00,  6.95it/s, val_loss=1.09183061]\n",
      "Training Epoch [95/100]: 100%|█████████████████████████████████████████| 1/1 [00:00<00:00,  6.31it/s, curr_train_loss=0.39001259, val_loss=0.00000000]\n",
      "Validation Epoch [95/100]: 100%|███████████████████████████████████████████████████████████████████| 1/1 [00:00<00:00,  7.60it/s, val_loss=1.07900298]\n",
      "Training Epoch [96/100]: 100%|█████████████████████████████████████████| 1/1 [00:00<00:00,  7.42it/s, curr_train_loss=0.23828433, val_loss=0.00000000]\n",
      "Validation Epoch [96/100]: 100%|███████████████████████████████████████████████████████████████████| 1/1 [00:00<00:00,  7.60it/s, val_loss=1.11821795]\n",
      "Training Epoch [97/100]: 100%|█████████████████████████████████████████| 1/1 [00:00<00:00,  7.38it/s, curr_train_loss=0.31305772, val_loss=0.00000000]\n",
      "Validation Epoch [97/100]: 100%|███████████████████████████████████████████████████████████████████| 1/1 [00:00<00:00,  7.65it/s, val_loss=1.30413759]\n",
      "Training Epoch [98/100]: 100%|█████████████████████████████████████████| 1/1 [00:00<00:00,  6.38it/s, curr_train_loss=0.28451437, val_loss=0.00000000]\n",
      "Validation Epoch [98/100]: 100%|███████████████████████████████████████████████████████████████████| 1/1 [00:00<00:00,  7.49it/s, val_loss=1.17288184]\n",
      "Training Epoch [99/100]: 100%|█████████████████████████████████████████| 1/1 [00:00<00:00,  7.51it/s, curr_train_loss=0.19304773, val_loss=0.00000000]\n",
      "Validation Epoch [99/100]: 100%|███████████████████████████████████████████████████████████████████| 1/1 [00:00<00:00,  7.73it/s, val_loss=1.25433803]\n",
      "Training Epoch [100/100]: 100%|████████████████████████████████████████| 1/1 [00:00<00:00,  7.47it/s, curr_train_loss=0.21083763, val_loss=0.00000000]\n",
      "Validation Epoch [100/100]: 100%|██████████████████████████████████████████████████████████████████| 1/1 [00:00<00:00,  6.66it/s, val_loss=1.13161087]"
     ]
    },
    {
     "name": "stdout",
     "output_type": "stream",
     "text": [
      "Finished training!\n"
     ]
    },
    {
     "name": "stderr",
     "output_type": "stream",
     "text": [
      "\n"
     ]
    }
   ],
   "source": [
    "\n",
    "# Creat a tensorboard logger.\n",
    "# NOTE: In order to see the logs, run the following command in the terminal: tensorboard --logdir=./\n",
    "# Also, in order to reset the logs, delete the logs folder MANUALLY.\n",
    "# Pay attention that if you run this cell mutltiple times, the pretrained_encoder\n",
    "# is not reset, and will keep training from where it stopped. Thus, it could overfit.\n",
    "\n",
    "path = os.path.join('logs', 'pretrained_cls_logs')\n",
    "num_of_runs = len(os.listdir(path)) if os.path.exists(path) else 0\n",
    "path = os.path.join(path, f'run_{num_of_runs + 1}')\n",
    "tb_logger = SummaryWriter(path)\n",
    "\n",
    "batch_size = hparams.get('batch_size', 16)\n",
    "labled_train_loader = torch.utils.data.DataLoader(train_100_dataset, batch_size=batch_size, shuffle=True)\n",
    "labled_val_loader = torch.utils.data.DataLoader(val_100_dataset, batch_size=batch_size, shuffle=False)\n",
    "\n",
    "epochs = hparams.get('epochs', 20)\n",
    "loss_func = nn.CrossEntropyLoss() # The loss function we use for classification.\n",
    "train_classifier(classifier_pretrained, labled_train_loader, labled_val_loader, loss_func, tb_logger, epochs=epochs, name='Pretrained')\n",
    "\n",
    "print(\"Finished training!\") "
   ]
  },
  {
   "attachments": {},
   "cell_type": "markdown",
   "metadata": {
    "id": "H-pm1MY_MNks"
   },
   "source": [
    "Let's have a look at the validation accuracy of the two different classifiers and compare them. And don't forget that you can also monitor your training in TensorBoard.\n",
    "\n",
    "We will only look at the test accuracy and compare our two classifiers with respect to that in the very end."
   ]
  },
  {
   "cell_type": "code",
   "execution_count": 230,
   "metadata": {
    "id": "-e5Bd9KLMNkt"
   },
   "outputs": [
    {
     "name": "stdout",
     "output_type": "stream",
     "text": [
      "Validation accuracy when training from scratch: \u001b[92m65.0\u001b[0m%\n",
      "Validation accuracy with pretraining: \u001b[92m70.0\u001b[0m%\n"
     ]
    }
   ],
   "source": [
    "val_acc_scracth = classifier.getAcc(labled_val_loader)[1]*100\n",
    "color = 'green' if val_acc_scracth > 55 else 'red'\n",
    "print(f\"Validation accuracy when training from scratch: {bcolors.colorize(color, val_acc_scracth)}%\")\n",
    "\n",
    "val_acc_pretrained = classifier_pretrained.getAcc(labled_val_loader)[1]*100\n",
    "color = 'green' if val_acc_pretrained > 55 else 'red'\n",
    "print(f\"Validation accuracy with pretraining: {bcolors.colorize(color, val_acc_pretrained)}%\")\n",
    "\n",
    "\n"
   ]
  },
  {
   "attachments": {},
   "cell_type": "markdown",
   "metadata": {
    "id": "zAp2OTyf4_5b"
   },
   "source": [
    "Now that everything is working, feel free to play around with different architectures. As you've seen, it's quite easy to define your model or do adpations there.\n",
    "\n",
    "To pass this submission, you will need to achieve an accuracy of **55%**."
   ]
  },
  {
   "attachments": {},
   "cell_type": "markdown",
   "metadata": {
    "id": "OmEYmRT-5S-e"
   },
   "source": [
    "# Save your model & Report Test Accuracy\n",
    "\n",
    "When you are finally done with your **hyperparameter tuning**, achieved **at least 55% validation accuracy** and are happy with your final model, you can save it here.\n",
    "\n",
    "Before that, please check again whether the number of parameters is below 5 Mio and the file size is below 20 MB.\n",
    "\n",
    "Once your final model is saved, we'll finally report the test accuracy."
   ]
  },
  {
   "cell_type": "code",
   "execution_count": 231,
   "metadata": {
    "id": "S69ETKxD5TcE"
   },
   "outputs": [
    {
     "name": "stdout",
     "output_type": "stream",
     "text": [
      "Test accuracy when training from scratch: \u001b[92m67.0\u001b[0m%\n",
      "Test accuracy with pretraining: \u001b[92m78.0\u001b[0m%\n",
      "Validation Accuracy: \u001b[92m69.0\u001b[0m%\n",
      "# Paramters: Your model has \u001b[92m0.237\u001b[0m mio. params.\n",
      "Size: Great! Your model size is \u001b[92m1.9\u001b[0m MB and is less than 20 MB.\n",
      "Your model has been saved and is ready to be submitted.\n"
     ]
    }
   ],
   "source": [
    "from exercise_code.Util import test_and_save\n",
    "test_dl = torch.utils.data.DataLoader(test_100_dataset, batch_size=4, shuffle=False)\n",
    "\n",
    "test_acc = classifier.getAcc(test_dl)[1]*100\n",
    "color = 'green' if test_acc > 55 else 'red'\n",
    "print(f\"Test accuracy when training from scratch: {bcolors.colorize(color, test_acc)}%\")\n",
    "\n",
    "test_acc = classifier_pretrained.getAcc(test_dl)[1]*100\n",
    "color = 'green' if test_acc > 55 else 'red'\n",
    "print(f\"Test accuracy with pretraining: {bcolors.colorize(color, test_acc)}%\")\n",
    "\n",
    "test_and_save(classifier_pretrained, labled_val_loader, test_dl)"
   ]
  },
  {
   "cell_type": "code",
   "execution_count": 232,
   "metadata": {
    "id": "enZCnGL6MNkt"
   },
   "outputs": [
    {
     "name": "stdout",
     "output_type": "stream",
     "text": [
      "relevant folders: ['exercise_code', 'models']\n",
      "notebooks files: ['Optional-BatchNormalization_Dropout.ipynb', '1_Autoencoder.ipynb']\n",
      "Adding folder exercise_code\n",
      "Adding folder models\n",
      "Adding notebook Optional-BatchNormalization_Dropout.ipynb\n",
      "Adding notebook 1_Autoencoder.ipynb\n",
      "Zipping successful! Zip is stored under: /home/timm_pop/Documents/i2dl/output/exercise_08.zip\n"
     ]
    }
   ],
   "source": [
    "# Now zip the folder for upload\n",
    "from exercise_code.submit import submit_exercise\n",
    "\n",
    "submit_exercise('../output/exercise_08')"
   ]
  },
  {
   "attachments": {},
   "cell_type": "markdown",
   "metadata": {
    "id": "7fuo3Tf9MNku",
    "pycharm": {
     "name": "#%% md\n"
    }
   },
   "source": [
    "Congratulations on completing your first autoencoder and successfully transferring the weights to a classifier! It's remarkable how much easier this process becomes with the power of PyTorch, compared to working with plain NumPy, right?\n",
    "\n",
    "To complete the exercise, please submit your final model to [our submission portal](https://i2dl.vc.in.tum.de/) - you should be already familiar with the submission procedure. Next, it is time to get started with some more complex neural networks and tasks in the upcoming exercises. See you next week!\n",
    "\n",
    "# Submission Goals\n",
    "\n",
    "- Goal: Successfully implement a fully connected autoencoder for MNIST with Pytorch and transfer the encoder weights to a classifier.\n",
    "\n",
    "- Passing Criteria: There are no unit tests that check specific components of your code. The only thing that's required to pass the submission, is your model to reach at least **55% accuracy** on __our__ test dataset. The submission system will show you a number between 0 and 100 which corresponds to your accuracy.\n",
    "\n",
    "- Submission start: __June 15, 2023 10:00__\n",
    "- Submission deadline : __June 21, 2023 15:59__ \n",
    "- You can make **$\\infty$** submissions until the deadline. Your __best submission__ will be considered for the bonus."
   ]
  },
  {
   "attachments": {},
   "cell_type": "markdown",
   "metadata": {
    "id": "Ar26mFO5MNku"
   },
   "source": [
    "# [Exercise Review](https://forms.gle/9SYivCPQZdktRDS29)\n",
    "\n",
    "We are always interested in your opinion. Now that you have finished this exercise, we would like you to give us some feedback about the time required to finish the submission and/or work through the notebooks. Please take the short time to fill out our [review form](https://forms.gle/9SYivCPQZdktRDS29) for this exercise so that we can do better next time! :)"
   ]
  }
 ],
 "metadata": {
  "accelerator": "GPU",
  "colab": {
   "provenance": []
  },
  "kernelspec": {
   "display_name": "Python 3",
   "language": "python",
   "name": "python3"
  },
  "language_info": {
   "codemirror_mode": {
    "name": "ipython",
    "version": 3
   },
   "file_extension": ".py",
   "mimetype": "text/x-python",
   "name": "python",
   "nbconvert_exporter": "python",
   "pygments_lexer": "ipython3",
   "version": "3.10.11"
  },
  "vscode": {
   "interpreter": {
    "hash": "54970da6898dad277dbf355945c2dee7f942d2a31ec1fc1455b6d4f552d07b83"
   }
  }
 },
 "nbformat": 4,
 "nbformat_minor": 1
}
